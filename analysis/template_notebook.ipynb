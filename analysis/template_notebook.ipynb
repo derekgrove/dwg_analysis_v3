{
 "cells": [
  {
   "cell_type": "code",
   "execution_count": 1,
   "id": "97439d80-1e03-42af-b36e-55f4cb5e5747",
   "metadata": {},
   "outputs": [
    {
     "name": "stderr",
     "output_type": "stream",
     "text": [
      "/usr/local/lib/python3.12/site-packages/coffea/nanoevents/schemas/fcc.py:5: FutureWarning: In version 2025.1.0 (target date: 2024-12-31 11:59:59-06:00), this will be an error.\n",
      "To raise these warnings as errors (and get stack traces to find out where they're called), run\n",
      "    import warnings\n",
      "    warnings.filterwarnings(\"error\", module=\"coffea.*\")\n",
      "after the first `import coffea` or use `@pytest.mark.filterwarnings(\"error:::coffea.*\")` in pytest.\n",
      "Issue: coffea.nanoevents.methods.vector will be removed and replaced with scikit-hep vector. Nanoevents schemas internal to coffea will be migrated. Otherwise please consider using that package!.\n",
      "  from coffea.nanoevents.methods import vector\n"
     ]
    }
   ],
   "source": [
    "from coffea.nanoevents import NanoAODSchema\n",
    "from coffea.dataset_tools import apply_to_fileset, max_chunks, max_files, preprocess\n",
    "\n",
    "import dask\n",
    "import numpy as np\n",
    "import awkward as ak\n",
    "\n",
    "from template_processor import TestProcessor\n",
    "\n",
    "from dask.distributed import Client"
   ]
  },
  {
   "cell_type": "code",
   "execution_count": 2,
   "id": "1d10c30a-4733-42cd-b5c1-974ac51ea6e5",
   "metadata": {},
   "outputs": [],
   "source": [
    "import gzip\n",
    "import json\n",
    "import os\n",
    "# Define the base directory where the preprocessed files are stored (preprocessed files point to sample on DAS and define slicing of root files by event (chunks)\n",
    "base_dir = \"../dataset_tools/preprocessing/preprocessed\"\n",
    "sample = \"2023_ttbar_100000_preprocessed_available.json.gz\"\n",
    "#sample = \"2023_SlepSnu_MN1_220_100000_preprocessed_available.json.gz\" # These preprocessed files are generated one time in advance, stored until needed now in analysis\n",
    "file_path = os.path.join(base_dir, sample)\n",
    "\n",
    "ntuple_name = sample.replace(\"_100000_preprocessed_available.json.gz\", \"_dwg_ntuple\")\n",
    "\n",
    "with gzip.open(file_path, \"rt\") as file:\n",
    "    preprocessed_available = json.load(file)\n"
   ]
  },
  {
   "cell_type": "code",
   "execution_count": 3,
   "id": "4067aff0-5bab-4ec7-b522-aa7c34c24a08",
   "metadata": {},
   "outputs": [],
   "source": [
    "#client = Client(\"tls://localhost:8786\")\n",
    "#client"
   ]
  },
  {
   "cell_type": "code",
   "execution_count": 4,
   "id": "e9509a6f-8589-4b94-ad2e-e4f7d9817c03",
   "metadata": {},
   "outputs": [],
   "source": [
    "### SWITCH HERE ###\n",
    "\n",
    "reduced_computation = True\n",
    "\n",
    "num_files = 1 # number of root files from DAS to run over\n",
    "num_chunks = 3# number of events (chunks) per root file to run over (chunksize set during preprocessing, my default is 1 chunk = 100,000 events)\n",
    "\n",
    "###################"
   ]
  },
  {
   "cell_type": "code",
   "execution_count": 5,
   "id": "699cb608-761b-416d-8eca-2297649d07bc",
   "metadata": {
    "scrolled": true
   },
   "outputs": [],
   "source": [
    "if reduced_computation:\n",
    "    \n",
    "    test_preprocessed_files = max_files(preprocessed_available, num_files)\n",
    "    test_preprocessed = max_chunks(test_preprocessed_files, num_chunks)\n",
    "\n",
    "    small_tg, small_rep = apply_to_fileset(\n",
    "        data_manipulation=TestProcessor(),\n",
    "        fileset=test_preprocessed,\n",
    "        schemaclass=NanoAODSchema,\n",
    "        uproot_options={\"allow_read_errors_with_report\": (OSError, KeyError)},\n",
    "    )\n",
    "    computed, rep = dask.compute(small_tg, small_rep)\n",
    "\n",
    "    \n",
    "else:\n",
    "    full_tg, full_rep = apply_to_fileset(\n",
    "        data_manipulation=TestProcessor(),\n",
    "        fileset=preprocessed_available,\n",
    "        schemaclass=NanoAODSchema,\n",
    "        uproot_options={\"allow_read_errors_with_report\": (OSError, KeyError)},\n",
    "    )\n",
    "    computed, rep = dask.compute(full_tg, full_rep)\n"
   ]
  },
  {
   "cell_type": "code",
   "execution_count": 6,
   "id": "78e419d9-5e55-4e83-834d-53bb0aea7f05",
   "metadata": {},
   "outputs": [
    {
     "data": {
      "text/plain": [
       "dict_keys(['/TTto2L2Nu_TuneCP5_13p6TeV_powheg-pythia8/Run3Summer23NanoAODv12-130X_mcRun3_2023_realistic_v14-v2/NANOAODSIM'])"
      ]
     },
     "execution_count": 6,
     "metadata": {},
     "output_type": "execute_result"
    }
   ],
   "source": [
    "computed.keys()"
   ]
  },
  {
   "cell_type": "code",
   "execution_count": 7,
   "id": "d1ed4351-b219-4502-be24-b3b0a65ba53d",
   "metadata": {},
   "outputs": [
    {
     "data": {
      "text/plain": [
       "'/TTto2L2Nu_TuneCP5_13p6TeV_powheg-pythia8/Run3Summer23NanoAODv12-130X_mcRun3_2023_realistic_v14-v2/NANOAODSIM'"
      ]
     },
     "execution_count": 7,
     "metadata": {},
     "output_type": "execute_result"
    }
   ],
   "source": [
    "sample_name = next(iter(computed))\n",
    "sample_name "
   ]
  },
  {
   "cell_type": "code",
   "execution_count": 8,
   "id": "d79a0eb6-ced2-42a2-bb4b-5efc767f62bf",
   "metadata": {},
   "outputs": [],
   "source": [
    "results = computed[sample_name]"
   ]
  },
  {
   "cell_type": "code",
   "execution_count": 9,
   "id": "7d3037a0-1887-4b45-8b10-fb98c4c8533a",
   "metadata": {},
   "outputs": [
    {
     "data": {
      "text/plain": [
       "{'ntuple': {'num_tot_Events': 183000,\n",
       "  'num_tot_ele': 234341,\n",
       "  'num_tot_lpte': 251027,\n",
       "  'num_tot_mu': 238525,\n",
       "  'dataset': '/TTto2L2Nu_TuneCP5_13p6TeV_powheg-pythia8/Run3Summer23NanoAODv12-130X_mcRun3_2023_realistic_v14-v2/NANOAODSIM',\n",
       "  'Electron': {'pt': <Array [[45.7], [10.6], [], ..., [156], [122]] type='183000 * var * float32...'>,\n",
       "   'eta': <Array [[-0.0922], [0.0165], ..., [1.96]] type='183000 * var * float32[para...'>,\n",
       "   'phi': <Array [[-0.397], [2.92], ..., [-1.32]] type='183000 * var * float32[parame...'>,\n",
       "   'mass': <Array [[3.58e-07], ..., [-5.39e-06]] type='183000 * var * float32[paramete...'>,\n",
       "   'charge': <Array [[-1], [-1], [], [], ..., [], [1], [1]] type='183000 * var * int32[p...'>,\n",
       "   'dxy': <Array [[-0.0009], ..., [-0.00234]] type='183000 * var * float32[parameters...'>,\n",
       "   'dz': <Array [[0.000651], [-0.00223], ..., [0.00699]] type='183000 * var * float3...'>,\n",
       "   'pfRelIso03_all': <Array [[0.0863], [2.18], ..., [0.00192], [0]] type='183000 * var * float32...'>,\n",
       "   'miniPFRelIso_all': <Array [[0], [2.18], [], [], ..., [], [0], [0]] type='183000 * var * float3...'>,\n",
       "   'sip3d': <Array [[0.638], [0.575], ..., [1.15], [1.22]] type='183000 * var * float32...'>,\n",
       "   'isGold': <Array [[True], [False], [], ..., [True], [True]] type='183000 * var * bool'>,\n",
       "   'isSilver': <Array [[False], [False], [], ..., [False], [False]] type='183000 * var * bool'>,\n",
       "   'isBronze': <Array [[False], [True], [], ..., [False], [False]] type='183000 * var * bool'>,\n",
       "   'isSignal': <Array [[True], [False], [], ..., [True], [True]] type='183000 * var * bool'>,\n",
       "   'isLightFake': <Array [[False], [True], ..., [False], [False]] type='183000 * var * bool[p...'>,\n",
       "   'isHeavyFake': <Array [[False], [False], ..., [False]] type='183000 * var * bool[parameter...'>},\n",
       "  'Muon': {'pt': <Array [[52.2], [53.5, 19], ..., [70.4], []] type='183000 * var * float32[p...'>,\n",
       "   'eta': <Array [[-0.551], [0.471, ...], ..., []] type='183000 * var * float32[param...'>,\n",
       "   'phi': <Array [[1.35], [-2.3, -1.77], ..., [2.84], []] type='183000 * var * float3...'>,\n",
       "   'mass': <Array [[0.106], [0.106, 0.106], ..., []] type='183000 * var * float32[para...'>,\n",
       "   'charge': <Array [[1], [-1, 1], [], ..., [], [-1], []] type='183000 * var * int32[par...'>,\n",
       "   'dxy': <Array [[0.000325], [-0.000275, ...], ..., []] type='183000 * var * float32...'>,\n",
       "   'dz': <Array [[-0.000614], [0.000433, ...], ..., []] type='183000 * var * float32...'>,\n",
       "   'pfRelIso03_all': <Array [[0], [0, 0], [], ..., [], [0], []] type='183000 * var * float32[par...'>,\n",
       "   'miniPFRelIso_all': <Array [[0], [0, 0.0132], [], ..., [], [0], []] type='183000 * var * float3...'>,\n",
       "   'sip3d': <Array [[0.428], [0.232, 0.389], ..., []] type='183000 * var * float32[para...'>,\n",
       "   'isGold': <Array [[True], [True, True], [], ..., [True], []] type='183000 * var * bool'>,\n",
       "   'isSilver': <Array [[False], [False, False], ..., [False], []] type='183000 * var * bool'>,\n",
       "   'isBronze': <Array [[False], [False, False], ..., [False], []] type='183000 * var * bool'>,\n",
       "   'isSignal': <Array [[True], [True, True], [], ..., [True], []] type='183000 * var * bool'>,\n",
       "   'isLightFake': <Array [[False], [False, False], ..., []] type='183000 * var * bool[paramet...'>,\n",
       "   'isHeavyFake': <Array [[False], [False, False], ..., []] type='183000 * var * bool[paramet...'>},\n",
       "  'LowPtElectron': {'pt': <Array [[], [], [], [], ..., [], [], [], []] type='183000 * var * float32[p...'>,\n",
       "   'eta': <Array [[], [], [], [], ..., [], [], [], []] type='183000 * var * float32[p...'>,\n",
       "   'phi': <Array [[], [], [], [], ..., [], [], [], []] type='183000 * var * float32[p...'>,\n",
       "   'mass': <Array [[], [], [], [], ..., [], [], [], []] type='183000 * var * float32[p...'>,\n",
       "   'charge': <Array [[], [], [], [], ..., [], [], [], []] type='183000 * var * int32[par...'>,\n",
       "   'dxy': <Array [[], [], [], [], ..., [], [], [], []] type='183000 * var * float32[p...'>,\n",
       "   'dz': <Array [[], [], [], [], ..., [], [], [], []] type='183000 * var * float32[p...'>,\n",
       "   'miniPFRelIso_all': <Array [[], [], [], [], ..., [], [], [], []] type='183000 * var * float32[p...'>,\n",
       "   'isBaseline': <Array [[], [], [], [], [], ..., [], [], [], [], []] type='183000 * var * bool'>,\n",
       "   'isGold': <Array [[], [], [], [], [], ..., [], [], [], [], []] type='183000 * var * bool'>,\n",
       "   'isSilver': <Array [[], [], [], [], [], ..., [], [], [], [], []] type='183000 * var * bool'>,\n",
       "   'isBronze': <Array [[], [], [], [], [], ..., [], [], [], [], []] type='183000 * var * bool'>,\n",
       "   'isSignal': <Array [[], [], [], [], [], ..., [], [], [], [], []] type='183000 * var * bool'>,\n",
       "   'isLightFake': <Array [[], [], [], [], ..., [], [], [], []] type='183000 * var * bool[para...'>,\n",
       "   'isHeavyFake': <Array [[], [], [], [], ..., [], [], [], []] type='183000 * var * bool[para...'>}},\n",
       " 'events.Flag.METFilters': <Array [True, True, True, ..., True, True] type='183000 * bool[parameters={...'>,\n",
       " 'lpte_pt': <Array [[45.3, 17.8], ..., [88, ..., 1.73]] type='183000 * var * float32[pa...'>}"
      ]
     },
     "execution_count": 9,
     "metadata": {},
     "output_type": "execute_result"
    }
   ],
   "source": [
    "results #did this to get in front of the massive sample name, work with the results dictionary from here forward for simplicity"
   ]
  },
  {
   "cell_type": "code",
   "execution_count": 10,
   "id": "000c9f72-2312-43e5-b677-8e288dc32abd",
   "metadata": {
    "scrolled": true
   },
   "outputs": [
    {
     "data": {
      "text/plain": [
       "12889"
      ]
     },
     "execution_count": 10,
     "metadata": {},
     "output_type": "execute_result"
    }
   ],
   "source": [
    "ak.sum(\n",
    "results['ntuple']['LowPtElectron']['isBaseline']\n",
    ")"
   ]
  },
  {
   "cell_type": "code",
   "execution_count": 11,
   "id": "fac8a86d-c9f2-44a0-ad7b-fabf78e6af7a",
   "metadata": {},
   "outputs": [
    {
     "data": {
      "text/plain": [
       "1250"
      ]
     },
     "execution_count": 11,
     "metadata": {},
     "output_type": "execute_result"
    }
   ],
   "source": [
    "ak.sum(\n",
    "results['ntuple']['LowPtElectron']['isGold']\n",
    ")"
   ]
  },
  {
   "cell_type": "code",
   "execution_count": 12,
   "id": "52850f4f-e4bc-4325-97fe-687de738ae8c",
   "metadata": {},
   "outputs": [
    {
     "data": {
      "text/html": [
       "<pre>[False,\n",
       " False,\n",
       " False,\n",
       " True,\n",
       " False,\n",
       " False,\n",
       " False,\n",
       " False,\n",
       " False,\n",
       " False,\n",
       " ...,\n",
       " False,\n",
       " False,\n",
       " False,\n",
       " False,\n",
       " False,\n",
       " False,\n",
       " False,\n",
       " False,\n",
       " False]\n",
       "------------------\n",
       "backend: cpu\n",
       "nbytes: 354.0 kB\n",
       "type: 12889 * bool</pre>"
      ],
      "text/plain": [
       "<Array [False, False, False, ..., False, False, False] type='12889 * bool'>"
      ]
     },
     "execution_count": 12,
     "metadata": {},
     "output_type": "execute_result"
    }
   ],
   "source": [
    "\n",
    "ak.flatten(results['ntuple']['LowPtElectron']['isGold'])\n"
   ]
  },
  {
   "cell_type": "code",
   "execution_count": 13,
   "id": "3c007fdb-2f76-4892-9661-ac0ec43a04fb",
   "metadata": {},
   "outputs": [
    {
     "data": {
      "text/plain": [
       "dict_keys(['num_tot_Events', 'num_tot_ele', 'num_tot_lpte', 'num_tot_mu', 'dataset', 'Electron', 'Muon', 'LowPtElectron'])"
      ]
     },
     "execution_count": 13,
     "metadata": {},
     "output_type": "execute_result"
    }
   ],
   "source": [
    "results['ntuple'].keys()"
   ]
  },
  {
   "cell_type": "code",
   "execution_count": 14,
   "id": "c913e3d9-0a59-492f-ae49-23e534abbd7e",
   "metadata": {
    "scrolled": true
   },
   "outputs": [
    {
     "data": {
      "text/plain": [
       "118542"
      ]
     },
     "execution_count": 14,
     "metadata": {},
     "output_type": "execute_result"
    }
   ],
   "source": [
    "ak.sum(ak.num(results['ntuple']['Electron']['pt']))"
   ]
  },
  {
   "cell_type": "code",
   "execution_count": 15,
   "id": "5c9f0dc2-452a-44ac-80b1-45cfbdd7433d",
   "metadata": {},
   "outputs": [
    {
     "data": {
      "text/html": [
       "<pre>[[45.7],\n",
       " [10.6],\n",
       " [],\n",
       " [],\n",
       " [102, 16.4],\n",
       " [],\n",
       " [61.2],\n",
       " [],\n",
       " [40.9, 27.7],\n",
       " [53.7]]\n",
       "------------------------------------------------------\n",
       "backend: cpu\n",
       "nbytes: 1.9 MB\n",
       "type: 10 * var * float32[parameters={&quot;__doc__&quot;: &quot;pt&quot;}]</pre>"
      ],
      "text/plain": [
       "<Array [[45.7], [10.6], [], ..., [...], [53.7]] type='10 * var * float32[pa...'>"
      ]
     },
     "execution_count": 15,
     "metadata": {},
     "output_type": "execute_result"
    }
   ],
   "source": [
    "results['ntuple']['Electron']['pt'][:10]"
   ]
  },
  {
   "cell_type": "code",
   "execution_count": 34,
   "id": "ad0a6b1a-53a3-4418-98ce-d83f9b9d6f8f",
   "metadata": {},
   "outputs": [
    {
     "name": "stdout",
     "output_type": "stream",
     "text": [
      "Saved 2023_ttbar_dwg_ntuple/2023_ttbar_dwg_ntuple_100000_events_chunk_000.parquet\n",
      "chunk 0 of 2\n",
      "Saved 2023_ttbar_dwg_ntuple/2023_ttbar_dwg_ntuple_83000_events_chunk_001.parquet\n",
      "chunk 1 of 2\n",
      "CPU times: user 3min 36s, sys: 92.7 ms, total: 3min 36s\n",
      "Wall time: 3min 36s\n"
     ]
    }
   ],
   "source": [
    "%%time\n",
    "chunk_size = 100000\n",
    "ntuple = results['ntuple']\n",
    "nentries = ntuple['num_tot_Events']\n",
    "total_chunks = (nentries + chunk_size - 1) // chunk_size\n",
    "\n",
    "os.makedirs(ntuple_name, exist_ok=True)\n",
    "\n",
    "for chunk_idx, start in enumerate(range(0, nentries, chunk_size)):\n",
    "    end = min(start + chunk_size, nentries)\n",
    "\n",
    "\n",
    "    #sliced_events = {\n",
    "    #    key: val[start:end]\n",
    "    #    for key, val in ntuple[\"Event\"].items()\n",
    "    #}\n",
    "    \n",
    "    sliced_electron = {\n",
    "        key: val[start:end]\n",
    "        for key, val in ntuple[\"Electron\"].items()\n",
    "    }\n",
    "    #sliced_electron[\"nEle\"] = ak.sum(ak.num(sliced_electron[\"pt\"], axis=1))\n",
    "\n",
    "    sliced_lpte = {\n",
    "        key: val[start:end]\n",
    "        for key, val in ntuple[\"LowPtElectron\"].items()\n",
    "    }\n",
    "    #sliced_lpte[\"nLpte\"] = ak.sum(ak.num(sliced_lpte[\"pt\"], axis=1))\n",
    "    \n",
    "    sliced_muon = {\n",
    "        key: val[start:end]\n",
    "        for key, val in ntuple[\"Muon\"].items()\n",
    "    }\n",
    "    #sliced_muon[\"nMu\"] = ak.sum(ak.num(sliced_muon[\"pt\"], axis=1))\n",
    "    \n",
    "    slice_ntuple = {\n",
    "        \"numEvents\": end - start,\n",
    "        \"dataset\": ntuple[\"dataset\"],\n",
    "        #\"Events\": sliced_events,\n",
    "        \"Electron\": sliced_electron,\n",
    "        \"Muon\": sliced_muon,\n",
    "        \"LowPtElectron\": sliced_lpte,\n",
    "        \n",
    "    }\n",
    "    \n",
    "    \n",
    "    \n",
    "    # Create output filename\n",
    "    filename = f\"{ntuple_name}/{ntuple_name}_{slice_ntuple['numEvents']}_events_chunk_{chunk_idx:03d}.parquet\"\n",
    "    \n",
    "    # Save to Parquet\n",
    "    ak.to_parquet(slice_ntuple, filename, compression=\"SNAPPY\")\n",
    "    print(f\"Saved {filename}\")\n",
    "    print(f\"chunk {chunk_idx} of {total_chunks}\")\n",
    "    with open(f\"{ntuple_name}/upload_log.txt\", \"a\") as log_file:\n",
    "        log_file.write(\n",
    "            f\"Chunk_index: {chunk_idx} of: {total_chunks - 2} saved successfully. \"\n",
    "            f\"Skim generated over {nentries} events of dataset: {ntuple['dataset']}.\\n\"\n",
    "    )\n"
   ]
  },
  {
   "cell_type": "code",
   "execution_count": 52,
   "id": "4533780b-19da-40f9-914f-56e87cf128ff",
   "metadata": {
    "scrolled": true
   },
   "outputs": [
    {
     "ename": "AttributeError",
     "evalue": "'dict' object has no attribute 'type'",
     "output_type": "error",
     "traceback": [
      "\u001b[0;31m---------------------------------------------------------------------------\u001b[0m",
      "\u001b[0;31mAttributeError\u001b[0m                            Traceback (most recent call last)",
      "Cell \u001b[0;32mIn[52], line 9\u001b[0m\n\u001b[1;32m      6\u001b[0m     my_dict \u001b[38;5;241m=\u001b[39m ak\u001b[38;5;241m.\u001b[39mto_list(record)          \u001b[38;5;66;03m# ✅ deep conversion to native dict\u001b[39;00m\n\u001b[1;32m      7\u001b[0m     test_ntuple \u001b[38;5;241m|\u001b[39m\u001b[38;5;241m=\u001b[39m my_dict    \n\u001b[0;32m----> 9\u001b[0m \u001b[43mtest_ntuple\u001b[49m\u001b[38;5;241;43m.\u001b[39;49m\u001b[43mtype\u001b[49m\n",
      "\u001b[0;31mAttributeError\u001b[0m: 'dict' object has no attribute 'type'"
     ]
    }
   ],
   "source": [
    "parquet_files = sorted(glob.glob(\"2023_ttbar_dwg_ntuple/*.parquet\"))\n",
    "\n",
    "test_ntuple = {}\n",
    "for file in parquet_files:\n",
    "    record = ak.from_parquet(file)        # load the ak.Record\n",
    "    my_dict = ak.to_list(record)          # ✅ deep conversion to native dict\n",
    "    test_ntuple |= my_dict    \n",
    "\n",
    "test_ntuple.type"
   ]
  },
  {
   "cell_type": "code",
   "execution_count": 46,
   "id": "eaee06ca-a5a2-4f21-83ff-72eaa93f86db",
   "metadata": {},
   "outputs": [
    {
     "data": {
      "text/plain": [
       "dict_keys(['numEvents', 'dataset', 'Electron', 'Muon', 'LowPtElectron'])"
      ]
     },
     "execution_count": 46,
     "metadata": {},
     "output_type": "execute_result"
    }
   ],
   "source": [
    "test_ntuple.keys()"
   ]
  },
  {
   "cell_type": "code",
   "execution_count": 54,
   "id": "a7a72650-411c-44ce-bd47-eca85c15971c",
   "metadata": {},
   "outputs": [
    {
     "data": {
      "text/plain": [
       "ScalarType(RecordType([NumpyType('int64'), ListType(NumpyType('uint8', parameters={'__array__': 'char'}), parameters={'__array__': 'string'}), RecordType([ListType(ListType(NumpyType('float64'))), ListType(ListType(NumpyType('float64'))), ListType(ListType(NumpyType('float64'))), ListType(ListType(NumpyType('float64'))), ListType(ListType(NumpyType('int64'))), ListType(ListType(NumpyType('float64'))), ListType(ListType(NumpyType('float64'))), ListType(ListType(NumpyType('float64'))), ListType(ListType(NumpyType('float64'))), ListType(ListType(NumpyType('float64'))), ListType(ListType(NumpyType('bool'))), ListType(ListType(NumpyType('bool'))), ListType(ListType(NumpyType('bool'))), ListType(ListType(NumpyType('bool'))), ListType(ListType(NumpyType('bool'))), ListType(ListType(NumpyType('bool')))], ['pt', 'eta', 'phi', 'mass', 'charge', 'dxy', 'dz', 'pfRelIso03_all', 'miniPFRelIso_all', 'sip3d', 'isGold', 'isSilver', 'isBronze', 'isSignal', 'isLightFake', 'isHeavyFake']), RecordType([ListType(ListType(NumpyType('float64'))), ListType(ListType(NumpyType('float64'))), ListType(ListType(NumpyType('float64'))), ListType(ListType(NumpyType('float64'))), ListType(ListType(NumpyType('int64'))), ListType(ListType(NumpyType('float64'))), ListType(ListType(NumpyType('float64'))), ListType(ListType(NumpyType('float64'))), ListType(ListType(NumpyType('float64'))), ListType(ListType(NumpyType('float64'))), ListType(ListType(NumpyType('bool'))), ListType(ListType(NumpyType('bool'))), ListType(ListType(NumpyType('bool'))), ListType(ListType(NumpyType('bool'))), ListType(ListType(NumpyType('bool'))), ListType(ListType(NumpyType('bool')))], ['pt', 'eta', 'phi', 'mass', 'charge', 'dxy', 'dz', 'pfRelIso03_all', 'miniPFRelIso_all', 'sip3d', 'isGold', 'isSilver', 'isBronze', 'isSignal', 'isLightFake', 'isHeavyFake']), RecordType([ListType(ListType(NumpyType('float64'))), ListType(ListType(NumpyType('float64'))), ListType(ListType(NumpyType('float64'))), ListType(ListType(NumpyType('float64'))), ListType(ListType(NumpyType('int64'))), ListType(ListType(NumpyType('float64'))), ListType(ListType(NumpyType('float64'))), ListType(ListType(NumpyType('float64'))), ListType(ListType(NumpyType('bool'))), ListType(ListType(NumpyType('bool'))), ListType(ListType(NumpyType('bool'))), ListType(ListType(NumpyType('bool'))), ListType(ListType(NumpyType('bool'))), ListType(ListType(NumpyType('bool'))), ListType(ListType(NumpyType('bool')))], ['pt', 'eta', 'phi', 'mass', 'charge', 'dxy', 'dz', 'miniPFRelIso_all', 'isBaseline', 'isGold', 'isSilver', 'isBronze', 'isSignal', 'isLightFake', 'isHeavyFake'])], ['numEvents', 'dataset', 'Electron', 'Muon', 'LowPtElectron']), None)"
      ]
     },
     "execution_count": 54,
     "metadata": {},
     "output_type": "execute_result"
    }
   ],
   "source": [
    "test_ntuple.type"
   ]
  },
  {
   "cell_type": "code",
   "execution_count": 53,
   "id": "947e9cc0",
   "metadata": {},
   "outputs": [
    {
     "data": {
      "text/html": [
       "<pre>{numEvents: 100000,\n",
       " dataset: &#x27;/TTto2L2Nu_TuneCP5_13p6TeV_powheg-pythia8/Run3Summer23NanoAODv12-130X_mcRun3_2023_realistic_v14-v2/NANOAODSIM&#x27;,\n",
       " Electron: {pt: [[45.7], [10.6], ..., [], []], eta: [...], phi: [...], ...},\n",
       " Muon: {pt: [[52.2], [...], ..., [4.51]], eta: [...], phi: [...], ...},\n",
       " LowPtElectron: {pt: [[], [], [], ..., [], []], eta: [[], ...], phi: ..., ...}}\n",
       "---------------------------------------------------------------------------------------------------------------------------------------------------------------------------------------------------------------------------------------------------------------------------------------------------------------------------------------------------------------------------------------------------------------------------------------------------------------------------------------------------------------------------------------------------------------------------------------------------------------------------------------------------------------------------------------------------------------------------------------------------------------------------------------------------------------------------------------------------------------------------------------------------------------------------------------------------------------------------------------------------------------------------------------------------------------------------------------------------------------------------------------------------------------------------------------------------------------------------------------------------------------------------------------------------------------------------------------------------------------------------------------------------------------------------------------------------------------------------------------------------------------------------------------------------------------------------------------------------------------------------------------------------------------------------------------------------------------------------------------------------------------------------------------------------------------------------------------------------------------------------------------------------------\n",
       "backend: cpu\n",
       "nbytes: 50.6 MB\n",
       "type: {\n",
       "    numEvents: int64,\n",
       "    dataset: string,\n",
       "    Electron: {\n",
       "        pt: var * var * float64,\n",
       "        eta: var * var * float64,\n",
       "        phi: var * var * float64,\n",
       "        mass: var * var * float64,\n",
       "        charge: var * var * int64,\n",
       "        dxy: var * var * float64,\n",
       "        dz: var * var * float64,\n",
       "        pfRelIso03_all: var * var * float64,\n",
       "        miniPFRelIso_all: var * var * float64,\n",
       "        sip3d: var * var * float64,\n",
       "        isGold: var * var * bool,\n",
       "        isSilver: var * var * bool,\n",
       "        isBronze: var * var * bool,\n",
       "        isSignal: var * var * bool,\n",
       "        isLightFake: var * var * bool,\n",
       "        isHeavyFake: var * var * bool\n",
       "    },\n",
       "    Muon: {\n",
       "        pt: var * var * float64,\n",
       "        eta: var * var * float64,\n",
       "        phi: var * var * float64,\n",
       "        mass: var * var * float64,\n",
       "        charge: var * var * int64,\n",
       "        dxy: var * var * float64,\n",
       "        dz: var * var * float64,\n",
       "        pfRelIso03_all: var * var * float64,\n",
       "        miniPFRelIso_all: var * var * float64,\n",
       "        sip3d: var * var * float64,\n",
       "        isGold: var * var * bool,\n",
       "        isSilver: var * var * bool,\n",
       "        isBronze: var * var * bool,\n",
       "        isSignal: var * var * bool,\n",
       "        isLightFake: var * var * bool,\n",
       "        isHeavyFake: var * var * bool\n",
       "    },\n",
       "    LowPtElectron: {\n",
       "        pt: var * var * float64,\n",
       "        eta: var * var * float64,\n",
       "        phi: var * var * float64,\n",
       "        mass: var * var * float64,\n",
       "        charge: var * var * int64,\n",
       "        dxy: var * var * float64,\n",
       "        dz: var * var * float64,\n",
       "        miniPFRelIso_all: var * var * float64,\n",
       "        isBaseline: var * var * bool,\n",
       "        isGold: var * var * bool,\n",
       "        isSilver: var * var * bool,\n",
       "        isBronze: var * var * bool,\n",
       "        isSignal: var * var * bool,\n",
       "        isLightFake: var * var * bool,\n",
       "        isHeavyFake: var * var * bool\n",
       "    }\n",
       "}</pre>"
      ],
      "text/plain": [
       "<Record {numEvents: 100000, dataset: ..., ...} type='{numEvents: int64, dat...'>"
      ]
     },
     "execution_count": 53,
     "metadata": {},
     "output_type": "execute_result"
    }
   ],
   "source": [
    "#parquet_files = sorted(glob.glob(\"2023_ttbar_dwg_ntuple/*.parquet\"))\n",
    "\n",
    "#for file in parquet_files:\n",
    "    \n",
    "test_ntuple = ak.from_parquet(\"2023_ttbar_dwg_ntuple/2023_ttbar_dwg_ntuple_100000_events_chunk_000.parquet\")   \n",
    "\n",
    "\n",
    "test_ntuple"
   ]
  },
  {
   "cell_type": "code",
   "execution_count": 21,
   "id": "cf6abe38-1b13-4a65-9df3-84e43022e113",
   "metadata": {
    "scrolled": true
   },
   "outputs": [
    {
     "data": {
      "text/html": [
       "<pre>[[[0.000325], [-0.000275, -0.000549], [], [...], ..., [], [0.00146], [0.00759]],\n",
       " [[], [-0.0043], [], [-3.21e-05, 9.16e-05], ..., [0.00999], [], [-0.00124], []]]\n",
       "--------------------------------------------------------------------------------\n",
       "backend: cpu\n",
       "nbytes: 2.6 MB\n",
       "type: 2 * var * var * float64</pre>"
      ],
      "text/plain": [
       "<Array [[[0.000325], ..., [0.00759]], ...] type='2 * var * var * float64'>"
      ]
     },
     "execution_count": 21,
     "metadata": {},
     "output_type": "execute_result"
    }
   ],
   "source": [
    "test_ntuple['Muon'].dxy"
   ]
  },
  {
   "cell_type": "code",
   "execution_count": 19,
   "id": "01ba4821-53f2-4f30-8be5-f178d85d7397",
   "metadata": {},
   "outputs": [
    {
     "ename": "ValueError",
     "evalue": "the truth value of an array whose length is not 1 is ambiguous; use ak.any() or ak.all()",
     "output_type": "error",
     "traceback": [
      "\u001b[0;31m---------------------------------------------------------------------------\u001b[0m",
      "\u001b[0;31mValueError\u001b[0m                                Traceback (most recent call last)",
      "Cell \u001b[0;32mIn[19], line 1\u001b[0m\n\u001b[0;32m----> 1\u001b[0m \u001b[38;5;28;43mmax\u001b[39;49m\u001b[43m(\u001b[49m\u001b[43mak\u001b[49m\u001b[38;5;241;43m.\u001b[39;49m\u001b[43mflatten\u001b[49m\u001b[43m(\u001b[49m\u001b[43mtest_ntuple\u001b[49m\u001b[38;5;241;43m.\u001b[39;49m\u001b[43mMuon\u001b[49m\u001b[38;5;241;43m.\u001b[39;49m\u001b[43mpt\u001b[49m\u001b[43m)\u001b[49m\u001b[43m)\u001b[49m\n",
      "File \u001b[0;32m/usr/local/lib/python3.12/site-packages/awkward/highlevel.py:1742\u001b[0m, in \u001b[0;36mArray.__bool__\u001b[0;34m(self)\u001b[0m\n\u001b[1;32m   1740\u001b[0m     \u001b[38;5;28;01mreturn\u001b[39;00m \u001b[38;5;28mbool\u001b[39m(\u001b[38;5;28mself\u001b[39m[\u001b[38;5;241m0\u001b[39m])\n\u001b[1;32m   1741\u001b[0m \u001b[38;5;28;01melse\u001b[39;00m:\n\u001b[0;32m-> 1742\u001b[0m     \u001b[38;5;28;01mraise\u001b[39;00m \u001b[38;5;167;01mValueError\u001b[39;00m(\n\u001b[1;32m   1743\u001b[0m         \u001b[38;5;124m\"\u001b[39m\u001b[38;5;124mthe truth value of an array whose length is not 1 is ambiguous; \u001b[39m\u001b[38;5;124m\"\u001b[39m\n\u001b[1;32m   1744\u001b[0m         \u001b[38;5;124m\"\u001b[39m\u001b[38;5;124muse ak.any() or ak.all()\u001b[39m\u001b[38;5;124m\"\u001b[39m\n\u001b[1;32m   1745\u001b[0m     )\n",
      "\u001b[0;31mValueError\u001b[0m: the truth value of an array whose length is not 1 is ambiguous; use ak.any() or ak.all()"
     ]
    }
   ],
   "source": [
    "max(ak.flatten(test_ntuple.Muon.pt))"
   ]
  },
  {
   "cell_type": "code",
   "execution_count": 24,
   "id": "9e11a9a5-2139-4e36-a093-390cac5f5514",
   "metadata": {},
   "outputs": [
    {
     "name": "stdout",
     "output_type": "stream",
     "text": [
      "3.12.5 | packaged by conda-forge | (main, Aug  8 2024, 18:36:51) [GCC 12.4.0]\n"
     ]
    }
   ],
   "source": [
    "import sys\n",
    "print(sys.version)\n"
   ]
  },
  {
   "cell_type": "code",
   "execution_count": null,
   "id": "0884877c-4987-4bc8-a346-35ceca0ce738",
   "metadata": {},
   "outputs": [],
   "source": [
    "#init voms proxy in terminal before running this cell:\n",
    "# voms-proxy-init -voms cms -vomses /etc/vomses\n",
    "#!xrdcp -r {ntuple_name}/ root://xrootd-local.unl.edu:1094//store/user/dgrove/my_ntuple/\n"
   ]
  },
  {
   "cell_type": "code",
   "execution_count": null,
   "id": "89b9b76a-cfb3-42a5-bfb4-53641b360213",
   "metadata": {},
   "outputs": [],
   "source": [
    "test_ntuple.Electron.nEle"
   ]
  },
  {
   "cell_type": "code",
   "execution_count": null,
   "id": "07048592-36f4-4b06-8152-8e7b1dce934d",
   "metadata": {},
   "outputs": [],
   "source": [
    "test_ntuple.Muon.nMu"
   ]
  },
  {
   "cell_type": "code",
   "execution_count": null,
   "id": "ee1fc5da-d28e-4d5c-b041-e270a1eac9c9",
   "metadata": {},
   "outputs": [],
   "source": [
    "test_ntuple.LowPtElectron.nLpte"
   ]
  },
  {
   "cell_type": "code",
   "execution_count": null,
   "id": "062aafd5-fb5a-40b9-85e1-5c68efbdee5f",
   "metadata": {},
   "outputs": [],
   "source": []
  }
 ],
 "metadata": {
  "kernelspec": {
   "display_name": "Python 3 (ipykernel)",
   "language": "python",
   "name": "python3"
  },
  "language_info": {
   "codemirror_mode": {
    "name": "ipython",
    "version": 3
   },
   "file_extension": ".py",
   "mimetype": "text/x-python",
   "name": "python",
   "nbconvert_exporter": "python",
   "pygments_lexer": "ipython3",
   "version": "3.12.5"
  }
 },
 "nbformat": 4,
 "nbformat_minor": 5
}
