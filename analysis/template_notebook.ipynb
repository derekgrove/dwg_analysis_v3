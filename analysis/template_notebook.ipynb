{
 "cells": [
  {
   "cell_type": "code",
   "execution_count": 1,
   "id": "97439d80-1e03-42af-b36e-55f4cb5e5747",
   "metadata": {},
   "outputs": [
    {
     "name": "stderr",
     "output_type": "stream",
     "text": [
      "/usr/local/lib/python3.12/site-packages/coffea/nanoevents/schemas/fcc.py:5: FutureWarning: In version 2025.1.0 (target date: 2024-12-31 11:59:59-06:00), this will be an error.\n",
      "To raise these warnings as errors (and get stack traces to find out where they're called), run\n",
      "    import warnings\n",
      "    warnings.filterwarnings(\"error\", module=\"coffea.*\")\n",
      "after the first `import coffea` or use `@pytest.mark.filterwarnings(\"error:::coffea.*\")` in pytest.\n",
      "Issue: coffea.nanoevents.methods.vector will be removed and replaced with scikit-hep vector. Nanoevents schemas internal to coffea will be migrated. Otherwise please consider using that package!.\n",
      "  from coffea.nanoevents.methods import vector\n"
     ]
    }
   ],
   "source": [
    "from coffea.nanoevents import NanoAODSchema\n",
    "from coffea.dataset_tools import apply_to_fileset, max_chunks, max_files, preprocess\n",
    "\n",
    "import dask\n",
    "import numpy as np\n",
    "import awkward as ak\n",
    "\n",
    "from template_processor import TestProcessor\n",
    "\n",
    "from dask.distributed import Client"
   ]
  },
  {
   "cell_type": "code",
   "execution_count": 2,
   "id": "1d10c30a-4733-42cd-b5c1-974ac51ea6e5",
   "metadata": {},
   "outputs": [],
   "source": [
    "import gzip\n",
    "import json\n",
    "import os\n",
    "# Define the base directory where the preprocessed files are stored (preprocessed files point to sample on DAS and define slicing of root files by event (chunks)\n",
    "base_dir = \"../dataset_tools/preprocessing/preprocessed\"\n",
    "sample = \"2023_ttbar_100000_preprocessed_available.json.gz\"\n",
    "#sample = \"2023_SlepSnu_MN1_220_100000_preprocessed_available.json.gz\" # These preprocessed files are generated one time in advance, stored until needed now in analysis\n",
    "file_path = os.path.join(base_dir, sample)\n",
    "\n",
    "ntuple_name = sample.replace(\"_100000_preprocessed_available.json.gz\", \"_dwg_ntuple\")\n",
    "\n",
    "with gzip.open(file_path, \"rt\") as file:\n",
    "    preprocessed_available = json.load(file)\n"
   ]
  },
  {
   "cell_type": "code",
   "execution_count": 3,
   "id": "4067aff0-5bab-4ec7-b522-aa7c34c24a08",
   "metadata": {},
   "outputs": [],
   "source": [
    "#client = Client(\"tls://localhost:8786\")\n",
    "#client"
   ]
  },
  {
   "cell_type": "code",
   "execution_count": 4,
   "id": "e9509a6f-8589-4b94-ad2e-e4f7d9817c03",
   "metadata": {},
   "outputs": [],
   "source": [
    "### SWITCH HERE ###\n",
    "\n",
    "reduced_computation = True\n",
    "\n",
    "num_files = 1 # number of root files from DAS to run over\n",
    "num_chunks = 3 # number of events (chunks) per root file to run over (chunksize set during preprocessing, my default is 1 chunk = 100,000 events)\n",
    "\n",
    "###################"
   ]
  },
  {
   "cell_type": "code",
   "execution_count": 5,
   "id": "699cb608-761b-416d-8eca-2297649d07bc",
   "metadata": {
    "scrolled": true
   },
   "outputs": [],
   "source": [
    "if reduced_computation:\n",
    "    \n",
    "    test_preprocessed_files = max_files(preprocessed_available, num_files)\n",
    "    test_preprocessed = max_chunks(test_preprocessed_files, num_chunks)\n",
    "\n",
    "    small_tg, small_rep = apply_to_fileset(\n",
    "        data_manipulation=TestProcessor(),\n",
    "        fileset=test_preprocessed,\n",
    "        schemaclass=NanoAODSchema,\n",
    "        uproot_options={\"allow_read_errors_with_report\": (OSError, KeyError)},\n",
    "    )\n",
    "    computed, rep = dask.compute(small_tg, small_rep)\n",
    "\n",
    "    \n",
    "else:\n",
    "    full_tg, full_rep = apply_to_fileset(\n",
    "        data_manipulation=TestProcessor(),\n",
    "        fileset=preprocessed_available,\n",
    "        schemaclass=NanoAODSchema,\n",
    "        uproot_options={\"allow_read_errors_with_report\": (OSError, KeyError)},\n",
    "    )\n",
    "    computed, rep = dask.compute(full_tg, full_rep)\n"
   ]
  },
  {
   "cell_type": "code",
   "execution_count": 6,
   "id": "78e419d9-5e55-4e83-834d-53bb0aea7f05",
   "metadata": {},
   "outputs": [
    {
     "data": {
      "text/plain": [
       "dict_keys(['/TTto2L2Nu_TuneCP5_13p6TeV_powheg-pythia8/Run3Summer23NanoAODv12-130X_mcRun3_2023_realistic_v14-v2/NANOAODSIM'])"
      ]
     },
     "execution_count": 6,
     "metadata": {},
     "output_type": "execute_result"
    }
   ],
   "source": [
    "computed.keys()"
   ]
  },
  {
   "cell_type": "code",
   "execution_count": 7,
   "id": "d1ed4351-b219-4502-be24-b3b0a65ba53d",
   "metadata": {},
   "outputs": [
    {
     "data": {
      "text/plain": [
       "'/TTto2L2Nu_TuneCP5_13p6TeV_powheg-pythia8/Run3Summer23NanoAODv12-130X_mcRun3_2023_realistic_v14-v2/NANOAODSIM'"
      ]
     },
     "execution_count": 7,
     "metadata": {},
     "output_type": "execute_result"
    }
   ],
   "source": [
    "sample_name = next(iter(computed))\n",
    "sample_name "
   ]
  },
  {
   "cell_type": "code",
   "execution_count": 8,
   "id": "d79a0eb6-ced2-42a2-bb4b-5efc767f62bf",
   "metadata": {},
   "outputs": [],
   "source": [
    "results = computed[sample_name]"
   ]
  },
  {
   "cell_type": "code",
   "execution_count": 9,
   "id": "7d3037a0-1887-4b45-8b10-fb98c4c8533a",
   "metadata": {
    "scrolled": true
   },
   "outputs": [
    {
     "data": {
      "text/plain": [
       "{'ntuple': {'MET': {'awk_info': None,\n",
       "   'pt': <Array [97.8, 72.7, 108, ..., 28, 66, 67.9] type='183000 * float32[paramete...'>,\n",
       "   'phi': <Array [-2.4, 1.1, -2.31, ..., -1.33, 1.38] type='183000 * float32[paramete...'>},\n",
       "  'Electron': {'isGold': <Array [True, False, True, True, ..., False, True, True] type='118542 * bool'>,\n",
       "   'isSilver': <Array [False, False, False, ..., False, False, False] type='118542 * bool'>,\n",
       "   'isBronze': <Array [False, True, False, ..., True, False, False] type='118542 * bool'>,\n",
       "   'awk_info': <Array [1, 1, 0, 0, 2, 0, 1, 0, ..., 1, 1, 0, 1, 0, 1, 1] type='183000 * int64'>,\n",
       "   'pt': <Array [45.7, 10.6, 102, ..., 12.8, 156, 122] type='118542 * float32[parame...'>,\n",
       "   'eta': <Array [-0.0922, 0.0165, ..., -0.048, 1.96] type='118542 * float32[paramete...'>,\n",
       "   'phi': <Array [-0.397, 2.92, ..., -0.411, -1.32] type='118542 * float32[parameters...'>,\n",
       "   'mass': <Array [3.58e-07, 1.29e-07, ..., -5.39e-06] type='118542 * float32[paramete...'>,\n",
       "   'charge': <Array [-1, -1, 1, -1, -1, ..., -1, 1, 1, 1, 1] type='118542 * int32[parame...'>,\n",
       "   'dxy': <Array [-0.0009, -0.000505, ..., -0.00234] type='118542 * float32[parameter...'>,\n",
       "   'dz': <Array [0.000651, -0.00223, ..., 0.00699] type='118542 * float32[parameters...'>,\n",
       "   'pfRelIso03_all': <Array [0.0863, 2.18, 0.0038, ..., 0.00192, 0] type='118542 * float32[param...'>,\n",
       "   'miniPFRelIso_all': <Array [0, 2.18, 0, 0.0601, ..., 0, 1.1, 0, 0] type='118542 * float32[param...'>,\n",
       "   'sip3d': <Array [0.638, 0.575, 0.264, ..., 1.15, 1.22] type='118542 * float32[parame...'>},\n",
       "  'LowPtElectron': {'isGold': <Array [False, False, False, ..., False, False, False] type='12889 * bool'>,\n",
       "   'isSilver': <Array [False, False, False, ..., False, False, False] type='12889 * bool'>,\n",
       "   'isBronze': <Array [True, True, True, False, ..., True, True, True] type='12889 * bool'>,\n",
       "   'awk_info': <Array [0, 0, 0, 0, 0, 1, 0, 0, ..., 0, 0, 0, 0, 0, 0, 0] type='183000 * int64'>,\n",
       "   'pt': <Array [4.79, 3.26, 5.15, ..., 3.37, 4.84] type='12889 * float32[parameters...'>,\n",
       "   'eta': <Array [1.39, 1.51, -0.983, ..., 1.25, 1.31] type='12889 * float32[paramete...'>,\n",
       "   'phi': <Array [-1.8, -0.199, 1, ..., -1.26, -1.91] type='12889 * float32[parameter...'>,\n",
       "   'mass': <Array [-1.69e-07, -8.43e-08, ..., -1.69e-07] type='12889 * float32[paramet...'>,\n",
       "   'charge': <Array [-1, -1, 1, 1, -1, ..., -1, 1, -1, 1, 1] type='12889 * int32[paramet...'>,\n",
       "   'dxy': <Array [0.0117, -0.0102, ..., -0.00124] type='12889 * float32[parameters={\"...'>,\n",
       "   'dz': <Array [-0.00236, 0.0433, ..., -0.00538] type='12889 * float32[parameters={...'>,\n",
       "   'miniPFRelIso_all': <Array [0.252, 1.01, 0.757, ..., 0.945, 13.7] type='12889 * float32[paramet...'>},\n",
       "  'Muon': {'isGold': <Array [True, True, True, True, ..., False, False, True] type='147997 * bool'>,\n",
       "   'isSilver': <Array [False, False, False, ..., False, False, False] type='147997 * bool'>,\n",
       "   'isBronze': <Array [False, False, False, ..., True, True, False] type='147997 * bool'>,\n",
       "   'awk_info': <Array [1, 2, 0, 2, 0, 1, 1, 1, ..., 1, 1, 2, 1, 0, 1, 0] type='183000 * int64'>,\n",
       "   'pt': <Array [52.2, 53.5, 19, ..., 4.37, 5.41, 70.4] type='147997 * float32[param...'>,\n",
       "   'eta': <Array [-0.551, 0.471, ..., -1.02, 2.33] type='147997 * float32[parameters=...'>,\n",
       "   'phi': <Array [1.35, -2.3, -1.77, ..., 2.6, 2.84] type='147997 * float32[parameter...'>,\n",
       "   'mass': <Array [0.106, 0.106, 0.106, ..., 0.106, 0.106] type='147997 * float32[para...'>,\n",
       "   'charge': <Array [1, -1, 1, 1, -1, ..., -1, 1, -1, -1] type='147997 * int32[parameter...'>,\n",
       "   'dxy': <Array [0.000325, -0.000275, ..., -0.00124] type='147997 * float32[paramete...'>,\n",
       "   'dz': <Array [-0.000614, 0.000433, ..., -0.00978] type='147997 * float32[paramete...'>,\n",
       "   'pfRelIso03_all': <Array [0, 0, 0, 0.0101, ..., 4.12, 0.187, 0] type='147997 * float32[parame...'>,\n",
       "   'miniPFRelIso_all': <Array [0, 0, 0.0132, ..., 3.49, 0.0973, 0] type='147997 * float32[paramete...'>,\n",
       "   'sip3d': <Array [0.428, 0.232, 0.389, ..., 4.94, 1.46] type='147997 * float32[parame...'>}}}"
      ]
     },
     "execution_count": 9,
     "metadata": {},
     "output_type": "execute_result"
    }
   ],
   "source": [
    "results #did this to get in front of the massive sample name, work with the results dictionary from here forward for simplicity"
   ]
  },
  {
   "cell_type": "code",
   "execution_count": 10,
   "id": "000c9f72-2312-43e5-b677-8e288dc32abd",
   "metadata": {
    "scrolled": true
   },
   "outputs": [
    {
     "data": {
      "text/plain": [
       "dict_keys(['ntuple'])"
      ]
     },
     "execution_count": 10,
     "metadata": {},
     "output_type": "execute_result"
    }
   ],
   "source": [
    "results.keys()"
   ]
  },
  {
   "cell_type": "code",
   "execution_count": 11,
   "id": "d6aa2d9c-b8c5-461a-8743-1038b43bb821",
   "metadata": {},
   "outputs": [
    {
     "data": {
      "text/html": [
       "<pre>[False,\n",
       " False,\n",
       " False,\n",
       " True,\n",
       " False,\n",
       " False,\n",
       " False,\n",
       " False,\n",
       " False,\n",
       " False,\n",
       " ...,\n",
       " False,\n",
       " False,\n",
       " False,\n",
       " False,\n",
       " False,\n",
       " False,\n",
       " False,\n",
       " False,\n",
       " False]\n",
       "------------------\n",
       "backend: cpu\n",
       "nbytes: 354.0 kB\n",
       "type: 12889 * bool</pre>"
      ],
      "text/plain": [
       "<Array [False, False, False, ..., False, False, False] type='12889 * bool'>"
      ]
     },
     "execution_count": 11,
     "metadata": {},
     "output_type": "execute_result"
    }
   ],
   "source": [
    "results['ntuple'][\"LowPtElectron\"][\"isGold\"]"
   ]
  },
  {
   "cell_type": "code",
   "execution_count": 12,
   "id": "ff65b16e-859d-4e1b-a1e6-2139047d0b39",
   "metadata": {},
   "outputs": [
    {
     "ename": "KeyError",
     "evalue": "'Electron'",
     "output_type": "error",
     "traceback": [
      "\u001b[0;31m---------------------------------------------------------------------------\u001b[0m",
      "\u001b[0;31mKeyError\u001b[0m                                  Traceback (most recent call last)",
      "Cell \u001b[0;32mIn[12], line 1\u001b[0m\n\u001b[0;32m----> 1\u001b[0m ak\u001b[38;5;241m.\u001b[39munflatten(\u001b[43mresults\u001b[49m\u001b[43m[\u001b[49m\u001b[38;5;124;43m'\u001b[39;49m\u001b[38;5;124;43mElectron\u001b[39;49m\u001b[38;5;124;43m'\u001b[39;49m\u001b[43m]\u001b[49m[\u001b[38;5;124m'\u001b[39m\u001b[38;5;124mpt\u001b[39m\u001b[38;5;124m'\u001b[39m], results[\u001b[38;5;124m'\u001b[39m\u001b[38;5;124mElectron\u001b[39m\u001b[38;5;124m'\u001b[39m][\u001b[38;5;124m'\u001b[39m\u001b[38;5;124mawk_info\u001b[39m\u001b[38;5;124m'\u001b[39m])\n",
      "\u001b[0;31mKeyError\u001b[0m: 'Electron'"
     ]
    }
   ],
   "source": [
    "ak.unflatten(results['Electron']['pt'], results['Electron']['awk_info'])"
   ]
  },
  {
   "cell_type": "code",
   "execution_count": null,
   "id": "d22562ee-2019-4149-bad1-df465aaee985",
   "metadata": {},
   "outputs": [],
   "source": [
    "results[\"Electron\"][\"awk_info\"]"
   ]
  },
  {
   "cell_type": "code",
   "execution_count": null,
   "id": "74417e8c-d7ae-4df3-ab03-7e8a98ae3590",
   "metadata": {},
   "outputs": [],
   "source": [
    "results[\"LowPtElectron\"][\"awk_info\"]"
   ]
  },
  {
   "cell_type": "code",
   "execution_count": null,
   "id": "213deb79-6205-44c9-bd26-bc6e5b68bfcb",
   "metadata": {},
   "outputs": [],
   "source": [
    "results[\"Muon\"][\"awk_info\"]"
   ]
  },
  {
   "cell_type": "code",
   "execution_count": null,
   "id": "fac8a86d-c9f2-44a0-ad7b-fabf78e6af7a",
   "metadata": {},
   "outputs": [],
   "source": [
    "ak.sum(\n",
    "results['ntuple']['LowPtElectron']['isGold']\n",
    ")"
   ]
  },
  {
   "cell_type": "code",
   "execution_count": null,
   "id": "52850f4f-e4bc-4325-97fe-687de738ae8c",
   "metadata": {},
   "outputs": [],
   "source": [
    "\n",
    "ak.flatten(results['ntuple']['LowPtElectron']['isGold'])\n"
   ]
  },
  {
   "cell_type": "code",
   "execution_count": null,
   "id": "3c007fdb-2f76-4892-9661-ac0ec43a04fb",
   "metadata": {},
   "outputs": [],
   "source": [
    "results['ntuple'].keys()"
   ]
  },
  {
   "cell_type": "code",
   "execution_count": null,
   "id": "c913e3d9-0a59-492f-ae49-23e534abbd7e",
   "metadata": {
    "scrolled": true
   },
   "outputs": [],
   "source": [
    "ak.sum(ak.num(results['ntuple']['Electron']['pt']))"
   ]
  },
  {
   "cell_type": "code",
   "execution_count": null,
   "id": "5c9f0dc2-452a-44ac-80b1-45cfbdd7433d",
   "metadata": {},
   "outputs": [],
   "source": [
    "results['ntuple']['Electron']['pt'][:10]"
   ]
  },
  {
   "cell_type": "code",
   "execution_count": null,
   "id": "ad0a6b1a-53a3-4418-98ce-d83f9b9d6f8f",
   "metadata": {},
   "outputs": [],
   "source": [
    "%%time\n",
    "chunk_size = 100000\n",
    "ntuple = results['ntuple']\n",
    "nentries = ntuple['num_tot_Events']\n",
    "total_chunks = (nentries + chunk_size - 1) // chunk_size\n",
    "\n",
    "os.makedirs(ntuple_name, exist_ok=True)\n",
    "\n",
    "for chunk_idx, start in enumerate(range(0, nentries, chunk_size)):\n",
    "    end = min(start + chunk_size, nentries)\n",
    "\n",
    "\n",
    "    #sliced_events = {\n",
    "    #    key: val[start:end]\n",
    "    #    for key, val in ntuple[\"Event\"].items()\n",
    "    #}\n",
    "    \n",
    "    sliced_electron = {\n",
    "        key: val[start:end]\n",
    "        for key, val in ntuple[\"Electron\"].items()\n",
    "    }\n",
    "    #sliced_electron[\"nEle\"] = ak.sum(ak.num(sliced_electron[\"pt\"], axis=1))\n",
    "\n",
    "    sliced_lpte = {\n",
    "        key: val[start:end]\n",
    "        for key, val in ntuple[\"LowPtElectron\"].items()\n",
    "    }\n",
    "    #sliced_lpte[\"nLpte\"] = ak.sum(ak.num(sliced_lpte[\"pt\"], axis=1))\n",
    "    \n",
    "    sliced_muon = {\n",
    "        key: val[start:end]\n",
    "        for key, val in ntuple[\"Muon\"].items()\n",
    "    }\n",
    "    #sliced_muon[\"nMu\"] = ak.sum(ak.num(sliced_muon[\"pt\"], axis=1))\n",
    "    \n",
    "    slice_ntuple = {\n",
    "        \"numEvents\": end - start,\n",
    "        \"dataset\": ntuple[\"dataset\"],\n",
    "        #\"Events\": sliced_events,\n",
    "        \"Electron\": sliced_electron,\n",
    "        \"Muon\": sliced_muon,\n",
    "        \"LowPtElectron\": sliced_lpte,\n",
    "        \n",
    "    }\n",
    "    \n",
    "    \n",
    "    \n",
    "    # Create output filename\n",
    "    filename = f\"{ntuple_name}/{ntuple_name}_{slice_ntuple['numEvents']}_events_chunk_{chunk_idx:03d}.parquet\"\n",
    "    \n",
    "    # Save to Parquet\n",
    "    ak.to_parquet(slice_ntuple, filename, compression=\"SNAPPY\")\n",
    "    print(f\"Saved {filename}\")\n",
    "    print(f\"chunk {chunk_idx} of {total_chunks}\")\n",
    "    with open(f\"{ntuple_name}/upload_log.txt\", \"a\") as log_file:\n",
    "        log_file.write(\n",
    "            f\"Chunk_index: {chunk_idx} of: {total_chunks - 2} saved successfully. \"\n",
    "            f\"Skim generated over {nentries} events of dataset: {ntuple['dataset']}.\\n\"\n",
    "    )\n"
   ]
  },
  {
   "cell_type": "code",
   "execution_count": null,
   "id": "4533780b-19da-40f9-914f-56e87cf128ff",
   "metadata": {
    "scrolled": true
   },
   "outputs": [],
   "source": [
    "parquet_files = sorted(glob.glob(\"2023_ttbar_dwg_ntuple/*.parquet\"))\n",
    "\n",
    "test_ntuple = {}\n",
    "for file in parquet_files:\n",
    "    record = ak.from_parquet(file)        # load the ak.Record\n",
    "    my_dict = ak.to_list(record)          # ✅ deep conversion to native dict\n",
    "    test_ntuple |= my_dict    \n",
    "\n",
    "test_ntuple.type"
   ]
  },
  {
   "cell_type": "code",
   "execution_count": null,
   "id": "eaee06ca-a5a2-4f21-83ff-72eaa93f86db",
   "metadata": {},
   "outputs": [],
   "source": [
    "test_ntuple.keys()"
   ]
  },
  {
   "cell_type": "code",
   "execution_count": null,
   "id": "a7a72650-411c-44ce-bd47-eca85c15971c",
   "metadata": {},
   "outputs": [],
   "source": [
    "test_ntuple.type"
   ]
  },
  {
   "cell_type": "code",
   "execution_count": null,
   "id": "947e9cc0",
   "metadata": {},
   "outputs": [],
   "source": [
    "#parquet_files = sorted(glob.glob(\"2023_ttbar_dwg_ntuple/*.parquet\"))\n",
    "\n",
    "#for file in parquet_files:\n",
    "    \n",
    "test_ntuple = ak.from_parquet(\"2023_ttbar_dwg_ntuple/2023_ttbar_dwg_ntuple_100000_events_chunk_000.parquet\")   \n",
    "\n",
    "\n",
    "test_ntuple"
   ]
  },
  {
   "cell_type": "code",
   "execution_count": null,
   "id": "cf6abe38-1b13-4a65-9df3-84e43022e113",
   "metadata": {
    "scrolled": true
   },
   "outputs": [],
   "source": [
    "test_ntuple['Muon'].dxy"
   ]
  },
  {
   "cell_type": "code",
   "execution_count": null,
   "id": "01ba4821-53f2-4f30-8be5-f178d85d7397",
   "metadata": {},
   "outputs": [],
   "source": [
    "max(ak.flatten(test_ntuple.Muon.pt))"
   ]
  },
  {
   "cell_type": "code",
   "execution_count": null,
   "id": "9e11a9a5-2139-4e36-a093-390cac5f5514",
   "metadata": {},
   "outputs": [],
   "source": [
    "import sys\n",
    "print(sys.version)\n"
   ]
  },
  {
   "cell_type": "code",
   "execution_count": null,
   "id": "0884877c-4987-4bc8-a346-35ceca0ce738",
   "metadata": {},
   "outputs": [],
   "source": [
    "#init voms proxy in terminal before running this cell:\n",
    "# voms-proxy-init -voms cms -vomses /etc/vomses\n",
    "#!xrdcp -r {ntuple_name}/ root://xrootd-local.unl.edu:1094//store/user/dgrove/my_ntuple/\n"
   ]
  },
  {
   "cell_type": "code",
   "execution_count": null,
   "id": "89b9b76a-cfb3-42a5-bfb4-53641b360213",
   "metadata": {},
   "outputs": [],
   "source": [
    "test_ntuple.Electron.nEle"
   ]
  },
  {
   "cell_type": "code",
   "execution_count": null,
   "id": "07048592-36f4-4b06-8152-8e7b1dce934d",
   "metadata": {},
   "outputs": [],
   "source": [
    "test_ntuple.Muon.nMu"
   ]
  },
  {
   "cell_type": "code",
   "execution_count": null,
   "id": "ee1fc5da-d28e-4d5c-b041-e270a1eac9c9",
   "metadata": {},
   "outputs": [],
   "source": [
    "test_ntuple.LowPtElectron.nLpte"
   ]
  },
  {
   "cell_type": "code",
   "execution_count": null,
   "id": "062aafd5-fb5a-40b9-85e1-5c68efbdee5f",
   "metadata": {},
   "outputs": [],
   "source": []
  }
 ],
 "metadata": {
  "kernelspec": {
   "display_name": "Python 3 (ipykernel)",
   "language": "python",
   "name": "python3"
  },
  "language_info": {
   "codemirror_mode": {
    "name": "ipython",
    "version": 3
   },
   "file_extension": ".py",
   "mimetype": "text/x-python",
   "name": "python",
   "nbconvert_exporter": "python",
   "pygments_lexer": "ipython3",
   "version": "3.12.5"
  }
 },
 "nbformat": 4,
 "nbformat_minor": 5
}
