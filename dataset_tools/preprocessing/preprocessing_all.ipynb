{
 "cells": [
  {
   "cell_type": "code",
   "execution_count": 1,
   "id": "3e38bb40-c146-4e39-806e-fa5ea1d8b76b",
   "metadata": {},
   "outputs": [
    {
     "name": "stderr",
     "output_type": "stream",
     "text": [
      "/usr/local/lib/python3.12/site-packages/coffea/nanoevents/schemas/fcc.py:5: FutureWarning: In version 2025.1.0 (target date: 2024-12-31 11:59:59-06:00), this will be an error.\n",
      "To raise these warnings as errors (and get stack traces to find out where they're called), run\n",
      "    import warnings\n",
      "    warnings.filterwarnings(\"error\", module=\"coffea.*\")\n",
      "after the first `import coffea` or use `@pytest.mark.filterwarnings(\"error:::coffea.*\")` in pytest.\n",
      "Issue: coffea.nanoevents.methods.vector will be removed and replaced with scikit-hep vector. Nanoevents schemas internal to coffea will be migrated. Otherwise please consider using that package!.\n",
      "  from coffea.nanoevents.methods import vector\n"
     ]
    },
    {
     "data": {
      "application/vnd.jupyter.widget-view+json": {
       "model_id": "37a2171d983d4bdabe87c38c5bc3616e",
       "version_major": 2,
       "version_minor": 0
      },
      "text/plain": [
       "Output()"
      ]
     },
     "metadata": {},
     "output_type": "display_data"
    },
    {
     "name": "stdout",
     "output_type": "stream",
     "text": [
      "/SlepSnuCascade_MN1-270_MN2-280_MC1-275_TuneCP5_13p6TeV_madgraphMLM-pythia8/Run3Summer23BPixNanoAODv12-130X_mcRun3_2023_realistic_postBPix_v6-v3/NANOAODSIM\n"
     ]
    },
    {
     "data": {
      "text/html": [
       "<pre style=\"white-space:pre;overflow-x:auto;line-height:normal;font-family:Menlo,'DejaVu Sans Mono',consolas,'Courier New',monospace\"><span style=\"font-style: italic\">                                                      Query:                                                       </span>\n",
       "<span style=\"color: #800000; text-decoration-color: #800000; font-weight: bold; font-style: italic\">/SlepSnuCascade_MN1-270_MN2-280_MC1-275_TuneCP5_13p6TeV_madgraphMLM-pythia8/Run3Summer23BPixNanoAODv12-130X_mcRun3_</span>\n",
       "<span style=\"font-style: italic\">                                     </span><span style=\"color: #800000; text-decoration-color: #800000; font-weight: bold; font-style: italic\">2023_realistic_postBPix_v6-v3/NANOAODSIM</span><span style=\"font-style: italic\">                                      </span>\n",
       "┏━━━━━━━━━━━━━━━━━━━━━━━━━━━━━━━━━━━━━━━━━━━━━━━━━━━┳━━━━━━━━━━━━━━━━━━━━━━━━━━━━━━━━━━━━━━━━━━━━━━━━━━━━━━━━━━━━┳┓\n",
       "┃<span style=\"font-weight: bold\"> Name                                              </span>┃<span style=\"font-weight: bold\"> Tag                                                        </span>┃<span style=\"font-weight: bold\"></span>┃\n",
       "┡━━━━━━━━━━━━━━━━━━━━━━━━━━━━━━━━━━━━━━━━━━━━━━━━━━━╇━━━━━━━━━━━━━━━━━━━━━━━━━━━━━━━━━━━━━━━━━━━━━━━━━━━━━━━━━━━━╇┩\n",
       "│<span style=\"color: #7fbfbf; text-decoration-color: #7fbfbf\"> SlepSnuCascade_MN1-270_MN2-280_MC1-275_TuneCP5_1… </span>│<span style=\"color: #bf7fbf; text-decoration-color: #bf7fbf\"> </span><span style=\"color: #bf7fbf; text-decoration-color: #bf7fbf; font-weight: bold\">(1)</span><span style=\"color: #bf7fbf; text-decoration-color: #bf7fbf\"> Run3Summer23BPixNanoAODv12-130X_mcRun3_2023_realistic… </span>│<span style=\"color: #7f7f7f; text-decoration-color: #7f7f7f\"></span>│\n",
       "└───────────────────────────────────────────────────┴────────────────────────────────────────────────────────────┴┘\n",
       "</pre>\n"
      ],
      "text/plain": [
       "\u001b[3m                                                      Query:                                                       \u001b[0m\n",
       "\u001b[1;3;31m/SlepSnuCascade_MN1-270_MN2-280_MC1-275_TuneCP5_13p6TeV_madgraphMLM-pythia8/Run3Summer23BPixNanoAODv12-130X_mcRun3_\u001b[0m\n",
       "\u001b[3m                                     \u001b[0m\u001b[1;3;31m2023_realistic_postBPix_v6-v3/NANOAODSIM\u001b[0m\u001b[3m                                      \u001b[0m\n",
       "┏━━━━━━━━━━━━━━━━━━━━━━━━━━━━━━━━━━━━━━━━━━━━━━━━━━━┳━━━━━━━━━━━━━━━━━━━━━━━━━━━━━━━━━━━━━━━━━━━━━━━━━━━━━━━━━━━━┳┓\n",
       "┃\u001b[1m \u001b[0m\u001b[1mName                                             \u001b[0m\u001b[1m \u001b[0m┃\u001b[1m \u001b[0m\u001b[1mTag                                                       \u001b[0m\u001b[1m \u001b[0m┃┃\n",
       "┡━━━━━━━━━━━━━━━━━━━━━━━━━━━━━━━━━━━━━━━━━━━━━━━━━━━╇━━━━━━━━━━━━━━━━━━━━━━━━━━━━━━━━━━━━━━━━━━━━━━━━━━━━━━━━━━━━╇┩\n",
       "│\u001b[2;36m \u001b[0m\u001b[2;36mSlepSnuCascade_MN1-270_MN2-280_MC1-275_TuneCP5_1…\u001b[0m\u001b[2;36m \u001b[0m│\u001b[2;35m \u001b[0m\u001b[1;2;35m(1)\u001b[0m\u001b[2;35m Run3Summer23BPixNanoAODv12-130X_mcRun3_2023_realistic…\u001b[0m\u001b[2;35m \u001b[0m││\n",
       "└───────────────────────────────────────────────────┴────────────────────────────────────────────────────────────┴┘\n"
      ]
     },
     "metadata": {},
     "output_type": "display_data"
    },
    {
     "data": {
      "text/html": [
       "<pre style=\"white-space:pre;overflow-x:auto;line-height:normal;font-family:Menlo,'DejaVu Sans Mono',consolas,'Courier New',monospace\"></pre>\n"
      ],
      "text/plain": []
     },
     "metadata": {},
     "output_type": "display_data"
    },
    {
     "data": {
      "text/html": [
       "<pre style=\"white-space:pre;overflow-x:auto;line-height:normal;font-family:Menlo,'DejaVu Sans Mono',consolas,'Courier New',monospace\">Use the command <span style=\"color: #800000; text-decoration-color: #800000; font-weight: bold\">select</span> to selected the datasets\n",
       "</pre>\n"
      ],
      "text/plain": [
       "Use the command \u001b[1;31mselect\u001b[0m to selected the datasets\n"
      ]
     },
     "metadata": {},
     "output_type": "display_data"
    },
    {
     "data": {
      "text/html": [
       "<pre style=\"white-space:pre;overflow-x:auto;line-height:normal;font-family:Menlo,'DejaVu Sans Mono',consolas,'Courier New',monospace\"><span style=\"color: #008080; text-decoration-color: #008080\">Selected datasets:</span>\n",
       "</pre>\n"
      ],
      "text/plain": [
       "\u001b[36mSelected datasets:\u001b[0m\n"
      ]
     },
     "metadata": {},
     "output_type": "display_data"
    },
    {
     "data": {
      "text/html": [
       "<pre style=\"white-space:pre;overflow-x:auto;line-height:normal;font-family:Menlo,'DejaVu Sans Mono',consolas,'Courier New',monospace\">- <span style=\"font-weight: bold\">(</span><span style=\"color: #008080; text-decoration-color: #008080; font-weight: bold\">1</span><span style=\"font-weight: bold\">)</span> \n",
       "<span style=\"color: #800080; text-decoration-color: #800080\">/SlepSnuCascade_MN1-270_MN2-280_MC1-275_TuneCP5_13p6TeV_madgraphMLM-pythia8/Run3Summer23BPixNanoAODv12-130X_mcRun3_</span>\n",
       "<span style=\"color: #800080; text-decoration-color: #800080\">2023_realistic_postBPix_v6-v3/</span><span style=\"color: #ff00ff; text-decoration-color: #ff00ff\">NANOAODSIM</span>\n",
       "</pre>\n"
      ],
      "text/plain": [
       "- \u001b[1m(\u001b[0m\u001b[1;36m1\u001b[0m\u001b[1m)\u001b[0m \n",
       "\u001b[35m/SlepSnuCascade_MN1-270_MN2-280_MC1-275_TuneCP5_13p6TeV_madgraphMLM-pythia8/Run3Summer23BPixNanoAODv12-130X_mcRun3_\u001b[0m\n",
       "\u001b[35m2023_realistic_postBPix_v6-v3/\u001b[0m\u001b[95mNANOAODSIM\u001b[0m\n"
      ]
     },
     "metadata": {},
     "output_type": "display_data"
    },
    {
     "data": {
      "text/html": [
       "<pre style=\"white-space:pre;overflow-x:auto;line-height:normal;font-family:Menlo,'DejaVu Sans Mono',consolas,'Courier New',monospace\"><span style=\"color: #008080; text-decoration-color: #008080\">Selected datasets:</span>\n",
       "</pre>\n"
      ],
      "text/plain": [
       "\u001b[36mSelected datasets:\u001b[0m\n"
      ]
     },
     "metadata": {},
     "output_type": "display_data"
    },
    {
     "data": {
      "text/html": [
       "<pre style=\"white-space:pre;overflow-x:auto;line-height:normal;font-family:Menlo,'DejaVu Sans Mono',consolas,'Courier New',monospace\"><span style=\"font-style: italic\">                                                 Selected datasets                                                 </span>\n",
       "┏━━━┳━━━━━━━━━━━━━━━━━━━━━━━━━━━━━━━━━━━━━━━━━━━━━━━━━━━━━━━━━━━━━━━━━━━━━━━━━━━━━━━━━━━━━━━━━━━━━━━━━━━━━━━━━━━┳┳┓\n",
       "┃<span style=\"font-weight: bold\"> … </span>┃<span style=\"font-weight: bold\"> Dataset                                                                                                   </span>┃<span style=\"font-weight: bold\"></span>┃<span style=\"font-weight: bold\"></span>┃\n",
       "┡━━━╇━━━━━━━━━━━━━━━━━━━━━━━━━━━━━━━━━━━━━━━━━━━━━━━━━━━━━━━━━━━━━━━━━━━━━━━━━━━━━━━━━━━━━━━━━━━━━━━━━━━━━━━━━━━╇╇┩\n",
       "│<span style=\"color: #008080; text-decoration-color: #008080\"> 1 </span>│<span style=\"color: #800080; text-decoration-color: #800080\"> /SlepSnuCascade_MN1-270_MN2-280_MC1-275_TuneCP5_13p6TeV_madgraphMLM-pythia8/Run3Summer23BPixNanoAODv12-1… </span>│││\n",
       "└───┴───────────────────────────────────────────────────────────────────────────────────────────────────────────┴┴┘\n",
       "</pre>\n"
      ],
      "text/plain": [
       "\u001b[3m                                                 Selected datasets                                                 \u001b[0m\n",
       "┏━━━┳━━━━━━━━━━━━━━━━━━━━━━━━━━━━━━━━━━━━━━━━━━━━━━━━━━━━━━━━━━━━━━━━━━━━━━━━━━━━━━━━━━━━━━━━━━━━━━━━━━━━━━━━━━━┳┳┓\n",
       "┃\u001b[1m \u001b[0m\u001b[1m…\u001b[0m\u001b[1m \u001b[0m┃\u001b[1m \u001b[0m\u001b[1mDataset                                                                                                  \u001b[0m\u001b[1m \u001b[0m┃┃┃\n",
       "┡━━━╇━━━━━━━━━━━━━━━━━━━━━━━━━━━━━━━━━━━━━━━━━━━━━━━━━━━━━━━━━━━━━━━━━━━━━━━━━━━━━━━━━━━━━━━━━━━━━━━━━━━━━━━━━━━╇╇┩\n",
       "│\u001b[36m \u001b[0m\u001b[36m1\u001b[0m\u001b[36m \u001b[0m│\u001b[35m \u001b[0m\u001b[35m/SlepSnuCascade_MN1-270_MN2-280_MC1-275_TuneCP5_13p6TeV_madgraphMLM-pythia8/Run3Summer23BPixNanoAODv12-1…\u001b[0m\u001b[35m \u001b[0m│││\n",
       "└───┴───────────────────────────────────────────────────────────────────────────────────────────────────────────┴┴┘\n"
      ]
     },
     "metadata": {},
     "output_type": "display_data"
    },
    {
     "data": {
      "text/html": [
       "<pre style=\"white-space:pre;overflow-x:auto;line-height:normal;font-family:Menlo,'DejaVu Sans Mono',consolas,'Courier New',monospace\">Loading SITECONF info\n",
       "</pre>\n"
      ],
      "text/plain": [
       "Loading SITECONF info\n"
      ]
     },
     "metadata": {},
     "output_type": "display_data"
    },
    {
     "data": {
      "application/vnd.jupyter.widget-view+json": {
       "model_id": "dc7d77d414594797a49ba09eb85b05be",
       "version_major": 2,
       "version_minor": 0
      },
      "text/plain": [
       "Output()"
      ]
     },
     "metadata": {},
     "output_type": "display_data"
    },
    {
     "data": {
      "text/html": [
       "<pre style=\"white-space:pre;overflow-x:auto;line-height:normal;font-family:Menlo,'DejaVu Sans Mono',consolas,'Courier New',monospace\"></pre>\n"
      ],
      "text/plain": []
     },
     "metadata": {},
     "output_type": "display_data"
    },
    {
     "data": {
      "text/html": [
       "<pre style=\"white-space:pre;overflow-x:auto;line-height:normal;font-family:Menlo,'DejaVu Sans Mono',consolas,'Courier New',monospace\"><span style=\"color: #008080; text-decoration-color: #008080\">Sites availability for dataset: </span>\n",
       "<span style=\"color: #800000; text-decoration-color: #800000\">/SlepSnuCascade_MN1-270_MN2-280_MC1-275_TuneCP5_13p6TeV_madgraphMLM-pythia8/Run3Summer23BPixNanoAODv12-130X_mcRun3_</span>\n",
       "<span style=\"color: #800000; text-decoration-color: #800000\">2023_realistic_postBPix_v6-v3/NANOAODSIM</span>\n",
       "</pre>\n"
      ],
      "text/plain": [
       "\u001b[36mSites availability for dataset: \u001b[0m\n",
       "\u001b[31m/SlepSnuCascade_MN1-270_MN2-280_MC1-275_TuneCP5_13p6TeV_madgraphMLM-pythia8/Run3Summer23BPixNanoAODv12-130X_mcRun3_\u001b[0m\n",
       "\u001b[31m2023_realistic_postBPix_v6-v3/\u001b[0m\u001b[31mNANOAODSIM\u001b[0m\n"
      ]
     },
     "metadata": {},
     "output_type": "display_data"
    },
    {
     "data": {
      "text/html": [
       "<pre style=\"white-space:pre;overflow-x:auto;line-height:normal;font-family:Menlo,'DejaVu Sans Mono',consolas,'Courier New',monospace\"><span style=\"font-style: italic\">                 Available replicas                  </span>\n",
       "┏━━━━━━━┳━━━━━━━━━━━━━━━━━━┳━━━━━━━━━┳━━━━━━━━━━━━━━┓\n",
       "┃<span style=\"font-weight: bold\"> Index </span>┃<span style=\"font-weight: bold\"> Site             </span>┃<span style=\"font-weight: bold\"> Files   </span>┃<span style=\"font-weight: bold\"> Availability </span>┃\n",
       "┡━━━━━━━╇━━━━━━━━━━━━━━━━━━╇━━━━━━━━━╇━━━━━━━━━━━━━━┩\n",
       "│<span style=\"color: #7f7f7f; text-decoration-color: #7f7f7f\">   0   </span>│<span style=\"color: #7fbfbf; text-decoration-color: #7fbfbf\"> T2_DE_DESY       </span>│<span style=\"color: #bf7fbf; text-decoration-color: #bf7fbf\"> 17 / 17 </span>│<span style=\"color: #7f7f7f; text-decoration-color: #7f7f7f\">    100.0%    </span>│\n",
       "│   1   │<span style=\"color: #008080; text-decoration-color: #008080\"> T2_IT_Legnaro    </span>│<span style=\"color: #800080; text-decoration-color: #800080\"> 17 / 17 </span>│    100.0%    │\n",
       "│<span style=\"color: #7f7f7f; text-decoration-color: #7f7f7f\">   2   </span>│<span style=\"color: #7fbfbf; text-decoration-color: #7fbfbf\"> T2_US_Vanderbilt </span>│<span style=\"color: #bf7fbf; text-decoration-color: #bf7fbf\"> 17 / 17 </span>│<span style=\"color: #7f7f7f; text-decoration-color: #7f7f7f\">    100.0%    </span>│\n",
       "│   3   │<span style=\"color: #008080; text-decoration-color: #008080\"> T2_US_Nebraska   </span>│<span style=\"color: #800080; text-decoration-color: #800080\"> 17 / 17 </span>│    100.0%    │\n",
       "│<span style=\"color: #7f7f7f; text-decoration-color: #7f7f7f\">   4   </span>│<span style=\"color: #7fbfbf; text-decoration-color: #7fbfbf\"> T1_RU_JINR_Disk  </span>│<span style=\"color: #bf7fbf; text-decoration-color: #bf7fbf\"> 17 / 17 </span>│<span style=\"color: #7f7f7f; text-decoration-color: #7f7f7f\">    100.0%    </span>│\n",
       "│   5   │<span style=\"color: #008080; text-decoration-color: #008080\"> T2_UK_London_IC  </span>│<span style=\"color: #800080; text-decoration-color: #800080\"> 17 / 17 </span>│    100.0%    │\n",
       "│<span style=\"color: #7f7f7f; text-decoration-color: #7f7f7f\">   6   </span>│<span style=\"color: #7fbfbf; text-decoration-color: #7fbfbf\"> T1_IT_CNAF_Disk  </span>│<span style=\"color: #bf7fbf; text-decoration-color: #bf7fbf\"> 2 / 17  </span>│<span style=\"color: #7f7f7f; text-decoration-color: #7f7f7f\">    11.8%     </span>│\n",
       "└───────┴──────────────────┴─────────┴──────────────┘\n",
       "</pre>\n"
      ],
      "text/plain": [
       "\u001b[3m                 Available replicas                  \u001b[0m\n",
       "┏━━━━━━━┳━━━━━━━━━━━━━━━━━━┳━━━━━━━━━┳━━━━━━━━━━━━━━┓\n",
       "┃\u001b[1m \u001b[0m\u001b[1mIndex\u001b[0m\u001b[1m \u001b[0m┃\u001b[1m \u001b[0m\u001b[1mSite            \u001b[0m\u001b[1m \u001b[0m┃\u001b[1m \u001b[0m\u001b[1mFiles  \u001b[0m\u001b[1m \u001b[0m┃\u001b[1m \u001b[0m\u001b[1mAvailability\u001b[0m\u001b[1m \u001b[0m┃\n",
       "┡━━━━━━━╇━━━━━━━━━━━━━━━━━━╇━━━━━━━━━╇━━━━━━━━━━━━━━┩\n",
       "│\u001b[2m \u001b[0m\u001b[2m  0  \u001b[0m\u001b[2m \u001b[0m│\u001b[2;36m \u001b[0m\u001b[2;36mT2_DE_DESY      \u001b[0m\u001b[2;36m \u001b[0m│\u001b[2;35m \u001b[0m\u001b[2;35m17 / 17\u001b[0m\u001b[2;35m \u001b[0m│\u001b[2m \u001b[0m\u001b[2m   100.0%   \u001b[0m\u001b[2m \u001b[0m│\n",
       "│   1   │\u001b[36m \u001b[0m\u001b[36mT2_IT_Legnaro   \u001b[0m\u001b[36m \u001b[0m│\u001b[35m \u001b[0m\u001b[35m17 / 17\u001b[0m\u001b[35m \u001b[0m│    100.0%    │\n",
       "│\u001b[2m \u001b[0m\u001b[2m  2  \u001b[0m\u001b[2m \u001b[0m│\u001b[2;36m \u001b[0m\u001b[2;36mT2_US_Vanderbilt\u001b[0m\u001b[2;36m \u001b[0m│\u001b[2;35m \u001b[0m\u001b[2;35m17 / 17\u001b[0m\u001b[2;35m \u001b[0m│\u001b[2m \u001b[0m\u001b[2m   100.0%   \u001b[0m\u001b[2m \u001b[0m│\n",
       "│   3   │\u001b[36m \u001b[0m\u001b[36mT2_US_Nebraska  \u001b[0m\u001b[36m \u001b[0m│\u001b[35m \u001b[0m\u001b[35m17 / 17\u001b[0m\u001b[35m \u001b[0m│    100.0%    │\n",
       "│\u001b[2m \u001b[0m\u001b[2m  4  \u001b[0m\u001b[2m \u001b[0m│\u001b[2;36m \u001b[0m\u001b[2;36mT1_RU_JINR_Disk \u001b[0m\u001b[2;36m \u001b[0m│\u001b[2;35m \u001b[0m\u001b[2;35m17 / 17\u001b[0m\u001b[2;35m \u001b[0m│\u001b[2m \u001b[0m\u001b[2m   100.0%   \u001b[0m\u001b[2m \u001b[0m│\n",
       "│   5   │\u001b[36m \u001b[0m\u001b[36mT2_UK_London_IC \u001b[0m\u001b[36m \u001b[0m│\u001b[35m \u001b[0m\u001b[35m17 / 17\u001b[0m\u001b[35m \u001b[0m│    100.0%    │\n",
       "│\u001b[2m \u001b[0m\u001b[2m  6  \u001b[0m\u001b[2m \u001b[0m│\u001b[2;36m \u001b[0m\u001b[2;36mT1_IT_CNAF_Disk \u001b[0m\u001b[2;36m \u001b[0m│\u001b[2;35m \u001b[0m\u001b[2;35m2 / 17 \u001b[0m\u001b[2;35m \u001b[0m│\u001b[2m \u001b[0m\u001b[2m   11.8%    \u001b[0m\u001b[2m \u001b[0m│\n",
       "└───────┴──────────────────┴─────────┴──────────────┘\n"
      ]
     },
     "metadata": {},
     "output_type": "display_data"
    },
    {
     "data": {
      "text/html": [
       "<pre style=\"white-space:pre;overflow-x:auto;line-height:normal;font-family:Menlo,'DejaVu Sans Mono',consolas,'Courier New',monospace\">Replicas for \n",
       "<span style=\"color: #008000; text-decoration-color: #008000\">/SlepSnuCascade_MN1-270_MN2-280_MC1-275_TuneCP5_13p6TeV_madgraphMLM-pythia8/Run3Summer23BPixNanoAODv12-130X_mcRun3_</span>\n",
       "<span style=\"color: #008000; text-decoration-color: #008000\">2023_realistic_postBPix_v6-v3/NANOAODSIM</span>\n",
       "└── <span style=\"color: #008000; text-decoration-color: #008000\">T2_DE_DESY</span>\n",
       "    ├── <span style=\"color: #008080; text-decoration-color: #008080\">root://dcache-cms-xrootd.desy.de:1094//store/mc/Run3Summer23BPixNanoAODv12/SlepSnuCascade_MN1-270_MN2-280_M</span>\n",
       "    │   <span style=\"color: #008080; text-decoration-color: #008080\">C1-275_TuneCP5_13p6TeV_madgraphMLM-pythia8/NANOAODSIM/130X_mcRun3_2023_realistic_postBPix_v6-v3/2530000/014</span>\n",
       "    │   <span style=\"color: #008080; text-decoration-color: #008080\">a47c0-b196-47d6-aaf1-c482c58e7fb3.root</span>\n",
       "    ├── <span style=\"color: #008080; text-decoration-color: #008080\">root://dcache-cms-xrootd.desy.de:1094//store/mc/Run3Summer23BPixNanoAODv12/SlepSnuCascade_MN1-270_MN2-280_M</span>\n",
       "    │   <span style=\"color: #008080; text-decoration-color: #008080\">C1-275_TuneCP5_13p6TeV_madgraphMLM-pythia8/NANOAODSIM/130X_mcRun3_2023_realistic_postBPix_v6-v3/2530000/1b4</span>\n",
       "    │   <span style=\"color: #008080; text-decoration-color: #008080\">8e487-da20-4894-b8f6-03a65e07c682.root</span>\n",
       "    ├── <span style=\"color: #008080; text-decoration-color: #008080\">root://dcache-cms-xrootd.desy.de:1094//store/mc/Run3Summer23BPixNanoAODv12/SlepSnuCascade_MN1-270_MN2-280_M</span>\n",
       "    │   <span style=\"color: #008080; text-decoration-color: #008080\">C1-275_TuneCP5_13p6TeV_madgraphMLM-pythia8/NANOAODSIM/130X_mcRun3_2023_realistic_postBPix_v6-v3/2530000/25d</span>\n",
       "    │   <span style=\"color: #008080; text-decoration-color: #008080\">a9226-6708-479f-888f-dccb550b2f00.root</span>\n",
       "    ├── <span style=\"color: #008080; text-decoration-color: #008080\">root://dcache-cms-xrootd.desy.de:1094//store/mc/Run3Summer23BPixNanoAODv12/SlepSnuCascade_MN1-270_MN2-280_M</span>\n",
       "    │   <span style=\"color: #008080; text-decoration-color: #008080\">C1-275_TuneCP5_13p6TeV_madgraphMLM-pythia8/NANOAODSIM/130X_mcRun3_2023_realistic_postBPix_v6-v3/2530000/36c</span>\n",
       "    │   <span style=\"color: #008080; text-decoration-color: #008080\">c4051-4e1f-4a9c-a793-7130d67e55c9.root</span>\n",
       "    ├── <span style=\"color: #008080; text-decoration-color: #008080\">root://dcache-cms-xrootd.desy.de:1094//store/mc/Run3Summer23BPixNanoAODv12/SlepSnuCascade_MN1-270_MN2-280_M</span>\n",
       "    │   <span style=\"color: #008080; text-decoration-color: #008080\">C1-275_TuneCP5_13p6TeV_madgraphMLM-pythia8/NANOAODSIM/130X_mcRun3_2023_realistic_postBPix_v6-v3/2530000/3fc</span>\n",
       "    │   <span style=\"color: #008080; text-decoration-color: #008080\">4792a-98ef-4ee4-ad52-2ef45fdad2ae.root</span>\n",
       "    ├── <span style=\"color: #008080; text-decoration-color: #008080\">root://dcache-cms-xrootd.desy.de:1094//store/mc/Run3Summer23BPixNanoAODv12/SlepSnuCascade_MN1-270_MN2-280_M</span>\n",
       "    │   <span style=\"color: #008080; text-decoration-color: #008080\">C1-275_TuneCP5_13p6TeV_madgraphMLM-pythia8/NANOAODSIM/130X_mcRun3_2023_realistic_postBPix_v6-v3/2530000/401</span>\n",
       "    │   <span style=\"color: #008080; text-decoration-color: #008080\">34c6c-2296-49a8-8473-c49a5ca39a99.root</span>\n",
       "    ├── <span style=\"color: #008080; text-decoration-color: #008080\">root://dcache-cms-xrootd.desy.de:1094//store/mc/Run3Summer23BPixNanoAODv12/SlepSnuCascade_MN1-270_MN2-280_M</span>\n",
       "    │   <span style=\"color: #008080; text-decoration-color: #008080\">C1-275_TuneCP5_13p6TeV_madgraphMLM-pythia8/NANOAODSIM/130X_mcRun3_2023_realistic_postBPix_v6-v3/2530000/43a</span>\n",
       "    │   <span style=\"color: #008080; text-decoration-color: #008080\">03ae0-8764-4e18-9473-e4d5b2ce5b3e.root</span>\n",
       "    ├── <span style=\"color: #008080; text-decoration-color: #008080\">root://dcache-cms-xrootd.desy.de:1094//store/mc/Run3Summer23BPixNanoAODv12/SlepSnuCascade_MN1-270_MN2-280_M</span>\n",
       "    │   <span style=\"color: #008080; text-decoration-color: #008080\">C1-275_TuneCP5_13p6TeV_madgraphMLM-pythia8/NANOAODSIM/130X_mcRun3_2023_realistic_postBPix_v6-v3/2530000/74c</span>\n",
       "    │   <span style=\"color: #008080; text-decoration-color: #008080\">b0109-f18a-467c-903b-9fec55026124.root</span>\n",
       "    ├── <span style=\"color: #008080; text-decoration-color: #008080\">root://dcache-cms-xrootd.desy.de:1094//store/mc/Run3Summer23BPixNanoAODv12/SlepSnuCascade_MN1-270_MN2-280_M</span>\n",
       "    │   <span style=\"color: #008080; text-decoration-color: #008080\">C1-275_TuneCP5_13p6TeV_madgraphMLM-pythia8/NANOAODSIM/130X_mcRun3_2023_realistic_postBPix_v6-v3/2530000/9d5</span>\n",
       "    │   <span style=\"color: #008080; text-decoration-color: #008080\">bb43f-8865-4736-8140-cc9448b521d1.root</span>\n",
       "    ├── <span style=\"color: #008080; text-decoration-color: #008080\">root://dcache-cms-xrootd.desy.de:1094//store/mc/Run3Summer23BPixNanoAODv12/SlepSnuCascade_MN1-270_MN2-280_M</span>\n",
       "    │   <span style=\"color: #008080; text-decoration-color: #008080\">C1-275_TuneCP5_13p6TeV_madgraphMLM-pythia8/NANOAODSIM/130X_mcRun3_2023_realistic_postBPix_v6-v3/2530000/a00</span>\n",
       "    │   <span style=\"color: #008080; text-decoration-color: #008080\">466ab-68f5-400b-b4c5-f088994049d9.root</span>\n",
       "    ├── <span style=\"color: #008080; text-decoration-color: #008080\">root://dcache-cms-xrootd.desy.de:1094//store/mc/Run3Summer23BPixNanoAODv12/SlepSnuCascade_MN1-270_MN2-280_M</span>\n",
       "    │   <span style=\"color: #008080; text-decoration-color: #008080\">C1-275_TuneCP5_13p6TeV_madgraphMLM-pythia8/NANOAODSIM/130X_mcRun3_2023_realistic_postBPix_v6-v3/2530000/a2d</span>\n",
       "    │   <span style=\"color: #008080; text-decoration-color: #008080\">8829f-8d72-476f-b468-5939df3918b8.root</span>\n",
       "    ├── <span style=\"color: #008080; text-decoration-color: #008080\">root://dcache-cms-xrootd.desy.de:1094//store/mc/Run3Summer23BPixNanoAODv12/SlepSnuCascade_MN1-270_MN2-280_M</span>\n",
       "    │   <span style=\"color: #008080; text-decoration-color: #008080\">C1-275_TuneCP5_13p6TeV_madgraphMLM-pythia8/NANOAODSIM/130X_mcRun3_2023_realistic_postBPix_v6-v3/2530000/bc6</span>\n",
       "    │   <span style=\"color: #008080; text-decoration-color: #008080\">17c28-893d-4204-8273-fe0ed7e8f143.root</span>\n",
       "    ├── <span style=\"color: #008080; text-decoration-color: #008080\">root://dcache-cms-xrootd.desy.de:1094//store/mc/Run3Summer23BPixNanoAODv12/SlepSnuCascade_MN1-270_MN2-280_M</span>\n",
       "    │   <span style=\"color: #008080; text-decoration-color: #008080\">C1-275_TuneCP5_13p6TeV_madgraphMLM-pythia8/NANOAODSIM/130X_mcRun3_2023_realistic_postBPix_v6-v3/2530000/d9e</span>\n",
       "    │   <span style=\"color: #008080; text-decoration-color: #008080\">85cdd-50cf-4144-8d81-85dc4c341c76.root</span>\n",
       "    ├── <span style=\"color: #008080; text-decoration-color: #008080\">root://dcache-cms-xrootd.desy.de:1094//store/mc/Run3Summer23BPixNanoAODv12/SlepSnuCascade_MN1-270_MN2-280_M</span>\n",
       "    │   <span style=\"color: #008080; text-decoration-color: #008080\">C1-275_TuneCP5_13p6TeV_madgraphMLM-pythia8/NANOAODSIM/130X_mcRun3_2023_realistic_postBPix_v6-v3/2530000/e3f</span>\n",
       "    │   <span style=\"color: #008080; text-decoration-color: #008080\">98444-3de4-4c49-bcf9-3e5e9ba825e5.root</span>\n",
       "    ├── <span style=\"color: #008080; text-decoration-color: #008080\">root://dcache-cms-xrootd.desy.de:1094//store/mc/Run3Summer23BPixNanoAODv12/SlepSnuCascade_MN1-270_MN2-280_M</span>\n",
       "    │   <span style=\"color: #008080; text-decoration-color: #008080\">C1-275_TuneCP5_13p6TeV_madgraphMLM-pythia8/NANOAODSIM/130X_mcRun3_2023_realistic_postBPix_v6-v3/2530000/ebb</span>\n",
       "    │   <span style=\"color: #008080; text-decoration-color: #008080\">35a9e-c049-4414-a126-46cf7f414be0.root</span>\n",
       "    ├── <span style=\"color: #008080; text-decoration-color: #008080\">root://dcache-cms-xrootd.desy.de:1094//store/mc/Run3Summer23BPixNanoAODv12/SlepSnuCascade_MN1-270_MN2-280_M</span>\n",
       "    │   <span style=\"color: #008080; text-decoration-color: #008080\">C1-275_TuneCP5_13p6TeV_madgraphMLM-pythia8/NANOAODSIM/130X_mcRun3_2023_realistic_postBPix_v6-v3/2530000/ee2</span>\n",
       "    │   <span style=\"color: #008080; text-decoration-color: #008080\">dca10-4a75-46a9-bf87-fe6c6bb05400.root</span>\n",
       "    └── <span style=\"color: #008080; text-decoration-color: #008080\">root://dcache-cms-xrootd.desy.de:1094//store/mc/Run3Summer23BPixNanoAODv12/SlepSnuCascade_MN1-270_MN2-280_M</span>\n",
       "        <span style=\"color: #008080; text-decoration-color: #008080\">C1-275_TuneCP5_13p6TeV_madgraphMLM-pythia8/NANOAODSIM/130X_mcRun3_2023_realistic_postBPix_v6-v3/2530000/fbd</span>\n",
       "        <span style=\"color: #008080; text-decoration-color: #008080\">6ceb4-ab93-461c-8eb6-7a390df211c3.root</span>\n",
       "</pre>\n"
      ],
      "text/plain": [
       "Replicas for \n",
       "\u001b[32m/SlepSnuCascade_MN1-270_MN2-280_MC1-275_TuneCP5_13p6TeV_madgraphMLM-pythia8/Run3Summer23BPixNanoAODv12-130X_mcRun3_\u001b[0m\n",
       "\u001b[32m2023_realistic_postBPix_v6-v3/NANOAODSIM\u001b[0m\n",
       "└── \u001b[32mT2_DE_DESY\u001b[0m\n",
       "    ├── \u001b[36mroot://dcache-cms-xrootd.desy.de:1094//store/mc/Run3Summer23BPixNanoAODv12/SlepSnuCascade_MN1-270_MN2-280_M\u001b[0m\n",
       "    │   \u001b[36mC1-275_TuneCP5_13p6TeV_madgraphMLM-pythia8/NANOAODSIM/130X_mcRun3_2023_realistic_postBPix_v6-v3/2530000/014\u001b[0m\n",
       "    │   \u001b[36ma47c0-b196-47d6-aaf1-c482c58e7fb3.root\u001b[0m\n",
       "    ├── \u001b[36mroot://dcache-cms-xrootd.desy.de:1094//store/mc/Run3Summer23BPixNanoAODv12/SlepSnuCascade_MN1-270_MN2-280_M\u001b[0m\n",
       "    │   \u001b[36mC1-275_TuneCP5_13p6TeV_madgraphMLM-pythia8/NANOAODSIM/130X_mcRun3_2023_realistic_postBPix_v6-v3/2530000/1b4\u001b[0m\n",
       "    │   \u001b[36m8e487-da20-4894-b8f6-03a65e07c682.root\u001b[0m\n",
       "    ├── \u001b[36mroot://dcache-cms-xrootd.desy.de:1094//store/mc/Run3Summer23BPixNanoAODv12/SlepSnuCascade_MN1-270_MN2-280_M\u001b[0m\n",
       "    │   \u001b[36mC1-275_TuneCP5_13p6TeV_madgraphMLM-pythia8/NANOAODSIM/130X_mcRun3_2023_realistic_postBPix_v6-v3/2530000/25d\u001b[0m\n",
       "    │   \u001b[36ma9226-6708-479f-888f-dccb550b2f00.root\u001b[0m\n",
       "    ├── \u001b[36mroot://dcache-cms-xrootd.desy.de:1094//store/mc/Run3Summer23BPixNanoAODv12/SlepSnuCascade_MN1-270_MN2-280_M\u001b[0m\n",
       "    │   \u001b[36mC1-275_TuneCP5_13p6TeV_madgraphMLM-pythia8/NANOAODSIM/130X_mcRun3_2023_realistic_postBPix_v6-v3/2530000/36c\u001b[0m\n",
       "    │   \u001b[36mc4051-4e1f-4a9c-a793-7130d67e55c9.root\u001b[0m\n",
       "    ├── \u001b[36mroot://dcache-cms-xrootd.desy.de:1094//store/mc/Run3Summer23BPixNanoAODv12/SlepSnuCascade_MN1-270_MN2-280_M\u001b[0m\n",
       "    │   \u001b[36mC1-275_TuneCP5_13p6TeV_madgraphMLM-pythia8/NANOAODSIM/130X_mcRun3_2023_realistic_postBPix_v6-v3/2530000/3fc\u001b[0m\n",
       "    │   \u001b[36m4792a-98ef-4ee4-ad52-2ef45fdad2ae.root\u001b[0m\n",
       "    ├── \u001b[36mroot://dcache-cms-xrootd.desy.de:1094//store/mc/Run3Summer23BPixNanoAODv12/SlepSnuCascade_MN1-270_MN2-280_M\u001b[0m\n",
       "    │   \u001b[36mC1-275_TuneCP5_13p6TeV_madgraphMLM-pythia8/NANOAODSIM/130X_mcRun3_2023_realistic_postBPix_v6-v3/2530000/401\u001b[0m\n",
       "    │   \u001b[36m34c6c-2296-49a8-8473-c49a5ca39a99.root\u001b[0m\n",
       "    ├── \u001b[36mroot://dcache-cms-xrootd.desy.de:1094//store/mc/Run3Summer23BPixNanoAODv12/SlepSnuCascade_MN1-270_MN2-280_M\u001b[0m\n",
       "    │   \u001b[36mC1-275_TuneCP5_13p6TeV_madgraphMLM-pythia8/NANOAODSIM/130X_mcRun3_2023_realistic_postBPix_v6-v3/2530000/43a\u001b[0m\n",
       "    │   \u001b[36m03ae0-8764-4e18-9473-e4d5b2ce5b3e.root\u001b[0m\n",
       "    ├── \u001b[36mroot://dcache-cms-xrootd.desy.de:1094//store/mc/Run3Summer23BPixNanoAODv12/SlepSnuCascade_MN1-270_MN2-280_M\u001b[0m\n",
       "    │   \u001b[36mC1-275_TuneCP5_13p6TeV_madgraphMLM-pythia8/NANOAODSIM/130X_mcRun3_2023_realistic_postBPix_v6-v3/2530000/74c\u001b[0m\n",
       "    │   \u001b[36mb0109-f18a-467c-903b-9fec55026124.root\u001b[0m\n",
       "    ├── \u001b[36mroot://dcache-cms-xrootd.desy.de:1094//store/mc/Run3Summer23BPixNanoAODv12/SlepSnuCascade_MN1-270_MN2-280_M\u001b[0m\n",
       "    │   \u001b[36mC1-275_TuneCP5_13p6TeV_madgraphMLM-pythia8/NANOAODSIM/130X_mcRun3_2023_realistic_postBPix_v6-v3/2530000/9d5\u001b[0m\n",
       "    │   \u001b[36mbb43f-8865-4736-8140-cc9448b521d1.root\u001b[0m\n",
       "    ├── \u001b[36mroot://dcache-cms-xrootd.desy.de:1094//store/mc/Run3Summer23BPixNanoAODv12/SlepSnuCascade_MN1-270_MN2-280_M\u001b[0m\n",
       "    │   \u001b[36mC1-275_TuneCP5_13p6TeV_madgraphMLM-pythia8/NANOAODSIM/130X_mcRun3_2023_realistic_postBPix_v6-v3/2530000/a00\u001b[0m\n",
       "    │   \u001b[36m466ab-68f5-400b-b4c5-f088994049d9.root\u001b[0m\n",
       "    ├── \u001b[36mroot://dcache-cms-xrootd.desy.de:1094//store/mc/Run3Summer23BPixNanoAODv12/SlepSnuCascade_MN1-270_MN2-280_M\u001b[0m\n",
       "    │   \u001b[36mC1-275_TuneCP5_13p6TeV_madgraphMLM-pythia8/NANOAODSIM/130X_mcRun3_2023_realistic_postBPix_v6-v3/2530000/a2d\u001b[0m\n",
       "    │   \u001b[36m8829f-8d72-476f-b468-5939df3918b8.root\u001b[0m\n",
       "    ├── \u001b[36mroot://dcache-cms-xrootd.desy.de:1094//store/mc/Run3Summer23BPixNanoAODv12/SlepSnuCascade_MN1-270_MN2-280_M\u001b[0m\n",
       "    │   \u001b[36mC1-275_TuneCP5_13p6TeV_madgraphMLM-pythia8/NANOAODSIM/130X_mcRun3_2023_realistic_postBPix_v6-v3/2530000/bc6\u001b[0m\n",
       "    │   \u001b[36m17c28-893d-4204-8273-fe0ed7e8f143.root\u001b[0m\n",
       "    ├── \u001b[36mroot://dcache-cms-xrootd.desy.de:1094//store/mc/Run3Summer23BPixNanoAODv12/SlepSnuCascade_MN1-270_MN2-280_M\u001b[0m\n",
       "    │   \u001b[36mC1-275_TuneCP5_13p6TeV_madgraphMLM-pythia8/NANOAODSIM/130X_mcRun3_2023_realistic_postBPix_v6-v3/2530000/d9e\u001b[0m\n",
       "    │   \u001b[36m85cdd-50cf-4144-8d81-85dc4c341c76.root\u001b[0m\n",
       "    ├── \u001b[36mroot://dcache-cms-xrootd.desy.de:1094//store/mc/Run3Summer23BPixNanoAODv12/SlepSnuCascade_MN1-270_MN2-280_M\u001b[0m\n",
       "    │   \u001b[36mC1-275_TuneCP5_13p6TeV_madgraphMLM-pythia8/NANOAODSIM/130X_mcRun3_2023_realistic_postBPix_v6-v3/2530000/e3f\u001b[0m\n",
       "    │   \u001b[36m98444-3de4-4c49-bcf9-3e5e9ba825e5.root\u001b[0m\n",
       "    ├── \u001b[36mroot://dcache-cms-xrootd.desy.de:1094//store/mc/Run3Summer23BPixNanoAODv12/SlepSnuCascade_MN1-270_MN2-280_M\u001b[0m\n",
       "    │   \u001b[36mC1-275_TuneCP5_13p6TeV_madgraphMLM-pythia8/NANOAODSIM/130X_mcRun3_2023_realistic_postBPix_v6-v3/2530000/ebb\u001b[0m\n",
       "    │   \u001b[36m35a9e-c049-4414-a126-46cf7f414be0.root\u001b[0m\n",
       "    ├── \u001b[36mroot://dcache-cms-xrootd.desy.de:1094//store/mc/Run3Summer23BPixNanoAODv12/SlepSnuCascade_MN1-270_MN2-280_M\u001b[0m\n",
       "    │   \u001b[36mC1-275_TuneCP5_13p6TeV_madgraphMLM-pythia8/NANOAODSIM/130X_mcRun3_2023_realistic_postBPix_v6-v3/2530000/ee2\u001b[0m\n",
       "    │   \u001b[36mdca10-4a75-46a9-bf87-fe6c6bb05400.root\u001b[0m\n",
       "    └── \u001b[36mroot://dcache-cms-xrootd.desy.de:1094//store/mc/Run3Summer23BPixNanoAODv12/SlepSnuCascade_MN1-270_MN2-280_M\u001b[0m\n",
       "        \u001b[36mC1-275_TuneCP5_13p6TeV_madgraphMLM-pythia8/NANOAODSIM/130X_mcRun3_2023_realistic_postBPix_v6-v3/2530000/fbd\u001b[0m\n",
       "        \u001b[36m6ceb4-ab93-461c-8eb6-7a390df211c3.root\u001b[0m\n"
      ]
     },
     "metadata": {},
     "output_type": "display_data"
    },
    {
     "data": {
      "application/vnd.jupyter.widget-view+json": {
       "model_id": "cf80a0a98ed042d4bd38f3d65d43230c",
       "version_major": 2,
       "version_minor": 0
      },
      "text/plain": [
       "Output()"
      ]
     },
     "metadata": {},
     "output_type": "display_data"
    },
    {
     "data": {
      "text/html": [
       "<pre style=\"white-space:pre;overflow-x:auto;line-height:normal;font-family:Menlo,'DejaVu Sans Mono',consolas,'Courier New',monospace\"></pre>\n"
      ],
      "text/plain": []
     },
     "metadata": {},
     "output_type": "display_data"
    },
    {
     "data": {
      "text/html": [
       "<pre style=\"white-space:pre;overflow-x:auto;line-height:normal;font-family:Menlo,'DejaVu Sans Mono',consolas,'Courier New',monospace\">Saved available fileset chunks to preprocessed/2023_SlepSnu_MN1_270_100000_preprocessed_available.json.gz\n",
       "</pre>\n"
      ],
      "text/plain": [
       "Saved available fileset chunks to preprocessed/2023_SlepSnu_MN1_270_100000_preprocessed_available.json.gz\n"
      ]
     },
     "metadata": {},
     "output_type": "display_data"
    },
    {
     "data": {
      "text/html": [
       "<pre style=\"white-space:pre;overflow-x:auto;line-height:normal;font-family:Menlo,'DejaVu Sans Mono',consolas,'Courier New',monospace\">Saved all fileset chunks to preprocessed/2023_SlepSnu_MN1_270_100000_preprocessed_all.json.gz\n",
       "</pre>\n"
      ],
      "text/plain": [
       "Saved all fileset chunks to preprocessed/2023_SlepSnu_MN1_270_100000_preprocessed_all.json.gz\n"
      ]
     },
     "metadata": {},
     "output_type": "display_data"
    }
   ],
   "source": [
    "# BEFORE RUNNING: Must initiate proxy in terminal with voms-proxy-init -voms cms -rfc --valid 168:0\n",
    "# We will start this tool with a simple import of the datasets.json:\n",
    "\n",
    "import json\n",
    "\n",
    "from coffea.dataset_tools import rucio_utils\n",
    "from coffea.dataset_tools.dataset_query import print_dataset_query\n",
    "from rich.console import Console\n",
    "from coffea.dataset_tools.dataset_query import DataDiscoveryCLI\n",
    "\n",
    "\n",
    "\n",
    "#with open(\"datasets.json\", \"r\") as file:\n",
    "with open(\"SlepSnu_270.json\", \"r\") as file:\n",
    "    datasets = json.load(file)\n",
    "\n",
    "for year, samples in datasets.items():\n",
    "    for metadata in samples.values():\n",
    "        print(metadata[\"DAS_path\"])\n",
    "    \n",
    "chunk_size = 100000\n",
    "\n",
    "for year, sample in datasets.items():\n",
    "    for sample_name, metadata in sample.items():  # Extract sample_name properly\n",
    "        file_name = f\"preprocessed/{year}_{sample_name}_{str(chunk_size)}_preprocessed\"  # Corrected filename\n",
    "        DAS_path = metadata[\"DAS_path\"]\n",
    "        ddc = DataDiscoveryCLI()\n",
    "        ddc.do_query(DAS_path)\n",
    "        ddc.do_select(\"all\")\n",
    "        ddc.do_list_selected()\n",
    "        #ddc.do_regex_sites(r\"T[12]_(US)_\\w+\")\n",
    "        ddc.do_replicas(\"first\", \"all\")\n",
    "        \n",
    "        fileset_total = ddc.do_preprocess(output_file=file_name,\n",
    "            step_size = chunk_size,  #chunk size for files splitting\n",
    "            align_to_clusters=False,\n",
    "            recalculate_steps=False,\n",
    "            files_per_batch=1,\n",
    "            save_form=True,\n",
    "            #scheduler_url=None\n",
    "            scheduler_url=\"tls://localhost:8786\")\n"
   ]
  },
  {
   "cell_type": "code",
   "execution_count": null,
   "id": "ae13cfe8-1355-4069-84df-f71ffc7c9a9d",
   "metadata": {},
   "outputs": [],
   "source": []
  }
 ],
 "metadata": {
  "kernelspec": {
   "display_name": "Python 3 (ipykernel)",
   "language": "python",
   "name": "python3"
  },
  "language_info": {
   "codemirror_mode": {
    "name": "ipython",
    "version": 3
   },
   "file_extension": ".py",
   "mimetype": "text/x-python",
   "name": "python",
   "nbconvert_exporter": "python",
   "pygments_lexer": "ipython3",
   "version": "3.12.5"
  }
 },
 "nbformat": 4,
 "nbformat_minor": 5
}
