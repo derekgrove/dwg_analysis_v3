{
 "cells": [
  {
   "cell_type": "code",
   "execution_count": 1,
   "id": "97439d80-1e03-42af-b36e-55f4cb5e5747",
   "metadata": {},
   "outputs": [
    {
     "name": "stderr",
     "output_type": "stream",
     "text": [
      "/usr/local/lib/python3.12/site-packages/coffea/nanoevents/schemas/fcc.py:5: FutureWarning: In version 2025.1.0 (target date: 2024-12-31 11:59:59-06:00), this will be an error.\n",
      "To raise these warnings as errors (and get stack traces to find out where they're called), run\n",
      "    import warnings\n",
      "    warnings.filterwarnings(\"error\", module=\"coffea.*\")\n",
      "after the first `import coffea` or use `@pytest.mark.filterwarnings(\"error:::coffea.*\")` in pytest.\n",
      "Issue: coffea.nanoevents.methods.vector will be removed and replaced with scikit-hep vector. Nanoevents schemas internal to coffea will be migrated. Otherwise please consider using that package!.\n",
      "  from coffea.nanoevents.methods import vector\n"
     ]
    }
   ],
   "source": [
    "from coffea.nanoevents import NanoAODSchema\n",
    "from coffea.dataset_tools import apply_to_fileset, max_chunks, max_files, preprocess\n",
    "\n",
    "import dask\n",
    "\n",
    "from test_processor import TestProcessor\n",
    "\n",
    "from analysis_tools.plotting.make_hist import (\n",
    "make_1d_hist, make_2d_hist\n",
    ")\n",
    "\n",
    "from dask.distributed import Client"
   ]
  },
  {
   "cell_type": "code",
   "execution_count": 2,
   "id": "1d10c30a-4733-42cd-b5c1-974ac51ea6e5",
   "metadata": {},
   "outputs": [],
   "source": [
    "import gzip\n",
    "import json\n",
    "import os\n",
    "\n",
    "# Define the base directory where the preprocessed files are stored (preprocessed files point to sample on DAS and define slicing of root files by event (chunks)\n",
    "base_dir = \"/home/cms-jovyan/dwg_analysis/tools/preprocessing/preprocessed\"\n",
    "sample = \"2023_SlepSnu_MN1_220_100000_preprocessed_available.json.gz\" # These preprocessed files are generated one time in advance, stored until needed now in analysis\n",
    "file_path = os.path.join(base_dir, sample)\n",
    "\n",
    "\n",
    "with gzip.open(file_path, \"rt\") as file:\n",
    "    preprocessed_available = json.load(file)\n"
   ]
  },
  {
   "cell_type": "code",
   "execution_count": 3,
   "id": "4067aff0-5bab-4ec7-b522-aa7c34c24a08",
   "metadata": {},
   "outputs": [],
   "source": [
    "#client = Client(\"tls://localhost:8786\")\n",
    "#client"
   ]
  },
  {
   "cell_type": "code",
   "execution_count": 4,
   "id": "e9509a6f-8589-4b94-ad2e-e4f7d9817c03",
   "metadata": {},
   "outputs": [],
   "source": [
    "### SWITCH HERE ###\n",
    "\n",
    "reduced_computation = True\n",
    "\n",
    "num_files = 5 # number of root files from DAS to run over\n",
    "num_chunks = 5# number of events (chunks) per root file to run over (chunksize set during preprocessing, my default is 1 chunk = 100,000 events)\n",
    "\n",
    "###################"
   ]
  },
  {
   "cell_type": "code",
   "execution_count": 5,
   "id": "699cb608-761b-416d-8eca-2297649d07bc",
   "metadata": {},
   "outputs": [],
   "source": [
    "if reduced_computation:\n",
    "    \n",
    "    test_preprocessed_files = max_files(preprocessed_available, num_files)\n",
    "    test_preprocessed = max_chunks(test_preprocessed_files, num_chunks)\n",
    "\n",
    "    small_tg, small_rep = apply_to_fileset(\n",
    "        data_manipulation=TestProcessor(),\n",
    "        fileset=test_preprocessed,\n",
    "        schemaclass=NanoAODSchema,\n",
    "        uproot_options={\"allow_read_errors_with_report\": (OSError, KeyError)},\n",
    "    )\n",
    "    computed, rep = dask.compute(small_tg, small_rep)\n",
    "\n",
    "    \n",
    "else:\n",
    "    full_tg, full_rep = apply_to_fileset(\n",
    "        data_manipulation=TestProcessor(),\n",
    "        fileset=preprocessed_available,\n",
    "        schemaclass=NanoAODSchema,\n",
    "        uproot_options={\"allow_read_errors_with_report\": (OSError, KeyError)},\n",
    "    )\n",
    "    computed, rep = dask.compute(full_tg, full_rep)\n"
   ]
  },
  {
   "cell_type": "code",
   "execution_count": 12,
   "id": "78e419d9-5e55-4e83-834d-53bb0aea7f05",
   "metadata": {},
   "outputs": [
    {
     "data": {
      "text/plain": [
       "dict_keys(['/SlepSnuCascade_MN1-220_MN2-260_MC1-240_TuneCP5_13p6TeV_madgraphMLM-pythia8/Run3Summer23BPixNanoAODv12-130X_mcRun3_2023_realistic_postBPix_v6-v3/NANOAODSIM'])"
      ]
     },
     "execution_count": 12,
     "metadata": {},
     "output_type": "execute_result"
    }
   ],
   "source": [
    "computed.keys()"
   ]
  },
  {
   "cell_type": "code",
   "execution_count": 18,
   "id": "d1ed4351-b219-4502-be24-b3b0a65ba53d",
   "metadata": {},
   "outputs": [
    {
     "data": {
      "text/plain": [
       "'/SlepSnuCascade_MN1-220_MN2-260_MC1-240_TuneCP5_13p6TeV_madgraphMLM-pythia8/Run3Summer23BPixNanoAODv12-130X_mcRun3_2023_realistic_postBPix_v6-v3/NANOAODSIM'"
      ]
     },
     "execution_count": 18,
     "metadata": {},
     "output_type": "execute_result"
    }
   ],
   "source": [
    "sample_name = next(iter(computed))\n",
    "sample_name "
   ]
  },
  {
   "cell_type": "code",
   "execution_count": 19,
   "id": "d79a0eb6-ced2-42a2-bb4b-5efc767f62bf",
   "metadata": {},
   "outputs": [],
   "source": [
    "results = computed[sample_name]"
   ]
  },
  {
   "cell_type": "code",
   "execution_count": 20,
   "id": "7d3037a0-1887-4b45-8b10-fb98c4c8533a",
   "metadata": {},
   "outputs": [
    {
     "data": {
      "text/plain": [
       "{}"
      ]
     },
     "execution_count": 20,
     "metadata": {},
     "output_type": "execute_result"
    }
   ],
   "source": [
    "results #did this to get in front of the massive sample name, work with the results dictionary from here forward for simplicity"
   ]
  },
  {
   "cell_type": "code",
   "execution_count": null,
   "id": "000c9f72-2312-43e5-b677-8e288dc32abd",
   "metadata": {},
   "outputs": [],
   "source": []
  },
  {
   "cell_type": "code",
   "execution_count": null,
   "id": "ba334049-b076-4770-9000-ca431f668390",
   "metadata": {},
   "outputs": [],
   "source": []
  },
  {
   "cell_type": "code",
   "execution_count": null,
   "id": "0fe469e7-cf96-4018-b386-0ebd9a218db4",
   "metadata": {},
   "outputs": [],
   "source": []
  }
 ],
 "metadata": {
  "kernelspec": {
   "display_name": "Python 3 (ipykernel)",
   "language": "python",
   "name": "python3"
  },
  "language_info": {
   "codemirror_mode": {
    "name": "ipython",
    "version": 3
   },
   "file_extension": ".py",
   "mimetype": "text/x-python",
   "name": "python",
   "nbconvert_exporter": "python",
   "pygments_lexer": "ipython3",
   "version": "3.12.5"
  }
 },
 "nbformat": 4,
 "nbformat_minor": 5
}
