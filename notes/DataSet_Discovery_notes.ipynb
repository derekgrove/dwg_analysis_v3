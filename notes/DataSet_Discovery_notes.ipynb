{
 "cells": [
  {
   "cell_type": "markdown",
   "id": "4146e972-c9ff-4459-ac2d-77bca24f0838",
   "metadata": {},
   "source": [
    "# Notes on DataSet Discovery in Coffea 2024.8.1"
   ]
  },
  {
   "cell_type": "markdown",
   "id": "b9933c40-fe54-4349-8dea-75e0e305640f",
   "metadata": {},
   "source": [
    "### To do analysis we are often needing to use simulated (Monte Carlo, \"MC\" for short) data, its crucial for building our analysis tools before we go and apply to real collision data. We generate a ton of these simulated events as MC data and these massive data sets (Terabytes in size) are split into fractional .root files and stored all across the world at various computing facilities. The quality of these facilities is [tiered](https://cms.cern/detector/computing-grid) from 0 to 3, which has some implications for the availability of these files. Not too important at the moment.\n",
    "\n",
    "### Querying datasets and finding the right kind of MC events for a specific analysis is quite a chore sometimes. [CMS DAS]()"
   ]
  },
  {
   "cell_type": "markdown",
   "id": "8c15643f-1e67-4ff6-ab1e-d94d6c7b2b52",
   "metadata": {},
   "source": [
    "### Searching for data sets can be sped up by using the `coffea.dataset_tools`, which are not in the `coffea` so they must be explicity imported like: `from coffea.dataset_tools.dataset_query import DataDiscoveryCLI` or whatever other tool you'd like to use from the package. In this example, the *DataDiscoveryCLI* tool will be used to interactively search for data samples. It can be used to search for MC or collision data since it uses rucio to query grid sites."
   ]
  },
  {
   "cell_type": "markdown",
   "id": "a8725271-2f81-4395-92e8-a5e297f881bc",
   "metadata": {},
   "source": [
    "#### Here is a basic example: "
   ]
  },
  {
   "cell_type": "code",
   "execution_count": 1,
   "id": "aae3a6ea-fddc-40f4-9ed6-f0e7bd247505",
   "metadata": {
    "tags": []
   },
   "outputs": [
    {
     "data": {
      "text/plain": [
       "'2024.8.1'"
      ]
     },
     "execution_count": 1,
     "metadata": {},
     "output_type": "execute_result"
    }
   ],
   "source": [
    "import coffea\n",
    "coffea.__version__"
   ]
  },
  {
   "cell_type": "code",
   "execution_count": 2,
   "id": "dcbb9851-4a84-4648-9b2d-24a7a06909b2",
   "metadata": {
    "tags": []
   },
   "outputs": [
    {
     "name": "stderr",
     "output_type": "stream",
     "text": [
      "/usr/local/lib/python3.10/site-packages/pandas/core/computation/expressions.py:21: UserWarning: Pandas requires version '2.8.4' or newer of 'numexpr' (version '2.7.3' currently installed).\n",
      "  from pandas.core.computation.check import NUMEXPR_INSTALLED\n"
     ]
    },
    {
     "data": {
      "application/vnd.jupyter.widget-view+json": {
       "model_id": "",
       "version_major": 2,
       "version_minor": 0
      },
      "text/plain": [
       "Output()"
      ]
     },
     "metadata": {},
     "output_type": "display_data"
    },
    {
     "data": {
      "text/html": [
       "<pre style=\"white-space:pre;overflow-x:auto;line-height:normal;font-family:Menlo,'DejaVu Sans Mono',consolas,'Courier New',monospace\"><span style=\"font-style: italic\">                                              Query: </span><span style=\"color: #800000; text-decoration-color: #800000; font-weight: bold; font-style: italic\">/SlepSnuCascade*</span><span style=\"font-style: italic\">                                              </span>\n",
       "┏━━━━━━━━━━━━━━━━━━━━━━━━━━━━━━━━━━━━━━━━━━━━━━━━━━┳━━━━━━━━━━━━━━━━━━━━━━━━━━━━━━━━━━━━━━━━━━━━━━━━━━━━━━━━━━━━━┳┓\n",
       "┃<span style=\"font-weight: bold\"> Name                                             </span>┃<span style=\"font-weight: bold\"> Tag                                                         </span>┃<span style=\"font-weight: bold\"></span>┃\n",
       "┡━━━━━━━━━━━━━━━━━━━━━━━━━━━━━━━━━━━━━━━━━━━━━━━━━━╇━━━━━━━━━━━━━━━━━━━━━━━━━━━━━━━━━━━━━━━━━━━━━━━━━━━━━━━━━━━━━╇┩\n",
       "│<span style=\"color: #7fbfbf; text-decoration-color: #7fbfbf\"> SlepSnuCascade_MN1-220_MN2-260_MC1-240_TuneCP5_… </span>│<span style=\"color: #bf7fbf; text-decoration-color: #bf7fbf\"> </span><span style=\"color: #bf7fbf; text-decoration-color: #bf7fbf; font-weight: bold\">(1)</span><span style=\"color: #bf7fbf; text-decoration-color: #bf7fbf\"> Run3Summer23BPixDRPremix-130X_mcRun3_2023_realistic_po… </span>│<span style=\"color: #7f7f7f; text-decoration-color: #7f7f7f\"></span>│\n",
       "│<span style=\"color: #008080; text-decoration-color: #008080\">                                                  </span>│<span style=\"color: #800080; text-decoration-color: #800080\"> </span><span style=\"color: #800080; text-decoration-color: #800080; font-weight: bold\">(2)</span><span style=\"color: #800080; text-decoration-color: #800080\"> Run3Summer23BPixDRPremix-130X_mcRun3_2023_realistic_po… </span>││\n",
       "│<span style=\"color: #7fbfbf; text-decoration-color: #7fbfbf\">                                                  </span>│<span style=\"color: #bf7fbf; text-decoration-color: #bf7fbf\"> </span><span style=\"color: #bf7fbf; text-decoration-color: #bf7fbf; font-weight: bold\">(3)</span><span style=\"color: #bf7fbf; text-decoration-color: #bf7fbf\"> Run3Summer23BPixMiniAODv4-130X_mcRun3_2023_realistic_p… </span>│<span style=\"color: #7f7f7f; text-decoration-color: #7f7f7f\"></span>│\n",
       "│<span style=\"color: #008080; text-decoration-color: #008080\">                                                  </span>│<span style=\"color: #800080; text-decoration-color: #800080\"> </span><span style=\"color: #800080; text-decoration-color: #800080; font-weight: bold\">(4)</span><span style=\"color: #800080; text-decoration-color: #800080\"> Run3Summer23BPixMiniAODv4-130X_mcRun3_2023_realistic_p… </span>││\n",
       "│<span style=\"color: #7fbfbf; text-decoration-color: #7fbfbf\">                                                  </span>│<span style=\"color: #bf7fbf; text-decoration-color: #bf7fbf\"> </span><span style=\"color: #bf7fbf; text-decoration-color: #bf7fbf; font-weight: bold\">(5)</span><span style=\"color: #bf7fbf; text-decoration-color: #bf7fbf\"> Run3Summer23BPixNanoAODv12-130X_mcRun3_2023_realistic_… </span>│<span style=\"color: #7f7f7f; text-decoration-color: #7f7f7f\"></span>│\n",
       "│<span style=\"color: #008080; text-decoration-color: #008080\">                                                  </span>│<span style=\"color: #800080; text-decoration-color: #800080\"> </span><span style=\"color: #800080; text-decoration-color: #800080; font-weight: bold\">(6)</span><span style=\"color: #800080; text-decoration-color: #800080\"> Run3Summer23BPixNanoAODv12-130X_mcRun3_2023_realistic_… </span>││\n",
       "├──────────────────────────────────────────────────┼─────────────────────────────────────────────────────────────┼┤\n",
       "│<span style=\"color: #7fbfbf; text-decoration-color: #7fbfbf\"> SlepSnuCascade_MN1-260_MN2-280_MC1-270_TuneCP5_… </span>│<span style=\"color: #bf7fbf; text-decoration-color: #bf7fbf\"> </span><span style=\"color: #bf7fbf; text-decoration-color: #bf7fbf; font-weight: bold\">(7)</span><span style=\"color: #bf7fbf; text-decoration-color: #bf7fbf\"> Run3Summer23BPixDRPremix-130X_mcRun3_2023_realistic_po… </span>│<span style=\"color: #7f7f7f; text-decoration-color: #7f7f7f\"></span>│\n",
       "│<span style=\"color: #008080; text-decoration-color: #008080\">                                                  </span>│<span style=\"color: #800080; text-decoration-color: #800080\"> </span><span style=\"color: #800080; text-decoration-color: #800080; font-weight: bold\">(8)</span><span style=\"color: #800080; text-decoration-color: #800080\"> Run3Summer23BPixDRPremix-130X_mcRun3_2023_realistic_po… </span>││\n",
       "│<span style=\"color: #7fbfbf; text-decoration-color: #7fbfbf\">                                                  </span>│<span style=\"color: #bf7fbf; text-decoration-color: #bf7fbf\"> </span><span style=\"color: #bf7fbf; text-decoration-color: #bf7fbf; font-weight: bold\">(9)</span><span style=\"color: #bf7fbf; text-decoration-color: #bf7fbf\"> Run3Summer23BPixMiniAODv4-130X_mcRun3_2023_realistic_p… </span>│<span style=\"color: #7f7f7f; text-decoration-color: #7f7f7f\"></span>│\n",
       "│<span style=\"color: #008080; text-decoration-color: #008080\">                                                  </span>│<span style=\"color: #800080; text-decoration-color: #800080\"> </span><span style=\"color: #800080; text-decoration-color: #800080; font-weight: bold\">(10)</span><span style=\"color: #800080; text-decoration-color: #800080\"> Run3Summer23BPixMiniAODv4-130X_mcRun3_2023_realistic_… </span>││\n",
       "│<span style=\"color: #7fbfbf; text-decoration-color: #7fbfbf\">                                                  </span>│<span style=\"color: #bf7fbf; text-decoration-color: #bf7fbf\"> </span><span style=\"color: #bf7fbf; text-decoration-color: #bf7fbf; font-weight: bold\">(11)</span><span style=\"color: #bf7fbf; text-decoration-color: #bf7fbf\"> Run3Summer23BPixNanoAODv12-130X_mcRun3_2023_realistic… </span>│<span style=\"color: #7f7f7f; text-decoration-color: #7f7f7f\"></span>│\n",
       "│<span style=\"color: #008080; text-decoration-color: #008080\">                                                  </span>│<span style=\"color: #800080; text-decoration-color: #800080\"> </span><span style=\"color: #800080; text-decoration-color: #800080; font-weight: bold\">(12)</span><span style=\"color: #800080; text-decoration-color: #800080\"> Run3Summer23BPixNanoAODv12-130X_mcRun3_2023_realistic… </span>││\n",
       "├──────────────────────────────────────────────────┼─────────────────────────────────────────────────────────────┼┤\n",
       "│<span style=\"color: #7fbfbf; text-decoration-color: #7fbfbf\"> SlepSnuCascade_MN1-270_MN2-280_MC1-275_TuneCP5_… </span>│<span style=\"color: #bf7fbf; text-decoration-color: #bf7fbf\"> </span><span style=\"color: #bf7fbf; text-decoration-color: #bf7fbf; font-weight: bold\">(13)</span><span style=\"color: #bf7fbf; text-decoration-color: #bf7fbf\"> Run3Summer23BPixDRPremix-130X_mcRun3_2023_realistic_p… </span>│<span style=\"color: #7f7f7f; text-decoration-color: #7f7f7f\"></span>│\n",
       "│<span style=\"color: #008080; text-decoration-color: #008080\">                                                  </span>│<span style=\"color: #800080; text-decoration-color: #800080\"> </span><span style=\"color: #800080; text-decoration-color: #800080; font-weight: bold\">(14)</span><span style=\"color: #800080; text-decoration-color: #800080\"> Run3Summer23BPixDRPremix-130X_mcRun3_2023_realistic_p… </span>││\n",
       "│<span style=\"color: #7fbfbf; text-decoration-color: #7fbfbf\">                                                  </span>│<span style=\"color: #bf7fbf; text-decoration-color: #bf7fbf\"> </span><span style=\"color: #bf7fbf; text-decoration-color: #bf7fbf; font-weight: bold\">(15)</span><span style=\"color: #bf7fbf; text-decoration-color: #bf7fbf\"> Run3Summer23BPixMiniAODv4-130X_mcRun3_2023_realistic_… </span>│<span style=\"color: #7f7f7f; text-decoration-color: #7f7f7f\"></span>│\n",
       "│<span style=\"color: #008080; text-decoration-color: #008080\">                                                  </span>│<span style=\"color: #800080; text-decoration-color: #800080\"> </span><span style=\"color: #800080; text-decoration-color: #800080; font-weight: bold\">(16)</span><span style=\"color: #800080; text-decoration-color: #800080\"> Run3Summer23BPixMiniAODv4-130X_mcRun3_2023_realistic_… </span>││\n",
       "│<span style=\"color: #7fbfbf; text-decoration-color: #7fbfbf\">                                                  </span>│<span style=\"color: #bf7fbf; text-decoration-color: #bf7fbf\"> </span><span style=\"color: #bf7fbf; text-decoration-color: #bf7fbf; font-weight: bold\">(17)</span><span style=\"color: #bf7fbf; text-decoration-color: #bf7fbf\"> Run3Summer23BPixNanoAODv12-130X_mcRun3_2023_realistic… </span>│<span style=\"color: #7f7f7f; text-decoration-color: #7f7f7f\"></span>│\n",
       "│<span style=\"color: #008080; text-decoration-color: #008080\">                                                  </span>│<span style=\"color: #800080; text-decoration-color: #800080\"> </span><span style=\"color: #800080; text-decoration-color: #800080; font-weight: bold\">(18)</span><span style=\"color: #800080; text-decoration-color: #800080\"> Run3Summer23BPixNanoAODv12-130X_mcRun3_2023_realistic… </span>││\n",
       "└──────────────────────────────────────────────────┴─────────────────────────────────────────────────────────────┴┘\n",
       "</pre>\n"
      ],
      "text/plain": [
       "\u001b[3m                                              Query: \u001b[0m\u001b[1;3;31m/SlepSnuCascade*\u001b[0m\u001b[3m                                              \u001b[0m\n",
       "┏━━━━━━━━━━━━━━━━━━━━━━━━━━━━━━━━━━━━━━━━━━━━━━━━━━┳━━━━━━━━━━━━━━━━━━━━━━━━━━━━━━━━━━━━━━━━━━━━━━━━━━━━━━━━━━━━━┳┓\n",
       "┃\u001b[1m \u001b[0m\u001b[1mName                                            \u001b[0m\u001b[1m \u001b[0m┃\u001b[1m \u001b[0m\u001b[1mTag                                                        \u001b[0m\u001b[1m \u001b[0m┃┃\n",
       "┡━━━━━━━━━━━━━━━━━━━━━━━━━━━━━━━━━━━━━━━━━━━━━━━━━━╇━━━━━━━━━━━━━━━━━━━━━━━━━━━━━━━━━━━━━━━━━━━━━━━━━━━━━━━━━━━━━╇┩\n",
       "│\u001b[2;36m \u001b[0m\u001b[2;36mSlepSnuCascade_MN1-220_MN2-260_MC1-240_TuneCP5_…\u001b[0m\u001b[2;36m \u001b[0m│\u001b[2;35m \u001b[0m\u001b[1;2;35m(1)\u001b[0m\u001b[2;35m Run3Summer23BPixDRPremix-130X_mcRun3_2023_realistic_po…\u001b[0m\u001b[2;35m \u001b[0m││\n",
       "│\u001b[36m \u001b[0m\u001b[36m                                                \u001b[0m\u001b[36m \u001b[0m│\u001b[35m \u001b[0m\u001b[1;35m(2)\u001b[0m\u001b[35m Run3Summer23BPixDRPremix-130X_mcRun3_2023_realistic_po…\u001b[0m\u001b[35m \u001b[0m││\n",
       "│\u001b[2;36m \u001b[0m\u001b[2;36m                                                \u001b[0m\u001b[2;36m \u001b[0m│\u001b[2;35m \u001b[0m\u001b[1;2;35m(3)\u001b[0m\u001b[2;35m Run3Summer23BPixMiniAODv4-130X_mcRun3_2023_realistic_p…\u001b[0m\u001b[2;35m \u001b[0m││\n",
       "│\u001b[36m \u001b[0m\u001b[36m                                                \u001b[0m\u001b[36m \u001b[0m│\u001b[35m \u001b[0m\u001b[1;35m(4)\u001b[0m\u001b[35m Run3Summer23BPixMiniAODv4-130X_mcRun3_2023_realistic_p…\u001b[0m\u001b[35m \u001b[0m││\n",
       "│\u001b[2;36m \u001b[0m\u001b[2;36m                                                \u001b[0m\u001b[2;36m \u001b[0m│\u001b[2;35m \u001b[0m\u001b[1;2;35m(5)\u001b[0m\u001b[2;35m Run3Summer23BPixNanoAODv12-130X_mcRun3_2023_realistic_…\u001b[0m\u001b[2;35m \u001b[0m││\n",
       "│\u001b[36m \u001b[0m\u001b[36m                                                \u001b[0m\u001b[36m \u001b[0m│\u001b[35m \u001b[0m\u001b[1;35m(6)\u001b[0m\u001b[35m Run3Summer23BPixNanoAODv12-130X_mcRun3_2023_realistic_…\u001b[0m\u001b[35m \u001b[0m││\n",
       "├──────────────────────────────────────────────────┼─────────────────────────────────────────────────────────────┼┤\n",
       "│\u001b[2;36m \u001b[0m\u001b[2;36mSlepSnuCascade_MN1-260_MN2-280_MC1-270_TuneCP5_…\u001b[0m\u001b[2;36m \u001b[0m│\u001b[2;35m \u001b[0m\u001b[1;2;35m(7)\u001b[0m\u001b[2;35m Run3Summer23BPixDRPremix-130X_mcRun3_2023_realistic_po…\u001b[0m\u001b[2;35m \u001b[0m││\n",
       "│\u001b[36m \u001b[0m\u001b[36m                                                \u001b[0m\u001b[36m \u001b[0m│\u001b[35m \u001b[0m\u001b[1;35m(8)\u001b[0m\u001b[35m Run3Summer23BPixDRPremix-130X_mcRun3_2023_realistic_po…\u001b[0m\u001b[35m \u001b[0m││\n",
       "│\u001b[2;36m \u001b[0m\u001b[2;36m                                                \u001b[0m\u001b[2;36m \u001b[0m│\u001b[2;35m \u001b[0m\u001b[1;2;35m(9)\u001b[0m\u001b[2;35m Run3Summer23BPixMiniAODv4-130X_mcRun3_2023_realistic_p…\u001b[0m\u001b[2;35m \u001b[0m││\n",
       "│\u001b[36m \u001b[0m\u001b[36m                                                \u001b[0m\u001b[36m \u001b[0m│\u001b[35m \u001b[0m\u001b[1;35m(10)\u001b[0m\u001b[35m Run3Summer23BPixMiniAODv4-130X_mcRun3_2023_realistic_…\u001b[0m\u001b[35m \u001b[0m││\n",
       "│\u001b[2;36m \u001b[0m\u001b[2;36m                                                \u001b[0m\u001b[2;36m \u001b[0m│\u001b[2;35m \u001b[0m\u001b[1;2;35m(11)\u001b[0m\u001b[2;35m Run3Summer23BPixNanoAODv12-130X_mcRun3_2023_realistic…\u001b[0m\u001b[2;35m \u001b[0m││\n",
       "│\u001b[36m \u001b[0m\u001b[36m                                                \u001b[0m\u001b[36m \u001b[0m│\u001b[35m \u001b[0m\u001b[1;35m(12)\u001b[0m\u001b[35m Run3Summer23BPixNanoAODv12-130X_mcRun3_2023_realistic…\u001b[0m\u001b[35m \u001b[0m││\n",
       "├──────────────────────────────────────────────────┼─────────────────────────────────────────────────────────────┼┤\n",
       "│\u001b[2;36m \u001b[0m\u001b[2;36mSlepSnuCascade_MN1-270_MN2-280_MC1-275_TuneCP5_…\u001b[0m\u001b[2;36m \u001b[0m│\u001b[2;35m \u001b[0m\u001b[1;2;35m(13)\u001b[0m\u001b[2;35m Run3Summer23BPixDRPremix-130X_mcRun3_2023_realistic_p…\u001b[0m\u001b[2;35m \u001b[0m││\n",
       "│\u001b[36m \u001b[0m\u001b[36m                                                \u001b[0m\u001b[36m \u001b[0m│\u001b[35m \u001b[0m\u001b[1;35m(14)\u001b[0m\u001b[35m Run3Summer23BPixDRPremix-130X_mcRun3_2023_realistic_p…\u001b[0m\u001b[35m \u001b[0m││\n",
       "│\u001b[2;36m \u001b[0m\u001b[2;36m                                                \u001b[0m\u001b[2;36m \u001b[0m│\u001b[2;35m \u001b[0m\u001b[1;2;35m(15)\u001b[0m\u001b[2;35m Run3Summer23BPixMiniAODv4-130X_mcRun3_2023_realistic_…\u001b[0m\u001b[2;35m \u001b[0m││\n",
       "│\u001b[36m \u001b[0m\u001b[36m                                                \u001b[0m\u001b[36m \u001b[0m│\u001b[35m \u001b[0m\u001b[1;35m(16)\u001b[0m\u001b[35m Run3Summer23BPixMiniAODv4-130X_mcRun3_2023_realistic_…\u001b[0m\u001b[35m \u001b[0m││\n",
       "│\u001b[2;36m \u001b[0m\u001b[2;36m                                                \u001b[0m\u001b[2;36m \u001b[0m│\u001b[2;35m \u001b[0m\u001b[1;2;35m(17)\u001b[0m\u001b[2;35m Run3Summer23BPixNanoAODv12-130X_mcRun3_2023_realistic…\u001b[0m\u001b[2;35m \u001b[0m││\n",
       "│\u001b[36m \u001b[0m\u001b[36m                                                \u001b[0m\u001b[36m \u001b[0m│\u001b[35m \u001b[0m\u001b[1;35m(18)\u001b[0m\u001b[35m Run3Summer23BPixNanoAODv12-130X_mcRun3_2023_realistic…\u001b[0m\u001b[35m \u001b[0m││\n",
       "└──────────────────────────────────────────────────┴─────────────────────────────────────────────────────────────┴┘\n"
      ]
     },
     "metadata": {},
     "output_type": "display_data"
    },
    {
     "data": {
      "text/html": [
       "<pre style=\"white-space:pre;overflow-x:auto;line-height:normal;font-family:Menlo,'DejaVu Sans Mono',consolas,'Courier New',monospace\"></pre>\n"
      ],
      "text/plain": []
     },
     "metadata": {},
     "output_type": "display_data"
    },
    {
     "data": {
      "text/html": [
       "<pre style=\"white-space:pre;overflow-x:auto;line-height:normal;font-family:Menlo,'DejaVu Sans Mono',consolas,'Courier New',monospace\">Use the command <span style=\"color: #800000; text-decoration-color: #800000; font-weight: bold\">select</span> to selected the datasets\n",
       "</pre>\n"
      ],
      "text/plain": [
       "Use the command \u001b[1;31mselect\u001b[0m to selected the datasets\n"
      ]
     },
     "metadata": {},
     "output_type": "display_data"
    }
   ],
   "source": [
    "from coffea.dataset_tools import rucio_utils\n",
    "from coffea.dataset_tools.dataset_query import print_dataset_query\n",
    "from rich.console import Console\n",
    "from coffea.dataset_tools.dataset_query import DataDiscoveryCLI\n",
    "\n",
    "ddc = DataDiscoveryCLI()\n",
    "ddc.do_query(\"/SlepSnuCascade*\")"
   ]
  },
  {
   "cell_type": "markdown",
   "id": "52049760-6c04-42c4-a6f4-4aac80582163",
   "metadata": {},
   "source": [
    "___\n",
    "### This example code is taken from the [coffea documentation on the topic](https://coffea-hep.readthedocs.io/en/latest/notebooks/dataset_discovery.html) however I made some changes to tinker with it and use it in a simpler way, how I see fit. \n",
    "\n",
    "### The API documentation can be found [here](https://coffea-hep.readthedocs.io/en/latest/dataset_tools.html#coffea.dataset_tools.dataset_query.DataDiscoveryCLI), I made a very basic query script here, by providing the `do_query` method a string of the datasets I'm interested in (also a wildcard to simplify the search) the DataDiscoveryCLI will return to me a very pretty formatted table of the available datasets. I am only interested in the NanoAOD sim files so lets refine our query:\n",
    "\n",
    "(we're looking for a file like: /SlepSnuCascade_MN1-220_MN2-260_MC1-240_TuneCP5_13p6TeV_madgraphMLM-pythia8/Run3Summer23BPixNanoAODv12-130X_mcRun3_\n",
    "2023_realistic_postBPix_v6-v3/NANOAODSIM)\n",
    "___"
   ]
  },
  {
   "cell_type": "code",
   "execution_count": 3,
   "id": "b0b4ba73-0967-4961-948a-feaa308d7a6a",
   "metadata": {
    "tags": []
   },
   "outputs": [
    {
     "data": {
      "application/vnd.jupyter.widget-view+json": {
       "model_id": "",
       "version_major": 2,
       "version_minor": 0
      },
      "text/plain": [
       "Output()"
      ]
     },
     "metadata": {},
     "output_type": "display_data"
    },
    {
     "data": {
      "text/html": [
       "<pre style=\"white-space:pre;overflow-x:auto;line-height:normal;font-family:Menlo,'DejaVu Sans Mono',consolas,'Courier New',monospace\"><span style=\"font-style: italic\">                                        Query: </span><span style=\"color: #800000; text-decoration-color: #800000; font-weight: bold; font-style: italic\">/SlepSnuCascade*NanoAOD*v3*</span><span style=\"font-style: italic\">                                         </span>\n",
       "┏━━━━━━━━━━━━━━━━━━━━━━━━━━━━━━━━━━━━━━━━━━━━━━━━━━━┳━━━━━━━━━━━━━━━━━━━━━━━━━━━━━━━━━━━━━━━━━━━━━━━━━━━━━━━━━━━━┳┓\n",
       "┃<span style=\"font-weight: bold\"> Name                                              </span>┃<span style=\"font-weight: bold\"> Tag                                                        </span>┃<span style=\"font-weight: bold\"></span>┃\n",
       "┡━━━━━━━━━━━━━━━━━━━━━━━━━━━━━━━━━━━━━━━━━━━━━━━━━━━╇━━━━━━━━━━━━━━━━━━━━━━━━━━━━━━━━━━━━━━━━━━━━━━━━━━━━━━━━━━━━╇┩\n",
       "│<span style=\"color: #7fbfbf; text-decoration-color: #7fbfbf\"> SlepSnuCascade_MN1-220_MN2-260_MC1-240_TuneCP5_1… </span>│<span style=\"color: #bf7fbf; text-decoration-color: #bf7fbf\"> </span><span style=\"color: #bf7fbf; text-decoration-color: #bf7fbf; font-weight: bold\">(1)</span><span style=\"color: #bf7fbf; text-decoration-color: #bf7fbf\"> Run3Summer23BPixNanoAODv12-130X_mcRun3_2023_realistic… </span>│<span style=\"color: #7f7f7f; text-decoration-color: #7f7f7f\"></span>│\n",
       "├───────────────────────────────────────────────────┼────────────────────────────────────────────────────────────┼┤\n",
       "│<span style=\"color: #008080; text-decoration-color: #008080\"> SlepSnuCascade_MN1-260_MN2-280_MC1-270_TuneCP5_1… </span>│<span style=\"color: #800080; text-decoration-color: #800080\"> </span><span style=\"color: #800080; text-decoration-color: #800080; font-weight: bold\">(2)</span><span style=\"color: #800080; text-decoration-color: #800080\"> Run3Summer23BPixNanoAODv12-130X_mcRun3_2023_realistic… </span>││\n",
       "├───────────────────────────────────────────────────┼────────────────────────────────────────────────────────────┼┤\n",
       "│<span style=\"color: #7fbfbf; text-decoration-color: #7fbfbf\"> SlepSnuCascade_MN1-270_MN2-280_MC1-275_TuneCP5_1… </span>│<span style=\"color: #bf7fbf; text-decoration-color: #bf7fbf\"> </span><span style=\"color: #bf7fbf; text-decoration-color: #bf7fbf; font-weight: bold\">(3)</span><span style=\"color: #bf7fbf; text-decoration-color: #bf7fbf\"> Run3Summer23BPixNanoAODv12-130X_mcRun3_2023_realistic… </span>│<span style=\"color: #7f7f7f; text-decoration-color: #7f7f7f\"></span>│\n",
       "└───────────────────────────────────────────────────┴────────────────────────────────────────────────────────────┴┘\n",
       "</pre>\n"
      ],
      "text/plain": [
       "\u001b[3m                                        Query: \u001b[0m\u001b[1;3;31m/SlepSnuCascade*NanoAOD*v3*\u001b[0m\u001b[3m                                         \u001b[0m\n",
       "┏━━━━━━━━━━━━━━━━━━━━━━━━━━━━━━━━━━━━━━━━━━━━━━━━━━━┳━━━━━━━━━━━━━━━━━━━━━━━━━━━━━━━━━━━━━━━━━━━━━━━━━━━━━━━━━━━━┳┓\n",
       "┃\u001b[1m \u001b[0m\u001b[1mName                                             \u001b[0m\u001b[1m \u001b[0m┃\u001b[1m \u001b[0m\u001b[1mTag                                                       \u001b[0m\u001b[1m \u001b[0m┃┃\n",
       "┡━━━━━━━━━━━━━━━━━━━━━━━━━━━━━━━━━━━━━━━━━━━━━━━━━━━╇━━━━━━━━━━━━━━━━━━━━━━━━━━━━━━━━━━━━━━━━━━━━━━━━━━━━━━━━━━━━╇┩\n",
       "│\u001b[2;36m \u001b[0m\u001b[2;36mSlepSnuCascade_MN1-220_MN2-260_MC1-240_TuneCP5_1…\u001b[0m\u001b[2;36m \u001b[0m│\u001b[2;35m \u001b[0m\u001b[1;2;35m(1)\u001b[0m\u001b[2;35m Run3Summer23BPixNanoAODv12-130X_mcRun3_2023_realistic…\u001b[0m\u001b[2;35m \u001b[0m││\n",
       "├───────────────────────────────────────────────────┼────────────────────────────────────────────────────────────┼┤\n",
       "│\u001b[36m \u001b[0m\u001b[36mSlepSnuCascade_MN1-260_MN2-280_MC1-270_TuneCP5_1…\u001b[0m\u001b[36m \u001b[0m│\u001b[35m \u001b[0m\u001b[1;35m(2)\u001b[0m\u001b[35m Run3Summer23BPixNanoAODv12-130X_mcRun3_2023_realistic…\u001b[0m\u001b[35m \u001b[0m││\n",
       "├───────────────────────────────────────────────────┼────────────────────────────────────────────────────────────┼┤\n",
       "│\u001b[2;36m \u001b[0m\u001b[2;36mSlepSnuCascade_MN1-270_MN2-280_MC1-275_TuneCP5_1…\u001b[0m\u001b[2;36m \u001b[0m│\u001b[2;35m \u001b[0m\u001b[1;2;35m(3)\u001b[0m\u001b[2;35m Run3Summer23BPixNanoAODv12-130X_mcRun3_2023_realistic…\u001b[0m\u001b[2;35m \u001b[0m││\n",
       "└───────────────────────────────────────────────────┴────────────────────────────────────────────────────────────┴┘\n"
      ]
     },
     "metadata": {},
     "output_type": "display_data"
    },
    {
     "data": {
      "text/html": [
       "<pre style=\"white-space:pre;overflow-x:auto;line-height:normal;font-family:Menlo,'DejaVu Sans Mono',consolas,'Courier New',monospace\"></pre>\n"
      ],
      "text/plain": []
     },
     "metadata": {},
     "output_type": "display_data"
    },
    {
     "data": {
      "text/html": [
       "<pre style=\"white-space:pre;overflow-x:auto;line-height:normal;font-family:Menlo,'DejaVu Sans Mono',consolas,'Courier New',monospace\">Use the command <span style=\"color: #800000; text-decoration-color: #800000; font-weight: bold\">select</span> to selected the datasets\n",
       "</pre>\n"
      ],
      "text/plain": [
       "Use the command \u001b[1;31mselect\u001b[0m to selected the datasets\n"
      ]
     },
     "metadata": {},
     "output_type": "display_data"
    }
   ],
   "source": [
    "ddc.do_query(\"/SlepSnuCascade*NanoAOD*v3*\")"
   ]
  },
  {
   "cell_type": "markdown",
   "id": "c2a38151-7d71-433d-9558-2a6780b52d8a",
   "metadata": {
    "tags": []
   },
   "source": [
    "___\n",
    "### You can also use the query interactively:\n",
    "#### (no need to put the string between \"quotes\", just type something like /SlepSnu\\*NanoAOD\\*v3* and you should get the same result as above)\n",
    "___"
   ]
  },
  {
   "cell_type": "code",
   "execution_count": 4,
   "id": "c4305649-432e-4f81-93e7-d78c4169af8a",
   "metadata": {
    "tags": []
   },
   "outputs": [
    {
     "data": {
      "text/html": [
       "<pre style=\"white-space:pre;overflow-x:auto;line-height:normal;font-family:Menlo,'DejaVu Sans Mono',consolas,'Courier New',monospace\"><span style=\"color: #808000; text-decoration-color: #808000; font-weight: bold\">Query for</span>: </pre>\n"
      ],
      "text/plain": [
       "\u001b[1;33mQuery for\u001b[0m: "
      ]
     },
     "metadata": {},
     "output_type": "display_data"
    },
    {
     "name": "stdin",
     "output_type": "stream",
     "text": [
      " /SlepSnu*NanoAOD*v3*\n"
     ]
    },
    {
     "data": {
      "application/vnd.jupyter.widget-view+json": {
       "model_id": "",
       "version_major": 2,
       "version_minor": 0
      },
      "text/plain": [
       "Output()"
      ]
     },
     "metadata": {},
     "output_type": "display_data"
    },
    {
     "data": {
      "text/html": [
       "<pre style=\"white-space:pre;overflow-x:auto;line-height:normal;font-family:Menlo,'DejaVu Sans Mono',consolas,'Courier New',monospace\"><span style=\"font-style: italic\">                                            Query: </span><span style=\"color: #800000; text-decoration-color: #800000; font-weight: bold; font-style: italic\">/SlepSnu*NanoAOD*v3*</span><span style=\"font-style: italic\">                                            </span>\n",
       "┏━━━━━━━━━━━━━━━━━━━━━━━━━━━━━━━━━━━━━━━━━━━━━━━━━━━┳━━━━━━━━━━━━━━━━━━━━━━━━━━━━━━━━━━━━━━━━━━━━━━━━━━━━━━━━━━━━┳┓\n",
       "┃<span style=\"font-weight: bold\"> Name                                              </span>┃<span style=\"font-weight: bold\"> Tag                                                        </span>┃<span style=\"font-weight: bold\"></span>┃\n",
       "┡━━━━━━━━━━━━━━━━━━━━━━━━━━━━━━━━━━━━━━━━━━━━━━━━━━━╇━━━━━━━━━━━━━━━━━━━━━━━━━━━━━━━━━━━━━━━━━━━━━━━━━━━━━━━━━━━━╇┩\n",
       "│<span style=\"color: #7fbfbf; text-decoration-color: #7fbfbf\"> SlepSnuCascade_MN1-220_MN2-260_MC1-240_TuneCP5_1… </span>│<span style=\"color: #bf7fbf; text-decoration-color: #bf7fbf\"> </span><span style=\"color: #bf7fbf; text-decoration-color: #bf7fbf; font-weight: bold\">(1)</span><span style=\"color: #bf7fbf; text-decoration-color: #bf7fbf\"> Run3Summer23BPixNanoAODv12-130X_mcRun3_2023_realistic… </span>│<span style=\"color: #7f7f7f; text-decoration-color: #7f7f7f\"></span>│\n",
       "├───────────────────────────────────────────────────┼────────────────────────────────────────────────────────────┼┤\n",
       "│<span style=\"color: #008080; text-decoration-color: #008080\"> SlepSnuCascade_MN1-260_MN2-280_MC1-270_TuneCP5_1… </span>│<span style=\"color: #800080; text-decoration-color: #800080\"> </span><span style=\"color: #800080; text-decoration-color: #800080; font-weight: bold\">(2)</span><span style=\"color: #800080; text-decoration-color: #800080\"> Run3Summer23BPixNanoAODv12-130X_mcRun3_2023_realistic… </span>││\n",
       "├───────────────────────────────────────────────────┼────────────────────────────────────────────────────────────┼┤\n",
       "│<span style=\"color: #7fbfbf; text-decoration-color: #7fbfbf\"> SlepSnuCascade_MN1-270_MN2-280_MC1-275_TuneCP5_1… </span>│<span style=\"color: #bf7fbf; text-decoration-color: #bf7fbf\"> </span><span style=\"color: #bf7fbf; text-decoration-color: #bf7fbf; font-weight: bold\">(3)</span><span style=\"color: #bf7fbf; text-decoration-color: #bf7fbf\"> Run3Summer23BPixNanoAODv12-130X_mcRun3_2023_realistic… </span>│<span style=\"color: #7f7f7f; text-decoration-color: #7f7f7f\"></span>│\n",
       "└───────────────────────────────────────────────────┴────────────────────────────────────────────────────────────┴┘\n",
       "</pre>\n"
      ],
      "text/plain": [
       "\u001b[3m                                            Query: \u001b[0m\u001b[1;3;31m/SlepSnu*NanoAOD*v3*\u001b[0m\u001b[3m                                            \u001b[0m\n",
       "┏━━━━━━━━━━━━━━━━━━━━━━━━━━━━━━━━━━━━━━━━━━━━━━━━━━━┳━━━━━━━━━━━━━━━━━━━━━━━━━━━━━━━━━━━━━━━━━━━━━━━━━━━━━━━━━━━━┳┓\n",
       "┃\u001b[1m \u001b[0m\u001b[1mName                                             \u001b[0m\u001b[1m \u001b[0m┃\u001b[1m \u001b[0m\u001b[1mTag                                                       \u001b[0m\u001b[1m \u001b[0m┃┃\n",
       "┡━━━━━━━━━━━━━━━━━━━━━━━━━━━━━━━━━━━━━━━━━━━━━━━━━━━╇━━━━━━━━━━━━━━━━━━━━━━━━━━━━━━━━━━━━━━━━━━━━━━━━━━━━━━━━━━━━╇┩\n",
       "│\u001b[2;36m \u001b[0m\u001b[2;36mSlepSnuCascade_MN1-220_MN2-260_MC1-240_TuneCP5_1…\u001b[0m\u001b[2;36m \u001b[0m│\u001b[2;35m \u001b[0m\u001b[1;2;35m(1)\u001b[0m\u001b[2;35m Run3Summer23BPixNanoAODv12-130X_mcRun3_2023_realistic…\u001b[0m\u001b[2;35m \u001b[0m││\n",
       "├───────────────────────────────────────────────────┼────────────────────────────────────────────────────────────┼┤\n",
       "│\u001b[36m \u001b[0m\u001b[36mSlepSnuCascade_MN1-260_MN2-280_MC1-270_TuneCP5_1…\u001b[0m\u001b[36m \u001b[0m│\u001b[35m \u001b[0m\u001b[1;35m(2)\u001b[0m\u001b[35m Run3Summer23BPixNanoAODv12-130X_mcRun3_2023_realistic…\u001b[0m\u001b[35m \u001b[0m││\n",
       "├───────────────────────────────────────────────────┼────────────────────────────────────────────────────────────┼┤\n",
       "│\u001b[2;36m \u001b[0m\u001b[2;36mSlepSnuCascade_MN1-270_MN2-280_MC1-275_TuneCP5_1…\u001b[0m\u001b[2;36m \u001b[0m│\u001b[2;35m \u001b[0m\u001b[1;2;35m(3)\u001b[0m\u001b[2;35m Run3Summer23BPixNanoAODv12-130X_mcRun3_2023_realistic…\u001b[0m\u001b[2;35m \u001b[0m││\n",
       "└───────────────────────────────────────────────────┴────────────────────────────────────────────────────────────┴┘\n"
      ]
     },
     "metadata": {},
     "output_type": "display_data"
    },
    {
     "data": {
      "text/html": [
       "<pre style=\"white-space:pre;overflow-x:auto;line-height:normal;font-family:Menlo,'DejaVu Sans Mono',consolas,'Courier New',monospace\"></pre>\n"
      ],
      "text/plain": []
     },
     "metadata": {},
     "output_type": "display_data"
    },
    {
     "data": {
      "text/html": [
       "<pre style=\"white-space:pre;overflow-x:auto;line-height:normal;font-family:Menlo,'DejaVu Sans Mono',consolas,'Courier New',monospace\">Use the command <span style=\"color: #800000; text-decoration-color: #800000; font-weight: bold\">select</span> to selected the datasets\n",
       "</pre>\n"
      ],
      "text/plain": [
       "Use the command \u001b[1;31mselect\u001b[0m to selected the datasets\n"
      ]
     },
     "metadata": {},
     "output_type": "display_data"
    }
   ],
   "source": [
    "ddc.do_query()"
   ]
  },
  {
   "cell_type": "markdown",
   "id": "ad253a35-1dbe-4a88-b812-4212230f8927",
   "metadata": {},
   "source": [
    "___\n",
    "### Very cool. Ok, **PLEASE NOTE: THE LAST QUERY IS STORED IN THE DataDiscoveryCLI OBJECT AND IS OVERWRITTEN EACH TIME YOU DO A NEW QUERY**. This is different from when you start selecting data sets as we will see below: Anyways, here is proof that the query results are stored in the object, you can retrieve them at any time by calling `do_query_results()`:\n",
    "___"
   ]
  },
  {
   "cell_type": "code",
   "execution_count": 5,
   "id": "b177c9c3-c6e0-4042-aae8-c5dda9633e57",
   "metadata": {
    "tags": []
   },
   "outputs": [
    {
     "data": {
      "text/html": [
       "<pre style=\"white-space:pre;overflow-x:auto;line-height:normal;font-family:Menlo,'DejaVu Sans Mono',consolas,'Courier New',monospace\"><span style=\"font-style: italic\">                                            Query: </span><span style=\"color: #800000; text-decoration-color: #800000; font-weight: bold; font-style: italic\">/SlepSnu*NanoAOD*v3*</span><span style=\"font-style: italic\">                                            </span>\n",
       "┏━━━━━━━━━━━━━━━━━━━━━━━━━━━━━━━━━━━━━━━━━━━━━━━━━━━┳━━━━━━━━━━━━━━━━━━━━━━━━━━━━━━━━━━━━━━━━━━━━━━━━━━━━━━━━━━━━┳┓\n",
       "┃<span style=\"font-weight: bold\"> Name                                              </span>┃<span style=\"font-weight: bold\"> Tag                                                        </span>┃<span style=\"font-weight: bold\"></span>┃\n",
       "┡━━━━━━━━━━━━━━━━━━━━━━━━━━━━━━━━━━━━━━━━━━━━━━━━━━━╇━━━━━━━━━━━━━━━━━━━━━━━━━━━━━━━━━━━━━━━━━━━━━━━━━━━━━━━━━━━━╇┩\n",
       "│<span style=\"color: #7fbfbf; text-decoration-color: #7fbfbf\"> SlepSnuCascade_MN1-220_MN2-260_MC1-240_TuneCP5_1… </span>│<span style=\"color: #bf7fbf; text-decoration-color: #bf7fbf\"> </span><span style=\"color: #bf7fbf; text-decoration-color: #bf7fbf; font-weight: bold\">(1)</span><span style=\"color: #bf7fbf; text-decoration-color: #bf7fbf\"> Run3Summer23BPixNanoAODv12-130X_mcRun3_2023_realistic… </span>│<span style=\"color: #7f7f7f; text-decoration-color: #7f7f7f\"></span>│\n",
       "├───────────────────────────────────────────────────┼────────────────────────────────────────────────────────────┼┤\n",
       "│<span style=\"color: #008080; text-decoration-color: #008080\"> SlepSnuCascade_MN1-260_MN2-280_MC1-270_TuneCP5_1… </span>│<span style=\"color: #800080; text-decoration-color: #800080\"> </span><span style=\"color: #800080; text-decoration-color: #800080; font-weight: bold\">(2)</span><span style=\"color: #800080; text-decoration-color: #800080\"> Run3Summer23BPixNanoAODv12-130X_mcRun3_2023_realistic… </span>││\n",
       "├───────────────────────────────────────────────────┼────────────────────────────────────────────────────────────┼┤\n",
       "│<span style=\"color: #7fbfbf; text-decoration-color: #7fbfbf\"> SlepSnuCascade_MN1-270_MN2-280_MC1-275_TuneCP5_1… </span>│<span style=\"color: #bf7fbf; text-decoration-color: #bf7fbf\"> </span><span style=\"color: #bf7fbf; text-decoration-color: #bf7fbf; font-weight: bold\">(3)</span><span style=\"color: #bf7fbf; text-decoration-color: #bf7fbf\"> Run3Summer23BPixNanoAODv12-130X_mcRun3_2023_realistic… </span>│<span style=\"color: #7f7f7f; text-decoration-color: #7f7f7f\"></span>│\n",
       "└───────────────────────────────────────────────────┴────────────────────────────────────────────────────────────┴┘\n",
       "</pre>\n"
      ],
      "text/plain": [
       "\u001b[3m                                            Query: \u001b[0m\u001b[1;3;31m/SlepSnu*NanoAOD*v3*\u001b[0m\u001b[3m                                            \u001b[0m\n",
       "┏━━━━━━━━━━━━━━━━━━━━━━━━━━━━━━━━━━━━━━━━━━━━━━━━━━━┳━━━━━━━━━━━━━━━━━━━━━━━━━━━━━━━━━━━━━━━━━━━━━━━━━━━━━━━━━━━━┳┓\n",
       "┃\u001b[1m \u001b[0m\u001b[1mName                                             \u001b[0m\u001b[1m \u001b[0m┃\u001b[1m \u001b[0m\u001b[1mTag                                                       \u001b[0m\u001b[1m \u001b[0m┃┃\n",
       "┡━━━━━━━━━━━━━━━━━━━━━━━━━━━━━━━━━━━━━━━━━━━━━━━━━━━╇━━━━━━━━━━━━━━━━━━━━━━━━━━━━━━━━━━━━━━━━━━━━━━━━━━━━━━━━━━━━╇┩\n",
       "│\u001b[2;36m \u001b[0m\u001b[2;36mSlepSnuCascade_MN1-220_MN2-260_MC1-240_TuneCP5_1…\u001b[0m\u001b[2;36m \u001b[0m│\u001b[2;35m \u001b[0m\u001b[1;2;35m(1)\u001b[0m\u001b[2;35m Run3Summer23BPixNanoAODv12-130X_mcRun3_2023_realistic…\u001b[0m\u001b[2;35m \u001b[0m││\n",
       "├───────────────────────────────────────────────────┼────────────────────────────────────────────────────────────┼┤\n",
       "│\u001b[36m \u001b[0m\u001b[36mSlepSnuCascade_MN1-260_MN2-280_MC1-270_TuneCP5_1…\u001b[0m\u001b[36m \u001b[0m│\u001b[35m \u001b[0m\u001b[1;35m(2)\u001b[0m\u001b[35m Run3Summer23BPixNanoAODv12-130X_mcRun3_2023_realistic…\u001b[0m\u001b[35m \u001b[0m││\n",
       "├───────────────────────────────────────────────────┼────────────────────────────────────────────────────────────┼┤\n",
       "│\u001b[2;36m \u001b[0m\u001b[2;36mSlepSnuCascade_MN1-270_MN2-280_MC1-275_TuneCP5_1…\u001b[0m\u001b[2;36m \u001b[0m│\u001b[2;35m \u001b[0m\u001b[1;2;35m(3)\u001b[0m\u001b[2;35m Run3Summer23BPixNanoAODv12-130X_mcRun3_2023_realistic…\u001b[0m\u001b[2;35m \u001b[0m││\n",
       "└───────────────────────────────────────────────────┴────────────────────────────────────────────────────────────┴┘\n"
      ]
     },
     "metadata": {},
     "output_type": "display_data"
    }
   ],
   "source": [
    "ddc.do_query_results()"
   ]
  },
  {
   "cell_type": "markdown",
   "id": "cff15a36-c571-4e2d-9f94-ce625961974b",
   "metadata": {},
   "source": [
    "### And if the previous query is always stored then we can run further methods like `do_selected`:"
   ]
  },
  {
   "cell_type": "code",
   "execution_count": 6,
   "id": "f3ea5e41-8de1-41b0-ab1c-6c9ccfd42d79",
   "metadata": {
    "tags": []
   },
   "outputs": [
    {
     "data": {
      "text/html": [
       "<pre style=\"white-space:pre;overflow-x:auto;line-height:normal;font-family:Menlo,'DejaVu Sans Mono',consolas,'Courier New',monospace\"><span style=\"color: #008080; text-decoration-color: #008080\">Selected datasets:</span>\n",
       "</pre>\n"
      ],
      "text/plain": [
       "\u001b[36mSelected datasets:\u001b[0m\n"
      ]
     },
     "metadata": {},
     "output_type": "display_data"
    },
    {
     "data": {
      "text/html": [
       "<pre style=\"white-space:pre;overflow-x:auto;line-height:normal;font-family:Menlo,'DejaVu Sans Mono',consolas,'Courier New',monospace\">- <span style=\"font-weight: bold\">(</span><span style=\"color: #008080; text-decoration-color: #008080; font-weight: bold\">1</span><span style=\"font-weight: bold\">)</span> \n",
       "<span style=\"color: #800080; text-decoration-color: #800080\">/SlepSnuCascade_MN1-220_MN2-260_MC1-240_TuneCP5_13p6TeV_madgraphMLM-pythia8/Run3Summer23BPixNanoAODv12-130X_mcRun3_</span>\n",
       "<span style=\"color: #800080; text-decoration-color: #800080\">2023_realistic_postBPix_v6-v3/</span><span style=\"color: #ff00ff; text-decoration-color: #ff00ff\">NANOAODSIM</span>\n",
       "</pre>\n"
      ],
      "text/plain": [
       "- \u001b[1m(\u001b[0m\u001b[1;36m1\u001b[0m\u001b[1m)\u001b[0m \n",
       "\u001b[35m/SlepSnuCascade_MN1-220_MN2-260_MC1-240_TuneCP5_13p6TeV_madgraphMLM-pythia8/Run3Summer23BPixNanoAODv12-130X_mcRun3_\u001b[0m\n",
       "\u001b[35m2023_realistic_postBPix_v6-v3/\u001b[0m\u001b[95mNANOAODSIM\u001b[0m\n"
      ]
     },
     "metadata": {},
     "output_type": "display_data"
    },
    {
     "data": {
      "text/html": [
       "<pre style=\"white-space:pre;overflow-x:auto;line-height:normal;font-family:Menlo,'DejaVu Sans Mono',consolas,'Courier New',monospace\">- <span style=\"font-weight: bold\">(</span><span style=\"color: #008080; text-decoration-color: #008080; font-weight: bold\">2</span><span style=\"font-weight: bold\">)</span> \n",
       "<span style=\"color: #800080; text-decoration-color: #800080\">/SlepSnuCascade_MN1-260_MN2-280_MC1-270_TuneCP5_13p6TeV_madgraphMLM-pythia8/Run3Summer23BPixNanoAODv12-130X_mcRun3_</span>\n",
       "<span style=\"color: #800080; text-decoration-color: #800080\">2023_realistic_postBPix_v6-v3/</span><span style=\"color: #ff00ff; text-decoration-color: #ff00ff\">NANOAODSIM</span>\n",
       "</pre>\n"
      ],
      "text/plain": [
       "- \u001b[1m(\u001b[0m\u001b[1;36m2\u001b[0m\u001b[1m)\u001b[0m \n",
       "\u001b[35m/SlepSnuCascade_MN1-260_MN2-280_MC1-270_TuneCP5_13p6TeV_madgraphMLM-pythia8/Run3Summer23BPixNanoAODv12-130X_mcRun3_\u001b[0m\n",
       "\u001b[35m2023_realistic_postBPix_v6-v3/\u001b[0m\u001b[95mNANOAODSIM\u001b[0m\n"
      ]
     },
     "metadata": {},
     "output_type": "display_data"
    },
    {
     "data": {
      "text/html": [
       "<pre style=\"white-space:pre;overflow-x:auto;line-height:normal;font-family:Menlo,'DejaVu Sans Mono',consolas,'Courier New',monospace\">- <span style=\"font-weight: bold\">(</span><span style=\"color: #008080; text-decoration-color: #008080; font-weight: bold\">3</span><span style=\"font-weight: bold\">)</span> \n",
       "<span style=\"color: #800080; text-decoration-color: #800080\">/SlepSnuCascade_MN1-270_MN2-280_MC1-275_TuneCP5_13p6TeV_madgraphMLM-pythia8/Run3Summer23BPixNanoAODv12-130X_mcRun3_</span>\n",
       "<span style=\"color: #800080; text-decoration-color: #800080\">2023_realistic_postBPix_v6-v3/</span><span style=\"color: #ff00ff; text-decoration-color: #ff00ff\">NANOAODSIM</span>\n",
       "</pre>\n"
      ],
      "text/plain": [
       "- \u001b[1m(\u001b[0m\u001b[1;36m3\u001b[0m\u001b[1m)\u001b[0m \n",
       "\u001b[35m/SlepSnuCascade_MN1-270_MN2-280_MC1-275_TuneCP5_13p6TeV_madgraphMLM-pythia8/Run3Summer23BPixNanoAODv12-130X_mcRun3_\u001b[0m\n",
       "\u001b[35m2023_realistic_postBPix_v6-v3/\u001b[0m\u001b[95mNANOAODSIM\u001b[0m\n"
      ]
     },
     "metadata": {},
     "output_type": "display_data"
    }
   ],
   "source": [
    "ddc.do_select(\"all\")"
   ]
  },
  {
   "cell_type": "markdown",
   "id": "5700b917-8fbe-42f1-b686-b7f91cee5a6e",
   "metadata": {},
   "source": [
    "___\n",
    "### Now we can print the list of our selected datasets:\n",
    "___"
   ]
  },
  {
   "cell_type": "code",
   "execution_count": 7,
   "id": "55b6ca00-4c6a-4cf1-8bfe-bc4d1712de01",
   "metadata": {
    "tags": []
   },
   "outputs": [
    {
     "data": {
      "text/html": [
       "<pre style=\"white-space:pre;overflow-x:auto;line-height:normal;font-family:Menlo,'DejaVu Sans Mono',consolas,'Courier New',monospace\"><span style=\"color: #008080; text-decoration-color: #008080\">Selected datasets:</span>\n",
       "</pre>\n"
      ],
      "text/plain": [
       "\u001b[36mSelected datasets:\u001b[0m\n"
      ]
     },
     "metadata": {},
     "output_type": "display_data"
    },
    {
     "data": {
      "text/html": [
       "<pre style=\"white-space:pre;overflow-x:auto;line-height:normal;font-family:Menlo,'DejaVu Sans Mono',consolas,'Courier New',monospace\"><span style=\"font-style: italic\">                                                 Selected datasets                                                 </span>\n",
       "┏━━━┳━━━━━━━━━━━━━━━━━━━━━━━━━━━━━━━━━━━━━━━━━━━━━━━━━━━━━━━━━━━━━━━━━━━━━━━━━━━━━━━━━━━━━━━━━━━━━━━━━━━━━━━━━━━┳┳┓\n",
       "┃<span style=\"font-weight: bold\"> … </span>┃<span style=\"font-weight: bold\"> Dataset                                                                                                   </span>┃<span style=\"font-weight: bold\"></span>┃<span style=\"font-weight: bold\"></span>┃\n",
       "┡━━━╇━━━━━━━━━━━━━━━━━━━━━━━━━━━━━━━━━━━━━━━━━━━━━━━━━━━━━━━━━━━━━━━━━━━━━━━━━━━━━━━━━━━━━━━━━━━━━━━━━━━━━━━━━━━╇╇┩\n",
       "│<span style=\"color: #008080; text-decoration-color: #008080\"> 1 </span>│<span style=\"color: #800080; text-decoration-color: #800080\"> /SlepSnuCascade_MN1-220_MN2-260_MC1-240_TuneCP5_13p6TeV_madgraphMLM-pythia8/Run3Summer23BPixNanoAODv12-1… </span>│││\n",
       "│<span style=\"color: #008080; text-decoration-color: #008080\"> 2 </span>│<span style=\"color: #800080; text-decoration-color: #800080\"> /SlepSnuCascade_MN1-260_MN2-280_MC1-270_TuneCP5_13p6TeV_madgraphMLM-pythia8/Run3Summer23BPixNanoAODv12-1… </span>│││\n",
       "│<span style=\"color: #008080; text-decoration-color: #008080\"> 3 </span>│<span style=\"color: #800080; text-decoration-color: #800080\"> /SlepSnuCascade_MN1-270_MN2-280_MC1-275_TuneCP5_13p6TeV_madgraphMLM-pythia8/Run3Summer23BPixNanoAODv12-1… </span>│││\n",
       "└───┴───────────────────────────────────────────────────────────────────────────────────────────────────────────┴┴┘\n",
       "</pre>\n"
      ],
      "text/plain": [
       "\u001b[3m                                                 Selected datasets                                                 \u001b[0m\n",
       "┏━━━┳━━━━━━━━━━━━━━━━━━━━━━━━━━━━━━━━━━━━━━━━━━━━━━━━━━━━━━━━━━━━━━━━━━━━━━━━━━━━━━━━━━━━━━━━━━━━━━━━━━━━━━━━━━━┳┳┓\n",
       "┃\u001b[1m \u001b[0m\u001b[1m…\u001b[0m\u001b[1m \u001b[0m┃\u001b[1m \u001b[0m\u001b[1mDataset                                                                                                  \u001b[0m\u001b[1m \u001b[0m┃┃┃\n",
       "┡━━━╇━━━━━━━━━━━━━━━━━━━━━━━━━━━━━━━━━━━━━━━━━━━━━━━━━━━━━━━━━━━━━━━━━━━━━━━━━━━━━━━━━━━━━━━━━━━━━━━━━━━━━━━━━━━╇╇┩\n",
       "│\u001b[36m \u001b[0m\u001b[36m1\u001b[0m\u001b[36m \u001b[0m│\u001b[35m \u001b[0m\u001b[35m/SlepSnuCascade_MN1-220_MN2-260_MC1-240_TuneCP5_13p6TeV_madgraphMLM-pythia8/Run3Summer23BPixNanoAODv12-1…\u001b[0m\u001b[35m \u001b[0m│││\n",
       "│\u001b[36m \u001b[0m\u001b[36m2\u001b[0m\u001b[36m \u001b[0m│\u001b[35m \u001b[0m\u001b[35m/SlepSnuCascade_MN1-260_MN2-280_MC1-270_TuneCP5_13p6TeV_madgraphMLM-pythia8/Run3Summer23BPixNanoAODv12-1…\u001b[0m\u001b[35m \u001b[0m│││\n",
       "│\u001b[36m \u001b[0m\u001b[36m3\u001b[0m\u001b[36m \u001b[0m│\u001b[35m \u001b[0m\u001b[35m/SlepSnuCascade_MN1-270_MN2-280_MC1-275_TuneCP5_13p6TeV_madgraphMLM-pythia8/Run3Summer23BPixNanoAODv12-1…\u001b[0m\u001b[35m \u001b[0m│││\n",
       "└───┴───────────────────────────────────────────────────────────────────────────────────────────────────────────┴┴┘\n"
      ]
     },
     "metadata": {},
     "output_type": "display_data"
    }
   ],
   "source": [
    "ddc.do_list_selected()"
   ]
  },
  {
   "cell_type": "markdown",
   "id": "45e8a21c-3296-43de-85d9-d4d41c69e3a7",
   "metadata": {},
   "source": [
    "___\n",
    "### Learning lesson though, the internal list of selected datasets is always appended to when you run `do_select`. This means that if you go up and rerun the `ddc.do_select(\"all\")` cell then rerun the `ddc.do_list_selected()` you will see what has happened to the internally stored data sets... They are never overwritten, as far I know.\n",
    "___\n",
    "\n",
    "### We would love to know where the copies of these files are stored, their \"replicas\" so to speak. So with the next command we can print out the sites a given selected dataset is stored at: \n",
    "(\"first\" means \"take the first site from the rucio query\" and \"all\" means \"get replicas for all the selected data files\")\n",
    "___"
   ]
  },
  {
   "cell_type": "code",
   "execution_count": 8,
   "id": "5c1e1b87-ab32-4b21-a5d5-977cd5179660",
   "metadata": {
    "tags": []
   },
   "outputs": [
    {
     "data": {
      "text/html": [
       "<pre style=\"white-space:pre;overflow-x:auto;line-height:normal;font-family:Menlo,'DejaVu Sans Mono',consolas,'Courier New',monospace\">Loading SITECONF info\n",
       "</pre>\n"
      ],
      "text/plain": [
       "Loading SITECONF info\n"
      ]
     },
     "metadata": {},
     "output_type": "display_data"
    },
    {
     "data": {
      "application/vnd.jupyter.widget-view+json": {
       "model_id": "",
       "version_major": 2,
       "version_minor": 0
      },
      "text/plain": [
       "Output()"
      ]
     },
     "metadata": {},
     "output_type": "display_data"
    },
    {
     "data": {
      "text/html": [
       "<pre style=\"white-space:pre;overflow-x:auto;line-height:normal;font-family:Menlo,'DejaVu Sans Mono',consolas,'Courier New',monospace\"></pre>\n"
      ],
      "text/plain": []
     },
     "metadata": {},
     "output_type": "display_data"
    },
    {
     "data": {
      "text/html": [
       "<pre style=\"white-space:pre;overflow-x:auto;line-height:normal;font-family:Menlo,'DejaVu Sans Mono',consolas,'Courier New',monospace\"><span style=\"color: #008080; text-decoration-color: #008080\">Sites availability for dataset: </span>\n",
       "<span style=\"color: #800000; text-decoration-color: #800000\">/SlepSnuCascade_MN1-220_MN2-260_MC1-240_TuneCP5_13p6TeV_madgraphMLM-pythia8/Run3Summer23BPixNanoAODv12-130X_mcRun3_</span>\n",
       "<span style=\"color: #800000; text-decoration-color: #800000\">2023_realistic_postBPix_v6-v3/NANOAODSIM</span>\n",
       "</pre>\n"
      ],
      "text/plain": [
       "\u001b[36mSites availability for dataset: \u001b[0m\n",
       "\u001b[31m/SlepSnuCascade_MN1-220_MN2-260_MC1-240_TuneCP5_13p6TeV_madgraphMLM-pythia8/Run3Summer23BPixNanoAODv12-130X_mcRun3_\u001b[0m\n",
       "\u001b[31m2023_realistic_postBPix_v6-v3/\u001b[0m\u001b[31mNANOAODSIM\u001b[0m\n"
      ]
     },
     "metadata": {},
     "output_type": "display_data"
    },
    {
     "data": {
      "text/html": [
       "<pre style=\"white-space:pre;overflow-x:auto;line-height:normal;font-family:Menlo,'DejaVu Sans Mono',consolas,'Courier New',monospace\"><span style=\"font-style: italic\">                 Available replicas                  </span>\n",
       "┏━━━━━━━┳━━━━━━━━━━━━━━━━━━┳━━━━━━━━━┳━━━━━━━━━━━━━━┓\n",
       "┃<span style=\"font-weight: bold\"> Index </span>┃<span style=\"font-weight: bold\"> Site             </span>┃<span style=\"font-weight: bold\"> Files   </span>┃<span style=\"font-weight: bold\"> Availability </span>┃\n",
       "┡━━━━━━━╇━━━━━━━━━━━━━━━━━━╇━━━━━━━━━╇━━━━━━━━━━━━━━┩\n",
       "│<span style=\"color: #7f7f7f; text-decoration-color: #7f7f7f\">   0   </span>│<span style=\"color: #7fbfbf; text-decoration-color: #7fbfbf\"> T1_US_FNAL_Disk  </span>│<span style=\"color: #bf7fbf; text-decoration-color: #bf7fbf\"> 18 / 18 </span>│<span style=\"color: #7f7f7f; text-decoration-color: #7f7f7f\">    100.0%    </span>│\n",
       "│   1   │<span style=\"color: #008080; text-decoration-color: #008080\"> T2_FR_IPHC       </span>│<span style=\"color: #800080; text-decoration-color: #800080\"> 18 / 18 </span>│    100.0%    │\n",
       "│<span style=\"color: #7f7f7f; text-decoration-color: #7f7f7f\">   2   </span>│<span style=\"color: #7fbfbf; text-decoration-color: #7fbfbf\"> T2_US_Vanderbilt </span>│<span style=\"color: #bf7fbf; text-decoration-color: #bf7fbf\"> 18 / 18 </span>│<span style=\"color: #7f7f7f; text-decoration-color: #7f7f7f\">    100.0%    </span>│\n",
       "│   3   │<span style=\"color: #008080; text-decoration-color: #008080\"> T1_RU_JINR_Disk  </span>│<span style=\"color: #800080; text-decoration-color: #800080\"> 18 / 18 </span>│    100.0%    │\n",
       "│<span style=\"color: #7f7f7f; text-decoration-color: #7f7f7f\">   4   </span>│<span style=\"color: #7fbfbf; text-decoration-color: #7fbfbf\"> T2_DE_DESY       </span>│<span style=\"color: #bf7fbf; text-decoration-color: #bf7fbf\"> 2 / 18  </span>│<span style=\"color: #7f7f7f; text-decoration-color: #7f7f7f\">    11.1%     </span>│\n",
       "│   5   │<span style=\"color: #008080; text-decoration-color: #008080\"> T2_UK_London_IC  </span>│<span style=\"color: #800080; text-decoration-color: #800080\"> 2 / 18  </span>│    11.1%     │\n",
       "│<span style=\"color: #7f7f7f; text-decoration-color: #7f7f7f\">   6   </span>│<span style=\"color: #7fbfbf; text-decoration-color: #7fbfbf\"> T2_BR_SPRACE     </span>│<span style=\"color: #bf7fbf; text-decoration-color: #bf7fbf\"> 1 / 18  </span>│<span style=\"color: #7f7f7f; text-decoration-color: #7f7f7f\">     5.6%     </span>│\n",
       "│   7   │<span style=\"color: #008080; text-decoration-color: #008080\"> T1_IT_CNAF_Disk  </span>│<span style=\"color: #800080; text-decoration-color: #800080\"> 1 / 18  </span>│     5.6%     │\n",
       "│<span style=\"color: #7f7f7f; text-decoration-color: #7f7f7f\">   8   </span>│<span style=\"color: #7fbfbf; text-decoration-color: #7fbfbf\"> T1_UK_RAL_Disk   </span>│<span style=\"color: #bf7fbf; text-decoration-color: #bf7fbf\"> 1 / 18  </span>│<span style=\"color: #7f7f7f; text-decoration-color: #7f7f7f\">     5.6%     </span>│\n",
       "│   9   │<span style=\"color: #008080; text-decoration-color: #008080\"> T2_BE_IIHE       </span>│<span style=\"color: #800080; text-decoration-color: #800080\"> 1 / 18  </span>│     5.6%     │\n",
       "└───────┴──────────────────┴─────────┴──────────────┘\n",
       "</pre>\n"
      ],
      "text/plain": [
       "\u001b[3m                 Available replicas                  \u001b[0m\n",
       "┏━━━━━━━┳━━━━━━━━━━━━━━━━━━┳━━━━━━━━━┳━━━━━━━━━━━━━━┓\n",
       "┃\u001b[1m \u001b[0m\u001b[1mIndex\u001b[0m\u001b[1m \u001b[0m┃\u001b[1m \u001b[0m\u001b[1mSite            \u001b[0m\u001b[1m \u001b[0m┃\u001b[1m \u001b[0m\u001b[1mFiles  \u001b[0m\u001b[1m \u001b[0m┃\u001b[1m \u001b[0m\u001b[1mAvailability\u001b[0m\u001b[1m \u001b[0m┃\n",
       "┡━━━━━━━╇━━━━━━━━━━━━━━━━━━╇━━━━━━━━━╇━━━━━━━━━━━━━━┩\n",
       "│\u001b[2m \u001b[0m\u001b[2m  0  \u001b[0m\u001b[2m \u001b[0m│\u001b[2;36m \u001b[0m\u001b[2;36mT1_US_FNAL_Disk \u001b[0m\u001b[2;36m \u001b[0m│\u001b[2;35m \u001b[0m\u001b[2;35m18 / 18\u001b[0m\u001b[2;35m \u001b[0m│\u001b[2m \u001b[0m\u001b[2m   100.0%   \u001b[0m\u001b[2m \u001b[0m│\n",
       "│   1   │\u001b[36m \u001b[0m\u001b[36mT2_FR_IPHC      \u001b[0m\u001b[36m \u001b[0m│\u001b[35m \u001b[0m\u001b[35m18 / 18\u001b[0m\u001b[35m \u001b[0m│    100.0%    │\n",
       "│\u001b[2m \u001b[0m\u001b[2m  2  \u001b[0m\u001b[2m \u001b[0m│\u001b[2;36m \u001b[0m\u001b[2;36mT2_US_Vanderbilt\u001b[0m\u001b[2;36m \u001b[0m│\u001b[2;35m \u001b[0m\u001b[2;35m18 / 18\u001b[0m\u001b[2;35m \u001b[0m│\u001b[2m \u001b[0m\u001b[2m   100.0%   \u001b[0m\u001b[2m \u001b[0m│\n",
       "│   3   │\u001b[36m \u001b[0m\u001b[36mT1_RU_JINR_Disk \u001b[0m\u001b[36m \u001b[0m│\u001b[35m \u001b[0m\u001b[35m18 / 18\u001b[0m\u001b[35m \u001b[0m│    100.0%    │\n",
       "│\u001b[2m \u001b[0m\u001b[2m  4  \u001b[0m\u001b[2m \u001b[0m│\u001b[2;36m \u001b[0m\u001b[2;36mT2_DE_DESY      \u001b[0m\u001b[2;36m \u001b[0m│\u001b[2;35m \u001b[0m\u001b[2;35m2 / 18 \u001b[0m\u001b[2;35m \u001b[0m│\u001b[2m \u001b[0m\u001b[2m   11.1%    \u001b[0m\u001b[2m \u001b[0m│\n",
       "│   5   │\u001b[36m \u001b[0m\u001b[36mT2_UK_London_IC \u001b[0m\u001b[36m \u001b[0m│\u001b[35m \u001b[0m\u001b[35m2 / 18 \u001b[0m\u001b[35m \u001b[0m│    11.1%     │\n",
       "│\u001b[2m \u001b[0m\u001b[2m  6  \u001b[0m\u001b[2m \u001b[0m│\u001b[2;36m \u001b[0m\u001b[2;36mT2_BR_SPRACE    \u001b[0m\u001b[2;36m \u001b[0m│\u001b[2;35m \u001b[0m\u001b[2;35m1 / 18 \u001b[0m\u001b[2;35m \u001b[0m│\u001b[2m \u001b[0m\u001b[2m    5.6%    \u001b[0m\u001b[2m \u001b[0m│\n",
       "│   7   │\u001b[36m \u001b[0m\u001b[36mT1_IT_CNAF_Disk \u001b[0m\u001b[36m \u001b[0m│\u001b[35m \u001b[0m\u001b[35m1 / 18 \u001b[0m\u001b[35m \u001b[0m│     5.6%     │\n",
       "│\u001b[2m \u001b[0m\u001b[2m  8  \u001b[0m\u001b[2m \u001b[0m│\u001b[2;36m \u001b[0m\u001b[2;36mT1_UK_RAL_Disk  \u001b[0m\u001b[2;36m \u001b[0m│\u001b[2;35m \u001b[0m\u001b[2;35m1 / 18 \u001b[0m\u001b[2;35m \u001b[0m│\u001b[2m \u001b[0m\u001b[2m    5.6%    \u001b[0m\u001b[2m \u001b[0m│\n",
       "│   9   │\u001b[36m \u001b[0m\u001b[36mT2_BE_IIHE      \u001b[0m\u001b[36m \u001b[0m│\u001b[35m \u001b[0m\u001b[35m1 / 18 \u001b[0m\u001b[35m \u001b[0m│     5.6%     │\n",
       "└───────┴──────────────────┴─────────┴──────────────┘\n"
      ]
     },
     "metadata": {},
     "output_type": "display_data"
    },
    {
     "data": {
      "text/html": [
       "<pre style=\"white-space:pre;overflow-x:auto;line-height:normal;font-family:Menlo,'DejaVu Sans Mono',consolas,'Courier New',monospace\">Replicas for \n",
       "<span style=\"color: #008000; text-decoration-color: #008000\">/SlepSnuCascade_MN1-220_MN2-260_MC1-240_TuneCP5_13p6TeV_madgraphMLM-pythia8/Run3Summer23BPixNanoAODv12-130X_mcRun3_</span>\n",
       "<span style=\"color: #008000; text-decoration-color: #008000\">2023_realistic_postBPix_v6-v3/NANOAODSIM</span>\n",
       "└── <span style=\"color: #008000; text-decoration-color: #008000\">T1_US_FNAL_Disk</span>\n",
       "    ├── <span style=\"color: #008080; text-decoration-color: #008080\">root://cmsdcadisk.fnal.gov//dcache/uscmsdisk/store/mc/Run3Summer23BPixNanoAODv12/SlepSnuCascade_MN1-220_MN2</span>\n",
       "    │   <span style=\"color: #008080; text-decoration-color: #008080\">-260_MC1-240_TuneCP5_13p6TeV_madgraphMLM-pythia8/NANOAODSIM/130X_mcRun3_2023_realistic_postBPix_v6-v3/25200</span>\n",
       "    │   <span style=\"color: #008080; text-decoration-color: #008080\">00/0238744e-b5c3-48d0-9415-97854405b503.root</span>\n",
       "    ├── <span style=\"color: #008080; text-decoration-color: #008080\">root://cmsdcadisk.fnal.gov//dcache/uscmsdisk/store/mc/Run3Summer23BPixNanoAODv12/SlepSnuCascade_MN1-220_MN2</span>\n",
       "    │   <span style=\"color: #008080; text-decoration-color: #008080\">-260_MC1-240_TuneCP5_13p6TeV_madgraphMLM-pythia8/NANOAODSIM/130X_mcRun3_2023_realistic_postBPix_v6-v3/25200</span>\n",
       "    │   <span style=\"color: #008080; text-decoration-color: #008080\">00/1b117b99-b288-4121-a3ad-e9cdee0deebd.root</span>\n",
       "    ├── <span style=\"color: #008080; text-decoration-color: #008080\">root://cmsdcadisk.fnal.gov//dcache/uscmsdisk/store/mc/Run3Summer23BPixNanoAODv12/SlepSnuCascade_MN1-220_MN2</span>\n",
       "    │   <span style=\"color: #008080; text-decoration-color: #008080\">-260_MC1-240_TuneCP5_13p6TeV_madgraphMLM-pythia8/NANOAODSIM/130X_mcRun3_2023_realistic_postBPix_v6-v3/25200</span>\n",
       "    │   <span style=\"color: #008080; text-decoration-color: #008080\">00/1c3d452f-62da-4dd1-9734-fbd7024de64d.root</span>\n",
       "    ├── <span style=\"color: #008080; text-decoration-color: #008080\">root://cmsdcadisk.fnal.gov//dcache/uscmsdisk/store/mc/Run3Summer23BPixNanoAODv12/SlepSnuCascade_MN1-220_MN2</span>\n",
       "    │   <span style=\"color: #008080; text-decoration-color: #008080\">-260_MC1-240_TuneCP5_13p6TeV_madgraphMLM-pythia8/NANOAODSIM/130X_mcRun3_2023_realistic_postBPix_v6-v3/25200</span>\n",
       "    │   <span style=\"color: #008080; text-decoration-color: #008080\">00/1d2b26be-ae3d-42a2-8788-be01a97b28c7.root</span>\n",
       "    ├── <span style=\"color: #008080; text-decoration-color: #008080\">root://cmsdcadisk.fnal.gov//dcache/uscmsdisk/store/mc/Run3Summer23BPixNanoAODv12/SlepSnuCascade_MN1-220_MN2</span>\n",
       "    │   <span style=\"color: #008080; text-decoration-color: #008080\">-260_MC1-240_TuneCP5_13p6TeV_madgraphMLM-pythia8/NANOAODSIM/130X_mcRun3_2023_realistic_postBPix_v6-v3/25200</span>\n",
       "    │   <span style=\"color: #008080; text-decoration-color: #008080\">00/393292c6-6a1a-45d1-9031-1c05e0ddba78.root</span>\n",
       "    ├── <span style=\"color: #008080; text-decoration-color: #008080\">root://cmsdcadisk.fnal.gov//dcache/uscmsdisk/store/mc/Run3Summer23BPixNanoAODv12/SlepSnuCascade_MN1-220_MN2</span>\n",
       "    │   <span style=\"color: #008080; text-decoration-color: #008080\">-260_MC1-240_TuneCP5_13p6TeV_madgraphMLM-pythia8/NANOAODSIM/130X_mcRun3_2023_realistic_postBPix_v6-v3/25200</span>\n",
       "    │   <span style=\"color: #008080; text-decoration-color: #008080\">00/435988e8-a68a-48d0-82f0-a388dd64d7b6.root</span>\n",
       "    ├── <span style=\"color: #008080; text-decoration-color: #008080\">root://cmsdcadisk.fnal.gov//dcache/uscmsdisk/store/mc/Run3Summer23BPixNanoAODv12/SlepSnuCascade_MN1-220_MN2</span>\n",
       "    │   <span style=\"color: #008080; text-decoration-color: #008080\">-260_MC1-240_TuneCP5_13p6TeV_madgraphMLM-pythia8/NANOAODSIM/130X_mcRun3_2023_realistic_postBPix_v6-v3/25200</span>\n",
       "    │   <span style=\"color: #008080; text-decoration-color: #008080\">00/45161c49-7f6a-4d5f-8cc7-15382cad4682.root</span>\n",
       "    ├── <span style=\"color: #008080; text-decoration-color: #008080\">root://cmsdcadisk.fnal.gov//dcache/uscmsdisk/store/mc/Run3Summer23BPixNanoAODv12/SlepSnuCascade_MN1-220_MN2</span>\n",
       "    │   <span style=\"color: #008080; text-decoration-color: #008080\">-260_MC1-240_TuneCP5_13p6TeV_madgraphMLM-pythia8/NANOAODSIM/130X_mcRun3_2023_realistic_postBPix_v6-v3/25200</span>\n",
       "    │   <span style=\"color: #008080; text-decoration-color: #008080\">00/525b3721-8456-4be9-8ebb-9bd077162131.root</span>\n",
       "    ├── <span style=\"color: #008080; text-decoration-color: #008080\">root://cmsdcadisk.fnal.gov//dcache/uscmsdisk/store/mc/Run3Summer23BPixNanoAODv12/SlepSnuCascade_MN1-220_MN2</span>\n",
       "    │   <span style=\"color: #008080; text-decoration-color: #008080\">-260_MC1-240_TuneCP5_13p6TeV_madgraphMLM-pythia8/NANOAODSIM/130X_mcRun3_2023_realistic_postBPix_v6-v3/25200</span>\n",
       "    │   <span style=\"color: #008080; text-decoration-color: #008080\">00/60150486-f22c-4b0a-8222-02b26a9493f1.root</span>\n",
       "    ├── <span style=\"color: #008080; text-decoration-color: #008080\">root://cmsdcadisk.fnal.gov//dcache/uscmsdisk/store/mc/Run3Summer23BPixNanoAODv12/SlepSnuCascade_MN1-220_MN2</span>\n",
       "    │   <span style=\"color: #008080; text-decoration-color: #008080\">-260_MC1-240_TuneCP5_13p6TeV_madgraphMLM-pythia8/NANOAODSIM/130X_mcRun3_2023_realistic_postBPix_v6-v3/25200</span>\n",
       "    │   <span style=\"color: #008080; text-decoration-color: #008080\">00/6d6e3789-b918-4aab-a86c-efafffabf12c.root</span>\n",
       "    ├── <span style=\"color: #008080; text-decoration-color: #008080\">root://cmsdcadisk.fnal.gov//dcache/uscmsdisk/store/mc/Run3Summer23BPixNanoAODv12/SlepSnuCascade_MN1-220_MN2</span>\n",
       "    │   <span style=\"color: #008080; text-decoration-color: #008080\">-260_MC1-240_TuneCP5_13p6TeV_madgraphMLM-pythia8/NANOAODSIM/130X_mcRun3_2023_realistic_postBPix_v6-v3/25200</span>\n",
       "    │   <span style=\"color: #008080; text-decoration-color: #008080\">00/6fd954b5-2f2c-4efb-8fdd-18c78bbe0649.root</span>\n",
       "    ├── <span style=\"color: #008080; text-decoration-color: #008080\">root://cmsdcadisk.fnal.gov//dcache/uscmsdisk/store/mc/Run3Summer23BPixNanoAODv12/SlepSnuCascade_MN1-220_MN2</span>\n",
       "    │   <span style=\"color: #008080; text-decoration-color: #008080\">-260_MC1-240_TuneCP5_13p6TeV_madgraphMLM-pythia8/NANOAODSIM/130X_mcRun3_2023_realistic_postBPix_v6-v3/25200</span>\n",
       "    │   <span style=\"color: #008080; text-decoration-color: #008080\">00/794b6891-e65e-422a-9388-9f87663c83ae.root</span>\n",
       "    ├── <span style=\"color: #008080; text-decoration-color: #008080\">root://cmsdcadisk.fnal.gov//dcache/uscmsdisk/store/mc/Run3Summer23BPixNanoAODv12/SlepSnuCascade_MN1-220_MN2</span>\n",
       "    │   <span style=\"color: #008080; text-decoration-color: #008080\">-260_MC1-240_TuneCP5_13p6TeV_madgraphMLM-pythia8/NANOAODSIM/130X_mcRun3_2023_realistic_postBPix_v6-v3/25200</span>\n",
       "    │   <span style=\"color: #008080; text-decoration-color: #008080\">00/8a33b5b6-5328-4552-848d-693c050bbc9d.root</span>\n",
       "    ├── <span style=\"color: #008080; text-decoration-color: #008080\">root://cmsdcadisk.fnal.gov//dcache/uscmsdisk/store/mc/Run3Summer23BPixNanoAODv12/SlepSnuCascade_MN1-220_MN2</span>\n",
       "    │   <span style=\"color: #008080; text-decoration-color: #008080\">-260_MC1-240_TuneCP5_13p6TeV_madgraphMLM-pythia8/NANOAODSIM/130X_mcRun3_2023_realistic_postBPix_v6-v3/25200</span>\n",
       "    │   <span style=\"color: #008080; text-decoration-color: #008080\">00/8eb51295-6260-4a29-b5bd-04c8d3231ceb.root</span>\n",
       "    ├── <span style=\"color: #008080; text-decoration-color: #008080\">root://cmsdcadisk.fnal.gov//dcache/uscmsdisk/store/mc/Run3Summer23BPixNanoAODv12/SlepSnuCascade_MN1-220_MN2</span>\n",
       "    │   <span style=\"color: #008080; text-decoration-color: #008080\">-260_MC1-240_TuneCP5_13p6TeV_madgraphMLM-pythia8/NANOAODSIM/130X_mcRun3_2023_realistic_postBPix_v6-v3/25200</span>\n",
       "    │   <span style=\"color: #008080; text-decoration-color: #008080\">00/aa622bcd-2d33-449f-b803-8972fe021efd.root</span>\n",
       "    ├── <span style=\"color: #008080; text-decoration-color: #008080\">root://cmsdcadisk.fnal.gov//dcache/uscmsdisk/store/mc/Run3Summer23BPixNanoAODv12/SlepSnuCascade_MN1-220_MN2</span>\n",
       "    │   <span style=\"color: #008080; text-decoration-color: #008080\">-260_MC1-240_TuneCP5_13p6TeV_madgraphMLM-pythia8/NANOAODSIM/130X_mcRun3_2023_realistic_postBPix_v6-v3/25200</span>\n",
       "    │   <span style=\"color: #008080; text-decoration-color: #008080\">00/d3272061-dba4-4258-9947-eccaee03ae45.root</span>\n",
       "    ├── <span style=\"color: #008080; text-decoration-color: #008080\">root://cmsdcadisk.fnal.gov//dcache/uscmsdisk/store/mc/Run3Summer23BPixNanoAODv12/SlepSnuCascade_MN1-220_MN2</span>\n",
       "    │   <span style=\"color: #008080; text-decoration-color: #008080\">-260_MC1-240_TuneCP5_13p6TeV_madgraphMLM-pythia8/NANOAODSIM/130X_mcRun3_2023_realistic_postBPix_v6-v3/25200</span>\n",
       "    │   <span style=\"color: #008080; text-decoration-color: #008080\">00/fe4466d8-f94d-460e-b165-4d6d746cf27d.root</span>\n",
       "    └── <span style=\"color: #008080; text-decoration-color: #008080\">root://cmsdcadisk.fnal.gov//dcache/uscmsdisk/store/mc/Run3Summer23BPixNanoAODv12/SlepSnuCascade_MN1-220_MN2</span>\n",
       "        <span style=\"color: #008080; text-decoration-color: #008080\">-260_MC1-240_TuneCP5_13p6TeV_madgraphMLM-pythia8/NANOAODSIM/130X_mcRun3_2023_realistic_postBPix_v6-v3/25300</span>\n",
       "        <span style=\"color: #008080; text-decoration-color: #008080\">00/7c67a574-a41f-4ffc-921a-7a268002cdc7.root</span>\n",
       "</pre>\n"
      ],
      "text/plain": [
       "Replicas for \n",
       "\u001b[32m/SlepSnuCascade_MN1-220_MN2-260_MC1-240_TuneCP5_13p6TeV_madgraphMLM-pythia8/Run3Summer23BPixNanoAODv12-130X_mcRun3_\u001b[0m\n",
       "\u001b[32m2023_realistic_postBPix_v6-v3/NANOAODSIM\u001b[0m\n",
       "└── \u001b[32mT1_US_FNAL_Disk\u001b[0m\n",
       "    ├── \u001b[36mroot://cmsdcadisk.fnal.gov//dcache/uscmsdisk/store/mc/Run3Summer23BPixNanoAODv12/SlepSnuCascade_MN1-220_MN2\u001b[0m\n",
       "    │   \u001b[36m-260_MC1-240_TuneCP5_13p6TeV_madgraphMLM-pythia8/NANOAODSIM/130X_mcRun3_2023_realistic_postBPix_v6-v3/25200\u001b[0m\n",
       "    │   \u001b[36m00/0238744e-b5c3-48d0-9415-97854405b503.root\u001b[0m\n",
       "    ├── \u001b[36mroot://cmsdcadisk.fnal.gov//dcache/uscmsdisk/store/mc/Run3Summer23BPixNanoAODv12/SlepSnuCascade_MN1-220_MN2\u001b[0m\n",
       "    │   \u001b[36m-260_MC1-240_TuneCP5_13p6TeV_madgraphMLM-pythia8/NANOAODSIM/130X_mcRun3_2023_realistic_postBPix_v6-v3/25200\u001b[0m\n",
       "    │   \u001b[36m00/1b117b99-b288-4121-a3ad-e9cdee0deebd.root\u001b[0m\n",
       "    ├── \u001b[36mroot://cmsdcadisk.fnal.gov//dcache/uscmsdisk/store/mc/Run3Summer23BPixNanoAODv12/SlepSnuCascade_MN1-220_MN2\u001b[0m\n",
       "    │   \u001b[36m-260_MC1-240_TuneCP5_13p6TeV_madgraphMLM-pythia8/NANOAODSIM/130X_mcRun3_2023_realistic_postBPix_v6-v3/25200\u001b[0m\n",
       "    │   \u001b[36m00/1c3d452f-62da-4dd1-9734-fbd7024de64d.root\u001b[0m\n",
       "    ├── \u001b[36mroot://cmsdcadisk.fnal.gov//dcache/uscmsdisk/store/mc/Run3Summer23BPixNanoAODv12/SlepSnuCascade_MN1-220_MN2\u001b[0m\n",
       "    │   \u001b[36m-260_MC1-240_TuneCP5_13p6TeV_madgraphMLM-pythia8/NANOAODSIM/130X_mcRun3_2023_realistic_postBPix_v6-v3/25200\u001b[0m\n",
       "    │   \u001b[36m00/1d2b26be-ae3d-42a2-8788-be01a97b28c7.root\u001b[0m\n",
       "    ├── \u001b[36mroot://cmsdcadisk.fnal.gov//dcache/uscmsdisk/store/mc/Run3Summer23BPixNanoAODv12/SlepSnuCascade_MN1-220_MN2\u001b[0m\n",
       "    │   \u001b[36m-260_MC1-240_TuneCP5_13p6TeV_madgraphMLM-pythia8/NANOAODSIM/130X_mcRun3_2023_realistic_postBPix_v6-v3/25200\u001b[0m\n",
       "    │   \u001b[36m00/393292c6-6a1a-45d1-9031-1c05e0ddba78.root\u001b[0m\n",
       "    ├── \u001b[36mroot://cmsdcadisk.fnal.gov//dcache/uscmsdisk/store/mc/Run3Summer23BPixNanoAODv12/SlepSnuCascade_MN1-220_MN2\u001b[0m\n",
       "    │   \u001b[36m-260_MC1-240_TuneCP5_13p6TeV_madgraphMLM-pythia8/NANOAODSIM/130X_mcRun3_2023_realistic_postBPix_v6-v3/25200\u001b[0m\n",
       "    │   \u001b[36m00/435988e8-a68a-48d0-82f0-a388dd64d7b6.root\u001b[0m\n",
       "    ├── \u001b[36mroot://cmsdcadisk.fnal.gov//dcache/uscmsdisk/store/mc/Run3Summer23BPixNanoAODv12/SlepSnuCascade_MN1-220_MN2\u001b[0m\n",
       "    │   \u001b[36m-260_MC1-240_TuneCP5_13p6TeV_madgraphMLM-pythia8/NANOAODSIM/130X_mcRun3_2023_realistic_postBPix_v6-v3/25200\u001b[0m\n",
       "    │   \u001b[36m00/45161c49-7f6a-4d5f-8cc7-15382cad4682.root\u001b[0m\n",
       "    ├── \u001b[36mroot://cmsdcadisk.fnal.gov//dcache/uscmsdisk/store/mc/Run3Summer23BPixNanoAODv12/SlepSnuCascade_MN1-220_MN2\u001b[0m\n",
       "    │   \u001b[36m-260_MC1-240_TuneCP5_13p6TeV_madgraphMLM-pythia8/NANOAODSIM/130X_mcRun3_2023_realistic_postBPix_v6-v3/25200\u001b[0m\n",
       "    │   \u001b[36m00/525b3721-8456-4be9-8ebb-9bd077162131.root\u001b[0m\n",
       "    ├── \u001b[36mroot://cmsdcadisk.fnal.gov//dcache/uscmsdisk/store/mc/Run3Summer23BPixNanoAODv12/SlepSnuCascade_MN1-220_MN2\u001b[0m\n",
       "    │   \u001b[36m-260_MC1-240_TuneCP5_13p6TeV_madgraphMLM-pythia8/NANOAODSIM/130X_mcRun3_2023_realistic_postBPix_v6-v3/25200\u001b[0m\n",
       "    │   \u001b[36m00/60150486-f22c-4b0a-8222-02b26a9493f1.root\u001b[0m\n",
       "    ├── \u001b[36mroot://cmsdcadisk.fnal.gov//dcache/uscmsdisk/store/mc/Run3Summer23BPixNanoAODv12/SlepSnuCascade_MN1-220_MN2\u001b[0m\n",
       "    │   \u001b[36m-260_MC1-240_TuneCP5_13p6TeV_madgraphMLM-pythia8/NANOAODSIM/130X_mcRun3_2023_realistic_postBPix_v6-v3/25200\u001b[0m\n",
       "    │   \u001b[36m00/6d6e3789-b918-4aab-a86c-efafffabf12c.root\u001b[0m\n",
       "    ├── \u001b[36mroot://cmsdcadisk.fnal.gov//dcache/uscmsdisk/store/mc/Run3Summer23BPixNanoAODv12/SlepSnuCascade_MN1-220_MN2\u001b[0m\n",
       "    │   \u001b[36m-260_MC1-240_TuneCP5_13p6TeV_madgraphMLM-pythia8/NANOAODSIM/130X_mcRun3_2023_realistic_postBPix_v6-v3/25200\u001b[0m\n",
       "    │   \u001b[36m00/6fd954b5-2f2c-4efb-8fdd-18c78bbe0649.root\u001b[0m\n",
       "    ├── \u001b[36mroot://cmsdcadisk.fnal.gov//dcache/uscmsdisk/store/mc/Run3Summer23BPixNanoAODv12/SlepSnuCascade_MN1-220_MN2\u001b[0m\n",
       "    │   \u001b[36m-260_MC1-240_TuneCP5_13p6TeV_madgraphMLM-pythia8/NANOAODSIM/130X_mcRun3_2023_realistic_postBPix_v6-v3/25200\u001b[0m\n",
       "    │   \u001b[36m00/794b6891-e65e-422a-9388-9f87663c83ae.root\u001b[0m\n",
       "    ├── \u001b[36mroot://cmsdcadisk.fnal.gov//dcache/uscmsdisk/store/mc/Run3Summer23BPixNanoAODv12/SlepSnuCascade_MN1-220_MN2\u001b[0m\n",
       "    │   \u001b[36m-260_MC1-240_TuneCP5_13p6TeV_madgraphMLM-pythia8/NANOAODSIM/130X_mcRun3_2023_realistic_postBPix_v6-v3/25200\u001b[0m\n",
       "    │   \u001b[36m00/8a33b5b6-5328-4552-848d-693c050bbc9d.root\u001b[0m\n",
       "    ├── \u001b[36mroot://cmsdcadisk.fnal.gov//dcache/uscmsdisk/store/mc/Run3Summer23BPixNanoAODv12/SlepSnuCascade_MN1-220_MN2\u001b[0m\n",
       "    │   \u001b[36m-260_MC1-240_TuneCP5_13p6TeV_madgraphMLM-pythia8/NANOAODSIM/130X_mcRun3_2023_realistic_postBPix_v6-v3/25200\u001b[0m\n",
       "    │   \u001b[36m00/8eb51295-6260-4a29-b5bd-04c8d3231ceb.root\u001b[0m\n",
       "    ├── \u001b[36mroot://cmsdcadisk.fnal.gov//dcache/uscmsdisk/store/mc/Run3Summer23BPixNanoAODv12/SlepSnuCascade_MN1-220_MN2\u001b[0m\n",
       "    │   \u001b[36m-260_MC1-240_TuneCP5_13p6TeV_madgraphMLM-pythia8/NANOAODSIM/130X_mcRun3_2023_realistic_postBPix_v6-v3/25200\u001b[0m\n",
       "    │   \u001b[36m00/aa622bcd-2d33-449f-b803-8972fe021efd.root\u001b[0m\n",
       "    ├── \u001b[36mroot://cmsdcadisk.fnal.gov//dcache/uscmsdisk/store/mc/Run3Summer23BPixNanoAODv12/SlepSnuCascade_MN1-220_MN2\u001b[0m\n",
       "    │   \u001b[36m-260_MC1-240_TuneCP5_13p6TeV_madgraphMLM-pythia8/NANOAODSIM/130X_mcRun3_2023_realistic_postBPix_v6-v3/25200\u001b[0m\n",
       "    │   \u001b[36m00/d3272061-dba4-4258-9947-eccaee03ae45.root\u001b[0m\n",
       "    ├── \u001b[36mroot://cmsdcadisk.fnal.gov//dcache/uscmsdisk/store/mc/Run3Summer23BPixNanoAODv12/SlepSnuCascade_MN1-220_MN2\u001b[0m\n",
       "    │   \u001b[36m-260_MC1-240_TuneCP5_13p6TeV_madgraphMLM-pythia8/NANOAODSIM/130X_mcRun3_2023_realistic_postBPix_v6-v3/25200\u001b[0m\n",
       "    │   \u001b[36m00/fe4466d8-f94d-460e-b165-4d6d746cf27d.root\u001b[0m\n",
       "    └── \u001b[36mroot://cmsdcadisk.fnal.gov//dcache/uscmsdisk/store/mc/Run3Summer23BPixNanoAODv12/SlepSnuCascade_MN1-220_MN2\u001b[0m\n",
       "        \u001b[36m-260_MC1-240_TuneCP5_13p6TeV_madgraphMLM-pythia8/NANOAODSIM/130X_mcRun3_2023_realistic_postBPix_v6-v3/25300\u001b[0m\n",
       "        \u001b[36m00/7c67a574-a41f-4ffc-921a-7a268002cdc7.root\u001b[0m\n"
      ]
     },
     "metadata": {},
     "output_type": "display_data"
    },
    {
     "data": {
      "application/vnd.jupyter.widget-view+json": {
       "model_id": "",
       "version_major": 2,
       "version_minor": 0
      },
      "text/plain": [
       "Output()"
      ]
     },
     "metadata": {},
     "output_type": "display_data"
    },
    {
     "data": {
      "text/html": [
       "<pre style=\"white-space:pre;overflow-x:auto;line-height:normal;font-family:Menlo,'DejaVu Sans Mono',consolas,'Courier New',monospace\"></pre>\n"
      ],
      "text/plain": []
     },
     "metadata": {},
     "output_type": "display_data"
    },
    {
     "data": {
      "text/html": [
       "<pre style=\"white-space:pre;overflow-x:auto;line-height:normal;font-family:Menlo,'DejaVu Sans Mono',consolas,'Courier New',monospace\"><span style=\"color: #008080; text-decoration-color: #008080\">Sites availability for dataset: </span>\n",
       "<span style=\"color: #800000; text-decoration-color: #800000\">/SlepSnuCascade_MN1-260_MN2-280_MC1-270_TuneCP5_13p6TeV_madgraphMLM-pythia8/Run3Summer23BPixNanoAODv12-130X_mcRun3_</span>\n",
       "<span style=\"color: #800000; text-decoration-color: #800000\">2023_realistic_postBPix_v6-v3/NANOAODSIM</span>\n",
       "</pre>\n"
      ],
      "text/plain": [
       "\u001b[36mSites availability for dataset: \u001b[0m\n",
       "\u001b[31m/SlepSnuCascade_MN1-260_MN2-280_MC1-270_TuneCP5_13p6TeV_madgraphMLM-pythia8/Run3Summer23BPixNanoAODv12-130X_mcRun3_\u001b[0m\n",
       "\u001b[31m2023_realistic_postBPix_v6-v3/\u001b[0m\u001b[31mNANOAODSIM\u001b[0m\n"
      ]
     },
     "metadata": {},
     "output_type": "display_data"
    },
    {
     "data": {
      "text/html": [
       "<pre style=\"white-space:pre;overflow-x:auto;line-height:normal;font-family:Menlo,'DejaVu Sans Mono',consolas,'Courier New',monospace\"><span style=\"font-style: italic\">                 Available replicas                  </span>\n",
       "┏━━━━━━━┳━━━━━━━━━━━━━━━━━━┳━━━━━━━━━┳━━━━━━━━━━━━━━┓\n",
       "┃<span style=\"font-weight: bold\"> Index </span>┃<span style=\"font-weight: bold\"> Site             </span>┃<span style=\"font-weight: bold\"> Files   </span>┃<span style=\"font-weight: bold\"> Availability </span>┃\n",
       "┡━━━━━━━╇━━━━━━━━━━━━━━━━━━╇━━━━━━━━━╇━━━━━━━━━━━━━━┩\n",
       "│<span style=\"color: #7f7f7f; text-decoration-color: #7f7f7f\">   0   </span>│<span style=\"color: #7fbfbf; text-decoration-color: #7fbfbf\"> T2_FR_IPHC       </span>│<span style=\"color: #bf7fbf; text-decoration-color: #bf7fbf\"> 16 / 16 </span>│<span style=\"color: #7f7f7f; text-decoration-color: #7f7f7f\">    100.0%    </span>│\n",
       "│   1   │<span style=\"color: #008080; text-decoration-color: #008080\"> T2_PL_Swierk     </span>│<span style=\"color: #800080; text-decoration-color: #800080\"> 16 / 16 </span>│    100.0%    │\n",
       "│<span style=\"color: #7f7f7f; text-decoration-color: #7f7f7f\">   2   </span>│<span style=\"color: #7fbfbf; text-decoration-color: #7fbfbf\"> T1_ES_PIC_Disk   </span>│<span style=\"color: #bf7fbf; text-decoration-color: #bf7fbf\"> 16 / 16 </span>│<span style=\"color: #7f7f7f; text-decoration-color: #7f7f7f\">    100.0%    </span>│\n",
       "│   3   │<span style=\"color: #008080; text-decoration-color: #008080\"> T2_US_Florida    </span>│<span style=\"color: #800080; text-decoration-color: #800080\"> 16 / 16 </span>│    100.0%    │\n",
       "│<span style=\"color: #7f7f7f; text-decoration-color: #7f7f7f\">   4   </span>│<span style=\"color: #7fbfbf; text-decoration-color: #7fbfbf\"> T2_US_Nebraska   </span>│<span style=\"color: #bf7fbf; text-decoration-color: #bf7fbf\"> 16 / 16 </span>│<span style=\"color: #7f7f7f; text-decoration-color: #7f7f7f\">    100.0%    </span>│\n",
       "│   5   │<span style=\"color: #008080; text-decoration-color: #008080\"> T2_UK_London_IC  </span>│<span style=\"color: #800080; text-decoration-color: #800080\"> 2 / 16  </span>│    12.5%     │\n",
       "│<span style=\"color: #7f7f7f; text-decoration-color: #7f7f7f\">   6   </span>│<span style=\"color: #7fbfbf; text-decoration-color: #7fbfbf\"> T3_US_Colorado   </span>│<span style=\"color: #bf7fbf; text-decoration-color: #bf7fbf\"> 1 / 16  </span>│<span style=\"color: #7f7f7f; text-decoration-color: #7f7f7f\">     6.2%     </span>│\n",
       "│   7   │<span style=\"color: #008080; text-decoration-color: #008080\"> T2_US_Vanderbilt </span>│<span style=\"color: #800080; text-decoration-color: #800080\"> 1 / 16  </span>│     6.2%     │\n",
       "│<span style=\"color: #7f7f7f; text-decoration-color: #7f7f7f\">   8   </span>│<span style=\"color: #7fbfbf; text-decoration-color: #7fbfbf\"> T1_RU_JINR_Disk  </span>│<span style=\"color: #bf7fbf; text-decoration-color: #bf7fbf\"> 1 / 16  </span>│<span style=\"color: #7f7f7f; text-decoration-color: #7f7f7f\">     6.2%     </span>│\n",
       "└───────┴──────────────────┴─────────┴──────────────┘\n",
       "</pre>\n"
      ],
      "text/plain": [
       "\u001b[3m                 Available replicas                  \u001b[0m\n",
       "┏━━━━━━━┳━━━━━━━━━━━━━━━━━━┳━━━━━━━━━┳━━━━━━━━━━━━━━┓\n",
       "┃\u001b[1m \u001b[0m\u001b[1mIndex\u001b[0m\u001b[1m \u001b[0m┃\u001b[1m \u001b[0m\u001b[1mSite            \u001b[0m\u001b[1m \u001b[0m┃\u001b[1m \u001b[0m\u001b[1mFiles  \u001b[0m\u001b[1m \u001b[0m┃\u001b[1m \u001b[0m\u001b[1mAvailability\u001b[0m\u001b[1m \u001b[0m┃\n",
       "┡━━━━━━━╇━━━━━━━━━━━━━━━━━━╇━━━━━━━━━╇━━━━━━━━━━━━━━┩\n",
       "│\u001b[2m \u001b[0m\u001b[2m  0  \u001b[0m\u001b[2m \u001b[0m│\u001b[2;36m \u001b[0m\u001b[2;36mT2_FR_IPHC      \u001b[0m\u001b[2;36m \u001b[0m│\u001b[2;35m \u001b[0m\u001b[2;35m16 / 16\u001b[0m\u001b[2;35m \u001b[0m│\u001b[2m \u001b[0m\u001b[2m   100.0%   \u001b[0m\u001b[2m \u001b[0m│\n",
       "│   1   │\u001b[36m \u001b[0m\u001b[36mT2_PL_Swierk    \u001b[0m\u001b[36m \u001b[0m│\u001b[35m \u001b[0m\u001b[35m16 / 16\u001b[0m\u001b[35m \u001b[0m│    100.0%    │\n",
       "│\u001b[2m \u001b[0m\u001b[2m  2  \u001b[0m\u001b[2m \u001b[0m│\u001b[2;36m \u001b[0m\u001b[2;36mT1_ES_PIC_Disk  \u001b[0m\u001b[2;36m \u001b[0m│\u001b[2;35m \u001b[0m\u001b[2;35m16 / 16\u001b[0m\u001b[2;35m \u001b[0m│\u001b[2m \u001b[0m\u001b[2m   100.0%   \u001b[0m\u001b[2m \u001b[0m│\n",
       "│   3   │\u001b[36m \u001b[0m\u001b[36mT2_US_Florida   \u001b[0m\u001b[36m \u001b[0m│\u001b[35m \u001b[0m\u001b[35m16 / 16\u001b[0m\u001b[35m \u001b[0m│    100.0%    │\n",
       "│\u001b[2m \u001b[0m\u001b[2m  4  \u001b[0m\u001b[2m \u001b[0m│\u001b[2;36m \u001b[0m\u001b[2;36mT2_US_Nebraska  \u001b[0m\u001b[2;36m \u001b[0m│\u001b[2;35m \u001b[0m\u001b[2;35m16 / 16\u001b[0m\u001b[2;35m \u001b[0m│\u001b[2m \u001b[0m\u001b[2m   100.0%   \u001b[0m\u001b[2m \u001b[0m│\n",
       "│   5   │\u001b[36m \u001b[0m\u001b[36mT2_UK_London_IC \u001b[0m\u001b[36m \u001b[0m│\u001b[35m \u001b[0m\u001b[35m2 / 16 \u001b[0m\u001b[35m \u001b[0m│    12.5%     │\n",
       "│\u001b[2m \u001b[0m\u001b[2m  6  \u001b[0m\u001b[2m \u001b[0m│\u001b[2;36m \u001b[0m\u001b[2;36mT3_US_Colorado  \u001b[0m\u001b[2;36m \u001b[0m│\u001b[2;35m \u001b[0m\u001b[2;35m1 / 16 \u001b[0m\u001b[2;35m \u001b[0m│\u001b[2m \u001b[0m\u001b[2m    6.2%    \u001b[0m\u001b[2m \u001b[0m│\n",
       "│   7   │\u001b[36m \u001b[0m\u001b[36mT2_US_Vanderbilt\u001b[0m\u001b[36m \u001b[0m│\u001b[35m \u001b[0m\u001b[35m1 / 16 \u001b[0m\u001b[35m \u001b[0m│     6.2%     │\n",
       "│\u001b[2m \u001b[0m\u001b[2m  8  \u001b[0m\u001b[2m \u001b[0m│\u001b[2;36m \u001b[0m\u001b[2;36mT1_RU_JINR_Disk \u001b[0m\u001b[2;36m \u001b[0m│\u001b[2;35m \u001b[0m\u001b[2;35m1 / 16 \u001b[0m\u001b[2;35m \u001b[0m│\u001b[2m \u001b[0m\u001b[2m    6.2%    \u001b[0m\u001b[2m \u001b[0m│\n",
       "└───────┴──────────────────┴─────────┴──────────────┘\n"
      ]
     },
     "metadata": {},
     "output_type": "display_data"
    },
    {
     "data": {
      "text/html": [
       "<pre style=\"white-space:pre;overflow-x:auto;line-height:normal;font-family:Menlo,'DejaVu Sans Mono',consolas,'Courier New',monospace\">Replicas for \n",
       "<span style=\"color: #008000; text-decoration-color: #008000\">/SlepSnuCascade_MN1-260_MN2-280_MC1-270_TuneCP5_13p6TeV_madgraphMLM-pythia8/Run3Summer23BPixNanoAODv12-130X_mcRun3_</span>\n",
       "<span style=\"color: #008000; text-decoration-color: #008000\">2023_realistic_postBPix_v6-v3/NANOAODSIM</span>\n",
       "└── <span style=\"color: #008000; text-decoration-color: #008000\">T2_FR_IPHC</span>\n",
       "    ├── <span style=\"color: #008080; text-decoration-color: #008080\">root://sbgdcache.in2p3.fr//store/mc/Run3Summer23BPixNanoAODv12/SlepSnuCascade_MN1-260_MN2-280_MC1-270_TuneC</span>\n",
       "    │   <span style=\"color: #008080; text-decoration-color: #008080\">P5_13p6TeV_madgraphMLM-pythia8/NANOAODSIM/130X_mcRun3_2023_realistic_postBPix_v6-v3/2530000/0d22cdae-b8db-4</span>\n",
       "    │   <span style=\"color: #008080; text-decoration-color: #008080\">1fb-8ab4-f0c74187f950.root</span>\n",
       "    ├── <span style=\"color: #008080; text-decoration-color: #008080\">root://sbgdcache.in2p3.fr//store/mc/Run3Summer23BPixNanoAODv12/SlepSnuCascade_MN1-260_MN2-280_MC1-270_TuneC</span>\n",
       "    │   <span style=\"color: #008080; text-decoration-color: #008080\">P5_13p6TeV_madgraphMLM-pythia8/NANOAODSIM/130X_mcRun3_2023_realistic_postBPix_v6-v3/2530000/2f75bba9-b604-4</span>\n",
       "    │   <span style=\"color: #008080; text-decoration-color: #008080\">d42-9d06-0c34ce6b551c.root</span>\n",
       "    ├── <span style=\"color: #008080; text-decoration-color: #008080\">root://sbgdcache.in2p3.fr//store/mc/Run3Summer23BPixNanoAODv12/SlepSnuCascade_MN1-260_MN2-280_MC1-270_TuneC</span>\n",
       "    │   <span style=\"color: #008080; text-decoration-color: #008080\">P5_13p6TeV_madgraphMLM-pythia8/NANOAODSIM/130X_mcRun3_2023_realistic_postBPix_v6-v3/2530000/3e0d6872-e7e1-4</span>\n",
       "    │   <span style=\"color: #008080; text-decoration-color: #008080\">aab-9913-50e2d66ccbf4.root</span>\n",
       "    ├── <span style=\"color: #008080; text-decoration-color: #008080\">root://sbgdcache.in2p3.fr//store/mc/Run3Summer23BPixNanoAODv12/SlepSnuCascade_MN1-260_MN2-280_MC1-270_TuneC</span>\n",
       "    │   <span style=\"color: #008080; text-decoration-color: #008080\">P5_13p6TeV_madgraphMLM-pythia8/NANOAODSIM/130X_mcRun3_2023_realistic_postBPix_v6-v3/2530000/5e033857-fdd9-4</span>\n",
       "    │   <span style=\"color: #008080; text-decoration-color: #008080\">3fa-b8a6-bb606a0d7cf3.root</span>\n",
       "    ├── <span style=\"color: #008080; text-decoration-color: #008080\">root://sbgdcache.in2p3.fr//store/mc/Run3Summer23BPixNanoAODv12/SlepSnuCascade_MN1-260_MN2-280_MC1-270_TuneC</span>\n",
       "    │   <span style=\"color: #008080; text-decoration-color: #008080\">P5_13p6TeV_madgraphMLM-pythia8/NANOAODSIM/130X_mcRun3_2023_realistic_postBPix_v6-v3/2530000/7db046a5-3839-4</span>\n",
       "    │   <span style=\"color: #008080; text-decoration-color: #008080\">9c1-92ee-823499ecbfb0.root</span>\n",
       "    ├── <span style=\"color: #008080; text-decoration-color: #008080\">root://sbgdcache.in2p3.fr//store/mc/Run3Summer23BPixNanoAODv12/SlepSnuCascade_MN1-260_MN2-280_MC1-270_TuneC</span>\n",
       "    │   <span style=\"color: #008080; text-decoration-color: #008080\">P5_13p6TeV_madgraphMLM-pythia8/NANOAODSIM/130X_mcRun3_2023_realistic_postBPix_v6-v3/2530000/7fafb075-d37e-4</span>\n",
       "    │   <span style=\"color: #008080; text-decoration-color: #008080\">ee0-86dd-63d7554f5304.root</span>\n",
       "    ├── <span style=\"color: #008080; text-decoration-color: #008080\">root://sbgdcache.in2p3.fr//store/mc/Run3Summer23BPixNanoAODv12/SlepSnuCascade_MN1-260_MN2-280_MC1-270_TuneC</span>\n",
       "    │   <span style=\"color: #008080; text-decoration-color: #008080\">P5_13p6TeV_madgraphMLM-pythia8/NANOAODSIM/130X_mcRun3_2023_realistic_postBPix_v6-v3/2530000/81e6a990-2871-4</span>\n",
       "    │   <span style=\"color: #008080; text-decoration-color: #008080\">5cc-b1fd-dcc44af5e85a.root</span>\n",
       "    ├── <span style=\"color: #008080; text-decoration-color: #008080\">root://sbgdcache.in2p3.fr//store/mc/Run3Summer23BPixNanoAODv12/SlepSnuCascade_MN1-260_MN2-280_MC1-270_TuneC</span>\n",
       "    │   <span style=\"color: #008080; text-decoration-color: #008080\">P5_13p6TeV_madgraphMLM-pythia8/NANOAODSIM/130X_mcRun3_2023_realistic_postBPix_v6-v3/2530000/86f4a155-3b0f-4</span>\n",
       "    │   <span style=\"color: #008080; text-decoration-color: #008080\">8aa-a8fe-386495defc7b.root</span>\n",
       "    ├── <span style=\"color: #008080; text-decoration-color: #008080\">root://sbgdcache.in2p3.fr//store/mc/Run3Summer23BPixNanoAODv12/SlepSnuCascade_MN1-260_MN2-280_MC1-270_TuneC</span>\n",
       "    │   <span style=\"color: #008080; text-decoration-color: #008080\">P5_13p6TeV_madgraphMLM-pythia8/NANOAODSIM/130X_mcRun3_2023_realistic_postBPix_v6-v3/2530000/99c3fd5f-17ef-4</span>\n",
       "    │   <span style=\"color: #008080; text-decoration-color: #008080\">2aa-a356-a6cf10244049.root</span>\n",
       "    ├── <span style=\"color: #008080; text-decoration-color: #008080\">root://sbgdcache.in2p3.fr//store/mc/Run3Summer23BPixNanoAODv12/SlepSnuCascade_MN1-260_MN2-280_MC1-270_TuneC</span>\n",
       "    │   <span style=\"color: #008080; text-decoration-color: #008080\">P5_13p6TeV_madgraphMLM-pythia8/NANOAODSIM/130X_mcRun3_2023_realistic_postBPix_v6-v3/2530000/a1dca706-2ecb-4</span>\n",
       "    │   <span style=\"color: #008080; text-decoration-color: #008080\">cef-84a8-3feb33428ecc.root</span>\n",
       "    ├── <span style=\"color: #008080; text-decoration-color: #008080\">root://sbgdcache.in2p3.fr//store/mc/Run3Summer23BPixNanoAODv12/SlepSnuCascade_MN1-260_MN2-280_MC1-270_TuneC</span>\n",
       "    │   <span style=\"color: #008080; text-decoration-color: #008080\">P5_13p6TeV_madgraphMLM-pythia8/NANOAODSIM/130X_mcRun3_2023_realistic_postBPix_v6-v3/2530000/aa2f23ee-3fa8-4</span>\n",
       "    │   <span style=\"color: #008080; text-decoration-color: #008080\">450-ae4e-0a44290dd146.root</span>\n",
       "    ├── <span style=\"color: #008080; text-decoration-color: #008080\">root://sbgdcache.in2p3.fr//store/mc/Run3Summer23BPixNanoAODv12/SlepSnuCascade_MN1-260_MN2-280_MC1-270_TuneC</span>\n",
       "    │   <span style=\"color: #008080; text-decoration-color: #008080\">P5_13p6TeV_madgraphMLM-pythia8/NANOAODSIM/130X_mcRun3_2023_realistic_postBPix_v6-v3/2530000/cbb38e5f-4486-4</span>\n",
       "    │   <span style=\"color: #008080; text-decoration-color: #008080\">f9c-b0db-272c9008133a.root</span>\n",
       "    ├── <span style=\"color: #008080; text-decoration-color: #008080\">root://sbgdcache.in2p3.fr//store/mc/Run3Summer23BPixNanoAODv12/SlepSnuCascade_MN1-260_MN2-280_MC1-270_TuneC</span>\n",
       "    │   <span style=\"color: #008080; text-decoration-color: #008080\">P5_13p6TeV_madgraphMLM-pythia8/NANOAODSIM/130X_mcRun3_2023_realistic_postBPix_v6-v3/2530000/ccbd4f89-122a-4</span>\n",
       "    │   <span style=\"color: #008080; text-decoration-color: #008080\">065-b0be-f38e9b2878d1.root</span>\n",
       "    ├── <span style=\"color: #008080; text-decoration-color: #008080\">root://sbgdcache.in2p3.fr//store/mc/Run3Summer23BPixNanoAODv12/SlepSnuCascade_MN1-260_MN2-280_MC1-270_TuneC</span>\n",
       "    │   <span style=\"color: #008080; text-decoration-color: #008080\">P5_13p6TeV_madgraphMLM-pythia8/NANOAODSIM/130X_mcRun3_2023_realistic_postBPix_v6-v3/2530000/ee78214f-596d-4</span>\n",
       "    │   <span style=\"color: #008080; text-decoration-color: #008080\">b13-923a-b2791499596c.root</span>\n",
       "    ├── <span style=\"color: #008080; text-decoration-color: #008080\">root://sbgdcache.in2p3.fr//store/mc/Run3Summer23BPixNanoAODv12/SlepSnuCascade_MN1-260_MN2-280_MC1-270_TuneC</span>\n",
       "    │   <span style=\"color: #008080; text-decoration-color: #008080\">P5_13p6TeV_madgraphMLM-pythia8/NANOAODSIM/130X_mcRun3_2023_realistic_postBPix_v6-v3/2530000/f786c693-9b96-4</span>\n",
       "    │   <span style=\"color: #008080; text-decoration-color: #008080\">7dc-8f97-3986c1067e05.root</span>\n",
       "    └── <span style=\"color: #008080; text-decoration-color: #008080\">root://sbgdcache.in2p3.fr//store/mc/Run3Summer23BPixNanoAODv12/SlepSnuCascade_MN1-260_MN2-280_MC1-270_TuneC</span>\n",
       "        <span style=\"color: #008080; text-decoration-color: #008080\">P5_13p6TeV_madgraphMLM-pythia8/NANOAODSIM/130X_mcRun3_2023_realistic_postBPix_v6-v3/2530000/fac026d7-c47c-4</span>\n",
       "        <span style=\"color: #008080; text-decoration-color: #008080\">007-a51c-514fe55f5bc7.root</span>\n",
       "</pre>\n"
      ],
      "text/plain": [
       "Replicas for \n",
       "\u001b[32m/SlepSnuCascade_MN1-260_MN2-280_MC1-270_TuneCP5_13p6TeV_madgraphMLM-pythia8/Run3Summer23BPixNanoAODv12-130X_mcRun3_\u001b[0m\n",
       "\u001b[32m2023_realistic_postBPix_v6-v3/NANOAODSIM\u001b[0m\n",
       "└── \u001b[32mT2_FR_IPHC\u001b[0m\n",
       "    ├── \u001b[36mroot://sbgdcache.in2p3.fr//store/mc/Run3Summer23BPixNanoAODv12/SlepSnuCascade_MN1-260_MN2-280_MC1-270_TuneC\u001b[0m\n",
       "    │   \u001b[36mP5_13p6TeV_madgraphMLM-pythia8/NANOAODSIM/130X_mcRun3_2023_realistic_postBPix_v6-v3/2530000/0d22cdae-b8db-4\u001b[0m\n",
       "    │   \u001b[36m1fb-8ab4-f0c74187f950.root\u001b[0m\n",
       "    ├── \u001b[36mroot://sbgdcache.in2p3.fr//store/mc/Run3Summer23BPixNanoAODv12/SlepSnuCascade_MN1-260_MN2-280_MC1-270_TuneC\u001b[0m\n",
       "    │   \u001b[36mP5_13p6TeV_madgraphMLM-pythia8/NANOAODSIM/130X_mcRun3_2023_realistic_postBPix_v6-v3/2530000/2f75bba9-b604-4\u001b[0m\n",
       "    │   \u001b[36md42-9d06-0c34ce6b551c.root\u001b[0m\n",
       "    ├── \u001b[36mroot://sbgdcache.in2p3.fr//store/mc/Run3Summer23BPixNanoAODv12/SlepSnuCascade_MN1-260_MN2-280_MC1-270_TuneC\u001b[0m\n",
       "    │   \u001b[36mP5_13p6TeV_madgraphMLM-pythia8/NANOAODSIM/130X_mcRun3_2023_realistic_postBPix_v6-v3/2530000/3e0d6872-e7e1-4\u001b[0m\n",
       "    │   \u001b[36maab-9913-50e2d66ccbf4.root\u001b[0m\n",
       "    ├── \u001b[36mroot://sbgdcache.in2p3.fr//store/mc/Run3Summer23BPixNanoAODv12/SlepSnuCascade_MN1-260_MN2-280_MC1-270_TuneC\u001b[0m\n",
       "    │   \u001b[36mP5_13p6TeV_madgraphMLM-pythia8/NANOAODSIM/130X_mcRun3_2023_realistic_postBPix_v6-v3/2530000/5e033857-fdd9-4\u001b[0m\n",
       "    │   \u001b[36m3fa-b8a6-bb606a0d7cf3.root\u001b[0m\n",
       "    ├── \u001b[36mroot://sbgdcache.in2p3.fr//store/mc/Run3Summer23BPixNanoAODv12/SlepSnuCascade_MN1-260_MN2-280_MC1-270_TuneC\u001b[0m\n",
       "    │   \u001b[36mP5_13p6TeV_madgraphMLM-pythia8/NANOAODSIM/130X_mcRun3_2023_realistic_postBPix_v6-v3/2530000/7db046a5-3839-4\u001b[0m\n",
       "    │   \u001b[36m9c1-92ee-823499ecbfb0.root\u001b[0m\n",
       "    ├── \u001b[36mroot://sbgdcache.in2p3.fr//store/mc/Run3Summer23BPixNanoAODv12/SlepSnuCascade_MN1-260_MN2-280_MC1-270_TuneC\u001b[0m\n",
       "    │   \u001b[36mP5_13p6TeV_madgraphMLM-pythia8/NANOAODSIM/130X_mcRun3_2023_realistic_postBPix_v6-v3/2530000/7fafb075-d37e-4\u001b[0m\n",
       "    │   \u001b[36mee0-86dd-63d7554f5304.root\u001b[0m\n",
       "    ├── \u001b[36mroot://sbgdcache.in2p3.fr//store/mc/Run3Summer23BPixNanoAODv12/SlepSnuCascade_MN1-260_MN2-280_MC1-270_TuneC\u001b[0m\n",
       "    │   \u001b[36mP5_13p6TeV_madgraphMLM-pythia8/NANOAODSIM/130X_mcRun3_2023_realistic_postBPix_v6-v3/2530000/81e6a990-2871-4\u001b[0m\n",
       "    │   \u001b[36m5cc-b1fd-dcc44af5e85a.root\u001b[0m\n",
       "    ├── \u001b[36mroot://sbgdcache.in2p3.fr//store/mc/Run3Summer23BPixNanoAODv12/SlepSnuCascade_MN1-260_MN2-280_MC1-270_TuneC\u001b[0m\n",
       "    │   \u001b[36mP5_13p6TeV_madgraphMLM-pythia8/NANOAODSIM/130X_mcRun3_2023_realistic_postBPix_v6-v3/2530000/86f4a155-3b0f-4\u001b[0m\n",
       "    │   \u001b[36m8aa-a8fe-386495defc7b.root\u001b[0m\n",
       "    ├── \u001b[36mroot://sbgdcache.in2p3.fr//store/mc/Run3Summer23BPixNanoAODv12/SlepSnuCascade_MN1-260_MN2-280_MC1-270_TuneC\u001b[0m\n",
       "    │   \u001b[36mP5_13p6TeV_madgraphMLM-pythia8/NANOAODSIM/130X_mcRun3_2023_realistic_postBPix_v6-v3/2530000/99c3fd5f-17ef-4\u001b[0m\n",
       "    │   \u001b[36m2aa-a356-a6cf10244049.root\u001b[0m\n",
       "    ├── \u001b[36mroot://sbgdcache.in2p3.fr//store/mc/Run3Summer23BPixNanoAODv12/SlepSnuCascade_MN1-260_MN2-280_MC1-270_TuneC\u001b[0m\n",
       "    │   \u001b[36mP5_13p6TeV_madgraphMLM-pythia8/NANOAODSIM/130X_mcRun3_2023_realistic_postBPix_v6-v3/2530000/a1dca706-2ecb-4\u001b[0m\n",
       "    │   \u001b[36mcef-84a8-3feb33428ecc.root\u001b[0m\n",
       "    ├── \u001b[36mroot://sbgdcache.in2p3.fr//store/mc/Run3Summer23BPixNanoAODv12/SlepSnuCascade_MN1-260_MN2-280_MC1-270_TuneC\u001b[0m\n",
       "    │   \u001b[36mP5_13p6TeV_madgraphMLM-pythia8/NANOAODSIM/130X_mcRun3_2023_realistic_postBPix_v6-v3/2530000/aa2f23ee-3fa8-4\u001b[0m\n",
       "    │   \u001b[36m450-ae4e-0a44290dd146.root\u001b[0m\n",
       "    ├── \u001b[36mroot://sbgdcache.in2p3.fr//store/mc/Run3Summer23BPixNanoAODv12/SlepSnuCascade_MN1-260_MN2-280_MC1-270_TuneC\u001b[0m\n",
       "    │   \u001b[36mP5_13p6TeV_madgraphMLM-pythia8/NANOAODSIM/130X_mcRun3_2023_realistic_postBPix_v6-v3/2530000/cbb38e5f-4486-4\u001b[0m\n",
       "    │   \u001b[36mf9c-b0db-272c9008133a.root\u001b[0m\n",
       "    ├── \u001b[36mroot://sbgdcache.in2p3.fr//store/mc/Run3Summer23BPixNanoAODv12/SlepSnuCascade_MN1-260_MN2-280_MC1-270_TuneC\u001b[0m\n",
       "    │   \u001b[36mP5_13p6TeV_madgraphMLM-pythia8/NANOAODSIM/130X_mcRun3_2023_realistic_postBPix_v6-v3/2530000/ccbd4f89-122a-4\u001b[0m\n",
       "    │   \u001b[36m065-b0be-f38e9b2878d1.root\u001b[0m\n",
       "    ├── \u001b[36mroot://sbgdcache.in2p3.fr//store/mc/Run3Summer23BPixNanoAODv12/SlepSnuCascade_MN1-260_MN2-280_MC1-270_TuneC\u001b[0m\n",
       "    │   \u001b[36mP5_13p6TeV_madgraphMLM-pythia8/NANOAODSIM/130X_mcRun3_2023_realistic_postBPix_v6-v3/2530000/ee78214f-596d-4\u001b[0m\n",
       "    │   \u001b[36mb13-923a-b2791499596c.root\u001b[0m\n",
       "    ├── \u001b[36mroot://sbgdcache.in2p3.fr//store/mc/Run3Summer23BPixNanoAODv12/SlepSnuCascade_MN1-260_MN2-280_MC1-270_TuneC\u001b[0m\n",
       "    │   \u001b[36mP5_13p6TeV_madgraphMLM-pythia8/NANOAODSIM/130X_mcRun3_2023_realistic_postBPix_v6-v3/2530000/f786c693-9b96-4\u001b[0m\n",
       "    │   \u001b[36m7dc-8f97-3986c1067e05.root\u001b[0m\n",
       "    └── \u001b[36mroot://sbgdcache.in2p3.fr//store/mc/Run3Summer23BPixNanoAODv12/SlepSnuCascade_MN1-260_MN2-280_MC1-270_TuneC\u001b[0m\n",
       "        \u001b[36mP5_13p6TeV_madgraphMLM-pythia8/NANOAODSIM/130X_mcRun3_2023_realistic_postBPix_v6-v3/2530000/fac026d7-c47c-4\u001b[0m\n",
       "        \u001b[36m007-a51c-514fe55f5bc7.root\u001b[0m\n"
      ]
     },
     "metadata": {},
     "output_type": "display_data"
    },
    {
     "data": {
      "application/vnd.jupyter.widget-view+json": {
       "model_id": "",
       "version_major": 2,
       "version_minor": 0
      },
      "text/plain": [
       "Output()"
      ]
     },
     "metadata": {},
     "output_type": "display_data"
    },
    {
     "data": {
      "text/html": [
       "<pre style=\"white-space:pre;overflow-x:auto;line-height:normal;font-family:Menlo,'DejaVu Sans Mono',consolas,'Courier New',monospace\"></pre>\n"
      ],
      "text/plain": []
     },
     "metadata": {},
     "output_type": "display_data"
    },
    {
     "data": {
      "text/html": [
       "<pre style=\"white-space:pre;overflow-x:auto;line-height:normal;font-family:Menlo,'DejaVu Sans Mono',consolas,'Courier New',monospace\"><span style=\"color: #008080; text-decoration-color: #008080\">Sites availability for dataset: </span>\n",
       "<span style=\"color: #800000; text-decoration-color: #800000\">/SlepSnuCascade_MN1-270_MN2-280_MC1-275_TuneCP5_13p6TeV_madgraphMLM-pythia8/Run3Summer23BPixNanoAODv12-130X_mcRun3_</span>\n",
       "<span style=\"color: #800000; text-decoration-color: #800000\">2023_realistic_postBPix_v6-v3/NANOAODSIM</span>\n",
       "</pre>\n"
      ],
      "text/plain": [
       "\u001b[36mSites availability for dataset: \u001b[0m\n",
       "\u001b[31m/SlepSnuCascade_MN1-270_MN2-280_MC1-275_TuneCP5_13p6TeV_madgraphMLM-pythia8/Run3Summer23BPixNanoAODv12-130X_mcRun3_\u001b[0m\n",
       "\u001b[31m2023_realistic_postBPix_v6-v3/\u001b[0m\u001b[31mNANOAODSIM\u001b[0m\n"
      ]
     },
     "metadata": {},
     "output_type": "display_data"
    },
    {
     "data": {
      "text/html": [
       "<pre style=\"white-space:pre;overflow-x:auto;line-height:normal;font-family:Menlo,'DejaVu Sans Mono',consolas,'Courier New',monospace\"><span style=\"font-style: italic\">                 Available replicas                  </span>\n",
       "┏━━━━━━━┳━━━━━━━━━━━━━━━━━━┳━━━━━━━━━┳━━━━━━━━━━━━━━┓\n",
       "┃<span style=\"font-weight: bold\"> Index </span>┃<span style=\"font-weight: bold\"> Site             </span>┃<span style=\"font-weight: bold\"> Files   </span>┃<span style=\"font-weight: bold\"> Availability </span>┃\n",
       "┡━━━━━━━╇━━━━━━━━━━━━━━━━━━╇━━━━━━━━━╇━━━━━━━━━━━━━━┩\n",
       "│<span style=\"color: #7f7f7f; text-decoration-color: #7f7f7f\">   0   </span>│<span style=\"color: #7fbfbf; text-decoration-color: #7fbfbf\"> T2_DE_DESY       </span>│<span style=\"color: #bf7fbf; text-decoration-color: #bf7fbf\"> 17 / 17 </span>│<span style=\"color: #7f7f7f; text-decoration-color: #7f7f7f\">    100.0%    </span>│\n",
       "│   1   │<span style=\"color: #008080; text-decoration-color: #008080\"> T2_IT_Legnaro    </span>│<span style=\"color: #800080; text-decoration-color: #800080\"> 17 / 17 </span>│    100.0%    │\n",
       "│<span style=\"color: #7f7f7f; text-decoration-color: #7f7f7f\">   2   </span>│<span style=\"color: #7fbfbf; text-decoration-color: #7fbfbf\"> T2_US_Vanderbilt </span>│<span style=\"color: #bf7fbf; text-decoration-color: #bf7fbf\"> 17 / 17 </span>│<span style=\"color: #7f7f7f; text-decoration-color: #7f7f7f\">    100.0%    </span>│\n",
       "│   3   │<span style=\"color: #008080; text-decoration-color: #008080\"> T2_US_Nebraska   </span>│<span style=\"color: #800080; text-decoration-color: #800080\"> 17 / 17 </span>│    100.0%    │\n",
       "│<span style=\"color: #7f7f7f; text-decoration-color: #7f7f7f\">   4   </span>│<span style=\"color: #7fbfbf; text-decoration-color: #7fbfbf\"> T1_RU_JINR_Disk  </span>│<span style=\"color: #bf7fbf; text-decoration-color: #bf7fbf\"> 17 / 17 </span>│<span style=\"color: #7f7f7f; text-decoration-color: #7f7f7f\">    100.0%    </span>│\n",
       "│   5   │<span style=\"color: #008080; text-decoration-color: #008080\"> T2_UK_London_IC  </span>│<span style=\"color: #800080; text-decoration-color: #800080\"> 17 / 17 </span>│    100.0%    │\n",
       "│<span style=\"color: #7f7f7f; text-decoration-color: #7f7f7f\">   6   </span>│<span style=\"color: #7fbfbf; text-decoration-color: #7fbfbf\"> T1_IT_CNAF_Disk  </span>│<span style=\"color: #bf7fbf; text-decoration-color: #bf7fbf\"> 2 / 17  </span>│<span style=\"color: #7f7f7f; text-decoration-color: #7f7f7f\">    11.8%     </span>│\n",
       "│   7   │<span style=\"color: #008080; text-decoration-color: #008080\"> T2_BE_IIHE       </span>│<span style=\"color: #800080; text-decoration-color: #800080\"> 1 / 17  </span>│     5.9%     │\n",
       "│<span style=\"color: #7f7f7f; text-decoration-color: #7f7f7f\">   8   </span>│<span style=\"color: #7fbfbf; text-decoration-color: #7fbfbf\"> T1_UK_RAL_Disk   </span>│<span style=\"color: #bf7fbf; text-decoration-color: #bf7fbf\"> 1 / 17  </span>│<span style=\"color: #7f7f7f; text-decoration-color: #7f7f7f\">     5.9%     </span>│\n",
       "└───────┴──────────────────┴─────────┴──────────────┘\n",
       "</pre>\n"
      ],
      "text/plain": [
       "\u001b[3m                 Available replicas                  \u001b[0m\n",
       "┏━━━━━━━┳━━━━━━━━━━━━━━━━━━┳━━━━━━━━━┳━━━━━━━━━━━━━━┓\n",
       "┃\u001b[1m \u001b[0m\u001b[1mIndex\u001b[0m\u001b[1m \u001b[0m┃\u001b[1m \u001b[0m\u001b[1mSite            \u001b[0m\u001b[1m \u001b[0m┃\u001b[1m \u001b[0m\u001b[1mFiles  \u001b[0m\u001b[1m \u001b[0m┃\u001b[1m \u001b[0m\u001b[1mAvailability\u001b[0m\u001b[1m \u001b[0m┃\n",
       "┡━━━━━━━╇━━━━━━━━━━━━━━━━━━╇━━━━━━━━━╇━━━━━━━━━━━━━━┩\n",
       "│\u001b[2m \u001b[0m\u001b[2m  0  \u001b[0m\u001b[2m \u001b[0m│\u001b[2;36m \u001b[0m\u001b[2;36mT2_DE_DESY      \u001b[0m\u001b[2;36m \u001b[0m│\u001b[2;35m \u001b[0m\u001b[2;35m17 / 17\u001b[0m\u001b[2;35m \u001b[0m│\u001b[2m \u001b[0m\u001b[2m   100.0%   \u001b[0m\u001b[2m \u001b[0m│\n",
       "│   1   │\u001b[36m \u001b[0m\u001b[36mT2_IT_Legnaro   \u001b[0m\u001b[36m \u001b[0m│\u001b[35m \u001b[0m\u001b[35m17 / 17\u001b[0m\u001b[35m \u001b[0m│    100.0%    │\n",
       "│\u001b[2m \u001b[0m\u001b[2m  2  \u001b[0m\u001b[2m \u001b[0m│\u001b[2;36m \u001b[0m\u001b[2;36mT2_US_Vanderbilt\u001b[0m\u001b[2;36m \u001b[0m│\u001b[2;35m \u001b[0m\u001b[2;35m17 / 17\u001b[0m\u001b[2;35m \u001b[0m│\u001b[2m \u001b[0m\u001b[2m   100.0%   \u001b[0m\u001b[2m \u001b[0m│\n",
       "│   3   │\u001b[36m \u001b[0m\u001b[36mT2_US_Nebraska  \u001b[0m\u001b[36m \u001b[0m│\u001b[35m \u001b[0m\u001b[35m17 / 17\u001b[0m\u001b[35m \u001b[0m│    100.0%    │\n",
       "│\u001b[2m \u001b[0m\u001b[2m  4  \u001b[0m\u001b[2m \u001b[0m│\u001b[2;36m \u001b[0m\u001b[2;36mT1_RU_JINR_Disk \u001b[0m\u001b[2;36m \u001b[0m│\u001b[2;35m \u001b[0m\u001b[2;35m17 / 17\u001b[0m\u001b[2;35m \u001b[0m│\u001b[2m \u001b[0m\u001b[2m   100.0%   \u001b[0m\u001b[2m \u001b[0m│\n",
       "│   5   │\u001b[36m \u001b[0m\u001b[36mT2_UK_London_IC \u001b[0m\u001b[36m \u001b[0m│\u001b[35m \u001b[0m\u001b[35m17 / 17\u001b[0m\u001b[35m \u001b[0m│    100.0%    │\n",
       "│\u001b[2m \u001b[0m\u001b[2m  6  \u001b[0m\u001b[2m \u001b[0m│\u001b[2;36m \u001b[0m\u001b[2;36mT1_IT_CNAF_Disk \u001b[0m\u001b[2;36m \u001b[0m│\u001b[2;35m \u001b[0m\u001b[2;35m2 / 17 \u001b[0m\u001b[2;35m \u001b[0m│\u001b[2m \u001b[0m\u001b[2m   11.8%    \u001b[0m\u001b[2m \u001b[0m│\n",
       "│   7   │\u001b[36m \u001b[0m\u001b[36mT2_BE_IIHE      \u001b[0m\u001b[36m \u001b[0m│\u001b[35m \u001b[0m\u001b[35m1 / 17 \u001b[0m\u001b[35m \u001b[0m│     5.9%     │\n",
       "│\u001b[2m \u001b[0m\u001b[2m  8  \u001b[0m\u001b[2m \u001b[0m│\u001b[2;36m \u001b[0m\u001b[2;36mT1_UK_RAL_Disk  \u001b[0m\u001b[2;36m \u001b[0m│\u001b[2;35m \u001b[0m\u001b[2;35m1 / 17 \u001b[0m\u001b[2;35m \u001b[0m│\u001b[2m \u001b[0m\u001b[2m    5.9%    \u001b[0m\u001b[2m \u001b[0m│\n",
       "└───────┴──────────────────┴─────────┴──────────────┘\n"
      ]
     },
     "metadata": {},
     "output_type": "display_data"
    },
    {
     "data": {
      "text/html": [
       "<pre style=\"white-space:pre;overflow-x:auto;line-height:normal;font-family:Menlo,'DejaVu Sans Mono',consolas,'Courier New',monospace\">Replicas for \n",
       "<span style=\"color: #008000; text-decoration-color: #008000\">/SlepSnuCascade_MN1-270_MN2-280_MC1-275_TuneCP5_13p6TeV_madgraphMLM-pythia8/Run3Summer23BPixNanoAODv12-130X_mcRun3_</span>\n",
       "<span style=\"color: #008000; text-decoration-color: #008000\">2023_realistic_postBPix_v6-v3/NANOAODSIM</span>\n",
       "└── <span style=\"color: #008000; text-decoration-color: #008000\">T2_DE_DESY</span>\n",
       "    ├── <span style=\"color: #008080; text-decoration-color: #008080\">root://dcache-cms-xrootd.desy.de:1094//store/mc/Run3Summer23BPixNanoAODv12/SlepSnuCascade_MN1-270_MN2-280_M</span>\n",
       "    │   <span style=\"color: #008080; text-decoration-color: #008080\">C1-275_TuneCP5_13p6TeV_madgraphMLM-pythia8/NANOAODSIM/130X_mcRun3_2023_realistic_postBPix_v6-v3/2530000/014</span>\n",
       "    │   <span style=\"color: #008080; text-decoration-color: #008080\">a47c0-b196-47d6-aaf1-c482c58e7fb3.root</span>\n",
       "    ├── <span style=\"color: #008080; text-decoration-color: #008080\">root://dcache-cms-xrootd.desy.de:1094//store/mc/Run3Summer23BPixNanoAODv12/SlepSnuCascade_MN1-270_MN2-280_M</span>\n",
       "    │   <span style=\"color: #008080; text-decoration-color: #008080\">C1-275_TuneCP5_13p6TeV_madgraphMLM-pythia8/NANOAODSIM/130X_mcRun3_2023_realistic_postBPix_v6-v3/2530000/1b4</span>\n",
       "    │   <span style=\"color: #008080; text-decoration-color: #008080\">8e487-da20-4894-b8f6-03a65e07c682.root</span>\n",
       "    ├── <span style=\"color: #008080; text-decoration-color: #008080\">root://dcache-cms-xrootd.desy.de:1094//store/mc/Run3Summer23BPixNanoAODv12/SlepSnuCascade_MN1-270_MN2-280_M</span>\n",
       "    │   <span style=\"color: #008080; text-decoration-color: #008080\">C1-275_TuneCP5_13p6TeV_madgraphMLM-pythia8/NANOAODSIM/130X_mcRun3_2023_realistic_postBPix_v6-v3/2530000/25d</span>\n",
       "    │   <span style=\"color: #008080; text-decoration-color: #008080\">a9226-6708-479f-888f-dccb550b2f00.root</span>\n",
       "    ├── <span style=\"color: #008080; text-decoration-color: #008080\">root://dcache-cms-xrootd.desy.de:1094//store/mc/Run3Summer23BPixNanoAODv12/SlepSnuCascade_MN1-270_MN2-280_M</span>\n",
       "    │   <span style=\"color: #008080; text-decoration-color: #008080\">C1-275_TuneCP5_13p6TeV_madgraphMLM-pythia8/NANOAODSIM/130X_mcRun3_2023_realistic_postBPix_v6-v3/2530000/36c</span>\n",
       "    │   <span style=\"color: #008080; text-decoration-color: #008080\">c4051-4e1f-4a9c-a793-7130d67e55c9.root</span>\n",
       "    ├── <span style=\"color: #008080; text-decoration-color: #008080\">root://dcache-cms-xrootd.desy.de:1094//store/mc/Run3Summer23BPixNanoAODv12/SlepSnuCascade_MN1-270_MN2-280_M</span>\n",
       "    │   <span style=\"color: #008080; text-decoration-color: #008080\">C1-275_TuneCP5_13p6TeV_madgraphMLM-pythia8/NANOAODSIM/130X_mcRun3_2023_realistic_postBPix_v6-v3/2530000/3fc</span>\n",
       "    │   <span style=\"color: #008080; text-decoration-color: #008080\">4792a-98ef-4ee4-ad52-2ef45fdad2ae.root</span>\n",
       "    ├── <span style=\"color: #008080; text-decoration-color: #008080\">root://dcache-cms-xrootd.desy.de:1094//store/mc/Run3Summer23BPixNanoAODv12/SlepSnuCascade_MN1-270_MN2-280_M</span>\n",
       "    │   <span style=\"color: #008080; text-decoration-color: #008080\">C1-275_TuneCP5_13p6TeV_madgraphMLM-pythia8/NANOAODSIM/130X_mcRun3_2023_realistic_postBPix_v6-v3/2530000/401</span>\n",
       "    │   <span style=\"color: #008080; text-decoration-color: #008080\">34c6c-2296-49a8-8473-c49a5ca39a99.root</span>\n",
       "    ├── <span style=\"color: #008080; text-decoration-color: #008080\">root://dcache-cms-xrootd.desy.de:1094//store/mc/Run3Summer23BPixNanoAODv12/SlepSnuCascade_MN1-270_MN2-280_M</span>\n",
       "    │   <span style=\"color: #008080; text-decoration-color: #008080\">C1-275_TuneCP5_13p6TeV_madgraphMLM-pythia8/NANOAODSIM/130X_mcRun3_2023_realistic_postBPix_v6-v3/2530000/43a</span>\n",
       "    │   <span style=\"color: #008080; text-decoration-color: #008080\">03ae0-8764-4e18-9473-e4d5b2ce5b3e.root</span>\n",
       "    ├── <span style=\"color: #008080; text-decoration-color: #008080\">root://dcache-cms-xrootd.desy.de:1094//store/mc/Run3Summer23BPixNanoAODv12/SlepSnuCascade_MN1-270_MN2-280_M</span>\n",
       "    │   <span style=\"color: #008080; text-decoration-color: #008080\">C1-275_TuneCP5_13p6TeV_madgraphMLM-pythia8/NANOAODSIM/130X_mcRun3_2023_realistic_postBPix_v6-v3/2530000/74c</span>\n",
       "    │   <span style=\"color: #008080; text-decoration-color: #008080\">b0109-f18a-467c-903b-9fec55026124.root</span>\n",
       "    ├── <span style=\"color: #008080; text-decoration-color: #008080\">root://dcache-cms-xrootd.desy.de:1094//store/mc/Run3Summer23BPixNanoAODv12/SlepSnuCascade_MN1-270_MN2-280_M</span>\n",
       "    │   <span style=\"color: #008080; text-decoration-color: #008080\">C1-275_TuneCP5_13p6TeV_madgraphMLM-pythia8/NANOAODSIM/130X_mcRun3_2023_realistic_postBPix_v6-v3/2530000/9d5</span>\n",
       "    │   <span style=\"color: #008080; text-decoration-color: #008080\">bb43f-8865-4736-8140-cc9448b521d1.root</span>\n",
       "    ├── <span style=\"color: #008080; text-decoration-color: #008080\">root://dcache-cms-xrootd.desy.de:1094//store/mc/Run3Summer23BPixNanoAODv12/SlepSnuCascade_MN1-270_MN2-280_M</span>\n",
       "    │   <span style=\"color: #008080; text-decoration-color: #008080\">C1-275_TuneCP5_13p6TeV_madgraphMLM-pythia8/NANOAODSIM/130X_mcRun3_2023_realistic_postBPix_v6-v3/2530000/a00</span>\n",
       "    │   <span style=\"color: #008080; text-decoration-color: #008080\">466ab-68f5-400b-b4c5-f088994049d9.root</span>\n",
       "    ├── <span style=\"color: #008080; text-decoration-color: #008080\">root://dcache-cms-xrootd.desy.de:1094//store/mc/Run3Summer23BPixNanoAODv12/SlepSnuCascade_MN1-270_MN2-280_M</span>\n",
       "    │   <span style=\"color: #008080; text-decoration-color: #008080\">C1-275_TuneCP5_13p6TeV_madgraphMLM-pythia8/NANOAODSIM/130X_mcRun3_2023_realistic_postBPix_v6-v3/2530000/a2d</span>\n",
       "    │   <span style=\"color: #008080; text-decoration-color: #008080\">8829f-8d72-476f-b468-5939df3918b8.root</span>\n",
       "    ├── <span style=\"color: #008080; text-decoration-color: #008080\">root://dcache-cms-xrootd.desy.de:1094//store/mc/Run3Summer23BPixNanoAODv12/SlepSnuCascade_MN1-270_MN2-280_M</span>\n",
       "    │   <span style=\"color: #008080; text-decoration-color: #008080\">C1-275_TuneCP5_13p6TeV_madgraphMLM-pythia8/NANOAODSIM/130X_mcRun3_2023_realistic_postBPix_v6-v3/2530000/bc6</span>\n",
       "    │   <span style=\"color: #008080; text-decoration-color: #008080\">17c28-893d-4204-8273-fe0ed7e8f143.root</span>\n",
       "    ├── <span style=\"color: #008080; text-decoration-color: #008080\">root://dcache-cms-xrootd.desy.de:1094//store/mc/Run3Summer23BPixNanoAODv12/SlepSnuCascade_MN1-270_MN2-280_M</span>\n",
       "    │   <span style=\"color: #008080; text-decoration-color: #008080\">C1-275_TuneCP5_13p6TeV_madgraphMLM-pythia8/NANOAODSIM/130X_mcRun3_2023_realistic_postBPix_v6-v3/2530000/d9e</span>\n",
       "    │   <span style=\"color: #008080; text-decoration-color: #008080\">85cdd-50cf-4144-8d81-85dc4c341c76.root</span>\n",
       "    ├── <span style=\"color: #008080; text-decoration-color: #008080\">root://dcache-cms-xrootd.desy.de:1094//store/mc/Run3Summer23BPixNanoAODv12/SlepSnuCascade_MN1-270_MN2-280_M</span>\n",
       "    │   <span style=\"color: #008080; text-decoration-color: #008080\">C1-275_TuneCP5_13p6TeV_madgraphMLM-pythia8/NANOAODSIM/130X_mcRun3_2023_realistic_postBPix_v6-v3/2530000/e3f</span>\n",
       "    │   <span style=\"color: #008080; text-decoration-color: #008080\">98444-3de4-4c49-bcf9-3e5e9ba825e5.root</span>\n",
       "    ├── <span style=\"color: #008080; text-decoration-color: #008080\">root://dcache-cms-xrootd.desy.de:1094//store/mc/Run3Summer23BPixNanoAODv12/SlepSnuCascade_MN1-270_MN2-280_M</span>\n",
       "    │   <span style=\"color: #008080; text-decoration-color: #008080\">C1-275_TuneCP5_13p6TeV_madgraphMLM-pythia8/NANOAODSIM/130X_mcRun3_2023_realistic_postBPix_v6-v3/2530000/ebb</span>\n",
       "    │   <span style=\"color: #008080; text-decoration-color: #008080\">35a9e-c049-4414-a126-46cf7f414be0.root</span>\n",
       "    ├── <span style=\"color: #008080; text-decoration-color: #008080\">root://dcache-cms-xrootd.desy.de:1094//store/mc/Run3Summer23BPixNanoAODv12/SlepSnuCascade_MN1-270_MN2-280_M</span>\n",
       "    │   <span style=\"color: #008080; text-decoration-color: #008080\">C1-275_TuneCP5_13p6TeV_madgraphMLM-pythia8/NANOAODSIM/130X_mcRun3_2023_realistic_postBPix_v6-v3/2530000/ee2</span>\n",
       "    │   <span style=\"color: #008080; text-decoration-color: #008080\">dca10-4a75-46a9-bf87-fe6c6bb05400.root</span>\n",
       "    └── <span style=\"color: #008080; text-decoration-color: #008080\">root://dcache-cms-xrootd.desy.de:1094//store/mc/Run3Summer23BPixNanoAODv12/SlepSnuCascade_MN1-270_MN2-280_M</span>\n",
       "        <span style=\"color: #008080; text-decoration-color: #008080\">C1-275_TuneCP5_13p6TeV_madgraphMLM-pythia8/NANOAODSIM/130X_mcRun3_2023_realistic_postBPix_v6-v3/2530000/fbd</span>\n",
       "        <span style=\"color: #008080; text-decoration-color: #008080\">6ceb4-ab93-461c-8eb6-7a390df211c3.root</span>\n",
       "</pre>\n"
      ],
      "text/plain": [
       "Replicas for \n",
       "\u001b[32m/SlepSnuCascade_MN1-270_MN2-280_MC1-275_TuneCP5_13p6TeV_madgraphMLM-pythia8/Run3Summer23BPixNanoAODv12-130X_mcRun3_\u001b[0m\n",
       "\u001b[32m2023_realistic_postBPix_v6-v3/NANOAODSIM\u001b[0m\n",
       "└── \u001b[32mT2_DE_DESY\u001b[0m\n",
       "    ├── \u001b[36mroot://dcache-cms-xrootd.desy.de:1094//store/mc/Run3Summer23BPixNanoAODv12/SlepSnuCascade_MN1-270_MN2-280_M\u001b[0m\n",
       "    │   \u001b[36mC1-275_TuneCP5_13p6TeV_madgraphMLM-pythia8/NANOAODSIM/130X_mcRun3_2023_realistic_postBPix_v6-v3/2530000/014\u001b[0m\n",
       "    │   \u001b[36ma47c0-b196-47d6-aaf1-c482c58e7fb3.root\u001b[0m\n",
       "    ├── \u001b[36mroot://dcache-cms-xrootd.desy.de:1094//store/mc/Run3Summer23BPixNanoAODv12/SlepSnuCascade_MN1-270_MN2-280_M\u001b[0m\n",
       "    │   \u001b[36mC1-275_TuneCP5_13p6TeV_madgraphMLM-pythia8/NANOAODSIM/130X_mcRun3_2023_realistic_postBPix_v6-v3/2530000/1b4\u001b[0m\n",
       "    │   \u001b[36m8e487-da20-4894-b8f6-03a65e07c682.root\u001b[0m\n",
       "    ├── \u001b[36mroot://dcache-cms-xrootd.desy.de:1094//store/mc/Run3Summer23BPixNanoAODv12/SlepSnuCascade_MN1-270_MN2-280_M\u001b[0m\n",
       "    │   \u001b[36mC1-275_TuneCP5_13p6TeV_madgraphMLM-pythia8/NANOAODSIM/130X_mcRun3_2023_realistic_postBPix_v6-v3/2530000/25d\u001b[0m\n",
       "    │   \u001b[36ma9226-6708-479f-888f-dccb550b2f00.root\u001b[0m\n",
       "    ├── \u001b[36mroot://dcache-cms-xrootd.desy.de:1094//store/mc/Run3Summer23BPixNanoAODv12/SlepSnuCascade_MN1-270_MN2-280_M\u001b[0m\n",
       "    │   \u001b[36mC1-275_TuneCP5_13p6TeV_madgraphMLM-pythia8/NANOAODSIM/130X_mcRun3_2023_realistic_postBPix_v6-v3/2530000/36c\u001b[0m\n",
       "    │   \u001b[36mc4051-4e1f-4a9c-a793-7130d67e55c9.root\u001b[0m\n",
       "    ├── \u001b[36mroot://dcache-cms-xrootd.desy.de:1094//store/mc/Run3Summer23BPixNanoAODv12/SlepSnuCascade_MN1-270_MN2-280_M\u001b[0m\n",
       "    │   \u001b[36mC1-275_TuneCP5_13p6TeV_madgraphMLM-pythia8/NANOAODSIM/130X_mcRun3_2023_realistic_postBPix_v6-v3/2530000/3fc\u001b[0m\n",
       "    │   \u001b[36m4792a-98ef-4ee4-ad52-2ef45fdad2ae.root\u001b[0m\n",
       "    ├── \u001b[36mroot://dcache-cms-xrootd.desy.de:1094//store/mc/Run3Summer23BPixNanoAODv12/SlepSnuCascade_MN1-270_MN2-280_M\u001b[0m\n",
       "    │   \u001b[36mC1-275_TuneCP5_13p6TeV_madgraphMLM-pythia8/NANOAODSIM/130X_mcRun3_2023_realistic_postBPix_v6-v3/2530000/401\u001b[0m\n",
       "    │   \u001b[36m34c6c-2296-49a8-8473-c49a5ca39a99.root\u001b[0m\n",
       "    ├── \u001b[36mroot://dcache-cms-xrootd.desy.de:1094//store/mc/Run3Summer23BPixNanoAODv12/SlepSnuCascade_MN1-270_MN2-280_M\u001b[0m\n",
       "    │   \u001b[36mC1-275_TuneCP5_13p6TeV_madgraphMLM-pythia8/NANOAODSIM/130X_mcRun3_2023_realistic_postBPix_v6-v3/2530000/43a\u001b[0m\n",
       "    │   \u001b[36m03ae0-8764-4e18-9473-e4d5b2ce5b3e.root\u001b[0m\n",
       "    ├── \u001b[36mroot://dcache-cms-xrootd.desy.de:1094//store/mc/Run3Summer23BPixNanoAODv12/SlepSnuCascade_MN1-270_MN2-280_M\u001b[0m\n",
       "    │   \u001b[36mC1-275_TuneCP5_13p6TeV_madgraphMLM-pythia8/NANOAODSIM/130X_mcRun3_2023_realistic_postBPix_v6-v3/2530000/74c\u001b[0m\n",
       "    │   \u001b[36mb0109-f18a-467c-903b-9fec55026124.root\u001b[0m\n",
       "    ├── \u001b[36mroot://dcache-cms-xrootd.desy.de:1094//store/mc/Run3Summer23BPixNanoAODv12/SlepSnuCascade_MN1-270_MN2-280_M\u001b[0m\n",
       "    │   \u001b[36mC1-275_TuneCP5_13p6TeV_madgraphMLM-pythia8/NANOAODSIM/130X_mcRun3_2023_realistic_postBPix_v6-v3/2530000/9d5\u001b[0m\n",
       "    │   \u001b[36mbb43f-8865-4736-8140-cc9448b521d1.root\u001b[0m\n",
       "    ├── \u001b[36mroot://dcache-cms-xrootd.desy.de:1094//store/mc/Run3Summer23BPixNanoAODv12/SlepSnuCascade_MN1-270_MN2-280_M\u001b[0m\n",
       "    │   \u001b[36mC1-275_TuneCP5_13p6TeV_madgraphMLM-pythia8/NANOAODSIM/130X_mcRun3_2023_realistic_postBPix_v6-v3/2530000/a00\u001b[0m\n",
       "    │   \u001b[36m466ab-68f5-400b-b4c5-f088994049d9.root\u001b[0m\n",
       "    ├── \u001b[36mroot://dcache-cms-xrootd.desy.de:1094//store/mc/Run3Summer23BPixNanoAODv12/SlepSnuCascade_MN1-270_MN2-280_M\u001b[0m\n",
       "    │   \u001b[36mC1-275_TuneCP5_13p6TeV_madgraphMLM-pythia8/NANOAODSIM/130X_mcRun3_2023_realistic_postBPix_v6-v3/2530000/a2d\u001b[0m\n",
       "    │   \u001b[36m8829f-8d72-476f-b468-5939df3918b8.root\u001b[0m\n",
       "    ├── \u001b[36mroot://dcache-cms-xrootd.desy.de:1094//store/mc/Run3Summer23BPixNanoAODv12/SlepSnuCascade_MN1-270_MN2-280_M\u001b[0m\n",
       "    │   \u001b[36mC1-275_TuneCP5_13p6TeV_madgraphMLM-pythia8/NANOAODSIM/130X_mcRun3_2023_realistic_postBPix_v6-v3/2530000/bc6\u001b[0m\n",
       "    │   \u001b[36m17c28-893d-4204-8273-fe0ed7e8f143.root\u001b[0m\n",
       "    ├── \u001b[36mroot://dcache-cms-xrootd.desy.de:1094//store/mc/Run3Summer23BPixNanoAODv12/SlepSnuCascade_MN1-270_MN2-280_M\u001b[0m\n",
       "    │   \u001b[36mC1-275_TuneCP5_13p6TeV_madgraphMLM-pythia8/NANOAODSIM/130X_mcRun3_2023_realistic_postBPix_v6-v3/2530000/d9e\u001b[0m\n",
       "    │   \u001b[36m85cdd-50cf-4144-8d81-85dc4c341c76.root\u001b[0m\n",
       "    ├── \u001b[36mroot://dcache-cms-xrootd.desy.de:1094//store/mc/Run3Summer23BPixNanoAODv12/SlepSnuCascade_MN1-270_MN2-280_M\u001b[0m\n",
       "    │   \u001b[36mC1-275_TuneCP5_13p6TeV_madgraphMLM-pythia8/NANOAODSIM/130X_mcRun3_2023_realistic_postBPix_v6-v3/2530000/e3f\u001b[0m\n",
       "    │   \u001b[36m98444-3de4-4c49-bcf9-3e5e9ba825e5.root\u001b[0m\n",
       "    ├── \u001b[36mroot://dcache-cms-xrootd.desy.de:1094//store/mc/Run3Summer23BPixNanoAODv12/SlepSnuCascade_MN1-270_MN2-280_M\u001b[0m\n",
       "    │   \u001b[36mC1-275_TuneCP5_13p6TeV_madgraphMLM-pythia8/NANOAODSIM/130X_mcRun3_2023_realistic_postBPix_v6-v3/2530000/ebb\u001b[0m\n",
       "    │   \u001b[36m35a9e-c049-4414-a126-46cf7f414be0.root\u001b[0m\n",
       "    ├── \u001b[36mroot://dcache-cms-xrootd.desy.de:1094//store/mc/Run3Summer23BPixNanoAODv12/SlepSnuCascade_MN1-270_MN2-280_M\u001b[0m\n",
       "    │   \u001b[36mC1-275_TuneCP5_13p6TeV_madgraphMLM-pythia8/NANOAODSIM/130X_mcRun3_2023_realistic_postBPix_v6-v3/2530000/ee2\u001b[0m\n",
       "    │   \u001b[36mdca10-4a75-46a9-bf87-fe6c6bb05400.root\u001b[0m\n",
       "    └── \u001b[36mroot://dcache-cms-xrootd.desy.de:1094//store/mc/Run3Summer23BPixNanoAODv12/SlepSnuCascade_MN1-270_MN2-280_M\u001b[0m\n",
       "        \u001b[36mC1-275_TuneCP5_13p6TeV_madgraphMLM-pythia8/NANOAODSIM/130X_mcRun3_2023_realistic_postBPix_v6-v3/2530000/fbd\u001b[0m\n",
       "        \u001b[36m6ceb4-ab93-461c-8eb6-7a390df211c3.root\u001b[0m\n"
      ]
     },
     "metadata": {},
     "output_type": "display_data"
    },
    {
     "data": {
      "text/plain": [
       "{'/SlepSnuCascade_MN1-220_MN2-260_MC1-240_TuneCP5_13p6TeV_madgraphMLM-pythia8/Run3Summer23BPixNanoAODv12-130X_mcRun3_2023_realistic_postBPix_v6-v3/NANOAODSIM': {'files': {'root://cmsdcadisk.fnal.gov//dcache/uscmsdisk/store/mc/Run3Summer23BPixNanoAODv12/SlepSnuCascade_MN1-220_MN2-260_MC1-240_TuneCP5_13p6TeV_madgraphMLM-pythia8/NANOAODSIM/130X_mcRun3_2023_realistic_postBPix_v6-v3/2520000/0238744e-b5c3-48d0-9415-97854405b503.root': 'Events',\n",
       "   'root://cmsdcadisk.fnal.gov//dcache/uscmsdisk/store/mc/Run3Summer23BPixNanoAODv12/SlepSnuCascade_MN1-220_MN2-260_MC1-240_TuneCP5_13p6TeV_madgraphMLM-pythia8/NANOAODSIM/130X_mcRun3_2023_realistic_postBPix_v6-v3/2520000/1b117b99-b288-4121-a3ad-e9cdee0deebd.root': 'Events',\n",
       "   'root://cmsdcadisk.fnal.gov//dcache/uscmsdisk/store/mc/Run3Summer23BPixNanoAODv12/SlepSnuCascade_MN1-220_MN2-260_MC1-240_TuneCP5_13p6TeV_madgraphMLM-pythia8/NANOAODSIM/130X_mcRun3_2023_realistic_postBPix_v6-v3/2520000/1c3d452f-62da-4dd1-9734-fbd7024de64d.root': 'Events',\n",
       "   'root://cmsdcadisk.fnal.gov//dcache/uscmsdisk/store/mc/Run3Summer23BPixNanoAODv12/SlepSnuCascade_MN1-220_MN2-260_MC1-240_TuneCP5_13p6TeV_madgraphMLM-pythia8/NANOAODSIM/130X_mcRun3_2023_realistic_postBPix_v6-v3/2520000/1d2b26be-ae3d-42a2-8788-be01a97b28c7.root': 'Events',\n",
       "   'root://cmsdcadisk.fnal.gov//dcache/uscmsdisk/store/mc/Run3Summer23BPixNanoAODv12/SlepSnuCascade_MN1-220_MN2-260_MC1-240_TuneCP5_13p6TeV_madgraphMLM-pythia8/NANOAODSIM/130X_mcRun3_2023_realistic_postBPix_v6-v3/2520000/393292c6-6a1a-45d1-9031-1c05e0ddba78.root': 'Events',\n",
       "   'root://cmsdcadisk.fnal.gov//dcache/uscmsdisk/store/mc/Run3Summer23BPixNanoAODv12/SlepSnuCascade_MN1-220_MN2-260_MC1-240_TuneCP5_13p6TeV_madgraphMLM-pythia8/NANOAODSIM/130X_mcRun3_2023_realistic_postBPix_v6-v3/2520000/435988e8-a68a-48d0-82f0-a388dd64d7b6.root': 'Events',\n",
       "   'root://cmsdcadisk.fnal.gov//dcache/uscmsdisk/store/mc/Run3Summer23BPixNanoAODv12/SlepSnuCascade_MN1-220_MN2-260_MC1-240_TuneCP5_13p6TeV_madgraphMLM-pythia8/NANOAODSIM/130X_mcRun3_2023_realistic_postBPix_v6-v3/2520000/45161c49-7f6a-4d5f-8cc7-15382cad4682.root': 'Events',\n",
       "   'root://cmsdcadisk.fnal.gov//dcache/uscmsdisk/store/mc/Run3Summer23BPixNanoAODv12/SlepSnuCascade_MN1-220_MN2-260_MC1-240_TuneCP5_13p6TeV_madgraphMLM-pythia8/NANOAODSIM/130X_mcRun3_2023_realistic_postBPix_v6-v3/2520000/525b3721-8456-4be9-8ebb-9bd077162131.root': 'Events',\n",
       "   'root://cmsdcadisk.fnal.gov//dcache/uscmsdisk/store/mc/Run3Summer23BPixNanoAODv12/SlepSnuCascade_MN1-220_MN2-260_MC1-240_TuneCP5_13p6TeV_madgraphMLM-pythia8/NANOAODSIM/130X_mcRun3_2023_realistic_postBPix_v6-v3/2520000/60150486-f22c-4b0a-8222-02b26a9493f1.root': 'Events',\n",
       "   'root://cmsdcadisk.fnal.gov//dcache/uscmsdisk/store/mc/Run3Summer23BPixNanoAODv12/SlepSnuCascade_MN1-220_MN2-260_MC1-240_TuneCP5_13p6TeV_madgraphMLM-pythia8/NANOAODSIM/130X_mcRun3_2023_realistic_postBPix_v6-v3/2520000/6d6e3789-b918-4aab-a86c-efafffabf12c.root': 'Events',\n",
       "   'root://cmsdcadisk.fnal.gov//dcache/uscmsdisk/store/mc/Run3Summer23BPixNanoAODv12/SlepSnuCascade_MN1-220_MN2-260_MC1-240_TuneCP5_13p6TeV_madgraphMLM-pythia8/NANOAODSIM/130X_mcRun3_2023_realistic_postBPix_v6-v3/2520000/6fd954b5-2f2c-4efb-8fdd-18c78bbe0649.root': 'Events',\n",
       "   'root://cmsdcadisk.fnal.gov//dcache/uscmsdisk/store/mc/Run3Summer23BPixNanoAODv12/SlepSnuCascade_MN1-220_MN2-260_MC1-240_TuneCP5_13p6TeV_madgraphMLM-pythia8/NANOAODSIM/130X_mcRun3_2023_realistic_postBPix_v6-v3/2520000/794b6891-e65e-422a-9388-9f87663c83ae.root': 'Events',\n",
       "   'root://cmsdcadisk.fnal.gov//dcache/uscmsdisk/store/mc/Run3Summer23BPixNanoAODv12/SlepSnuCascade_MN1-220_MN2-260_MC1-240_TuneCP5_13p6TeV_madgraphMLM-pythia8/NANOAODSIM/130X_mcRun3_2023_realistic_postBPix_v6-v3/2520000/8a33b5b6-5328-4552-848d-693c050bbc9d.root': 'Events',\n",
       "   'root://cmsdcadisk.fnal.gov//dcache/uscmsdisk/store/mc/Run3Summer23BPixNanoAODv12/SlepSnuCascade_MN1-220_MN2-260_MC1-240_TuneCP5_13p6TeV_madgraphMLM-pythia8/NANOAODSIM/130X_mcRun3_2023_realistic_postBPix_v6-v3/2520000/8eb51295-6260-4a29-b5bd-04c8d3231ceb.root': 'Events',\n",
       "   'root://cmsdcadisk.fnal.gov//dcache/uscmsdisk/store/mc/Run3Summer23BPixNanoAODv12/SlepSnuCascade_MN1-220_MN2-260_MC1-240_TuneCP5_13p6TeV_madgraphMLM-pythia8/NANOAODSIM/130X_mcRun3_2023_realistic_postBPix_v6-v3/2520000/aa622bcd-2d33-449f-b803-8972fe021efd.root': 'Events',\n",
       "   'root://cmsdcadisk.fnal.gov//dcache/uscmsdisk/store/mc/Run3Summer23BPixNanoAODv12/SlepSnuCascade_MN1-220_MN2-260_MC1-240_TuneCP5_13p6TeV_madgraphMLM-pythia8/NANOAODSIM/130X_mcRun3_2023_realistic_postBPix_v6-v3/2520000/d3272061-dba4-4258-9947-eccaee03ae45.root': 'Events',\n",
       "   'root://cmsdcadisk.fnal.gov//dcache/uscmsdisk/store/mc/Run3Summer23BPixNanoAODv12/SlepSnuCascade_MN1-220_MN2-260_MC1-240_TuneCP5_13p6TeV_madgraphMLM-pythia8/NANOAODSIM/130X_mcRun3_2023_realistic_postBPix_v6-v3/2520000/fe4466d8-f94d-460e-b165-4d6d746cf27d.root': 'Events',\n",
       "   'root://cmsdcadisk.fnal.gov//dcache/uscmsdisk/store/mc/Run3Summer23BPixNanoAODv12/SlepSnuCascade_MN1-220_MN2-260_MC1-240_TuneCP5_13p6TeV_madgraphMLM-pythia8/NANOAODSIM/130X_mcRun3_2023_realistic_postBPix_v6-v3/2530000/7c67a574-a41f-4ffc-921a-7a268002cdc7.root': 'Events'},\n",
       "  'metadata': {}},\n",
       " '/SlepSnuCascade_MN1-260_MN2-280_MC1-270_TuneCP5_13p6TeV_madgraphMLM-pythia8/Run3Summer23BPixNanoAODv12-130X_mcRun3_2023_realistic_postBPix_v6-v3/NANOAODSIM': {'files': {'root://sbgdcache.in2p3.fr//store/mc/Run3Summer23BPixNanoAODv12/SlepSnuCascade_MN1-260_MN2-280_MC1-270_TuneCP5_13p6TeV_madgraphMLM-pythia8/NANOAODSIM/130X_mcRun3_2023_realistic_postBPix_v6-v3/2530000/0d22cdae-b8db-41fb-8ab4-f0c74187f950.root': 'Events',\n",
       "   'root://sbgdcache.in2p3.fr//store/mc/Run3Summer23BPixNanoAODv12/SlepSnuCascade_MN1-260_MN2-280_MC1-270_TuneCP5_13p6TeV_madgraphMLM-pythia8/NANOAODSIM/130X_mcRun3_2023_realistic_postBPix_v6-v3/2530000/2f75bba9-b604-4d42-9d06-0c34ce6b551c.root': 'Events',\n",
       "   'root://sbgdcache.in2p3.fr//store/mc/Run3Summer23BPixNanoAODv12/SlepSnuCascade_MN1-260_MN2-280_MC1-270_TuneCP5_13p6TeV_madgraphMLM-pythia8/NANOAODSIM/130X_mcRun3_2023_realistic_postBPix_v6-v3/2530000/3e0d6872-e7e1-4aab-9913-50e2d66ccbf4.root': 'Events',\n",
       "   'root://sbgdcache.in2p3.fr//store/mc/Run3Summer23BPixNanoAODv12/SlepSnuCascade_MN1-260_MN2-280_MC1-270_TuneCP5_13p6TeV_madgraphMLM-pythia8/NANOAODSIM/130X_mcRun3_2023_realistic_postBPix_v6-v3/2530000/5e033857-fdd9-43fa-b8a6-bb606a0d7cf3.root': 'Events',\n",
       "   'root://sbgdcache.in2p3.fr//store/mc/Run3Summer23BPixNanoAODv12/SlepSnuCascade_MN1-260_MN2-280_MC1-270_TuneCP5_13p6TeV_madgraphMLM-pythia8/NANOAODSIM/130X_mcRun3_2023_realistic_postBPix_v6-v3/2530000/7db046a5-3839-49c1-92ee-823499ecbfb0.root': 'Events',\n",
       "   'root://sbgdcache.in2p3.fr//store/mc/Run3Summer23BPixNanoAODv12/SlepSnuCascade_MN1-260_MN2-280_MC1-270_TuneCP5_13p6TeV_madgraphMLM-pythia8/NANOAODSIM/130X_mcRun3_2023_realistic_postBPix_v6-v3/2530000/7fafb075-d37e-4ee0-86dd-63d7554f5304.root': 'Events',\n",
       "   'root://sbgdcache.in2p3.fr//store/mc/Run3Summer23BPixNanoAODv12/SlepSnuCascade_MN1-260_MN2-280_MC1-270_TuneCP5_13p6TeV_madgraphMLM-pythia8/NANOAODSIM/130X_mcRun3_2023_realistic_postBPix_v6-v3/2530000/81e6a990-2871-45cc-b1fd-dcc44af5e85a.root': 'Events',\n",
       "   'root://sbgdcache.in2p3.fr//store/mc/Run3Summer23BPixNanoAODv12/SlepSnuCascade_MN1-260_MN2-280_MC1-270_TuneCP5_13p6TeV_madgraphMLM-pythia8/NANOAODSIM/130X_mcRun3_2023_realistic_postBPix_v6-v3/2530000/86f4a155-3b0f-48aa-a8fe-386495defc7b.root': 'Events',\n",
       "   'root://sbgdcache.in2p3.fr//store/mc/Run3Summer23BPixNanoAODv12/SlepSnuCascade_MN1-260_MN2-280_MC1-270_TuneCP5_13p6TeV_madgraphMLM-pythia8/NANOAODSIM/130X_mcRun3_2023_realistic_postBPix_v6-v3/2530000/99c3fd5f-17ef-42aa-a356-a6cf10244049.root': 'Events',\n",
       "   'root://sbgdcache.in2p3.fr//store/mc/Run3Summer23BPixNanoAODv12/SlepSnuCascade_MN1-260_MN2-280_MC1-270_TuneCP5_13p6TeV_madgraphMLM-pythia8/NANOAODSIM/130X_mcRun3_2023_realistic_postBPix_v6-v3/2530000/a1dca706-2ecb-4cef-84a8-3feb33428ecc.root': 'Events',\n",
       "   'root://sbgdcache.in2p3.fr//store/mc/Run3Summer23BPixNanoAODv12/SlepSnuCascade_MN1-260_MN2-280_MC1-270_TuneCP5_13p6TeV_madgraphMLM-pythia8/NANOAODSIM/130X_mcRun3_2023_realistic_postBPix_v6-v3/2530000/aa2f23ee-3fa8-4450-ae4e-0a44290dd146.root': 'Events',\n",
       "   'root://sbgdcache.in2p3.fr//store/mc/Run3Summer23BPixNanoAODv12/SlepSnuCascade_MN1-260_MN2-280_MC1-270_TuneCP5_13p6TeV_madgraphMLM-pythia8/NANOAODSIM/130X_mcRun3_2023_realistic_postBPix_v6-v3/2530000/cbb38e5f-4486-4f9c-b0db-272c9008133a.root': 'Events',\n",
       "   'root://sbgdcache.in2p3.fr//store/mc/Run3Summer23BPixNanoAODv12/SlepSnuCascade_MN1-260_MN2-280_MC1-270_TuneCP5_13p6TeV_madgraphMLM-pythia8/NANOAODSIM/130X_mcRun3_2023_realistic_postBPix_v6-v3/2530000/ccbd4f89-122a-4065-b0be-f38e9b2878d1.root': 'Events',\n",
       "   'root://sbgdcache.in2p3.fr//store/mc/Run3Summer23BPixNanoAODv12/SlepSnuCascade_MN1-260_MN2-280_MC1-270_TuneCP5_13p6TeV_madgraphMLM-pythia8/NANOAODSIM/130X_mcRun3_2023_realistic_postBPix_v6-v3/2530000/ee78214f-596d-4b13-923a-b2791499596c.root': 'Events',\n",
       "   'root://sbgdcache.in2p3.fr//store/mc/Run3Summer23BPixNanoAODv12/SlepSnuCascade_MN1-260_MN2-280_MC1-270_TuneCP5_13p6TeV_madgraphMLM-pythia8/NANOAODSIM/130X_mcRun3_2023_realistic_postBPix_v6-v3/2530000/f786c693-9b96-47dc-8f97-3986c1067e05.root': 'Events',\n",
       "   'root://sbgdcache.in2p3.fr//store/mc/Run3Summer23BPixNanoAODv12/SlepSnuCascade_MN1-260_MN2-280_MC1-270_TuneCP5_13p6TeV_madgraphMLM-pythia8/NANOAODSIM/130X_mcRun3_2023_realistic_postBPix_v6-v3/2530000/fac026d7-c47c-4007-a51c-514fe55f5bc7.root': 'Events'},\n",
       "  'metadata': {}},\n",
       " '/SlepSnuCascade_MN1-270_MN2-280_MC1-275_TuneCP5_13p6TeV_madgraphMLM-pythia8/Run3Summer23BPixNanoAODv12-130X_mcRun3_2023_realistic_postBPix_v6-v3/NANOAODSIM': {'files': {'root://dcache-cms-xrootd.desy.de:1094//store/mc/Run3Summer23BPixNanoAODv12/SlepSnuCascade_MN1-270_MN2-280_MC1-275_TuneCP5_13p6TeV_madgraphMLM-pythia8/NANOAODSIM/130X_mcRun3_2023_realistic_postBPix_v6-v3/2530000/014a47c0-b196-47d6-aaf1-c482c58e7fb3.root': 'Events',\n",
       "   'root://dcache-cms-xrootd.desy.de:1094//store/mc/Run3Summer23BPixNanoAODv12/SlepSnuCascade_MN1-270_MN2-280_MC1-275_TuneCP5_13p6TeV_madgraphMLM-pythia8/NANOAODSIM/130X_mcRun3_2023_realistic_postBPix_v6-v3/2530000/1b48e487-da20-4894-b8f6-03a65e07c682.root': 'Events',\n",
       "   'root://dcache-cms-xrootd.desy.de:1094//store/mc/Run3Summer23BPixNanoAODv12/SlepSnuCascade_MN1-270_MN2-280_MC1-275_TuneCP5_13p6TeV_madgraphMLM-pythia8/NANOAODSIM/130X_mcRun3_2023_realistic_postBPix_v6-v3/2530000/25da9226-6708-479f-888f-dccb550b2f00.root': 'Events',\n",
       "   'root://dcache-cms-xrootd.desy.de:1094//store/mc/Run3Summer23BPixNanoAODv12/SlepSnuCascade_MN1-270_MN2-280_MC1-275_TuneCP5_13p6TeV_madgraphMLM-pythia8/NANOAODSIM/130X_mcRun3_2023_realistic_postBPix_v6-v3/2530000/36cc4051-4e1f-4a9c-a793-7130d67e55c9.root': 'Events',\n",
       "   'root://dcache-cms-xrootd.desy.de:1094//store/mc/Run3Summer23BPixNanoAODv12/SlepSnuCascade_MN1-270_MN2-280_MC1-275_TuneCP5_13p6TeV_madgraphMLM-pythia8/NANOAODSIM/130X_mcRun3_2023_realistic_postBPix_v6-v3/2530000/3fc4792a-98ef-4ee4-ad52-2ef45fdad2ae.root': 'Events',\n",
       "   'root://dcache-cms-xrootd.desy.de:1094//store/mc/Run3Summer23BPixNanoAODv12/SlepSnuCascade_MN1-270_MN2-280_MC1-275_TuneCP5_13p6TeV_madgraphMLM-pythia8/NANOAODSIM/130X_mcRun3_2023_realistic_postBPix_v6-v3/2530000/40134c6c-2296-49a8-8473-c49a5ca39a99.root': 'Events',\n",
       "   'root://dcache-cms-xrootd.desy.de:1094//store/mc/Run3Summer23BPixNanoAODv12/SlepSnuCascade_MN1-270_MN2-280_MC1-275_TuneCP5_13p6TeV_madgraphMLM-pythia8/NANOAODSIM/130X_mcRun3_2023_realistic_postBPix_v6-v3/2530000/43a03ae0-8764-4e18-9473-e4d5b2ce5b3e.root': 'Events',\n",
       "   'root://dcache-cms-xrootd.desy.de:1094//store/mc/Run3Summer23BPixNanoAODv12/SlepSnuCascade_MN1-270_MN2-280_MC1-275_TuneCP5_13p6TeV_madgraphMLM-pythia8/NANOAODSIM/130X_mcRun3_2023_realistic_postBPix_v6-v3/2530000/74cb0109-f18a-467c-903b-9fec55026124.root': 'Events',\n",
       "   'root://dcache-cms-xrootd.desy.de:1094//store/mc/Run3Summer23BPixNanoAODv12/SlepSnuCascade_MN1-270_MN2-280_MC1-275_TuneCP5_13p6TeV_madgraphMLM-pythia8/NANOAODSIM/130X_mcRun3_2023_realistic_postBPix_v6-v3/2530000/9d5bb43f-8865-4736-8140-cc9448b521d1.root': 'Events',\n",
       "   'root://dcache-cms-xrootd.desy.de:1094//store/mc/Run3Summer23BPixNanoAODv12/SlepSnuCascade_MN1-270_MN2-280_MC1-275_TuneCP5_13p6TeV_madgraphMLM-pythia8/NANOAODSIM/130X_mcRun3_2023_realistic_postBPix_v6-v3/2530000/a00466ab-68f5-400b-b4c5-f088994049d9.root': 'Events',\n",
       "   'root://dcache-cms-xrootd.desy.de:1094//store/mc/Run3Summer23BPixNanoAODv12/SlepSnuCascade_MN1-270_MN2-280_MC1-275_TuneCP5_13p6TeV_madgraphMLM-pythia8/NANOAODSIM/130X_mcRun3_2023_realistic_postBPix_v6-v3/2530000/a2d8829f-8d72-476f-b468-5939df3918b8.root': 'Events',\n",
       "   'root://dcache-cms-xrootd.desy.de:1094//store/mc/Run3Summer23BPixNanoAODv12/SlepSnuCascade_MN1-270_MN2-280_MC1-275_TuneCP5_13p6TeV_madgraphMLM-pythia8/NANOAODSIM/130X_mcRun3_2023_realistic_postBPix_v6-v3/2530000/bc617c28-893d-4204-8273-fe0ed7e8f143.root': 'Events',\n",
       "   'root://dcache-cms-xrootd.desy.de:1094//store/mc/Run3Summer23BPixNanoAODv12/SlepSnuCascade_MN1-270_MN2-280_MC1-275_TuneCP5_13p6TeV_madgraphMLM-pythia8/NANOAODSIM/130X_mcRun3_2023_realistic_postBPix_v6-v3/2530000/d9e85cdd-50cf-4144-8d81-85dc4c341c76.root': 'Events',\n",
       "   'root://dcache-cms-xrootd.desy.de:1094//store/mc/Run3Summer23BPixNanoAODv12/SlepSnuCascade_MN1-270_MN2-280_MC1-275_TuneCP5_13p6TeV_madgraphMLM-pythia8/NANOAODSIM/130X_mcRun3_2023_realistic_postBPix_v6-v3/2530000/e3f98444-3de4-4c49-bcf9-3e5e9ba825e5.root': 'Events',\n",
       "   'root://dcache-cms-xrootd.desy.de:1094//store/mc/Run3Summer23BPixNanoAODv12/SlepSnuCascade_MN1-270_MN2-280_MC1-275_TuneCP5_13p6TeV_madgraphMLM-pythia8/NANOAODSIM/130X_mcRun3_2023_realistic_postBPix_v6-v3/2530000/ebb35a9e-c049-4414-a126-46cf7f414be0.root': 'Events',\n",
       "   'root://dcache-cms-xrootd.desy.de:1094//store/mc/Run3Summer23BPixNanoAODv12/SlepSnuCascade_MN1-270_MN2-280_MC1-275_TuneCP5_13p6TeV_madgraphMLM-pythia8/NANOAODSIM/130X_mcRun3_2023_realistic_postBPix_v6-v3/2530000/ee2dca10-4a75-46a9-bf87-fe6c6bb05400.root': 'Events',\n",
       "   'root://dcache-cms-xrootd.desy.de:1094//store/mc/Run3Summer23BPixNanoAODv12/SlepSnuCascade_MN1-270_MN2-280_MC1-275_TuneCP5_13p6TeV_madgraphMLM-pythia8/NANOAODSIM/130X_mcRun3_2023_realistic_postBPix_v6-v3/2530000/fbd6ceb4-ab93-461c-8eb6-7a390df211c3.root': 'Events'},\n",
       "  'metadata': {}}}"
      ]
     },
     "execution_count": 8,
     "metadata": {},
     "output_type": "execute_result"
    }
   ],
   "source": [
    "ddc.do_replicas(\"first\", \"all\")"
   ]
  },
  {
   "cell_type": "markdown",
   "id": "5a5703a2-d012-481d-8dc6-6ce9109dcdd9",
   "metadata": {},
   "source": [
    "### So the above output is very large for 3 files but its complete (I think?). If we would like to filter based on site, i.e. forbid certain sites from the replica query, we can block them with `do_blocklist_sites`"
   ]
  },
  {
   "cell_type": "code",
   "execution_count": 9,
   "id": "f1cff49b-284a-4230-9d5d-052042edecab",
   "metadata": {
    "tags": []
   },
   "outputs": [
    {
     "data": {
      "text/html": [
       "<pre style=\"white-space:pre;overflow-x:auto;line-height:normal;font-family:Menlo,'DejaVu Sans Mono',consolas,'Courier New',monospace\"><span style=\"color: #800000; text-decoration-color: #800000\">Blocklisted sites:</span>\n",
       "</pre>\n"
      ],
      "text/plain": [
       "\u001b[31mBlocklisted sites:\u001b[0m\n"
      ]
     },
     "metadata": {},
     "output_type": "display_data"
    },
    {
     "data": {
      "text/html": [
       "<pre style=\"white-space:pre;overflow-x:auto;line-height:normal;font-family:Menlo,'DejaVu Sans Mono',consolas,'Courier New',monospace\">- T1_UK_RAL_Disk\n",
       "</pre>\n"
      ],
      "text/plain": [
       "- T1_UK_RAL_Disk\n"
      ]
     },
     "metadata": {},
     "output_type": "display_data"
    },
    {
     "data": {
      "text/html": [
       "<pre style=\"white-space:pre;overflow-x:auto;line-height:normal;font-family:Menlo,'DejaVu Sans Mono',consolas,'Courier New',monospace\">- T1_IT_CNAF_Disk\n",
       "</pre>\n"
      ],
      "text/plain": [
       "- T1_IT_CNAF_Disk\n"
      ]
     },
     "metadata": {},
     "output_type": "display_data"
    },
    {
     "data": {
      "text/html": [
       "<pre style=\"white-space:pre;overflow-x:auto;line-height:normal;font-family:Menlo,'DejaVu Sans Mono',consolas,'Courier New',monospace\">- T2_US_Vanderbilt\n",
       "</pre>\n"
      ],
      "text/plain": [
       "- T2_US_Vanderbilt\n"
      ]
     },
     "metadata": {},
     "output_type": "display_data"
    }
   ],
   "source": [
    "blocked_sites = [\"T1_UK_RAL_Disk\", \"T1_IT_CNAF_Disk\", \"T2_US_Vanderbilt\"] #idk, just picked some random sites\n",
    "ddc.do_blocklist_sites(blocked_sites)"
   ]
  },
  {
   "cell_type": "markdown",
   "id": "1a53d8d2-59d6-4635-b3b9-14c69640d357",
   "metadata": {
    "tags": []
   },
   "source": [
    "### The above list also only appends, however there is a command to print the block list and clear it if you wish:"
   ]
  },
  {
   "cell_type": "code",
   "execution_count": 10,
   "id": "2e08383e-47c9-4eb9-a23f-2f85b25bc8c6",
   "metadata": {
    "tags": []
   },
   "outputs": [
    {
     "data": {
      "text/html": [
       "<pre style=\"white-space:pre;overflow-x:auto;line-height:normal;font-family:Menlo,'DejaVu Sans Mono',consolas,'Courier New',monospace\"><span style=\"color: #008000; text-decoration-color: #008000; font-weight: bold\">Allow-listed sites:</span>\n",
       "</pre>\n"
      ],
      "text/plain": [
       "\u001b[1;32mAllow-listed sites:\u001b[0m\n"
      ]
     },
     "metadata": {},
     "output_type": "display_data"
    },
    {
     "data": {
      "text/html": [
       "<pre style=\"white-space:pre;overflow-x:auto;line-height:normal;font-family:Menlo,'DejaVu Sans Mono',consolas,'Courier New',monospace\"><span style=\"color: #800000; text-decoration-color: #800000; font-weight: bold\">Block-listed sites:</span>\n",
       "</pre>\n"
      ],
      "text/plain": [
       "\u001b[1;31mBlock-listed sites:\u001b[0m\n"
      ]
     },
     "metadata": {},
     "output_type": "display_data"
    },
    {
     "data": {
      "text/html": [
       "<pre style=\"white-space:pre;overflow-x:auto;line-height:normal;font-family:Menlo,'DejaVu Sans Mono',consolas,'Courier New',monospace\">- T1_UK_RAL_Disk\n",
       "</pre>\n"
      ],
      "text/plain": [
       "- T1_UK_RAL_Disk\n"
      ]
     },
     "metadata": {},
     "output_type": "display_data"
    },
    {
     "data": {
      "text/html": [
       "<pre style=\"white-space:pre;overflow-x:auto;line-height:normal;font-family:Menlo,'DejaVu Sans Mono',consolas,'Courier New',monospace\">- T1_IT_CNAF_Disk\n",
       "</pre>\n"
      ],
      "text/plain": [
       "- T1_IT_CNAF_Disk\n"
      ]
     },
     "metadata": {},
     "output_type": "display_data"
    },
    {
     "data": {
      "text/html": [
       "<pre style=\"white-space:pre;overflow-x:auto;line-height:normal;font-family:Menlo,'DejaVu Sans Mono',consolas,'Courier New',monospace\">- T2_US_Vanderbilt\n",
       "</pre>\n"
      ],
      "text/plain": [
       "- T2_US_Vanderbilt\n"
      ]
     },
     "metadata": {},
     "output_type": "display_data"
    },
    {
     "data": {
      "text/html": [
       "<pre style=\"white-space:pre;overflow-x:auto;line-height:normal;font-family:Menlo,'DejaVu Sans Mono',consolas,'Courier New',monospace\"><span style=\"color: #008080; text-decoration-color: #008080; font-weight: bold\">Sites regex: </span><span style=\"color: #008080; text-decoration-color: #008080; font-weight: bold; font-style: italic\">None</span>\n",
       "</pre>\n"
      ],
      "text/plain": [
       "\u001b[1;36mSites regex: \u001b[0m\u001b[1;3;36mNone\u001b[0m\n"
      ]
     },
     "metadata": {},
     "output_type": "display_data"
    },
    {
     "data": {
      "text/html": [
       "<pre style=\"white-space:pre;overflow-x:auto;line-height:normal;font-family:Menlo,'DejaVu Sans Mono',consolas,'Courier New',monospace\">Clear sites restrinction? <span style=\"color: #800080; text-decoration-color: #800080; font-weight: bold\">[y/n]</span> <span style=\"color: #008080; text-decoration-color: #008080; font-weight: bold\">(n)</span>: </pre>\n"
      ],
      "text/plain": [
       "Clear sites restrinction? \u001b[1;35m[y/n]\u001b[0m \u001b[1;36m(n)\u001b[0m: "
      ]
     },
     "metadata": {},
     "output_type": "display_data"
    },
    {
     "name": "stdin",
     "output_type": "stream",
     "text": [
      " y\n"
     ]
    },
    {
     "data": {
      "text/html": [
       "<pre style=\"white-space:pre;overflow-x:auto;line-height:normal;font-family:Menlo,'DejaVu Sans Mono',consolas,'Courier New',monospace\"><span style=\"color: #008000; text-decoration-color: #008000; font-weight: bold\">Sites filters cleared</span>\n",
       "</pre>\n"
      ],
      "text/plain": [
       "\u001b[1;32mSites filters cleared\u001b[0m\n"
      ]
     },
     "metadata": {},
     "output_type": "display_data"
    }
   ],
   "source": [
    "ddc.do_sites_filters()"
   ]
  },
  {
   "cell_type": "markdown",
   "id": "dc5f9e62-0938-4bdd-8fcb-839fad39a2c9",
   "metadata": {},
   "source": [
    "### The more convenient way to filter sites is probably by only allowing specific sites you wish, the inverse of the block command. `do_allowlist_sites` handles that: "
   ]
  },
  {
   "cell_type": "code",
   "execution_count": 11,
   "id": "5464351a-a780-491f-9922-b3cc2e05c7a0",
   "metadata": {
    "tags": []
   },
   "outputs": [
    {
     "data": {
      "text/html": [
       "<pre style=\"white-space:pre;overflow-x:auto;line-height:normal;font-family:Menlo,'DejaVu Sans Mono',consolas,'Courier New',monospace\"><span style=\"color: #008000; text-decoration-color: #008000\">Allowlisted sites:</span>\n",
       "</pre>\n"
      ],
      "text/plain": [
       "\u001b[32mAllowlisted sites:\u001b[0m\n"
      ]
     },
     "metadata": {},
     "output_type": "display_data"
    },
    {
     "data": {
      "text/html": [
       "<pre style=\"white-space:pre;overflow-x:auto;line-height:normal;font-family:Menlo,'DejaVu Sans Mono',consolas,'Courier New',monospace\">- T2_DE_DESY\n",
       "</pre>\n"
      ],
      "text/plain": [
       "- T2_DE_DESY\n"
      ]
     },
     "metadata": {},
     "output_type": "display_data"
    },
    {
     "data": {
      "text/html": [
       "<pre style=\"white-space:pre;overflow-x:auto;line-height:normal;font-family:Menlo,'DejaVu Sans Mono',consolas,'Courier New',monospace\">- T1_US_FNAL_Disk\n",
       "</pre>\n"
      ],
      "text/plain": [
       "- T1_US_FNAL_Disk\n"
      ]
     },
     "metadata": {},
     "output_type": "display_data"
    },
    {
     "data": {
      "text/html": [
       "<pre style=\"white-space:pre;overflow-x:auto;line-height:normal;font-family:Menlo,'DejaVu Sans Mono',consolas,'Courier New',monospace\">- T2_FR_IPHC\n",
       "</pre>\n"
      ],
      "text/plain": [
       "- T2_FR_IPHC\n"
      ]
     },
     "metadata": {},
     "output_type": "display_data"
    },
    {
     "data": {
      "text/html": [
       "<pre style=\"white-space:pre;overflow-x:auto;line-height:normal;font-family:Menlo,'DejaVu Sans Mono',consolas,'Courier New',monospace\">- T2_IT_Legnaro\n",
       "</pre>\n"
      ],
      "text/plain": [
       "- T2_IT_Legnaro\n"
      ]
     },
     "metadata": {},
     "output_type": "display_data"
    }
   ],
   "source": [
    "allowed_sites = [\"T2_DE_DESY\", \"T1_US_FNAL_Disk\", \"T2_FR_IPHC\", \"T2_IT_Legnaro\"]\n",
    "ddc.do_allowlist_sites(allowed_sites)"
   ]
  },
  {
   "cell_type": "markdown",
   "id": "720b9e5e-513f-4823-ba7f-cb709f875f67",
   "metadata": {},
   "source": [
    "### Now lets look at the site_filter list:"
   ]
  },
  {
   "cell_type": "code",
   "execution_count": 12,
   "id": "abb8f7d8-a5bb-45f4-bba2-6732bc2fc26d",
   "metadata": {
    "tags": []
   },
   "outputs": [
    {
     "data": {
      "text/html": [
       "<pre style=\"white-space:pre;overflow-x:auto;line-height:normal;font-family:Menlo,'DejaVu Sans Mono',consolas,'Courier New',monospace\"><span style=\"color: #008000; text-decoration-color: #008000; font-weight: bold\">Allow-listed sites:</span>\n",
       "</pre>\n"
      ],
      "text/plain": [
       "\u001b[1;32mAllow-listed sites:\u001b[0m\n"
      ]
     },
     "metadata": {},
     "output_type": "display_data"
    },
    {
     "data": {
      "text/html": [
       "<pre style=\"white-space:pre;overflow-x:auto;line-height:normal;font-family:Menlo,'DejaVu Sans Mono',consolas,'Courier New',monospace\">- T2_DE_DESY\n",
       "</pre>\n"
      ],
      "text/plain": [
       "- T2_DE_DESY\n"
      ]
     },
     "metadata": {},
     "output_type": "display_data"
    },
    {
     "data": {
      "text/html": [
       "<pre style=\"white-space:pre;overflow-x:auto;line-height:normal;font-family:Menlo,'DejaVu Sans Mono',consolas,'Courier New',monospace\">- T1_US_FNAL_Disk\n",
       "</pre>\n"
      ],
      "text/plain": [
       "- T1_US_FNAL_Disk\n"
      ]
     },
     "metadata": {},
     "output_type": "display_data"
    },
    {
     "data": {
      "text/html": [
       "<pre style=\"white-space:pre;overflow-x:auto;line-height:normal;font-family:Menlo,'DejaVu Sans Mono',consolas,'Courier New',monospace\">- T2_FR_IPHC\n",
       "</pre>\n"
      ],
      "text/plain": [
       "- T2_FR_IPHC\n"
      ]
     },
     "metadata": {},
     "output_type": "display_data"
    },
    {
     "data": {
      "text/html": [
       "<pre style=\"white-space:pre;overflow-x:auto;line-height:normal;font-family:Menlo,'DejaVu Sans Mono',consolas,'Courier New',monospace\">- T2_IT_Legnaro\n",
       "</pre>\n"
      ],
      "text/plain": [
       "- T2_IT_Legnaro\n"
      ]
     },
     "metadata": {},
     "output_type": "display_data"
    },
    {
     "data": {
      "text/html": [
       "<pre style=\"white-space:pre;overflow-x:auto;line-height:normal;font-family:Menlo,'DejaVu Sans Mono',consolas,'Courier New',monospace\"><span style=\"color: #800000; text-decoration-color: #800000; font-weight: bold\">Block-listed sites:</span>\n",
       "</pre>\n"
      ],
      "text/plain": [
       "\u001b[1;31mBlock-listed sites:\u001b[0m\n"
      ]
     },
     "metadata": {},
     "output_type": "display_data"
    },
    {
     "data": {
      "text/html": [
       "<pre style=\"white-space:pre;overflow-x:auto;line-height:normal;font-family:Menlo,'DejaVu Sans Mono',consolas,'Courier New',monospace\"><span style=\"color: #008080; text-decoration-color: #008080; font-weight: bold\">Sites regex: </span><span style=\"color: #008080; text-decoration-color: #008080; font-weight: bold; font-style: italic\">None</span>\n",
       "</pre>\n"
      ],
      "text/plain": [
       "\u001b[1;36mSites regex: \u001b[0m\u001b[1;3;36mNone\u001b[0m\n"
      ]
     },
     "metadata": {},
     "output_type": "display_data"
    },
    {
     "data": {
      "text/html": [
       "<pre style=\"white-space:pre;overflow-x:auto;line-height:normal;font-family:Menlo,'DejaVu Sans Mono',consolas,'Courier New',monospace\">Clear sites restrinction? <span style=\"color: #800080; text-decoration-color: #800080; font-weight: bold\">[y/n]</span> <span style=\"color: #008080; text-decoration-color: #008080; font-weight: bold\">(n)</span>: </pre>\n"
      ],
      "text/plain": [
       "Clear sites restrinction? \u001b[1;35m[y/n]\u001b[0m \u001b[1;36m(n)\u001b[0m: "
      ]
     },
     "metadata": {},
     "output_type": "display_data"
    },
    {
     "name": "stdin",
     "output_type": "stream",
     "text": [
      " y\n"
     ]
    },
    {
     "data": {
      "text/html": [
       "<pre style=\"white-space:pre;overflow-x:auto;line-height:normal;font-family:Menlo,'DejaVu Sans Mono',consolas,'Courier New',monospace\"><span style=\"color: #008000; text-decoration-color: #008000; font-weight: bold\">Sites filters cleared</span>\n",
       "</pre>\n"
      ],
      "text/plain": [
       "\u001b[1;32mSites filters cleared\u001b[0m\n"
      ]
     },
     "metadata": {},
     "output_type": "display_data"
    }
   ],
   "source": [
    "ddc.do_sites_filters()"
   ]
  },
  {
   "cell_type": "markdown",
   "id": "0d2b255b-e7ed-4ed2-bc5b-a44823f49637",
   "metadata": {},
   "source": [
    "### This can be greatly simplified by doing `do_regex_sites`"
   ]
  },
  {
   "cell_type": "code",
   "execution_count": 13,
   "id": "7a8b166d-d66b-416a-adb2-e2fa19c3ee63",
   "metadata": {
    "tags": []
   },
   "outputs": [
    {
     "data": {
      "text/html": [
       "<pre style=\"white-space:pre;overflow-x:auto;line-height:normal;font-family:Menlo,'DejaVu Sans Mono',consolas,'Courier New',monospace\">New sites regex: <span style=\"color: #008080; text-decoration-color: #008080\">T</span><span style=\"color: #008080; text-decoration-color: #008080; font-weight: bold\">[</span><span style=\"color: #008080; text-decoration-color: #008080; font-weight: bold\">12</span><span style=\"color: #008080; text-decoration-color: #008080; font-weight: bold\">]_(</span><span style=\"color: #008080; text-decoration-color: #008080\">US</span><span style=\"color: #008080; text-decoration-color: #008080; font-weight: bold\">)</span><span style=\"color: #008080; text-decoration-color: #008080\">_\\w+</span>\n",
       "</pre>\n"
      ],
      "text/plain": [
       "New sites regex: \u001b[36mT\u001b[0m\u001b[1;36m[\u001b[0m\u001b[1;36m12\u001b[0m\u001b[1;36m]\u001b[0m\u001b[1;36m_\u001b[0m\u001b[1;36m(\u001b[0m\u001b[36mUS\u001b[0m\u001b[1;36m)\u001b[0m\u001b[36m_\\w+\u001b[0m\n"
      ]
     },
     "metadata": {},
     "output_type": "display_data"
    }
   ],
   "source": [
    "#ddc.do_regex_sites(r\"T[123]_(CH|IT|UK|FR|DE)_\\w+\")\n",
    "ddc.do_regex_sites(r\"T[12]_(US)_\\w+\")"
   ]
  },
  {
   "cell_type": "code",
   "execution_count": 14,
   "id": "3d2a064d-3d47-4b7c-9277-ccd4e9621b26",
   "metadata": {
    "tags": []
   },
   "outputs": [
    {
     "data": {
      "application/vnd.jupyter.widget-view+json": {
       "model_id": "",
       "version_major": 2,
       "version_minor": 0
      },
      "text/plain": [
       "Output()"
      ]
     },
     "metadata": {},
     "output_type": "display_data"
    },
    {
     "data": {
      "text/html": [
       "<pre style=\"white-space:pre;overflow-x:auto;line-height:normal;font-family:Menlo,'DejaVu Sans Mono',consolas,'Courier New',monospace\"></pre>\n"
      ],
      "text/plain": []
     },
     "metadata": {},
     "output_type": "display_data"
    },
    {
     "data": {
      "text/html": [
       "<pre style=\"white-space:pre;overflow-x:auto;line-height:normal;font-family:Menlo,'DejaVu Sans Mono',consolas,'Courier New',monospace\"><span style=\"color: #008080; text-decoration-color: #008080\">Sites availability for dataset: </span>\n",
       "<span style=\"color: #800000; text-decoration-color: #800000\">/SlepSnuCascade_MN1-220_MN2-260_MC1-240_TuneCP5_13p6TeV_madgraphMLM-pythia8/Run3Summer23BPixNanoAODv12-130X_mcRun3_</span>\n",
       "<span style=\"color: #800000; text-decoration-color: #800000\">2023_realistic_postBPix_v6-v3/NANOAODSIM</span>\n",
       "</pre>\n"
      ],
      "text/plain": [
       "\u001b[36mSites availability for dataset: \u001b[0m\n",
       "\u001b[31m/SlepSnuCascade_MN1-220_MN2-260_MC1-240_TuneCP5_13p6TeV_madgraphMLM-pythia8/Run3Summer23BPixNanoAODv12-130X_mcRun3_\u001b[0m\n",
       "\u001b[31m2023_realistic_postBPix_v6-v3/\u001b[0m\u001b[31mNANOAODSIM\u001b[0m\n"
      ]
     },
     "metadata": {},
     "output_type": "display_data"
    },
    {
     "data": {
      "text/html": [
       "<pre style=\"white-space:pre;overflow-x:auto;line-height:normal;font-family:Menlo,'DejaVu Sans Mono',consolas,'Courier New',monospace\"><span style=\"font-style: italic\">                 Available replicas                  </span>\n",
       "┏━━━━━━━┳━━━━━━━━━━━━━━━━━━┳━━━━━━━━━┳━━━━━━━━━━━━━━┓\n",
       "┃<span style=\"font-weight: bold\"> Index </span>┃<span style=\"font-weight: bold\"> Site             </span>┃<span style=\"font-weight: bold\"> Files   </span>┃<span style=\"font-weight: bold\"> Availability </span>┃\n",
       "┡━━━━━━━╇━━━━━━━━━━━━━━━━━━╇━━━━━━━━━╇━━━━━━━━━━━━━━┩\n",
       "│<span style=\"color: #7f7f7f; text-decoration-color: #7f7f7f\">   0   </span>│<span style=\"color: #7fbfbf; text-decoration-color: #7fbfbf\"> T1_US_FNAL_Disk  </span>│<span style=\"color: #bf7fbf; text-decoration-color: #bf7fbf\"> 18 / 18 </span>│<span style=\"color: #7f7f7f; text-decoration-color: #7f7f7f\">    100.0%    </span>│\n",
       "│   1   │<span style=\"color: #008080; text-decoration-color: #008080\"> T2_US_Vanderbilt </span>│<span style=\"color: #800080; text-decoration-color: #800080\"> 18 / 18 </span>│    100.0%    │\n",
       "└───────┴──────────────────┴─────────┴──────────────┘\n",
       "</pre>\n"
      ],
      "text/plain": [
       "\u001b[3m                 Available replicas                  \u001b[0m\n",
       "┏━━━━━━━┳━━━━━━━━━━━━━━━━━━┳━━━━━━━━━┳━━━━━━━━━━━━━━┓\n",
       "┃\u001b[1m \u001b[0m\u001b[1mIndex\u001b[0m\u001b[1m \u001b[0m┃\u001b[1m \u001b[0m\u001b[1mSite            \u001b[0m\u001b[1m \u001b[0m┃\u001b[1m \u001b[0m\u001b[1mFiles  \u001b[0m\u001b[1m \u001b[0m┃\u001b[1m \u001b[0m\u001b[1mAvailability\u001b[0m\u001b[1m \u001b[0m┃\n",
       "┡━━━━━━━╇━━━━━━━━━━━━━━━━━━╇━━━━━━━━━╇━━━━━━━━━━━━━━┩\n",
       "│\u001b[2m \u001b[0m\u001b[2m  0  \u001b[0m\u001b[2m \u001b[0m│\u001b[2;36m \u001b[0m\u001b[2;36mT1_US_FNAL_Disk \u001b[0m\u001b[2;36m \u001b[0m│\u001b[2;35m \u001b[0m\u001b[2;35m18 / 18\u001b[0m\u001b[2;35m \u001b[0m│\u001b[2m \u001b[0m\u001b[2m   100.0%   \u001b[0m\u001b[2m \u001b[0m│\n",
       "│   1   │\u001b[36m \u001b[0m\u001b[36mT2_US_Vanderbilt\u001b[0m\u001b[36m \u001b[0m│\u001b[35m \u001b[0m\u001b[35m18 / 18\u001b[0m\u001b[35m \u001b[0m│    100.0%    │\n",
       "└───────┴──────────────────┴─────────┴──────────────┘\n"
      ]
     },
     "metadata": {},
     "output_type": "display_data"
    },
    {
     "data": {
      "text/html": [
       "<pre style=\"white-space:pre;overflow-x:auto;line-height:normal;font-family:Menlo,'DejaVu Sans Mono',consolas,'Courier New',monospace\">Replicas for \n",
       "<span style=\"color: #008000; text-decoration-color: #008000\">/SlepSnuCascade_MN1-220_MN2-260_MC1-240_TuneCP5_13p6TeV_madgraphMLM-pythia8/Run3Summer23BPixNanoAODv12-130X_mcRun3_</span>\n",
       "<span style=\"color: #008000; text-decoration-color: #008000\">2023_realistic_postBPix_v6-v3/NANOAODSIM</span>\n",
       "└── <span style=\"color: #008000; text-decoration-color: #008000\">T1_US_FNAL_Disk</span>\n",
       "    ├── <span style=\"color: #008080; text-decoration-color: #008080\">root://cmsdcadisk.fnal.gov//dcache/uscmsdisk/store/mc/Run3Summer23BPixNanoAODv12/SlepSnuCascade_MN1-220_MN2</span>\n",
       "    │   <span style=\"color: #008080; text-decoration-color: #008080\">-260_MC1-240_TuneCP5_13p6TeV_madgraphMLM-pythia8/NANOAODSIM/130X_mcRun3_2023_realistic_postBPix_v6-v3/25200</span>\n",
       "    │   <span style=\"color: #008080; text-decoration-color: #008080\">00/0238744e-b5c3-48d0-9415-97854405b503.root</span>\n",
       "    ├── <span style=\"color: #008080; text-decoration-color: #008080\">root://cmsdcadisk.fnal.gov//dcache/uscmsdisk/store/mc/Run3Summer23BPixNanoAODv12/SlepSnuCascade_MN1-220_MN2</span>\n",
       "    │   <span style=\"color: #008080; text-decoration-color: #008080\">-260_MC1-240_TuneCP5_13p6TeV_madgraphMLM-pythia8/NANOAODSIM/130X_mcRun3_2023_realistic_postBPix_v6-v3/25200</span>\n",
       "    │   <span style=\"color: #008080; text-decoration-color: #008080\">00/1b117b99-b288-4121-a3ad-e9cdee0deebd.root</span>\n",
       "    ├── <span style=\"color: #008080; text-decoration-color: #008080\">root://cmsdcadisk.fnal.gov//dcache/uscmsdisk/store/mc/Run3Summer23BPixNanoAODv12/SlepSnuCascade_MN1-220_MN2</span>\n",
       "    │   <span style=\"color: #008080; text-decoration-color: #008080\">-260_MC1-240_TuneCP5_13p6TeV_madgraphMLM-pythia8/NANOAODSIM/130X_mcRun3_2023_realistic_postBPix_v6-v3/25200</span>\n",
       "    │   <span style=\"color: #008080; text-decoration-color: #008080\">00/1c3d452f-62da-4dd1-9734-fbd7024de64d.root</span>\n",
       "    ├── <span style=\"color: #008080; text-decoration-color: #008080\">root://cmsdcadisk.fnal.gov//dcache/uscmsdisk/store/mc/Run3Summer23BPixNanoAODv12/SlepSnuCascade_MN1-220_MN2</span>\n",
       "    │   <span style=\"color: #008080; text-decoration-color: #008080\">-260_MC1-240_TuneCP5_13p6TeV_madgraphMLM-pythia8/NANOAODSIM/130X_mcRun3_2023_realistic_postBPix_v6-v3/25200</span>\n",
       "    │   <span style=\"color: #008080; text-decoration-color: #008080\">00/1d2b26be-ae3d-42a2-8788-be01a97b28c7.root</span>\n",
       "    ├── <span style=\"color: #008080; text-decoration-color: #008080\">root://cmsdcadisk.fnal.gov//dcache/uscmsdisk/store/mc/Run3Summer23BPixNanoAODv12/SlepSnuCascade_MN1-220_MN2</span>\n",
       "    │   <span style=\"color: #008080; text-decoration-color: #008080\">-260_MC1-240_TuneCP5_13p6TeV_madgraphMLM-pythia8/NANOAODSIM/130X_mcRun3_2023_realistic_postBPix_v6-v3/25200</span>\n",
       "    │   <span style=\"color: #008080; text-decoration-color: #008080\">00/393292c6-6a1a-45d1-9031-1c05e0ddba78.root</span>\n",
       "    ├── <span style=\"color: #008080; text-decoration-color: #008080\">root://cmsdcadisk.fnal.gov//dcache/uscmsdisk/store/mc/Run3Summer23BPixNanoAODv12/SlepSnuCascade_MN1-220_MN2</span>\n",
       "    │   <span style=\"color: #008080; text-decoration-color: #008080\">-260_MC1-240_TuneCP5_13p6TeV_madgraphMLM-pythia8/NANOAODSIM/130X_mcRun3_2023_realistic_postBPix_v6-v3/25200</span>\n",
       "    │   <span style=\"color: #008080; text-decoration-color: #008080\">00/435988e8-a68a-48d0-82f0-a388dd64d7b6.root</span>\n",
       "    ├── <span style=\"color: #008080; text-decoration-color: #008080\">root://cmsdcadisk.fnal.gov//dcache/uscmsdisk/store/mc/Run3Summer23BPixNanoAODv12/SlepSnuCascade_MN1-220_MN2</span>\n",
       "    │   <span style=\"color: #008080; text-decoration-color: #008080\">-260_MC1-240_TuneCP5_13p6TeV_madgraphMLM-pythia8/NANOAODSIM/130X_mcRun3_2023_realistic_postBPix_v6-v3/25200</span>\n",
       "    │   <span style=\"color: #008080; text-decoration-color: #008080\">00/45161c49-7f6a-4d5f-8cc7-15382cad4682.root</span>\n",
       "    ├── <span style=\"color: #008080; text-decoration-color: #008080\">root://cmsdcadisk.fnal.gov//dcache/uscmsdisk/store/mc/Run3Summer23BPixNanoAODv12/SlepSnuCascade_MN1-220_MN2</span>\n",
       "    │   <span style=\"color: #008080; text-decoration-color: #008080\">-260_MC1-240_TuneCP5_13p6TeV_madgraphMLM-pythia8/NANOAODSIM/130X_mcRun3_2023_realistic_postBPix_v6-v3/25200</span>\n",
       "    │   <span style=\"color: #008080; text-decoration-color: #008080\">00/525b3721-8456-4be9-8ebb-9bd077162131.root</span>\n",
       "    ├── <span style=\"color: #008080; text-decoration-color: #008080\">root://cmsdcadisk.fnal.gov//dcache/uscmsdisk/store/mc/Run3Summer23BPixNanoAODv12/SlepSnuCascade_MN1-220_MN2</span>\n",
       "    │   <span style=\"color: #008080; text-decoration-color: #008080\">-260_MC1-240_TuneCP5_13p6TeV_madgraphMLM-pythia8/NANOAODSIM/130X_mcRun3_2023_realistic_postBPix_v6-v3/25200</span>\n",
       "    │   <span style=\"color: #008080; text-decoration-color: #008080\">00/60150486-f22c-4b0a-8222-02b26a9493f1.root</span>\n",
       "    ├── <span style=\"color: #008080; text-decoration-color: #008080\">root://cmsdcadisk.fnal.gov//dcache/uscmsdisk/store/mc/Run3Summer23BPixNanoAODv12/SlepSnuCascade_MN1-220_MN2</span>\n",
       "    │   <span style=\"color: #008080; text-decoration-color: #008080\">-260_MC1-240_TuneCP5_13p6TeV_madgraphMLM-pythia8/NANOAODSIM/130X_mcRun3_2023_realistic_postBPix_v6-v3/25200</span>\n",
       "    │   <span style=\"color: #008080; text-decoration-color: #008080\">00/6d6e3789-b918-4aab-a86c-efafffabf12c.root</span>\n",
       "    ├── <span style=\"color: #008080; text-decoration-color: #008080\">root://cmsdcadisk.fnal.gov//dcache/uscmsdisk/store/mc/Run3Summer23BPixNanoAODv12/SlepSnuCascade_MN1-220_MN2</span>\n",
       "    │   <span style=\"color: #008080; text-decoration-color: #008080\">-260_MC1-240_TuneCP5_13p6TeV_madgraphMLM-pythia8/NANOAODSIM/130X_mcRun3_2023_realistic_postBPix_v6-v3/25200</span>\n",
       "    │   <span style=\"color: #008080; text-decoration-color: #008080\">00/6fd954b5-2f2c-4efb-8fdd-18c78bbe0649.root</span>\n",
       "    ├── <span style=\"color: #008080; text-decoration-color: #008080\">root://cmsdcadisk.fnal.gov//dcache/uscmsdisk/store/mc/Run3Summer23BPixNanoAODv12/SlepSnuCascade_MN1-220_MN2</span>\n",
       "    │   <span style=\"color: #008080; text-decoration-color: #008080\">-260_MC1-240_TuneCP5_13p6TeV_madgraphMLM-pythia8/NANOAODSIM/130X_mcRun3_2023_realistic_postBPix_v6-v3/25200</span>\n",
       "    │   <span style=\"color: #008080; text-decoration-color: #008080\">00/794b6891-e65e-422a-9388-9f87663c83ae.root</span>\n",
       "    ├── <span style=\"color: #008080; text-decoration-color: #008080\">root://cmsdcadisk.fnal.gov//dcache/uscmsdisk/store/mc/Run3Summer23BPixNanoAODv12/SlepSnuCascade_MN1-220_MN2</span>\n",
       "    │   <span style=\"color: #008080; text-decoration-color: #008080\">-260_MC1-240_TuneCP5_13p6TeV_madgraphMLM-pythia8/NANOAODSIM/130X_mcRun3_2023_realistic_postBPix_v6-v3/25200</span>\n",
       "    │   <span style=\"color: #008080; text-decoration-color: #008080\">00/8a33b5b6-5328-4552-848d-693c050bbc9d.root</span>\n",
       "    ├── <span style=\"color: #008080; text-decoration-color: #008080\">root://cmsdcadisk.fnal.gov//dcache/uscmsdisk/store/mc/Run3Summer23BPixNanoAODv12/SlepSnuCascade_MN1-220_MN2</span>\n",
       "    │   <span style=\"color: #008080; text-decoration-color: #008080\">-260_MC1-240_TuneCP5_13p6TeV_madgraphMLM-pythia8/NANOAODSIM/130X_mcRun3_2023_realistic_postBPix_v6-v3/25200</span>\n",
       "    │   <span style=\"color: #008080; text-decoration-color: #008080\">00/8eb51295-6260-4a29-b5bd-04c8d3231ceb.root</span>\n",
       "    ├── <span style=\"color: #008080; text-decoration-color: #008080\">root://cmsdcadisk.fnal.gov//dcache/uscmsdisk/store/mc/Run3Summer23BPixNanoAODv12/SlepSnuCascade_MN1-220_MN2</span>\n",
       "    │   <span style=\"color: #008080; text-decoration-color: #008080\">-260_MC1-240_TuneCP5_13p6TeV_madgraphMLM-pythia8/NANOAODSIM/130X_mcRun3_2023_realistic_postBPix_v6-v3/25200</span>\n",
       "    │   <span style=\"color: #008080; text-decoration-color: #008080\">00/aa622bcd-2d33-449f-b803-8972fe021efd.root</span>\n",
       "    ├── <span style=\"color: #008080; text-decoration-color: #008080\">root://cmsdcadisk.fnal.gov//dcache/uscmsdisk/store/mc/Run3Summer23BPixNanoAODv12/SlepSnuCascade_MN1-220_MN2</span>\n",
       "    │   <span style=\"color: #008080; text-decoration-color: #008080\">-260_MC1-240_TuneCP5_13p6TeV_madgraphMLM-pythia8/NANOAODSIM/130X_mcRun3_2023_realistic_postBPix_v6-v3/25200</span>\n",
       "    │   <span style=\"color: #008080; text-decoration-color: #008080\">00/d3272061-dba4-4258-9947-eccaee03ae45.root</span>\n",
       "    ├── <span style=\"color: #008080; text-decoration-color: #008080\">root://cmsdcadisk.fnal.gov//dcache/uscmsdisk/store/mc/Run3Summer23BPixNanoAODv12/SlepSnuCascade_MN1-220_MN2</span>\n",
       "    │   <span style=\"color: #008080; text-decoration-color: #008080\">-260_MC1-240_TuneCP5_13p6TeV_madgraphMLM-pythia8/NANOAODSIM/130X_mcRun3_2023_realistic_postBPix_v6-v3/25200</span>\n",
       "    │   <span style=\"color: #008080; text-decoration-color: #008080\">00/fe4466d8-f94d-460e-b165-4d6d746cf27d.root</span>\n",
       "    └── <span style=\"color: #008080; text-decoration-color: #008080\">root://cmsdcadisk.fnal.gov//dcache/uscmsdisk/store/mc/Run3Summer23BPixNanoAODv12/SlepSnuCascade_MN1-220_MN2</span>\n",
       "        <span style=\"color: #008080; text-decoration-color: #008080\">-260_MC1-240_TuneCP5_13p6TeV_madgraphMLM-pythia8/NANOAODSIM/130X_mcRun3_2023_realistic_postBPix_v6-v3/25300</span>\n",
       "        <span style=\"color: #008080; text-decoration-color: #008080\">00/7c67a574-a41f-4ffc-921a-7a268002cdc7.root</span>\n",
       "</pre>\n"
      ],
      "text/plain": [
       "Replicas for \n",
       "\u001b[32m/SlepSnuCascade_MN1-220_MN2-260_MC1-240_TuneCP5_13p6TeV_madgraphMLM-pythia8/Run3Summer23BPixNanoAODv12-130X_mcRun3_\u001b[0m\n",
       "\u001b[32m2023_realistic_postBPix_v6-v3/NANOAODSIM\u001b[0m\n",
       "└── \u001b[32mT1_US_FNAL_Disk\u001b[0m\n",
       "    ├── \u001b[36mroot://cmsdcadisk.fnal.gov//dcache/uscmsdisk/store/mc/Run3Summer23BPixNanoAODv12/SlepSnuCascade_MN1-220_MN2\u001b[0m\n",
       "    │   \u001b[36m-260_MC1-240_TuneCP5_13p6TeV_madgraphMLM-pythia8/NANOAODSIM/130X_mcRun3_2023_realistic_postBPix_v6-v3/25200\u001b[0m\n",
       "    │   \u001b[36m00/0238744e-b5c3-48d0-9415-97854405b503.root\u001b[0m\n",
       "    ├── \u001b[36mroot://cmsdcadisk.fnal.gov//dcache/uscmsdisk/store/mc/Run3Summer23BPixNanoAODv12/SlepSnuCascade_MN1-220_MN2\u001b[0m\n",
       "    │   \u001b[36m-260_MC1-240_TuneCP5_13p6TeV_madgraphMLM-pythia8/NANOAODSIM/130X_mcRun3_2023_realistic_postBPix_v6-v3/25200\u001b[0m\n",
       "    │   \u001b[36m00/1b117b99-b288-4121-a3ad-e9cdee0deebd.root\u001b[0m\n",
       "    ├── \u001b[36mroot://cmsdcadisk.fnal.gov//dcache/uscmsdisk/store/mc/Run3Summer23BPixNanoAODv12/SlepSnuCascade_MN1-220_MN2\u001b[0m\n",
       "    │   \u001b[36m-260_MC1-240_TuneCP5_13p6TeV_madgraphMLM-pythia8/NANOAODSIM/130X_mcRun3_2023_realistic_postBPix_v6-v3/25200\u001b[0m\n",
       "    │   \u001b[36m00/1c3d452f-62da-4dd1-9734-fbd7024de64d.root\u001b[0m\n",
       "    ├── \u001b[36mroot://cmsdcadisk.fnal.gov//dcache/uscmsdisk/store/mc/Run3Summer23BPixNanoAODv12/SlepSnuCascade_MN1-220_MN2\u001b[0m\n",
       "    │   \u001b[36m-260_MC1-240_TuneCP5_13p6TeV_madgraphMLM-pythia8/NANOAODSIM/130X_mcRun3_2023_realistic_postBPix_v6-v3/25200\u001b[0m\n",
       "    │   \u001b[36m00/1d2b26be-ae3d-42a2-8788-be01a97b28c7.root\u001b[0m\n",
       "    ├── \u001b[36mroot://cmsdcadisk.fnal.gov//dcache/uscmsdisk/store/mc/Run3Summer23BPixNanoAODv12/SlepSnuCascade_MN1-220_MN2\u001b[0m\n",
       "    │   \u001b[36m-260_MC1-240_TuneCP5_13p6TeV_madgraphMLM-pythia8/NANOAODSIM/130X_mcRun3_2023_realistic_postBPix_v6-v3/25200\u001b[0m\n",
       "    │   \u001b[36m00/393292c6-6a1a-45d1-9031-1c05e0ddba78.root\u001b[0m\n",
       "    ├── \u001b[36mroot://cmsdcadisk.fnal.gov//dcache/uscmsdisk/store/mc/Run3Summer23BPixNanoAODv12/SlepSnuCascade_MN1-220_MN2\u001b[0m\n",
       "    │   \u001b[36m-260_MC1-240_TuneCP5_13p6TeV_madgraphMLM-pythia8/NANOAODSIM/130X_mcRun3_2023_realistic_postBPix_v6-v3/25200\u001b[0m\n",
       "    │   \u001b[36m00/435988e8-a68a-48d0-82f0-a388dd64d7b6.root\u001b[0m\n",
       "    ├── \u001b[36mroot://cmsdcadisk.fnal.gov//dcache/uscmsdisk/store/mc/Run3Summer23BPixNanoAODv12/SlepSnuCascade_MN1-220_MN2\u001b[0m\n",
       "    │   \u001b[36m-260_MC1-240_TuneCP5_13p6TeV_madgraphMLM-pythia8/NANOAODSIM/130X_mcRun3_2023_realistic_postBPix_v6-v3/25200\u001b[0m\n",
       "    │   \u001b[36m00/45161c49-7f6a-4d5f-8cc7-15382cad4682.root\u001b[0m\n",
       "    ├── \u001b[36mroot://cmsdcadisk.fnal.gov//dcache/uscmsdisk/store/mc/Run3Summer23BPixNanoAODv12/SlepSnuCascade_MN1-220_MN2\u001b[0m\n",
       "    │   \u001b[36m-260_MC1-240_TuneCP5_13p6TeV_madgraphMLM-pythia8/NANOAODSIM/130X_mcRun3_2023_realistic_postBPix_v6-v3/25200\u001b[0m\n",
       "    │   \u001b[36m00/525b3721-8456-4be9-8ebb-9bd077162131.root\u001b[0m\n",
       "    ├── \u001b[36mroot://cmsdcadisk.fnal.gov//dcache/uscmsdisk/store/mc/Run3Summer23BPixNanoAODv12/SlepSnuCascade_MN1-220_MN2\u001b[0m\n",
       "    │   \u001b[36m-260_MC1-240_TuneCP5_13p6TeV_madgraphMLM-pythia8/NANOAODSIM/130X_mcRun3_2023_realistic_postBPix_v6-v3/25200\u001b[0m\n",
       "    │   \u001b[36m00/60150486-f22c-4b0a-8222-02b26a9493f1.root\u001b[0m\n",
       "    ├── \u001b[36mroot://cmsdcadisk.fnal.gov//dcache/uscmsdisk/store/mc/Run3Summer23BPixNanoAODv12/SlepSnuCascade_MN1-220_MN2\u001b[0m\n",
       "    │   \u001b[36m-260_MC1-240_TuneCP5_13p6TeV_madgraphMLM-pythia8/NANOAODSIM/130X_mcRun3_2023_realistic_postBPix_v6-v3/25200\u001b[0m\n",
       "    │   \u001b[36m00/6d6e3789-b918-4aab-a86c-efafffabf12c.root\u001b[0m\n",
       "    ├── \u001b[36mroot://cmsdcadisk.fnal.gov//dcache/uscmsdisk/store/mc/Run3Summer23BPixNanoAODv12/SlepSnuCascade_MN1-220_MN2\u001b[0m\n",
       "    │   \u001b[36m-260_MC1-240_TuneCP5_13p6TeV_madgraphMLM-pythia8/NANOAODSIM/130X_mcRun3_2023_realistic_postBPix_v6-v3/25200\u001b[0m\n",
       "    │   \u001b[36m00/6fd954b5-2f2c-4efb-8fdd-18c78bbe0649.root\u001b[0m\n",
       "    ├── \u001b[36mroot://cmsdcadisk.fnal.gov//dcache/uscmsdisk/store/mc/Run3Summer23BPixNanoAODv12/SlepSnuCascade_MN1-220_MN2\u001b[0m\n",
       "    │   \u001b[36m-260_MC1-240_TuneCP5_13p6TeV_madgraphMLM-pythia8/NANOAODSIM/130X_mcRun3_2023_realistic_postBPix_v6-v3/25200\u001b[0m\n",
       "    │   \u001b[36m00/794b6891-e65e-422a-9388-9f87663c83ae.root\u001b[0m\n",
       "    ├── \u001b[36mroot://cmsdcadisk.fnal.gov//dcache/uscmsdisk/store/mc/Run3Summer23BPixNanoAODv12/SlepSnuCascade_MN1-220_MN2\u001b[0m\n",
       "    │   \u001b[36m-260_MC1-240_TuneCP5_13p6TeV_madgraphMLM-pythia8/NANOAODSIM/130X_mcRun3_2023_realistic_postBPix_v6-v3/25200\u001b[0m\n",
       "    │   \u001b[36m00/8a33b5b6-5328-4552-848d-693c050bbc9d.root\u001b[0m\n",
       "    ├── \u001b[36mroot://cmsdcadisk.fnal.gov//dcache/uscmsdisk/store/mc/Run3Summer23BPixNanoAODv12/SlepSnuCascade_MN1-220_MN2\u001b[0m\n",
       "    │   \u001b[36m-260_MC1-240_TuneCP5_13p6TeV_madgraphMLM-pythia8/NANOAODSIM/130X_mcRun3_2023_realistic_postBPix_v6-v3/25200\u001b[0m\n",
       "    │   \u001b[36m00/8eb51295-6260-4a29-b5bd-04c8d3231ceb.root\u001b[0m\n",
       "    ├── \u001b[36mroot://cmsdcadisk.fnal.gov//dcache/uscmsdisk/store/mc/Run3Summer23BPixNanoAODv12/SlepSnuCascade_MN1-220_MN2\u001b[0m\n",
       "    │   \u001b[36m-260_MC1-240_TuneCP5_13p6TeV_madgraphMLM-pythia8/NANOAODSIM/130X_mcRun3_2023_realistic_postBPix_v6-v3/25200\u001b[0m\n",
       "    │   \u001b[36m00/aa622bcd-2d33-449f-b803-8972fe021efd.root\u001b[0m\n",
       "    ├── \u001b[36mroot://cmsdcadisk.fnal.gov//dcache/uscmsdisk/store/mc/Run3Summer23BPixNanoAODv12/SlepSnuCascade_MN1-220_MN2\u001b[0m\n",
       "    │   \u001b[36m-260_MC1-240_TuneCP5_13p6TeV_madgraphMLM-pythia8/NANOAODSIM/130X_mcRun3_2023_realistic_postBPix_v6-v3/25200\u001b[0m\n",
       "    │   \u001b[36m00/d3272061-dba4-4258-9947-eccaee03ae45.root\u001b[0m\n",
       "    ├── \u001b[36mroot://cmsdcadisk.fnal.gov//dcache/uscmsdisk/store/mc/Run3Summer23BPixNanoAODv12/SlepSnuCascade_MN1-220_MN2\u001b[0m\n",
       "    │   \u001b[36m-260_MC1-240_TuneCP5_13p6TeV_madgraphMLM-pythia8/NANOAODSIM/130X_mcRun3_2023_realistic_postBPix_v6-v3/25200\u001b[0m\n",
       "    │   \u001b[36m00/fe4466d8-f94d-460e-b165-4d6d746cf27d.root\u001b[0m\n",
       "    └── \u001b[36mroot://cmsdcadisk.fnal.gov//dcache/uscmsdisk/store/mc/Run3Summer23BPixNanoAODv12/SlepSnuCascade_MN1-220_MN2\u001b[0m\n",
       "        \u001b[36m-260_MC1-240_TuneCP5_13p6TeV_madgraphMLM-pythia8/NANOAODSIM/130X_mcRun3_2023_realistic_postBPix_v6-v3/25300\u001b[0m\n",
       "        \u001b[36m00/7c67a574-a41f-4ffc-921a-7a268002cdc7.root\u001b[0m\n"
      ]
     },
     "metadata": {},
     "output_type": "display_data"
    },
    {
     "data": {
      "application/vnd.jupyter.widget-view+json": {
       "model_id": "",
       "version_major": 2,
       "version_minor": 0
      },
      "text/plain": [
       "Output()"
      ]
     },
     "metadata": {},
     "output_type": "display_data"
    },
    {
     "data": {
      "text/html": [
       "<pre style=\"white-space:pre;overflow-x:auto;line-height:normal;font-family:Menlo,'DejaVu Sans Mono',consolas,'Courier New',monospace\"></pre>\n"
      ],
      "text/plain": []
     },
     "metadata": {},
     "output_type": "display_data"
    },
    {
     "data": {
      "text/html": [
       "<pre style=\"white-space:pre;overflow-x:auto;line-height:normal;font-family:Menlo,'DejaVu Sans Mono',consolas,'Courier New',monospace\"><span style=\"color: #008080; text-decoration-color: #008080\">Sites availability for dataset: </span>\n",
       "<span style=\"color: #800000; text-decoration-color: #800000\">/SlepSnuCascade_MN1-260_MN2-280_MC1-270_TuneCP5_13p6TeV_madgraphMLM-pythia8/Run3Summer23BPixNanoAODv12-130X_mcRun3_</span>\n",
       "<span style=\"color: #800000; text-decoration-color: #800000\">2023_realistic_postBPix_v6-v3/NANOAODSIM</span>\n",
       "</pre>\n"
      ],
      "text/plain": [
       "\u001b[36mSites availability for dataset: \u001b[0m\n",
       "\u001b[31m/SlepSnuCascade_MN1-260_MN2-280_MC1-270_TuneCP5_13p6TeV_madgraphMLM-pythia8/Run3Summer23BPixNanoAODv12-130X_mcRun3_\u001b[0m\n",
       "\u001b[31m2023_realistic_postBPix_v6-v3/\u001b[0m\u001b[31mNANOAODSIM\u001b[0m\n"
      ]
     },
     "metadata": {},
     "output_type": "display_data"
    },
    {
     "data": {
      "text/html": [
       "<pre style=\"white-space:pre;overflow-x:auto;line-height:normal;font-family:Menlo,'DejaVu Sans Mono',consolas,'Courier New',monospace\"><span style=\"font-style: italic\">                 Available replicas                  </span>\n",
       "┏━━━━━━━┳━━━━━━━━━━━━━━━━━━┳━━━━━━━━━┳━━━━━━━━━━━━━━┓\n",
       "┃<span style=\"font-weight: bold\"> Index </span>┃<span style=\"font-weight: bold\"> Site             </span>┃<span style=\"font-weight: bold\"> Files   </span>┃<span style=\"font-weight: bold\"> Availability </span>┃\n",
       "┡━━━━━━━╇━━━━━━━━━━━━━━━━━━╇━━━━━━━━━╇━━━━━━━━━━━━━━┩\n",
       "│<span style=\"color: #7f7f7f; text-decoration-color: #7f7f7f\">   0   </span>│<span style=\"color: #7fbfbf; text-decoration-color: #7fbfbf\"> T2_US_Florida    </span>│<span style=\"color: #bf7fbf; text-decoration-color: #bf7fbf\"> 16 / 16 </span>│<span style=\"color: #7f7f7f; text-decoration-color: #7f7f7f\">    100.0%    </span>│\n",
       "│   1   │<span style=\"color: #008080; text-decoration-color: #008080\"> T2_US_Nebraska   </span>│<span style=\"color: #800080; text-decoration-color: #800080\"> 16 / 16 </span>│    100.0%    │\n",
       "│<span style=\"color: #7f7f7f; text-decoration-color: #7f7f7f\">   2   </span>│<span style=\"color: #7fbfbf; text-decoration-color: #7fbfbf\"> T2_US_Vanderbilt </span>│<span style=\"color: #bf7fbf; text-decoration-color: #bf7fbf\"> 1 / 16  </span>│<span style=\"color: #7f7f7f; text-decoration-color: #7f7f7f\">     6.2%     </span>│\n",
       "└───────┴──────────────────┴─────────┴──────────────┘\n",
       "</pre>\n"
      ],
      "text/plain": [
       "\u001b[3m                 Available replicas                  \u001b[0m\n",
       "┏━━━━━━━┳━━━━━━━━━━━━━━━━━━┳━━━━━━━━━┳━━━━━━━━━━━━━━┓\n",
       "┃\u001b[1m \u001b[0m\u001b[1mIndex\u001b[0m\u001b[1m \u001b[0m┃\u001b[1m \u001b[0m\u001b[1mSite            \u001b[0m\u001b[1m \u001b[0m┃\u001b[1m \u001b[0m\u001b[1mFiles  \u001b[0m\u001b[1m \u001b[0m┃\u001b[1m \u001b[0m\u001b[1mAvailability\u001b[0m\u001b[1m \u001b[0m┃\n",
       "┡━━━━━━━╇━━━━━━━━━━━━━━━━━━╇━━━━━━━━━╇━━━━━━━━━━━━━━┩\n",
       "│\u001b[2m \u001b[0m\u001b[2m  0  \u001b[0m\u001b[2m \u001b[0m│\u001b[2;36m \u001b[0m\u001b[2;36mT2_US_Florida   \u001b[0m\u001b[2;36m \u001b[0m│\u001b[2;35m \u001b[0m\u001b[2;35m16 / 16\u001b[0m\u001b[2;35m \u001b[0m│\u001b[2m \u001b[0m\u001b[2m   100.0%   \u001b[0m\u001b[2m \u001b[0m│\n",
       "│   1   │\u001b[36m \u001b[0m\u001b[36mT2_US_Nebraska  \u001b[0m\u001b[36m \u001b[0m│\u001b[35m \u001b[0m\u001b[35m16 / 16\u001b[0m\u001b[35m \u001b[0m│    100.0%    │\n",
       "│\u001b[2m \u001b[0m\u001b[2m  2  \u001b[0m\u001b[2m \u001b[0m│\u001b[2;36m \u001b[0m\u001b[2;36mT2_US_Vanderbilt\u001b[0m\u001b[2;36m \u001b[0m│\u001b[2;35m \u001b[0m\u001b[2;35m1 / 16 \u001b[0m\u001b[2;35m \u001b[0m│\u001b[2m \u001b[0m\u001b[2m    6.2%    \u001b[0m\u001b[2m \u001b[0m│\n",
       "└───────┴──────────────────┴─────────┴──────────────┘\n"
      ]
     },
     "metadata": {},
     "output_type": "display_data"
    },
    {
     "data": {
      "text/html": [
       "<pre style=\"white-space:pre;overflow-x:auto;line-height:normal;font-family:Menlo,'DejaVu Sans Mono',consolas,'Courier New',monospace\">Replicas for \n",
       "<span style=\"color: #008000; text-decoration-color: #008000\">/SlepSnuCascade_MN1-260_MN2-280_MC1-270_TuneCP5_13p6TeV_madgraphMLM-pythia8/Run3Summer23BPixNanoAODv12-130X_mcRun3_</span>\n",
       "<span style=\"color: #008000; text-decoration-color: #008000\">2023_realistic_postBPix_v6-v3/NANOAODSIM</span>\n",
       "├── <span style=\"color: #008000; text-decoration-color: #008000\">T2_US_Florida</span>\n",
       "│   ├── <span style=\"color: #008080; text-decoration-color: #008080\">root://cmsio2.rc.ufl.edu:1094//store/mc/Run3Summer23BPixNanoAODv12/SlepSnuCascade_MN1-260_MN2-280_MC1-270_T</span>\n",
       "│   │   <span style=\"color: #008080; text-decoration-color: #008080\">uneCP5_13p6TeV_madgraphMLM-pythia8/NANOAODSIM/130X_mcRun3_2023_realistic_postBPix_v6-v3/2530000/0d22cdae-b8</span>\n",
       "│   │   <span style=\"color: #008080; text-decoration-color: #008080\">db-41fb-8ab4-f0c74187f950.root</span>\n",
       "│   ├── <span style=\"color: #008080; text-decoration-color: #008080\">root://cmsio2.rc.ufl.edu:1094//store/mc/Run3Summer23BPixNanoAODv12/SlepSnuCascade_MN1-260_MN2-280_MC1-270_T</span>\n",
       "│   │   <span style=\"color: #008080; text-decoration-color: #008080\">uneCP5_13p6TeV_madgraphMLM-pythia8/NANOAODSIM/130X_mcRun3_2023_realistic_postBPix_v6-v3/2530000/2f75bba9-b6</span>\n",
       "│   │   <span style=\"color: #008080; text-decoration-color: #008080\">04-4d42-9d06-0c34ce6b551c.root</span>\n",
       "│   ├── <span style=\"color: #008080; text-decoration-color: #008080\">root://cmsio2.rc.ufl.edu:1094//store/mc/Run3Summer23BPixNanoAODv12/SlepSnuCascade_MN1-260_MN2-280_MC1-270_T</span>\n",
       "│   │   <span style=\"color: #008080; text-decoration-color: #008080\">uneCP5_13p6TeV_madgraphMLM-pythia8/NANOAODSIM/130X_mcRun3_2023_realistic_postBPix_v6-v3/2530000/3e0d6872-e7</span>\n",
       "│   │   <span style=\"color: #008080; text-decoration-color: #008080\">e1-4aab-9913-50e2d66ccbf4.root</span>\n",
       "│   ├── <span style=\"color: #008080; text-decoration-color: #008080\">root://cmsio2.rc.ufl.edu:1094//store/mc/Run3Summer23BPixNanoAODv12/SlepSnuCascade_MN1-260_MN2-280_MC1-270_T</span>\n",
       "│   │   <span style=\"color: #008080; text-decoration-color: #008080\">uneCP5_13p6TeV_madgraphMLM-pythia8/NANOAODSIM/130X_mcRun3_2023_realistic_postBPix_v6-v3/2530000/5e033857-fd</span>\n",
       "│   │   <span style=\"color: #008080; text-decoration-color: #008080\">d9-43fa-b8a6-bb606a0d7cf3.root</span>\n",
       "│   ├── <span style=\"color: #008080; text-decoration-color: #008080\">root://cmsio2.rc.ufl.edu:1094//store/mc/Run3Summer23BPixNanoAODv12/SlepSnuCascade_MN1-260_MN2-280_MC1-270_T</span>\n",
       "│   │   <span style=\"color: #008080; text-decoration-color: #008080\">uneCP5_13p6TeV_madgraphMLM-pythia8/NANOAODSIM/130X_mcRun3_2023_realistic_postBPix_v6-v3/2530000/7db046a5-38</span>\n",
       "│   │   <span style=\"color: #008080; text-decoration-color: #008080\">39-49c1-92ee-823499ecbfb0.root</span>\n",
       "│   ├── <span style=\"color: #008080; text-decoration-color: #008080\">root://cmsio2.rc.ufl.edu:1094//store/mc/Run3Summer23BPixNanoAODv12/SlepSnuCascade_MN1-260_MN2-280_MC1-270_T</span>\n",
       "│   │   <span style=\"color: #008080; text-decoration-color: #008080\">uneCP5_13p6TeV_madgraphMLM-pythia8/NANOAODSIM/130X_mcRun3_2023_realistic_postBPix_v6-v3/2530000/7fafb075-d3</span>\n",
       "│   │   <span style=\"color: #008080; text-decoration-color: #008080\">7e-4ee0-86dd-63d7554f5304.root</span>\n",
       "│   ├── <span style=\"color: #008080; text-decoration-color: #008080\">root://cmsio2.rc.ufl.edu:1094//store/mc/Run3Summer23BPixNanoAODv12/SlepSnuCascade_MN1-260_MN2-280_MC1-270_T</span>\n",
       "│   │   <span style=\"color: #008080; text-decoration-color: #008080\">uneCP5_13p6TeV_madgraphMLM-pythia8/NANOAODSIM/130X_mcRun3_2023_realistic_postBPix_v6-v3/2530000/81e6a990-28</span>\n",
       "│   │   <span style=\"color: #008080; text-decoration-color: #008080\">71-45cc-b1fd-dcc44af5e85a.root</span>\n",
       "│   ├── <span style=\"color: #008080; text-decoration-color: #008080\">root://cmsio2.rc.ufl.edu:1094//store/mc/Run3Summer23BPixNanoAODv12/SlepSnuCascade_MN1-260_MN2-280_MC1-270_T</span>\n",
       "│   │   <span style=\"color: #008080; text-decoration-color: #008080\">uneCP5_13p6TeV_madgraphMLM-pythia8/NANOAODSIM/130X_mcRun3_2023_realistic_postBPix_v6-v3/2530000/86f4a155-3b</span>\n",
       "│   │   <span style=\"color: #008080; text-decoration-color: #008080\">0f-48aa-a8fe-386495defc7b.root</span>\n",
       "│   ├── <span style=\"color: #008080; text-decoration-color: #008080\">root://cmsio2.rc.ufl.edu:1094//store/mc/Run3Summer23BPixNanoAODv12/SlepSnuCascade_MN1-260_MN2-280_MC1-270_T</span>\n",
       "│   │   <span style=\"color: #008080; text-decoration-color: #008080\">uneCP5_13p6TeV_madgraphMLM-pythia8/NANOAODSIM/130X_mcRun3_2023_realistic_postBPix_v6-v3/2530000/99c3fd5f-17</span>\n",
       "│   │   <span style=\"color: #008080; text-decoration-color: #008080\">ef-42aa-a356-a6cf10244049.root</span>\n",
       "│   ├── <span style=\"color: #008080; text-decoration-color: #008080\">root://cmsio2.rc.ufl.edu:1094//store/mc/Run3Summer23BPixNanoAODv12/SlepSnuCascade_MN1-260_MN2-280_MC1-270_T</span>\n",
       "│   │   <span style=\"color: #008080; text-decoration-color: #008080\">uneCP5_13p6TeV_madgraphMLM-pythia8/NANOAODSIM/130X_mcRun3_2023_realistic_postBPix_v6-v3/2530000/a1dca706-2e</span>\n",
       "│   │   <span style=\"color: #008080; text-decoration-color: #008080\">cb-4cef-84a8-3feb33428ecc.root</span>\n",
       "│   ├── <span style=\"color: #008080; text-decoration-color: #008080\">root://cmsio2.rc.ufl.edu:1094//store/mc/Run3Summer23BPixNanoAODv12/SlepSnuCascade_MN1-260_MN2-280_MC1-270_T</span>\n",
       "│   │   <span style=\"color: #008080; text-decoration-color: #008080\">uneCP5_13p6TeV_madgraphMLM-pythia8/NANOAODSIM/130X_mcRun3_2023_realistic_postBPix_v6-v3/2530000/cbb38e5f-44</span>\n",
       "│   │   <span style=\"color: #008080; text-decoration-color: #008080\">86-4f9c-b0db-272c9008133a.root</span>\n",
       "│   ├── <span style=\"color: #008080; text-decoration-color: #008080\">root://cmsio2.rc.ufl.edu:1094//store/mc/Run3Summer23BPixNanoAODv12/SlepSnuCascade_MN1-260_MN2-280_MC1-270_T</span>\n",
       "│   │   <span style=\"color: #008080; text-decoration-color: #008080\">uneCP5_13p6TeV_madgraphMLM-pythia8/NANOAODSIM/130X_mcRun3_2023_realistic_postBPix_v6-v3/2530000/ccbd4f89-12</span>\n",
       "│   │   <span style=\"color: #008080; text-decoration-color: #008080\">2a-4065-b0be-f38e9b2878d1.root</span>\n",
       "│   ├── <span style=\"color: #008080; text-decoration-color: #008080\">root://cmsio2.rc.ufl.edu:1094//store/mc/Run3Summer23BPixNanoAODv12/SlepSnuCascade_MN1-260_MN2-280_MC1-270_T</span>\n",
       "│   │   <span style=\"color: #008080; text-decoration-color: #008080\">uneCP5_13p6TeV_madgraphMLM-pythia8/NANOAODSIM/130X_mcRun3_2023_realistic_postBPix_v6-v3/2530000/ee78214f-59</span>\n",
       "│   │   <span style=\"color: #008080; text-decoration-color: #008080\">6d-4b13-923a-b2791499596c.root</span>\n",
       "│   ├── <span style=\"color: #008080; text-decoration-color: #008080\">root://cmsio2.rc.ufl.edu:1094//store/mc/Run3Summer23BPixNanoAODv12/SlepSnuCascade_MN1-260_MN2-280_MC1-270_T</span>\n",
       "│   │   <span style=\"color: #008080; text-decoration-color: #008080\">uneCP5_13p6TeV_madgraphMLM-pythia8/NANOAODSIM/130X_mcRun3_2023_realistic_postBPix_v6-v3/2530000/f786c693-9b</span>\n",
       "│   │   <span style=\"color: #008080; text-decoration-color: #008080\">96-47dc-8f97-3986c1067e05.root</span>\n",
       "│   └── <span style=\"color: #008080; text-decoration-color: #008080\">root://cmsio2.rc.ufl.edu:1094//store/mc/Run3Summer23BPixNanoAODv12/SlepSnuCascade_MN1-260_MN2-280_MC1-270_T</span>\n",
       "│       <span style=\"color: #008080; text-decoration-color: #008080\">uneCP5_13p6TeV_madgraphMLM-pythia8/NANOAODSIM/130X_mcRun3_2023_realistic_postBPix_v6-v3/2530000/fac026d7-c4</span>\n",
       "│       <span style=\"color: #008080; text-decoration-color: #008080\">7c-4007-a51c-514fe55f5bc7.root</span>\n",
       "└── <span style=\"color: #008000; text-decoration-color: #008000\">T2_US_Vanderbilt</span>\n",
       "    └── <span style=\"color: #008080; text-decoration-color: #008080\">root://xrootd-redir1-vanderbilt.sites.opensciencegrid.org:1094//store/mc/Run3Summer23BPixNanoAODv12/SlepSnu</span>\n",
       "        <span style=\"color: #008080; text-decoration-color: #008080\">Cascade_MN1-260_MN2-280_MC1-270_TuneCP5_13p6TeV_madgraphMLM-pythia8/NANOAODSIM/130X_mcRun3_2023_realistic_p</span>\n",
       "        <span style=\"color: #008080; text-decoration-color: #008080\">ostBPix_v6-v3/2530000/aa2f23ee-3fa8-4450-ae4e-0a44290dd146.root</span>\n",
       "</pre>\n"
      ],
      "text/plain": [
       "Replicas for \n",
       "\u001b[32m/SlepSnuCascade_MN1-260_MN2-280_MC1-270_TuneCP5_13p6TeV_madgraphMLM-pythia8/Run3Summer23BPixNanoAODv12-130X_mcRun3_\u001b[0m\n",
       "\u001b[32m2023_realistic_postBPix_v6-v3/NANOAODSIM\u001b[0m\n",
       "├── \u001b[32mT2_US_Florida\u001b[0m\n",
       "│   ├── \u001b[36mroot://cmsio2.rc.ufl.edu:1094//store/mc/Run3Summer23BPixNanoAODv12/SlepSnuCascade_MN1-260_MN2-280_MC1-270_T\u001b[0m\n",
       "│   │   \u001b[36muneCP5_13p6TeV_madgraphMLM-pythia8/NANOAODSIM/130X_mcRun3_2023_realistic_postBPix_v6-v3/2530000/0d22cdae-b8\u001b[0m\n",
       "│   │   \u001b[36mdb-41fb-8ab4-f0c74187f950.root\u001b[0m\n",
       "│   ├── \u001b[36mroot://cmsio2.rc.ufl.edu:1094//store/mc/Run3Summer23BPixNanoAODv12/SlepSnuCascade_MN1-260_MN2-280_MC1-270_T\u001b[0m\n",
       "│   │   \u001b[36muneCP5_13p6TeV_madgraphMLM-pythia8/NANOAODSIM/130X_mcRun3_2023_realistic_postBPix_v6-v3/2530000/2f75bba9-b6\u001b[0m\n",
       "│   │   \u001b[36m04-4d42-9d06-0c34ce6b551c.root\u001b[0m\n",
       "│   ├── \u001b[36mroot://cmsio2.rc.ufl.edu:1094//store/mc/Run3Summer23BPixNanoAODv12/SlepSnuCascade_MN1-260_MN2-280_MC1-270_T\u001b[0m\n",
       "│   │   \u001b[36muneCP5_13p6TeV_madgraphMLM-pythia8/NANOAODSIM/130X_mcRun3_2023_realistic_postBPix_v6-v3/2530000/3e0d6872-e7\u001b[0m\n",
       "│   │   \u001b[36me1-4aab-9913-50e2d66ccbf4.root\u001b[0m\n",
       "│   ├── \u001b[36mroot://cmsio2.rc.ufl.edu:1094//store/mc/Run3Summer23BPixNanoAODv12/SlepSnuCascade_MN1-260_MN2-280_MC1-270_T\u001b[0m\n",
       "│   │   \u001b[36muneCP5_13p6TeV_madgraphMLM-pythia8/NANOAODSIM/130X_mcRun3_2023_realistic_postBPix_v6-v3/2530000/5e033857-fd\u001b[0m\n",
       "│   │   \u001b[36md9-43fa-b8a6-bb606a0d7cf3.root\u001b[0m\n",
       "│   ├── \u001b[36mroot://cmsio2.rc.ufl.edu:1094//store/mc/Run3Summer23BPixNanoAODv12/SlepSnuCascade_MN1-260_MN2-280_MC1-270_T\u001b[0m\n",
       "│   │   \u001b[36muneCP5_13p6TeV_madgraphMLM-pythia8/NANOAODSIM/130X_mcRun3_2023_realistic_postBPix_v6-v3/2530000/7db046a5-38\u001b[0m\n",
       "│   │   \u001b[36m39-49c1-92ee-823499ecbfb0.root\u001b[0m\n",
       "│   ├── \u001b[36mroot://cmsio2.rc.ufl.edu:1094//store/mc/Run3Summer23BPixNanoAODv12/SlepSnuCascade_MN1-260_MN2-280_MC1-270_T\u001b[0m\n",
       "│   │   \u001b[36muneCP5_13p6TeV_madgraphMLM-pythia8/NANOAODSIM/130X_mcRun3_2023_realistic_postBPix_v6-v3/2530000/7fafb075-d3\u001b[0m\n",
       "│   │   \u001b[36m7e-4ee0-86dd-63d7554f5304.root\u001b[0m\n",
       "│   ├── \u001b[36mroot://cmsio2.rc.ufl.edu:1094//store/mc/Run3Summer23BPixNanoAODv12/SlepSnuCascade_MN1-260_MN2-280_MC1-270_T\u001b[0m\n",
       "│   │   \u001b[36muneCP5_13p6TeV_madgraphMLM-pythia8/NANOAODSIM/130X_mcRun3_2023_realistic_postBPix_v6-v3/2530000/81e6a990-28\u001b[0m\n",
       "│   │   \u001b[36m71-45cc-b1fd-dcc44af5e85a.root\u001b[0m\n",
       "│   ├── \u001b[36mroot://cmsio2.rc.ufl.edu:1094//store/mc/Run3Summer23BPixNanoAODv12/SlepSnuCascade_MN1-260_MN2-280_MC1-270_T\u001b[0m\n",
       "│   │   \u001b[36muneCP5_13p6TeV_madgraphMLM-pythia8/NANOAODSIM/130X_mcRun3_2023_realistic_postBPix_v6-v3/2530000/86f4a155-3b\u001b[0m\n",
       "│   │   \u001b[36m0f-48aa-a8fe-386495defc7b.root\u001b[0m\n",
       "│   ├── \u001b[36mroot://cmsio2.rc.ufl.edu:1094//store/mc/Run3Summer23BPixNanoAODv12/SlepSnuCascade_MN1-260_MN2-280_MC1-270_T\u001b[0m\n",
       "│   │   \u001b[36muneCP5_13p6TeV_madgraphMLM-pythia8/NANOAODSIM/130X_mcRun3_2023_realistic_postBPix_v6-v3/2530000/99c3fd5f-17\u001b[0m\n",
       "│   │   \u001b[36mef-42aa-a356-a6cf10244049.root\u001b[0m\n",
       "│   ├── \u001b[36mroot://cmsio2.rc.ufl.edu:1094//store/mc/Run3Summer23BPixNanoAODv12/SlepSnuCascade_MN1-260_MN2-280_MC1-270_T\u001b[0m\n",
       "│   │   \u001b[36muneCP5_13p6TeV_madgraphMLM-pythia8/NANOAODSIM/130X_mcRun3_2023_realistic_postBPix_v6-v3/2530000/a1dca706-2e\u001b[0m\n",
       "│   │   \u001b[36mcb-4cef-84a8-3feb33428ecc.root\u001b[0m\n",
       "│   ├── \u001b[36mroot://cmsio2.rc.ufl.edu:1094//store/mc/Run3Summer23BPixNanoAODv12/SlepSnuCascade_MN1-260_MN2-280_MC1-270_T\u001b[0m\n",
       "│   │   \u001b[36muneCP5_13p6TeV_madgraphMLM-pythia8/NANOAODSIM/130X_mcRun3_2023_realistic_postBPix_v6-v3/2530000/cbb38e5f-44\u001b[0m\n",
       "│   │   \u001b[36m86-4f9c-b0db-272c9008133a.root\u001b[0m\n",
       "│   ├── \u001b[36mroot://cmsio2.rc.ufl.edu:1094//store/mc/Run3Summer23BPixNanoAODv12/SlepSnuCascade_MN1-260_MN2-280_MC1-270_T\u001b[0m\n",
       "│   │   \u001b[36muneCP5_13p6TeV_madgraphMLM-pythia8/NANOAODSIM/130X_mcRun3_2023_realistic_postBPix_v6-v3/2530000/ccbd4f89-12\u001b[0m\n",
       "│   │   \u001b[36m2a-4065-b0be-f38e9b2878d1.root\u001b[0m\n",
       "│   ├── \u001b[36mroot://cmsio2.rc.ufl.edu:1094//store/mc/Run3Summer23BPixNanoAODv12/SlepSnuCascade_MN1-260_MN2-280_MC1-270_T\u001b[0m\n",
       "│   │   \u001b[36muneCP5_13p6TeV_madgraphMLM-pythia8/NANOAODSIM/130X_mcRun3_2023_realistic_postBPix_v6-v3/2530000/ee78214f-59\u001b[0m\n",
       "│   │   \u001b[36m6d-4b13-923a-b2791499596c.root\u001b[0m\n",
       "│   ├── \u001b[36mroot://cmsio2.rc.ufl.edu:1094//store/mc/Run3Summer23BPixNanoAODv12/SlepSnuCascade_MN1-260_MN2-280_MC1-270_T\u001b[0m\n",
       "│   │   \u001b[36muneCP5_13p6TeV_madgraphMLM-pythia8/NANOAODSIM/130X_mcRun3_2023_realistic_postBPix_v6-v3/2530000/f786c693-9b\u001b[0m\n",
       "│   │   \u001b[36m96-47dc-8f97-3986c1067e05.root\u001b[0m\n",
       "│   └── \u001b[36mroot://cmsio2.rc.ufl.edu:1094//store/mc/Run3Summer23BPixNanoAODv12/SlepSnuCascade_MN1-260_MN2-280_MC1-270_T\u001b[0m\n",
       "│       \u001b[36muneCP5_13p6TeV_madgraphMLM-pythia8/NANOAODSIM/130X_mcRun3_2023_realistic_postBPix_v6-v3/2530000/fac026d7-c4\u001b[0m\n",
       "│       \u001b[36m7c-4007-a51c-514fe55f5bc7.root\u001b[0m\n",
       "└── \u001b[32mT2_US_Vanderbilt\u001b[0m\n",
       "    └── \u001b[36mroot://xrootd-redir1-vanderbilt.sites.opensciencegrid.org:1094//store/mc/Run3Summer23BPixNanoAODv12/SlepSnu\u001b[0m\n",
       "        \u001b[36mCascade_MN1-260_MN2-280_MC1-270_TuneCP5_13p6TeV_madgraphMLM-pythia8/NANOAODSIM/130X_mcRun3_2023_realistic_p\u001b[0m\n",
       "        \u001b[36mostBPix_v6-v3/2530000/aa2f23ee-3fa8-4450-ae4e-0a44290dd146.root\u001b[0m\n"
      ]
     },
     "metadata": {},
     "output_type": "display_data"
    },
    {
     "data": {
      "application/vnd.jupyter.widget-view+json": {
       "model_id": "",
       "version_major": 2,
       "version_minor": 0
      },
      "text/plain": [
       "Output()"
      ]
     },
     "metadata": {},
     "output_type": "display_data"
    },
    {
     "data": {
      "text/html": [
       "<pre style=\"white-space:pre;overflow-x:auto;line-height:normal;font-family:Menlo,'DejaVu Sans Mono',consolas,'Courier New',monospace\"></pre>\n"
      ],
      "text/plain": []
     },
     "metadata": {},
     "output_type": "display_data"
    },
    {
     "data": {
      "text/html": [
       "<pre style=\"white-space:pre;overflow-x:auto;line-height:normal;font-family:Menlo,'DejaVu Sans Mono',consolas,'Courier New',monospace\"><span style=\"color: #008080; text-decoration-color: #008080\">Sites availability for dataset: </span>\n",
       "<span style=\"color: #800000; text-decoration-color: #800000\">/SlepSnuCascade_MN1-270_MN2-280_MC1-275_TuneCP5_13p6TeV_madgraphMLM-pythia8/Run3Summer23BPixNanoAODv12-130X_mcRun3_</span>\n",
       "<span style=\"color: #800000; text-decoration-color: #800000\">2023_realistic_postBPix_v6-v3/NANOAODSIM</span>\n",
       "</pre>\n"
      ],
      "text/plain": [
       "\u001b[36mSites availability for dataset: \u001b[0m\n",
       "\u001b[31m/SlepSnuCascade_MN1-270_MN2-280_MC1-275_TuneCP5_13p6TeV_madgraphMLM-pythia8/Run3Summer23BPixNanoAODv12-130X_mcRun3_\u001b[0m\n",
       "\u001b[31m2023_realistic_postBPix_v6-v3/\u001b[0m\u001b[31mNANOAODSIM\u001b[0m\n"
      ]
     },
     "metadata": {},
     "output_type": "display_data"
    },
    {
     "data": {
      "text/html": [
       "<pre style=\"white-space:pre;overflow-x:auto;line-height:normal;font-family:Menlo,'DejaVu Sans Mono',consolas,'Courier New',monospace\"><span style=\"font-style: italic\">                 Available replicas                  </span>\n",
       "┏━━━━━━━┳━━━━━━━━━━━━━━━━━━┳━━━━━━━━━┳━━━━━━━━━━━━━━┓\n",
       "┃<span style=\"font-weight: bold\"> Index </span>┃<span style=\"font-weight: bold\"> Site             </span>┃<span style=\"font-weight: bold\"> Files   </span>┃<span style=\"font-weight: bold\"> Availability </span>┃\n",
       "┡━━━━━━━╇━━━━━━━━━━━━━━━━━━╇━━━━━━━━━╇━━━━━━━━━━━━━━┩\n",
       "│<span style=\"color: #7f7f7f; text-decoration-color: #7f7f7f\">   0   </span>│<span style=\"color: #7fbfbf; text-decoration-color: #7fbfbf\"> T2_US_Vanderbilt </span>│<span style=\"color: #bf7fbf; text-decoration-color: #bf7fbf\"> 17 / 17 </span>│<span style=\"color: #7f7f7f; text-decoration-color: #7f7f7f\">    100.0%    </span>│\n",
       "│   1   │<span style=\"color: #008080; text-decoration-color: #008080\"> T2_US_Nebraska   </span>│<span style=\"color: #800080; text-decoration-color: #800080\"> 17 / 17 </span>│    100.0%    │\n",
       "└───────┴──────────────────┴─────────┴──────────────┘\n",
       "</pre>\n"
      ],
      "text/plain": [
       "\u001b[3m                 Available replicas                  \u001b[0m\n",
       "┏━━━━━━━┳━━━━━━━━━━━━━━━━━━┳━━━━━━━━━┳━━━━━━━━━━━━━━┓\n",
       "┃\u001b[1m \u001b[0m\u001b[1mIndex\u001b[0m\u001b[1m \u001b[0m┃\u001b[1m \u001b[0m\u001b[1mSite            \u001b[0m\u001b[1m \u001b[0m┃\u001b[1m \u001b[0m\u001b[1mFiles  \u001b[0m\u001b[1m \u001b[0m┃\u001b[1m \u001b[0m\u001b[1mAvailability\u001b[0m\u001b[1m \u001b[0m┃\n",
       "┡━━━━━━━╇━━━━━━━━━━━━━━━━━━╇━━━━━━━━━╇━━━━━━━━━━━━━━┩\n",
       "│\u001b[2m \u001b[0m\u001b[2m  0  \u001b[0m\u001b[2m \u001b[0m│\u001b[2;36m \u001b[0m\u001b[2;36mT2_US_Vanderbilt\u001b[0m\u001b[2;36m \u001b[0m│\u001b[2;35m \u001b[0m\u001b[2;35m17 / 17\u001b[0m\u001b[2;35m \u001b[0m│\u001b[2m \u001b[0m\u001b[2m   100.0%   \u001b[0m\u001b[2m \u001b[0m│\n",
       "│   1   │\u001b[36m \u001b[0m\u001b[36mT2_US_Nebraska  \u001b[0m\u001b[36m \u001b[0m│\u001b[35m \u001b[0m\u001b[35m17 / 17\u001b[0m\u001b[35m \u001b[0m│    100.0%    │\n",
       "└───────┴──────────────────┴─────────┴──────────────┘\n"
      ]
     },
     "metadata": {},
     "output_type": "display_data"
    },
    {
     "data": {
      "text/html": [
       "<pre style=\"white-space:pre;overflow-x:auto;line-height:normal;font-family:Menlo,'DejaVu Sans Mono',consolas,'Courier New',monospace\">Replicas for \n",
       "<span style=\"color: #008000; text-decoration-color: #008000\">/SlepSnuCascade_MN1-270_MN2-280_MC1-275_TuneCP5_13p6TeV_madgraphMLM-pythia8/Run3Summer23BPixNanoAODv12-130X_mcRun3_</span>\n",
       "<span style=\"color: #008000; text-decoration-color: #008000\">2023_realistic_postBPix_v6-v3/NANOAODSIM</span>\n",
       "└── <span style=\"color: #008000; text-decoration-color: #008000\">T2_US_Vanderbilt</span>\n",
       "    ├── <span style=\"color: #008080; text-decoration-color: #008080\">root://xrootd-redir1-vanderbilt.sites.opensciencegrid.org:1094//store/mc/Run3Summer23BPixNanoAODv12/SlepSnu</span>\n",
       "    │   <span style=\"color: #008080; text-decoration-color: #008080\">Cascade_MN1-270_MN2-280_MC1-275_TuneCP5_13p6TeV_madgraphMLM-pythia8/NANOAODSIM/130X_mcRun3_2023_realistic_p</span>\n",
       "    │   <span style=\"color: #008080; text-decoration-color: #008080\">ostBPix_v6-v3/2530000/014a47c0-b196-47d6-aaf1-c482c58e7fb3.root</span>\n",
       "    ├── <span style=\"color: #008080; text-decoration-color: #008080\">root://xrootd-redir1-vanderbilt.sites.opensciencegrid.org:1094//store/mc/Run3Summer23BPixNanoAODv12/SlepSnu</span>\n",
       "    │   <span style=\"color: #008080; text-decoration-color: #008080\">Cascade_MN1-270_MN2-280_MC1-275_TuneCP5_13p6TeV_madgraphMLM-pythia8/NANOAODSIM/130X_mcRun3_2023_realistic_p</span>\n",
       "    │   <span style=\"color: #008080; text-decoration-color: #008080\">ostBPix_v6-v3/2530000/1b48e487-da20-4894-b8f6-03a65e07c682.root</span>\n",
       "    ├── <span style=\"color: #008080; text-decoration-color: #008080\">root://xrootd-redir1-vanderbilt.sites.opensciencegrid.org:1094//store/mc/Run3Summer23BPixNanoAODv12/SlepSnu</span>\n",
       "    │   <span style=\"color: #008080; text-decoration-color: #008080\">Cascade_MN1-270_MN2-280_MC1-275_TuneCP5_13p6TeV_madgraphMLM-pythia8/NANOAODSIM/130X_mcRun3_2023_realistic_p</span>\n",
       "    │   <span style=\"color: #008080; text-decoration-color: #008080\">ostBPix_v6-v3/2530000/25da9226-6708-479f-888f-dccb550b2f00.root</span>\n",
       "    ├── <span style=\"color: #008080; text-decoration-color: #008080\">root://xrootd-redir1-vanderbilt.sites.opensciencegrid.org:1094//store/mc/Run3Summer23BPixNanoAODv12/SlepSnu</span>\n",
       "    │   <span style=\"color: #008080; text-decoration-color: #008080\">Cascade_MN1-270_MN2-280_MC1-275_TuneCP5_13p6TeV_madgraphMLM-pythia8/NANOAODSIM/130X_mcRun3_2023_realistic_p</span>\n",
       "    │   <span style=\"color: #008080; text-decoration-color: #008080\">ostBPix_v6-v3/2530000/36cc4051-4e1f-4a9c-a793-7130d67e55c9.root</span>\n",
       "    ├── <span style=\"color: #008080; text-decoration-color: #008080\">root://xrootd-redir1-vanderbilt.sites.opensciencegrid.org:1094//store/mc/Run3Summer23BPixNanoAODv12/SlepSnu</span>\n",
       "    │   <span style=\"color: #008080; text-decoration-color: #008080\">Cascade_MN1-270_MN2-280_MC1-275_TuneCP5_13p6TeV_madgraphMLM-pythia8/NANOAODSIM/130X_mcRun3_2023_realistic_p</span>\n",
       "    │   <span style=\"color: #008080; text-decoration-color: #008080\">ostBPix_v6-v3/2530000/3fc4792a-98ef-4ee4-ad52-2ef45fdad2ae.root</span>\n",
       "    ├── <span style=\"color: #008080; text-decoration-color: #008080\">root://xrootd-redir1-vanderbilt.sites.opensciencegrid.org:1094//store/mc/Run3Summer23BPixNanoAODv12/SlepSnu</span>\n",
       "    │   <span style=\"color: #008080; text-decoration-color: #008080\">Cascade_MN1-270_MN2-280_MC1-275_TuneCP5_13p6TeV_madgraphMLM-pythia8/NANOAODSIM/130X_mcRun3_2023_realistic_p</span>\n",
       "    │   <span style=\"color: #008080; text-decoration-color: #008080\">ostBPix_v6-v3/2530000/40134c6c-2296-49a8-8473-c49a5ca39a99.root</span>\n",
       "    ├── <span style=\"color: #008080; text-decoration-color: #008080\">root://xrootd-redir1-vanderbilt.sites.opensciencegrid.org:1094//store/mc/Run3Summer23BPixNanoAODv12/SlepSnu</span>\n",
       "    │   <span style=\"color: #008080; text-decoration-color: #008080\">Cascade_MN1-270_MN2-280_MC1-275_TuneCP5_13p6TeV_madgraphMLM-pythia8/NANOAODSIM/130X_mcRun3_2023_realistic_p</span>\n",
       "    │   <span style=\"color: #008080; text-decoration-color: #008080\">ostBPix_v6-v3/2530000/43a03ae0-8764-4e18-9473-e4d5b2ce5b3e.root</span>\n",
       "    ├── <span style=\"color: #008080; text-decoration-color: #008080\">root://xrootd-redir1-vanderbilt.sites.opensciencegrid.org:1094//store/mc/Run3Summer23BPixNanoAODv12/SlepSnu</span>\n",
       "    │   <span style=\"color: #008080; text-decoration-color: #008080\">Cascade_MN1-270_MN2-280_MC1-275_TuneCP5_13p6TeV_madgraphMLM-pythia8/NANOAODSIM/130X_mcRun3_2023_realistic_p</span>\n",
       "    │   <span style=\"color: #008080; text-decoration-color: #008080\">ostBPix_v6-v3/2530000/74cb0109-f18a-467c-903b-9fec55026124.root</span>\n",
       "    ├── <span style=\"color: #008080; text-decoration-color: #008080\">root://xrootd-redir1-vanderbilt.sites.opensciencegrid.org:1094//store/mc/Run3Summer23BPixNanoAODv12/SlepSnu</span>\n",
       "    │   <span style=\"color: #008080; text-decoration-color: #008080\">Cascade_MN1-270_MN2-280_MC1-275_TuneCP5_13p6TeV_madgraphMLM-pythia8/NANOAODSIM/130X_mcRun3_2023_realistic_p</span>\n",
       "    │   <span style=\"color: #008080; text-decoration-color: #008080\">ostBPix_v6-v3/2530000/9d5bb43f-8865-4736-8140-cc9448b521d1.root</span>\n",
       "    ├── <span style=\"color: #008080; text-decoration-color: #008080\">root://xrootd-redir1-vanderbilt.sites.opensciencegrid.org:1094//store/mc/Run3Summer23BPixNanoAODv12/SlepSnu</span>\n",
       "    │   <span style=\"color: #008080; text-decoration-color: #008080\">Cascade_MN1-270_MN2-280_MC1-275_TuneCP5_13p6TeV_madgraphMLM-pythia8/NANOAODSIM/130X_mcRun3_2023_realistic_p</span>\n",
       "    │   <span style=\"color: #008080; text-decoration-color: #008080\">ostBPix_v6-v3/2530000/a00466ab-68f5-400b-b4c5-f088994049d9.root</span>\n",
       "    ├── <span style=\"color: #008080; text-decoration-color: #008080\">root://xrootd-redir1-vanderbilt.sites.opensciencegrid.org:1094//store/mc/Run3Summer23BPixNanoAODv12/SlepSnu</span>\n",
       "    │   <span style=\"color: #008080; text-decoration-color: #008080\">Cascade_MN1-270_MN2-280_MC1-275_TuneCP5_13p6TeV_madgraphMLM-pythia8/NANOAODSIM/130X_mcRun3_2023_realistic_p</span>\n",
       "    │   <span style=\"color: #008080; text-decoration-color: #008080\">ostBPix_v6-v3/2530000/a2d8829f-8d72-476f-b468-5939df3918b8.root</span>\n",
       "    ├── <span style=\"color: #008080; text-decoration-color: #008080\">root://xrootd-redir1-vanderbilt.sites.opensciencegrid.org:1094//store/mc/Run3Summer23BPixNanoAODv12/SlepSnu</span>\n",
       "    │   <span style=\"color: #008080; text-decoration-color: #008080\">Cascade_MN1-270_MN2-280_MC1-275_TuneCP5_13p6TeV_madgraphMLM-pythia8/NANOAODSIM/130X_mcRun3_2023_realistic_p</span>\n",
       "    │   <span style=\"color: #008080; text-decoration-color: #008080\">ostBPix_v6-v3/2530000/bc617c28-893d-4204-8273-fe0ed7e8f143.root</span>\n",
       "    ├── <span style=\"color: #008080; text-decoration-color: #008080\">root://xrootd-redir1-vanderbilt.sites.opensciencegrid.org:1094//store/mc/Run3Summer23BPixNanoAODv12/SlepSnu</span>\n",
       "    │   <span style=\"color: #008080; text-decoration-color: #008080\">Cascade_MN1-270_MN2-280_MC1-275_TuneCP5_13p6TeV_madgraphMLM-pythia8/NANOAODSIM/130X_mcRun3_2023_realistic_p</span>\n",
       "    │   <span style=\"color: #008080; text-decoration-color: #008080\">ostBPix_v6-v3/2530000/d9e85cdd-50cf-4144-8d81-85dc4c341c76.root</span>\n",
       "    ├── <span style=\"color: #008080; text-decoration-color: #008080\">root://xrootd-redir1-vanderbilt.sites.opensciencegrid.org:1094//store/mc/Run3Summer23BPixNanoAODv12/SlepSnu</span>\n",
       "    │   <span style=\"color: #008080; text-decoration-color: #008080\">Cascade_MN1-270_MN2-280_MC1-275_TuneCP5_13p6TeV_madgraphMLM-pythia8/NANOAODSIM/130X_mcRun3_2023_realistic_p</span>\n",
       "    │   <span style=\"color: #008080; text-decoration-color: #008080\">ostBPix_v6-v3/2530000/e3f98444-3de4-4c49-bcf9-3e5e9ba825e5.root</span>\n",
       "    ├── <span style=\"color: #008080; text-decoration-color: #008080\">root://xrootd-redir1-vanderbilt.sites.opensciencegrid.org:1094//store/mc/Run3Summer23BPixNanoAODv12/SlepSnu</span>\n",
       "    │   <span style=\"color: #008080; text-decoration-color: #008080\">Cascade_MN1-270_MN2-280_MC1-275_TuneCP5_13p6TeV_madgraphMLM-pythia8/NANOAODSIM/130X_mcRun3_2023_realistic_p</span>\n",
       "    │   <span style=\"color: #008080; text-decoration-color: #008080\">ostBPix_v6-v3/2530000/ebb35a9e-c049-4414-a126-46cf7f414be0.root</span>\n",
       "    ├── <span style=\"color: #008080; text-decoration-color: #008080\">root://xrootd-redir1-vanderbilt.sites.opensciencegrid.org:1094//store/mc/Run3Summer23BPixNanoAODv12/SlepSnu</span>\n",
       "    │   <span style=\"color: #008080; text-decoration-color: #008080\">Cascade_MN1-270_MN2-280_MC1-275_TuneCP5_13p6TeV_madgraphMLM-pythia8/NANOAODSIM/130X_mcRun3_2023_realistic_p</span>\n",
       "    │   <span style=\"color: #008080; text-decoration-color: #008080\">ostBPix_v6-v3/2530000/ee2dca10-4a75-46a9-bf87-fe6c6bb05400.root</span>\n",
       "    └── <span style=\"color: #008080; text-decoration-color: #008080\">root://xrootd-redir1-vanderbilt.sites.opensciencegrid.org:1094//store/mc/Run3Summer23BPixNanoAODv12/SlepSnu</span>\n",
       "        <span style=\"color: #008080; text-decoration-color: #008080\">Cascade_MN1-270_MN2-280_MC1-275_TuneCP5_13p6TeV_madgraphMLM-pythia8/NANOAODSIM/130X_mcRun3_2023_realistic_p</span>\n",
       "        <span style=\"color: #008080; text-decoration-color: #008080\">ostBPix_v6-v3/2530000/fbd6ceb4-ab93-461c-8eb6-7a390df211c3.root</span>\n",
       "</pre>\n"
      ],
      "text/plain": [
       "Replicas for \n",
       "\u001b[32m/SlepSnuCascade_MN1-270_MN2-280_MC1-275_TuneCP5_13p6TeV_madgraphMLM-pythia8/Run3Summer23BPixNanoAODv12-130X_mcRun3_\u001b[0m\n",
       "\u001b[32m2023_realistic_postBPix_v6-v3/NANOAODSIM\u001b[0m\n",
       "└── \u001b[32mT2_US_Vanderbilt\u001b[0m\n",
       "    ├── \u001b[36mroot://xrootd-redir1-vanderbilt.sites.opensciencegrid.org:1094//store/mc/Run3Summer23BPixNanoAODv12/SlepSnu\u001b[0m\n",
       "    │   \u001b[36mCascade_MN1-270_MN2-280_MC1-275_TuneCP5_13p6TeV_madgraphMLM-pythia8/NANOAODSIM/130X_mcRun3_2023_realistic_p\u001b[0m\n",
       "    │   \u001b[36mostBPix_v6-v3/2530000/014a47c0-b196-47d6-aaf1-c482c58e7fb3.root\u001b[0m\n",
       "    ├── \u001b[36mroot://xrootd-redir1-vanderbilt.sites.opensciencegrid.org:1094//store/mc/Run3Summer23BPixNanoAODv12/SlepSnu\u001b[0m\n",
       "    │   \u001b[36mCascade_MN1-270_MN2-280_MC1-275_TuneCP5_13p6TeV_madgraphMLM-pythia8/NANOAODSIM/130X_mcRun3_2023_realistic_p\u001b[0m\n",
       "    │   \u001b[36mostBPix_v6-v3/2530000/1b48e487-da20-4894-b8f6-03a65e07c682.root\u001b[0m\n",
       "    ├── \u001b[36mroot://xrootd-redir1-vanderbilt.sites.opensciencegrid.org:1094//store/mc/Run3Summer23BPixNanoAODv12/SlepSnu\u001b[0m\n",
       "    │   \u001b[36mCascade_MN1-270_MN2-280_MC1-275_TuneCP5_13p6TeV_madgraphMLM-pythia8/NANOAODSIM/130X_mcRun3_2023_realistic_p\u001b[0m\n",
       "    │   \u001b[36mostBPix_v6-v3/2530000/25da9226-6708-479f-888f-dccb550b2f00.root\u001b[0m\n",
       "    ├── \u001b[36mroot://xrootd-redir1-vanderbilt.sites.opensciencegrid.org:1094//store/mc/Run3Summer23BPixNanoAODv12/SlepSnu\u001b[0m\n",
       "    │   \u001b[36mCascade_MN1-270_MN2-280_MC1-275_TuneCP5_13p6TeV_madgraphMLM-pythia8/NANOAODSIM/130X_mcRun3_2023_realistic_p\u001b[0m\n",
       "    │   \u001b[36mostBPix_v6-v3/2530000/36cc4051-4e1f-4a9c-a793-7130d67e55c9.root\u001b[0m\n",
       "    ├── \u001b[36mroot://xrootd-redir1-vanderbilt.sites.opensciencegrid.org:1094//store/mc/Run3Summer23BPixNanoAODv12/SlepSnu\u001b[0m\n",
       "    │   \u001b[36mCascade_MN1-270_MN2-280_MC1-275_TuneCP5_13p6TeV_madgraphMLM-pythia8/NANOAODSIM/130X_mcRun3_2023_realistic_p\u001b[0m\n",
       "    │   \u001b[36mostBPix_v6-v3/2530000/3fc4792a-98ef-4ee4-ad52-2ef45fdad2ae.root\u001b[0m\n",
       "    ├── \u001b[36mroot://xrootd-redir1-vanderbilt.sites.opensciencegrid.org:1094//store/mc/Run3Summer23BPixNanoAODv12/SlepSnu\u001b[0m\n",
       "    │   \u001b[36mCascade_MN1-270_MN2-280_MC1-275_TuneCP5_13p6TeV_madgraphMLM-pythia8/NANOAODSIM/130X_mcRun3_2023_realistic_p\u001b[0m\n",
       "    │   \u001b[36mostBPix_v6-v3/2530000/40134c6c-2296-49a8-8473-c49a5ca39a99.root\u001b[0m\n",
       "    ├── \u001b[36mroot://xrootd-redir1-vanderbilt.sites.opensciencegrid.org:1094//store/mc/Run3Summer23BPixNanoAODv12/SlepSnu\u001b[0m\n",
       "    │   \u001b[36mCascade_MN1-270_MN2-280_MC1-275_TuneCP5_13p6TeV_madgraphMLM-pythia8/NANOAODSIM/130X_mcRun3_2023_realistic_p\u001b[0m\n",
       "    │   \u001b[36mostBPix_v6-v3/2530000/43a03ae0-8764-4e18-9473-e4d5b2ce5b3e.root\u001b[0m\n",
       "    ├── \u001b[36mroot://xrootd-redir1-vanderbilt.sites.opensciencegrid.org:1094//store/mc/Run3Summer23BPixNanoAODv12/SlepSnu\u001b[0m\n",
       "    │   \u001b[36mCascade_MN1-270_MN2-280_MC1-275_TuneCP5_13p6TeV_madgraphMLM-pythia8/NANOAODSIM/130X_mcRun3_2023_realistic_p\u001b[0m\n",
       "    │   \u001b[36mostBPix_v6-v3/2530000/74cb0109-f18a-467c-903b-9fec55026124.root\u001b[0m\n",
       "    ├── \u001b[36mroot://xrootd-redir1-vanderbilt.sites.opensciencegrid.org:1094//store/mc/Run3Summer23BPixNanoAODv12/SlepSnu\u001b[0m\n",
       "    │   \u001b[36mCascade_MN1-270_MN2-280_MC1-275_TuneCP5_13p6TeV_madgraphMLM-pythia8/NANOAODSIM/130X_mcRun3_2023_realistic_p\u001b[0m\n",
       "    │   \u001b[36mostBPix_v6-v3/2530000/9d5bb43f-8865-4736-8140-cc9448b521d1.root\u001b[0m\n",
       "    ├── \u001b[36mroot://xrootd-redir1-vanderbilt.sites.opensciencegrid.org:1094//store/mc/Run3Summer23BPixNanoAODv12/SlepSnu\u001b[0m\n",
       "    │   \u001b[36mCascade_MN1-270_MN2-280_MC1-275_TuneCP5_13p6TeV_madgraphMLM-pythia8/NANOAODSIM/130X_mcRun3_2023_realistic_p\u001b[0m\n",
       "    │   \u001b[36mostBPix_v6-v3/2530000/a00466ab-68f5-400b-b4c5-f088994049d9.root\u001b[0m\n",
       "    ├── \u001b[36mroot://xrootd-redir1-vanderbilt.sites.opensciencegrid.org:1094//store/mc/Run3Summer23BPixNanoAODv12/SlepSnu\u001b[0m\n",
       "    │   \u001b[36mCascade_MN1-270_MN2-280_MC1-275_TuneCP5_13p6TeV_madgraphMLM-pythia8/NANOAODSIM/130X_mcRun3_2023_realistic_p\u001b[0m\n",
       "    │   \u001b[36mostBPix_v6-v3/2530000/a2d8829f-8d72-476f-b468-5939df3918b8.root\u001b[0m\n",
       "    ├── \u001b[36mroot://xrootd-redir1-vanderbilt.sites.opensciencegrid.org:1094//store/mc/Run3Summer23BPixNanoAODv12/SlepSnu\u001b[0m\n",
       "    │   \u001b[36mCascade_MN1-270_MN2-280_MC1-275_TuneCP5_13p6TeV_madgraphMLM-pythia8/NANOAODSIM/130X_mcRun3_2023_realistic_p\u001b[0m\n",
       "    │   \u001b[36mostBPix_v6-v3/2530000/bc617c28-893d-4204-8273-fe0ed7e8f143.root\u001b[0m\n",
       "    ├── \u001b[36mroot://xrootd-redir1-vanderbilt.sites.opensciencegrid.org:1094//store/mc/Run3Summer23BPixNanoAODv12/SlepSnu\u001b[0m\n",
       "    │   \u001b[36mCascade_MN1-270_MN2-280_MC1-275_TuneCP5_13p6TeV_madgraphMLM-pythia8/NANOAODSIM/130X_mcRun3_2023_realistic_p\u001b[0m\n",
       "    │   \u001b[36mostBPix_v6-v3/2530000/d9e85cdd-50cf-4144-8d81-85dc4c341c76.root\u001b[0m\n",
       "    ├── \u001b[36mroot://xrootd-redir1-vanderbilt.sites.opensciencegrid.org:1094//store/mc/Run3Summer23BPixNanoAODv12/SlepSnu\u001b[0m\n",
       "    │   \u001b[36mCascade_MN1-270_MN2-280_MC1-275_TuneCP5_13p6TeV_madgraphMLM-pythia8/NANOAODSIM/130X_mcRun3_2023_realistic_p\u001b[0m\n",
       "    │   \u001b[36mostBPix_v6-v3/2530000/e3f98444-3de4-4c49-bcf9-3e5e9ba825e5.root\u001b[0m\n",
       "    ├── \u001b[36mroot://xrootd-redir1-vanderbilt.sites.opensciencegrid.org:1094//store/mc/Run3Summer23BPixNanoAODv12/SlepSnu\u001b[0m\n",
       "    │   \u001b[36mCascade_MN1-270_MN2-280_MC1-275_TuneCP5_13p6TeV_madgraphMLM-pythia8/NANOAODSIM/130X_mcRun3_2023_realistic_p\u001b[0m\n",
       "    │   \u001b[36mostBPix_v6-v3/2530000/ebb35a9e-c049-4414-a126-46cf7f414be0.root\u001b[0m\n",
       "    ├── \u001b[36mroot://xrootd-redir1-vanderbilt.sites.opensciencegrid.org:1094//store/mc/Run3Summer23BPixNanoAODv12/SlepSnu\u001b[0m\n",
       "    │   \u001b[36mCascade_MN1-270_MN2-280_MC1-275_TuneCP5_13p6TeV_madgraphMLM-pythia8/NANOAODSIM/130X_mcRun3_2023_realistic_p\u001b[0m\n",
       "    │   \u001b[36mostBPix_v6-v3/2530000/ee2dca10-4a75-46a9-bf87-fe6c6bb05400.root\u001b[0m\n",
       "    └── \u001b[36mroot://xrootd-redir1-vanderbilt.sites.opensciencegrid.org:1094//store/mc/Run3Summer23BPixNanoAODv12/SlepSnu\u001b[0m\n",
       "        \u001b[36mCascade_MN1-270_MN2-280_MC1-275_TuneCP5_13p6TeV_madgraphMLM-pythia8/NANOAODSIM/130X_mcRun3_2023_realistic_p\u001b[0m\n",
       "        \u001b[36mostBPix_v6-v3/2530000/fbd6ceb4-ab93-461c-8eb6-7a390df211c3.root\u001b[0m\n"
      ]
     },
     "metadata": {},
     "output_type": "display_data"
    },
    {
     "data": {
      "text/plain": [
       "{'/SlepSnuCascade_MN1-220_MN2-260_MC1-240_TuneCP5_13p6TeV_madgraphMLM-pythia8/Run3Summer23BPixNanoAODv12-130X_mcRun3_2023_realistic_postBPix_v6-v3/NANOAODSIM': {'files': {'root://cmsdcadisk.fnal.gov//dcache/uscmsdisk/store/mc/Run3Summer23BPixNanoAODv12/SlepSnuCascade_MN1-220_MN2-260_MC1-240_TuneCP5_13p6TeV_madgraphMLM-pythia8/NANOAODSIM/130X_mcRun3_2023_realistic_postBPix_v6-v3/2520000/0238744e-b5c3-48d0-9415-97854405b503.root': 'Events',\n",
       "   'root://cmsdcadisk.fnal.gov//dcache/uscmsdisk/store/mc/Run3Summer23BPixNanoAODv12/SlepSnuCascade_MN1-220_MN2-260_MC1-240_TuneCP5_13p6TeV_madgraphMLM-pythia8/NANOAODSIM/130X_mcRun3_2023_realistic_postBPix_v6-v3/2520000/1b117b99-b288-4121-a3ad-e9cdee0deebd.root': 'Events',\n",
       "   'root://cmsdcadisk.fnal.gov//dcache/uscmsdisk/store/mc/Run3Summer23BPixNanoAODv12/SlepSnuCascade_MN1-220_MN2-260_MC1-240_TuneCP5_13p6TeV_madgraphMLM-pythia8/NANOAODSIM/130X_mcRun3_2023_realistic_postBPix_v6-v3/2520000/1c3d452f-62da-4dd1-9734-fbd7024de64d.root': 'Events',\n",
       "   'root://cmsdcadisk.fnal.gov//dcache/uscmsdisk/store/mc/Run3Summer23BPixNanoAODv12/SlepSnuCascade_MN1-220_MN2-260_MC1-240_TuneCP5_13p6TeV_madgraphMLM-pythia8/NANOAODSIM/130X_mcRun3_2023_realistic_postBPix_v6-v3/2520000/1d2b26be-ae3d-42a2-8788-be01a97b28c7.root': 'Events',\n",
       "   'root://cmsdcadisk.fnal.gov//dcache/uscmsdisk/store/mc/Run3Summer23BPixNanoAODv12/SlepSnuCascade_MN1-220_MN2-260_MC1-240_TuneCP5_13p6TeV_madgraphMLM-pythia8/NANOAODSIM/130X_mcRun3_2023_realistic_postBPix_v6-v3/2520000/393292c6-6a1a-45d1-9031-1c05e0ddba78.root': 'Events',\n",
       "   'root://cmsdcadisk.fnal.gov//dcache/uscmsdisk/store/mc/Run3Summer23BPixNanoAODv12/SlepSnuCascade_MN1-220_MN2-260_MC1-240_TuneCP5_13p6TeV_madgraphMLM-pythia8/NANOAODSIM/130X_mcRun3_2023_realistic_postBPix_v6-v3/2520000/435988e8-a68a-48d0-82f0-a388dd64d7b6.root': 'Events',\n",
       "   'root://cmsdcadisk.fnal.gov//dcache/uscmsdisk/store/mc/Run3Summer23BPixNanoAODv12/SlepSnuCascade_MN1-220_MN2-260_MC1-240_TuneCP5_13p6TeV_madgraphMLM-pythia8/NANOAODSIM/130X_mcRun3_2023_realistic_postBPix_v6-v3/2520000/45161c49-7f6a-4d5f-8cc7-15382cad4682.root': 'Events',\n",
       "   'root://cmsdcadisk.fnal.gov//dcache/uscmsdisk/store/mc/Run3Summer23BPixNanoAODv12/SlepSnuCascade_MN1-220_MN2-260_MC1-240_TuneCP5_13p6TeV_madgraphMLM-pythia8/NANOAODSIM/130X_mcRun3_2023_realistic_postBPix_v6-v3/2520000/525b3721-8456-4be9-8ebb-9bd077162131.root': 'Events',\n",
       "   'root://cmsdcadisk.fnal.gov//dcache/uscmsdisk/store/mc/Run3Summer23BPixNanoAODv12/SlepSnuCascade_MN1-220_MN2-260_MC1-240_TuneCP5_13p6TeV_madgraphMLM-pythia8/NANOAODSIM/130X_mcRun3_2023_realistic_postBPix_v6-v3/2520000/60150486-f22c-4b0a-8222-02b26a9493f1.root': 'Events',\n",
       "   'root://cmsdcadisk.fnal.gov//dcache/uscmsdisk/store/mc/Run3Summer23BPixNanoAODv12/SlepSnuCascade_MN1-220_MN2-260_MC1-240_TuneCP5_13p6TeV_madgraphMLM-pythia8/NANOAODSIM/130X_mcRun3_2023_realistic_postBPix_v6-v3/2520000/6d6e3789-b918-4aab-a86c-efafffabf12c.root': 'Events',\n",
       "   'root://cmsdcadisk.fnal.gov//dcache/uscmsdisk/store/mc/Run3Summer23BPixNanoAODv12/SlepSnuCascade_MN1-220_MN2-260_MC1-240_TuneCP5_13p6TeV_madgraphMLM-pythia8/NANOAODSIM/130X_mcRun3_2023_realistic_postBPix_v6-v3/2520000/6fd954b5-2f2c-4efb-8fdd-18c78bbe0649.root': 'Events',\n",
       "   'root://cmsdcadisk.fnal.gov//dcache/uscmsdisk/store/mc/Run3Summer23BPixNanoAODv12/SlepSnuCascade_MN1-220_MN2-260_MC1-240_TuneCP5_13p6TeV_madgraphMLM-pythia8/NANOAODSIM/130X_mcRun3_2023_realistic_postBPix_v6-v3/2520000/794b6891-e65e-422a-9388-9f87663c83ae.root': 'Events',\n",
       "   'root://cmsdcadisk.fnal.gov//dcache/uscmsdisk/store/mc/Run3Summer23BPixNanoAODv12/SlepSnuCascade_MN1-220_MN2-260_MC1-240_TuneCP5_13p6TeV_madgraphMLM-pythia8/NANOAODSIM/130X_mcRun3_2023_realistic_postBPix_v6-v3/2520000/8a33b5b6-5328-4552-848d-693c050bbc9d.root': 'Events',\n",
       "   'root://cmsdcadisk.fnal.gov//dcache/uscmsdisk/store/mc/Run3Summer23BPixNanoAODv12/SlepSnuCascade_MN1-220_MN2-260_MC1-240_TuneCP5_13p6TeV_madgraphMLM-pythia8/NANOAODSIM/130X_mcRun3_2023_realistic_postBPix_v6-v3/2520000/8eb51295-6260-4a29-b5bd-04c8d3231ceb.root': 'Events',\n",
       "   'root://cmsdcadisk.fnal.gov//dcache/uscmsdisk/store/mc/Run3Summer23BPixNanoAODv12/SlepSnuCascade_MN1-220_MN2-260_MC1-240_TuneCP5_13p6TeV_madgraphMLM-pythia8/NANOAODSIM/130X_mcRun3_2023_realistic_postBPix_v6-v3/2520000/aa622bcd-2d33-449f-b803-8972fe021efd.root': 'Events',\n",
       "   'root://cmsdcadisk.fnal.gov//dcache/uscmsdisk/store/mc/Run3Summer23BPixNanoAODv12/SlepSnuCascade_MN1-220_MN2-260_MC1-240_TuneCP5_13p6TeV_madgraphMLM-pythia8/NANOAODSIM/130X_mcRun3_2023_realistic_postBPix_v6-v3/2520000/d3272061-dba4-4258-9947-eccaee03ae45.root': 'Events',\n",
       "   'root://cmsdcadisk.fnal.gov//dcache/uscmsdisk/store/mc/Run3Summer23BPixNanoAODv12/SlepSnuCascade_MN1-220_MN2-260_MC1-240_TuneCP5_13p6TeV_madgraphMLM-pythia8/NANOAODSIM/130X_mcRun3_2023_realistic_postBPix_v6-v3/2520000/fe4466d8-f94d-460e-b165-4d6d746cf27d.root': 'Events',\n",
       "   'root://cmsdcadisk.fnal.gov//dcache/uscmsdisk/store/mc/Run3Summer23BPixNanoAODv12/SlepSnuCascade_MN1-220_MN2-260_MC1-240_TuneCP5_13p6TeV_madgraphMLM-pythia8/NANOAODSIM/130X_mcRun3_2023_realistic_postBPix_v6-v3/2530000/7c67a574-a41f-4ffc-921a-7a268002cdc7.root': 'Events'},\n",
       "  'metadata': {}},\n",
       " '/SlepSnuCascade_MN1-260_MN2-280_MC1-270_TuneCP5_13p6TeV_madgraphMLM-pythia8/Run3Summer23BPixNanoAODv12-130X_mcRun3_2023_realistic_postBPix_v6-v3/NANOAODSIM': {'files': {'root://cmsio2.rc.ufl.edu:1094//store/mc/Run3Summer23BPixNanoAODv12/SlepSnuCascade_MN1-260_MN2-280_MC1-270_TuneCP5_13p6TeV_madgraphMLM-pythia8/NANOAODSIM/130X_mcRun3_2023_realistic_postBPix_v6-v3/2530000/0d22cdae-b8db-41fb-8ab4-f0c74187f950.root': 'Events',\n",
       "   'root://cmsio2.rc.ufl.edu:1094//store/mc/Run3Summer23BPixNanoAODv12/SlepSnuCascade_MN1-260_MN2-280_MC1-270_TuneCP5_13p6TeV_madgraphMLM-pythia8/NANOAODSIM/130X_mcRun3_2023_realistic_postBPix_v6-v3/2530000/2f75bba9-b604-4d42-9d06-0c34ce6b551c.root': 'Events',\n",
       "   'root://cmsio2.rc.ufl.edu:1094//store/mc/Run3Summer23BPixNanoAODv12/SlepSnuCascade_MN1-260_MN2-280_MC1-270_TuneCP5_13p6TeV_madgraphMLM-pythia8/NANOAODSIM/130X_mcRun3_2023_realistic_postBPix_v6-v3/2530000/3e0d6872-e7e1-4aab-9913-50e2d66ccbf4.root': 'Events',\n",
       "   'root://cmsio2.rc.ufl.edu:1094//store/mc/Run3Summer23BPixNanoAODv12/SlepSnuCascade_MN1-260_MN2-280_MC1-270_TuneCP5_13p6TeV_madgraphMLM-pythia8/NANOAODSIM/130X_mcRun3_2023_realistic_postBPix_v6-v3/2530000/5e033857-fdd9-43fa-b8a6-bb606a0d7cf3.root': 'Events',\n",
       "   'root://cmsio2.rc.ufl.edu:1094//store/mc/Run3Summer23BPixNanoAODv12/SlepSnuCascade_MN1-260_MN2-280_MC1-270_TuneCP5_13p6TeV_madgraphMLM-pythia8/NANOAODSIM/130X_mcRun3_2023_realistic_postBPix_v6-v3/2530000/7db046a5-3839-49c1-92ee-823499ecbfb0.root': 'Events',\n",
       "   'root://cmsio2.rc.ufl.edu:1094//store/mc/Run3Summer23BPixNanoAODv12/SlepSnuCascade_MN1-260_MN2-280_MC1-270_TuneCP5_13p6TeV_madgraphMLM-pythia8/NANOAODSIM/130X_mcRun3_2023_realistic_postBPix_v6-v3/2530000/7fafb075-d37e-4ee0-86dd-63d7554f5304.root': 'Events',\n",
       "   'root://cmsio2.rc.ufl.edu:1094//store/mc/Run3Summer23BPixNanoAODv12/SlepSnuCascade_MN1-260_MN2-280_MC1-270_TuneCP5_13p6TeV_madgraphMLM-pythia8/NANOAODSIM/130X_mcRun3_2023_realistic_postBPix_v6-v3/2530000/81e6a990-2871-45cc-b1fd-dcc44af5e85a.root': 'Events',\n",
       "   'root://cmsio2.rc.ufl.edu:1094//store/mc/Run3Summer23BPixNanoAODv12/SlepSnuCascade_MN1-260_MN2-280_MC1-270_TuneCP5_13p6TeV_madgraphMLM-pythia8/NANOAODSIM/130X_mcRun3_2023_realistic_postBPix_v6-v3/2530000/86f4a155-3b0f-48aa-a8fe-386495defc7b.root': 'Events',\n",
       "   'root://cmsio2.rc.ufl.edu:1094//store/mc/Run3Summer23BPixNanoAODv12/SlepSnuCascade_MN1-260_MN2-280_MC1-270_TuneCP5_13p6TeV_madgraphMLM-pythia8/NANOAODSIM/130X_mcRun3_2023_realistic_postBPix_v6-v3/2530000/99c3fd5f-17ef-42aa-a356-a6cf10244049.root': 'Events',\n",
       "   'root://cmsio2.rc.ufl.edu:1094//store/mc/Run3Summer23BPixNanoAODv12/SlepSnuCascade_MN1-260_MN2-280_MC1-270_TuneCP5_13p6TeV_madgraphMLM-pythia8/NANOAODSIM/130X_mcRun3_2023_realistic_postBPix_v6-v3/2530000/a1dca706-2ecb-4cef-84a8-3feb33428ecc.root': 'Events',\n",
       "   'root://xrootd-redir1-vanderbilt.sites.opensciencegrid.org:1094//store/mc/Run3Summer23BPixNanoAODv12/SlepSnuCascade_MN1-260_MN2-280_MC1-270_TuneCP5_13p6TeV_madgraphMLM-pythia8/NANOAODSIM/130X_mcRun3_2023_realistic_postBPix_v6-v3/2530000/aa2f23ee-3fa8-4450-ae4e-0a44290dd146.root': 'Events',\n",
       "   'root://cmsio2.rc.ufl.edu:1094//store/mc/Run3Summer23BPixNanoAODv12/SlepSnuCascade_MN1-260_MN2-280_MC1-270_TuneCP5_13p6TeV_madgraphMLM-pythia8/NANOAODSIM/130X_mcRun3_2023_realistic_postBPix_v6-v3/2530000/cbb38e5f-4486-4f9c-b0db-272c9008133a.root': 'Events',\n",
       "   'root://cmsio2.rc.ufl.edu:1094//store/mc/Run3Summer23BPixNanoAODv12/SlepSnuCascade_MN1-260_MN2-280_MC1-270_TuneCP5_13p6TeV_madgraphMLM-pythia8/NANOAODSIM/130X_mcRun3_2023_realistic_postBPix_v6-v3/2530000/ccbd4f89-122a-4065-b0be-f38e9b2878d1.root': 'Events',\n",
       "   'root://cmsio2.rc.ufl.edu:1094//store/mc/Run3Summer23BPixNanoAODv12/SlepSnuCascade_MN1-260_MN2-280_MC1-270_TuneCP5_13p6TeV_madgraphMLM-pythia8/NANOAODSIM/130X_mcRun3_2023_realistic_postBPix_v6-v3/2530000/ee78214f-596d-4b13-923a-b2791499596c.root': 'Events',\n",
       "   'root://cmsio2.rc.ufl.edu:1094//store/mc/Run3Summer23BPixNanoAODv12/SlepSnuCascade_MN1-260_MN2-280_MC1-270_TuneCP5_13p6TeV_madgraphMLM-pythia8/NANOAODSIM/130X_mcRun3_2023_realistic_postBPix_v6-v3/2530000/f786c693-9b96-47dc-8f97-3986c1067e05.root': 'Events',\n",
       "   'root://cmsio2.rc.ufl.edu:1094//store/mc/Run3Summer23BPixNanoAODv12/SlepSnuCascade_MN1-260_MN2-280_MC1-270_TuneCP5_13p6TeV_madgraphMLM-pythia8/NANOAODSIM/130X_mcRun3_2023_realistic_postBPix_v6-v3/2530000/fac026d7-c47c-4007-a51c-514fe55f5bc7.root': 'Events'},\n",
       "  'metadata': {}},\n",
       " '/SlepSnuCascade_MN1-270_MN2-280_MC1-275_TuneCP5_13p6TeV_madgraphMLM-pythia8/Run3Summer23BPixNanoAODv12-130X_mcRun3_2023_realistic_postBPix_v6-v3/NANOAODSIM': {'files': {'root://xrootd-redir1-vanderbilt.sites.opensciencegrid.org:1094//store/mc/Run3Summer23BPixNanoAODv12/SlepSnuCascade_MN1-270_MN2-280_MC1-275_TuneCP5_13p6TeV_madgraphMLM-pythia8/NANOAODSIM/130X_mcRun3_2023_realistic_postBPix_v6-v3/2530000/014a47c0-b196-47d6-aaf1-c482c58e7fb3.root': 'Events',\n",
       "   'root://xrootd-redir1-vanderbilt.sites.opensciencegrid.org:1094//store/mc/Run3Summer23BPixNanoAODv12/SlepSnuCascade_MN1-270_MN2-280_MC1-275_TuneCP5_13p6TeV_madgraphMLM-pythia8/NANOAODSIM/130X_mcRun3_2023_realistic_postBPix_v6-v3/2530000/1b48e487-da20-4894-b8f6-03a65e07c682.root': 'Events',\n",
       "   'root://xrootd-redir1-vanderbilt.sites.opensciencegrid.org:1094//store/mc/Run3Summer23BPixNanoAODv12/SlepSnuCascade_MN1-270_MN2-280_MC1-275_TuneCP5_13p6TeV_madgraphMLM-pythia8/NANOAODSIM/130X_mcRun3_2023_realistic_postBPix_v6-v3/2530000/25da9226-6708-479f-888f-dccb550b2f00.root': 'Events',\n",
       "   'root://xrootd-redir1-vanderbilt.sites.opensciencegrid.org:1094//store/mc/Run3Summer23BPixNanoAODv12/SlepSnuCascade_MN1-270_MN2-280_MC1-275_TuneCP5_13p6TeV_madgraphMLM-pythia8/NANOAODSIM/130X_mcRun3_2023_realistic_postBPix_v6-v3/2530000/36cc4051-4e1f-4a9c-a793-7130d67e55c9.root': 'Events',\n",
       "   'root://xrootd-redir1-vanderbilt.sites.opensciencegrid.org:1094//store/mc/Run3Summer23BPixNanoAODv12/SlepSnuCascade_MN1-270_MN2-280_MC1-275_TuneCP5_13p6TeV_madgraphMLM-pythia8/NANOAODSIM/130X_mcRun3_2023_realistic_postBPix_v6-v3/2530000/3fc4792a-98ef-4ee4-ad52-2ef45fdad2ae.root': 'Events',\n",
       "   'root://xrootd-redir1-vanderbilt.sites.opensciencegrid.org:1094//store/mc/Run3Summer23BPixNanoAODv12/SlepSnuCascade_MN1-270_MN2-280_MC1-275_TuneCP5_13p6TeV_madgraphMLM-pythia8/NANOAODSIM/130X_mcRun3_2023_realistic_postBPix_v6-v3/2530000/40134c6c-2296-49a8-8473-c49a5ca39a99.root': 'Events',\n",
       "   'root://xrootd-redir1-vanderbilt.sites.opensciencegrid.org:1094//store/mc/Run3Summer23BPixNanoAODv12/SlepSnuCascade_MN1-270_MN2-280_MC1-275_TuneCP5_13p6TeV_madgraphMLM-pythia8/NANOAODSIM/130X_mcRun3_2023_realistic_postBPix_v6-v3/2530000/43a03ae0-8764-4e18-9473-e4d5b2ce5b3e.root': 'Events',\n",
       "   'root://xrootd-redir1-vanderbilt.sites.opensciencegrid.org:1094//store/mc/Run3Summer23BPixNanoAODv12/SlepSnuCascade_MN1-270_MN2-280_MC1-275_TuneCP5_13p6TeV_madgraphMLM-pythia8/NANOAODSIM/130X_mcRun3_2023_realistic_postBPix_v6-v3/2530000/74cb0109-f18a-467c-903b-9fec55026124.root': 'Events',\n",
       "   'root://xrootd-redir1-vanderbilt.sites.opensciencegrid.org:1094//store/mc/Run3Summer23BPixNanoAODv12/SlepSnuCascade_MN1-270_MN2-280_MC1-275_TuneCP5_13p6TeV_madgraphMLM-pythia8/NANOAODSIM/130X_mcRun3_2023_realistic_postBPix_v6-v3/2530000/9d5bb43f-8865-4736-8140-cc9448b521d1.root': 'Events',\n",
       "   'root://xrootd-redir1-vanderbilt.sites.opensciencegrid.org:1094//store/mc/Run3Summer23BPixNanoAODv12/SlepSnuCascade_MN1-270_MN2-280_MC1-275_TuneCP5_13p6TeV_madgraphMLM-pythia8/NANOAODSIM/130X_mcRun3_2023_realistic_postBPix_v6-v3/2530000/a00466ab-68f5-400b-b4c5-f088994049d9.root': 'Events',\n",
       "   'root://xrootd-redir1-vanderbilt.sites.opensciencegrid.org:1094//store/mc/Run3Summer23BPixNanoAODv12/SlepSnuCascade_MN1-270_MN2-280_MC1-275_TuneCP5_13p6TeV_madgraphMLM-pythia8/NANOAODSIM/130X_mcRun3_2023_realistic_postBPix_v6-v3/2530000/a2d8829f-8d72-476f-b468-5939df3918b8.root': 'Events',\n",
       "   'root://xrootd-redir1-vanderbilt.sites.opensciencegrid.org:1094//store/mc/Run3Summer23BPixNanoAODv12/SlepSnuCascade_MN1-270_MN2-280_MC1-275_TuneCP5_13p6TeV_madgraphMLM-pythia8/NANOAODSIM/130X_mcRun3_2023_realistic_postBPix_v6-v3/2530000/bc617c28-893d-4204-8273-fe0ed7e8f143.root': 'Events',\n",
       "   'root://xrootd-redir1-vanderbilt.sites.opensciencegrid.org:1094//store/mc/Run3Summer23BPixNanoAODv12/SlepSnuCascade_MN1-270_MN2-280_MC1-275_TuneCP5_13p6TeV_madgraphMLM-pythia8/NANOAODSIM/130X_mcRun3_2023_realistic_postBPix_v6-v3/2530000/d9e85cdd-50cf-4144-8d81-85dc4c341c76.root': 'Events',\n",
       "   'root://xrootd-redir1-vanderbilt.sites.opensciencegrid.org:1094//store/mc/Run3Summer23BPixNanoAODv12/SlepSnuCascade_MN1-270_MN2-280_MC1-275_TuneCP5_13p6TeV_madgraphMLM-pythia8/NANOAODSIM/130X_mcRun3_2023_realistic_postBPix_v6-v3/2530000/e3f98444-3de4-4c49-bcf9-3e5e9ba825e5.root': 'Events',\n",
       "   'root://xrootd-redir1-vanderbilt.sites.opensciencegrid.org:1094//store/mc/Run3Summer23BPixNanoAODv12/SlepSnuCascade_MN1-270_MN2-280_MC1-275_TuneCP5_13p6TeV_madgraphMLM-pythia8/NANOAODSIM/130X_mcRun3_2023_realistic_postBPix_v6-v3/2530000/ebb35a9e-c049-4414-a126-46cf7f414be0.root': 'Events',\n",
       "   'root://xrootd-redir1-vanderbilt.sites.opensciencegrid.org:1094//store/mc/Run3Summer23BPixNanoAODv12/SlepSnuCascade_MN1-270_MN2-280_MC1-275_TuneCP5_13p6TeV_madgraphMLM-pythia8/NANOAODSIM/130X_mcRun3_2023_realistic_postBPix_v6-v3/2530000/ee2dca10-4a75-46a9-bf87-fe6c6bb05400.root': 'Events',\n",
       "   'root://xrootd-redir1-vanderbilt.sites.opensciencegrid.org:1094//store/mc/Run3Summer23BPixNanoAODv12/SlepSnuCascade_MN1-270_MN2-280_MC1-275_TuneCP5_13p6TeV_madgraphMLM-pythia8/NANOAODSIM/130X_mcRun3_2023_realistic_postBPix_v6-v3/2530000/fbd6ceb4-ab93-461c-8eb6-7a390df211c3.root': 'Events'},\n",
       "  'metadata': {}}}"
      ]
     },
     "execution_count": 14,
     "metadata": {},
     "output_type": "execute_result"
    }
   ],
   "source": [
    "ddc.do_replicas(\"first\", \"all\")"
   ]
  },
  {
   "cell_type": "markdown",
   "id": "d585dd35-9037-4847-a9d5-de02fed38e71",
   "metadata": {},
   "source": [
    "### To bring it all home, we would like to create a preprocess file of selected data files. This preprocess file can be saved a .json and then later loaded in a different script/notebook to perform an analysis on. Lets try:"
   ]
  },
  {
   "cell_type": "code",
   "execution_count": 15,
   "id": "a519d43b-d8ff-4900-8efe-cb730e5765c2",
   "metadata": {
    "tags": []
   },
   "outputs": [
    {
     "data": {
      "text/html": [
       "<pre style=\"white-space:pre;overflow-x:auto;line-height:normal;font-family:Menlo,'DejaVu Sans Mono',consolas,'Courier New',monospace\"><span style=\"color: #808000; text-decoration-color: #808000; font-weight: bold\">Recalculate steps</span> <span style=\"color: #800080; text-decoration-color: #800080; font-weight: bold\">[y/n]</span> <span style=\"color: #008080; text-decoration-color: #008080; font-weight: bold\">(n)</span>: </pre>\n"
      ],
      "text/plain": [
       "\u001b[1;33mRecalculate steps\u001b[0m \u001b[1;35m[y/n]\u001b[0m \u001b[1;36m(n)\u001b[0m: "
      ]
     },
     "metadata": {},
     "output_type": "display_data"
    },
    {
     "name": "stdin",
     "output_type": "stream",
     "text": [
      " y\n"
     ]
    },
    {
     "data": {
      "text/html": [
       "<pre style=\"white-space:pre;overflow-x:auto;line-height:normal;font-family:Menlo,'DejaVu Sans Mono',consolas,'Courier New',monospace\"><span style=\"color: #808000; text-decoration-color: #808000; font-weight: bold\">Files per batch</span> <span style=\"color: #008080; text-decoration-color: #008080; font-weight: bold\">(1)</span>: </pre>\n"
      ],
      "text/plain": [
       "\u001b[1;33mFiles per batch\u001b[0m \u001b[1;36m(1)\u001b[0m: "
      ]
     },
     "metadata": {},
     "output_type": "display_data"
    },
    {
     "name": "stdin",
     "output_type": "stream",
     "text": [
      " 1\n"
     ]
    },
    {
     "data": {
      "text/html": [
       "<pre style=\"white-space:pre;overflow-x:auto;line-height:normal;font-family:Menlo,'DejaVu Sans Mono',consolas,'Courier New',monospace\"><span style=\"color: #808000; text-decoration-color: #808000; font-weight: bold\">Save form</span> <span style=\"color: #800080; text-decoration-color: #800080; font-weight: bold\">[y/n]</span> <span style=\"color: #008080; text-decoration-color: #008080; font-weight: bold\">(n)</span>: </pre>\n"
      ],
      "text/plain": [
       "\u001b[1;33mSave form\u001b[0m \u001b[1;35m[y/n]\u001b[0m \u001b[1;36m(n)\u001b[0m: "
      ]
     },
     "metadata": {},
     "output_type": "display_data"
    },
    {
     "name": "stdin",
     "output_type": "stream",
     "text": [
      " \n"
     ]
    },
    {
     "data": {
      "application/vnd.jupyter.widget-view+json": {
       "model_id": "",
       "version_major": 2,
       "version_minor": 0
      },
      "text/plain": [
       "Output()"
      ]
     },
     "metadata": {},
     "output_type": "display_data"
    },
    {
     "data": {
      "text/html": [
       "<pre style=\"white-space:pre;overflow-x:auto;line-height:normal;font-family:Menlo,'DejaVu Sans Mono',consolas,'Courier New',monospace\">/usr/local/lib/python3.10/site-packages/distributed/node.py:182: UserWarning: Port 8787 is already in use.\n",
       "Perhaps you already have a cluster running?\n",
       "Hosting the HTTP server on port 41173 instead\n",
       "  warnings.warn(\n",
       "</pre>\n"
      ],
      "text/plain": [
       "/usr/local/lib/python3.10/site-packages/distributed/node.py:182: UserWarning: Port 8787 is already in use.\n",
       "Perhaps you already have a cluster running?\n",
       "Hosting the HTTP server on port 41173 instead\n",
       "  warnings.warn(\n"
      ]
     },
     "metadata": {},
     "output_type": "display_data"
    },
    {
     "data": {
      "text/html": [
       "<pre style=\"white-space:pre;overflow-x:auto;line-height:normal;font-family:Menlo,'DejaVu Sans Mono',consolas,'Courier New',monospace\"></pre>\n"
      ],
      "text/plain": []
     },
     "metadata": {},
     "output_type": "display_data"
    },
    {
     "ename": "RuntimeError",
     "evalue": "Nanny failed to start.",
     "output_type": "error",
     "traceback": [
      "\u001b[0;31m---------------------------------------------------------------------------\u001b[0m",
      "\u001b[0;31mTypeError\u001b[0m                                 Traceback (most recent call last)",
      "File \u001b[0;32m/usr/local/lib/python3.10/site-packages/distributed/core.py:525\u001b[0m, in \u001b[0;36mServer.start\u001b[0;34m(self)\u001b[0m\n\u001b[1;32m    524\u001b[0m \u001b[38;5;28;01mtry\u001b[39;00m:\n\u001b[0;32m--> 525\u001b[0m     \u001b[38;5;28;01mawait\u001b[39;00m wait_for(\u001b[38;5;28mself\u001b[39m\u001b[38;5;241m.\u001b[39mstart_unsafe(), timeout\u001b[38;5;241m=\u001b[39mtimeout)\n\u001b[1;32m    526\u001b[0m \u001b[38;5;28;01mexcept\u001b[39;00m asyncio\u001b[38;5;241m.\u001b[39mTimeoutError \u001b[38;5;28;01mas\u001b[39;00m exc:\n",
      "File \u001b[0;32m/usr/local/lib/python3.10/site-packages/distributed/utils.py:1957\u001b[0m, in \u001b[0;36mwait_for\u001b[0;34m(fut, timeout)\u001b[0m\n\u001b[1;32m   1956\u001b[0m \u001b[38;5;28;01masync\u001b[39;00m \u001b[38;5;28;01mdef\u001b[39;00m \u001b[38;5;21mwait_for\u001b[39m(fut: Awaitable[T], timeout: \u001b[38;5;28mfloat\u001b[39m) \u001b[38;5;241m-\u001b[39m\u001b[38;5;241m>\u001b[39m T:\n\u001b[0;32m-> 1957\u001b[0m     \u001b[38;5;28;01mreturn\u001b[39;00m \u001b[38;5;28;01mawait\u001b[39;00m asyncio\u001b[38;5;241m.\u001b[39mwait_for(fut, timeout)\n",
      "File \u001b[0;32m/usr/local/lib/python3.10/asyncio/tasks.py:408\u001b[0m, in \u001b[0;36mwait_for\u001b[0;34m(fut, timeout)\u001b[0m\n\u001b[1;32m    407\u001b[0m \u001b[38;5;28;01mif\u001b[39;00m timeout \u001b[38;5;129;01mis\u001b[39;00m \u001b[38;5;28;01mNone\u001b[39;00m:\n\u001b[0;32m--> 408\u001b[0m     \u001b[38;5;28;01mreturn\u001b[39;00m \u001b[38;5;28;01mawait\u001b[39;00m fut\n\u001b[1;32m    410\u001b[0m \u001b[38;5;28;01mif\u001b[39;00m timeout \u001b[38;5;241m<\u001b[39m\u001b[38;5;241m=\u001b[39m \u001b[38;5;241m0\u001b[39m:\n",
      "File \u001b[0;32m/usr/local/lib/python3.10/site-packages/distributed/nanny.py:337\u001b[0m, in \u001b[0;36mNanny.start_unsafe\u001b[0;34m(self)\u001b[0m\n\u001b[1;32m    336\u001b[0m \u001b[38;5;28;01mtry\u001b[39;00m:\n\u001b[0;32m--> 337\u001b[0m     \u001b[38;5;28;01mawait\u001b[39;00m \u001b[38;5;28mself\u001b[39m\u001b[38;5;241m.\u001b[39mlisten(\n\u001b[1;32m    338\u001b[0m         start_address, \u001b[38;5;241m*\u001b[39m\u001b[38;5;241m*\u001b[39m\u001b[38;5;28mself\u001b[39m\u001b[38;5;241m.\u001b[39msecurity\u001b[38;5;241m.\u001b[39mget_listen_args(\u001b[38;5;124m\"\u001b[39m\u001b[38;5;124mworker\u001b[39m\u001b[38;5;124m\"\u001b[39m)\n\u001b[1;32m    339\u001b[0m     )\n\u001b[1;32m    340\u001b[0m \u001b[38;5;28;01mexcept\u001b[39;00m \u001b[38;5;167;01mOSError\u001b[39;00m \u001b[38;5;28;01mas\u001b[39;00m e:\n",
      "File \u001b[0;32m/usr/local/lib/python3.10/site-packages/distributed/core.py:720\u001b[0m, in \u001b[0;36mServer.listen\u001b[0;34m(self, port_or_addr, allow_offload, **kwargs)\u001b[0m\n\u001b[1;32m    719\u001b[0m     \u001b[38;5;28;01massert\u001b[39;00m \u001b[38;5;28misinstance\u001b[39m(addr, \u001b[38;5;28mstr\u001b[39m)\n\u001b[0;32m--> 720\u001b[0m listener \u001b[38;5;241m=\u001b[39m \u001b[38;5;28;01mawait\u001b[39;00m \u001b[43mlisten\u001b[49m\u001b[43m(\u001b[49m\n\u001b[1;32m    721\u001b[0m \u001b[43m    \u001b[49m\u001b[43maddr\u001b[49m\u001b[43m,\u001b[49m\n\u001b[1;32m    722\u001b[0m \u001b[43m    \u001b[49m\u001b[38;5;28;43mself\u001b[39;49m\u001b[38;5;241;43m.\u001b[39;49m\u001b[43mhandle_comm\u001b[49m\u001b[43m,\u001b[49m\n\u001b[1;32m    723\u001b[0m \u001b[43m    \u001b[49m\u001b[43mdeserialize\u001b[49m\u001b[38;5;241;43m=\u001b[39;49m\u001b[38;5;28;43mself\u001b[39;49m\u001b[38;5;241;43m.\u001b[39;49m\u001b[43mdeserialize\u001b[49m\u001b[43m,\u001b[49m\n\u001b[1;32m    724\u001b[0m \u001b[43m    \u001b[49m\u001b[43mallow_offload\u001b[49m\u001b[38;5;241;43m=\u001b[39;49m\u001b[43mallow_offload\u001b[49m\u001b[43m,\u001b[49m\n\u001b[1;32m    725\u001b[0m \u001b[43m    \u001b[49m\u001b[38;5;241;43m*\u001b[39;49m\u001b[38;5;241;43m*\u001b[39;49m\u001b[43mkwargs\u001b[49m\u001b[43m,\u001b[49m\n\u001b[1;32m    726\u001b[0m \u001b[43m\u001b[49m\u001b[43m)\u001b[49m\n\u001b[1;32m    727\u001b[0m \u001b[38;5;28mself\u001b[39m\u001b[38;5;241m.\u001b[39mlisteners\u001b[38;5;241m.\u001b[39mappend(listener)\n",
      "File \u001b[0;32m/usr/local/lib/python3.10/site-packages/distributed/comm/core.py:411\u001b[0m, in \u001b[0;36mlisten\u001b[0;34m(addr, handle_comm, deserialize, **kwargs)\u001b[0m\n\u001b[1;32m    409\u001b[0m backend \u001b[38;5;241m=\u001b[39m registry\u001b[38;5;241m.\u001b[39mget_backend(scheme)\n\u001b[0;32m--> 411\u001b[0m \u001b[38;5;28;01mreturn\u001b[39;00m \u001b[43mbackend\u001b[49m\u001b[38;5;241;43m.\u001b[39;49m\u001b[43mget_listener\u001b[49m\u001b[43m(\u001b[49m\u001b[43mloc\u001b[49m\u001b[43m,\u001b[49m\u001b[43m \u001b[49m\u001b[43mhandle_comm\u001b[49m\u001b[43m,\u001b[49m\u001b[43m \u001b[49m\u001b[43mdeserialize\u001b[49m\u001b[43m,\u001b[49m\u001b[43m \u001b[49m\u001b[38;5;241;43m*\u001b[39;49m\u001b[38;5;241;43m*\u001b[39;49m\u001b[43mkwargs\u001b[49m\u001b[43m)\u001b[49m\n",
      "File \u001b[0;32m/usr/local/lib/python3.10/site-packages/distributed/comm/tcp.py:744\u001b[0m, in \u001b[0;36mBaseTCPBackend.get_listener\u001b[0;34m(self, loc, handle_comm, deserialize, **connection_args)\u001b[0m\n\u001b[1;32m    743\u001b[0m \u001b[38;5;28;01mdef\u001b[39;00m \u001b[38;5;21mget_listener\u001b[39m(\u001b[38;5;28mself\u001b[39m, loc, handle_comm, deserialize, \u001b[38;5;241m*\u001b[39m\u001b[38;5;241m*\u001b[39mconnection_args):\n\u001b[0;32m--> 744\u001b[0m     \u001b[38;5;28;01mreturn\u001b[39;00m \u001b[38;5;28;43mself\u001b[39;49m\u001b[38;5;241;43m.\u001b[39;49m\u001b[43m_listener_class\u001b[49m\u001b[43m(\u001b[49m\u001b[43mloc\u001b[49m\u001b[43m,\u001b[49m\u001b[43m \u001b[49m\u001b[43mhandle_comm\u001b[49m\u001b[43m,\u001b[49m\u001b[43m \u001b[49m\u001b[43mdeserialize\u001b[49m\u001b[43m,\u001b[49m\u001b[43m \u001b[49m\u001b[38;5;241;43m*\u001b[39;49m\u001b[38;5;241;43m*\u001b[39;49m\u001b[43mconnection_args\u001b[49m\u001b[43m)\u001b[49m\n",
      "File \u001b[0;32m/usr/local/lib/python3.10/site-packages/distributed/comm/tcp.py:615\u001b[0m, in \u001b[0;36mBaseTCPListener.__init__\u001b[0;34m(self, address, comm_handler, deserialize, allow_offload, default_host, default_port, **connection_args)\u001b[0m\n\u001b[1;32m    614\u001b[0m \u001b[38;5;28mself\u001b[39m\u001b[38;5;241m.\u001b[39mallow_offload \u001b[38;5;241m=\u001b[39m allow_offload\n\u001b[0;32m--> 615\u001b[0m \u001b[38;5;28mself\u001b[39m\u001b[38;5;241m.\u001b[39mserver_args \u001b[38;5;241m=\u001b[39m \u001b[38;5;28;43mself\u001b[39;49m\u001b[38;5;241;43m.\u001b[39;49m\u001b[43m_get_server_args\u001b[49m\u001b[43m(\u001b[49m\u001b[38;5;241;43m*\u001b[39;49m\u001b[38;5;241;43m*\u001b[39;49m\u001b[43mconnection_args\u001b[49m\u001b[43m)\u001b[49m\n\u001b[1;32m    616\u001b[0m \u001b[38;5;28mself\u001b[39m\u001b[38;5;241m.\u001b[39mtcp_server \u001b[38;5;241m=\u001b[39m \u001b[38;5;28;01mNone\u001b[39;00m\n",
      "File \u001b[0;32m/usr/local/lib/python3.10/site-packages/distributed/comm/tcp.py:719\u001b[0m, in \u001b[0;36mTLSListener._get_server_args\u001b[0;34m(self, **connection_args)\u001b[0m\n\u001b[1;32m    718\u001b[0m \u001b[38;5;28;01mdef\u001b[39;00m \u001b[38;5;21m_get_server_args\u001b[39m(\u001b[38;5;28mself\u001b[39m, \u001b[38;5;241m*\u001b[39m\u001b[38;5;241m*\u001b[39mconnection_args):\n\u001b[0;32m--> 719\u001b[0m     ctx \u001b[38;5;241m=\u001b[39m \u001b[43m_expect_tls_context\u001b[49m\u001b[43m(\u001b[49m\u001b[43mconnection_args\u001b[49m\u001b[43m)\u001b[49m\n\u001b[1;32m    720\u001b[0m     \u001b[38;5;28;01mreturn\u001b[39;00m {\u001b[38;5;124m\"\u001b[39m\u001b[38;5;124mssl_options\u001b[39m\u001b[38;5;124m\"\u001b[39m: ctx}\n",
      "File \u001b[0;32m/usr/local/lib/python3.10/site-packages/distributed/comm/tcp.py:456\u001b[0m, in \u001b[0;36m_expect_tls_context\u001b[0;34m(connection_args)\u001b[0m\n\u001b[1;32m    455\u001b[0m \u001b[38;5;28;01mif\u001b[39;00m \u001b[38;5;129;01mnot\u001b[39;00m \u001b[38;5;28misinstance\u001b[39m(ctx, ssl\u001b[38;5;241m.\u001b[39mSSLContext):\n\u001b[0;32m--> 456\u001b[0m     \u001b[38;5;28;01mraise\u001b[39;00m \u001b[38;5;167;01mTypeError\u001b[39;00m(\n\u001b[1;32m    457\u001b[0m         \u001b[38;5;124m\"\u001b[39m\u001b[38;5;124mTLS expects a `ssl_context` argument of type \u001b[39m\u001b[38;5;124m\"\u001b[39m\n\u001b[1;32m    458\u001b[0m         \u001b[38;5;124m\"\u001b[39m\u001b[38;5;124mssl.SSLContext (perhaps check your TLS configuration?)\u001b[39m\u001b[38;5;124m\"\u001b[39m\n\u001b[1;32m    459\u001b[0m         \u001b[38;5;124mf\u001b[39m\u001b[38;5;124m\"\u001b[39m\u001b[38;5;124m Instead got \u001b[39m\u001b[38;5;132;01m{\u001b[39;00mctx\u001b[38;5;132;01m!r}\u001b[39;00m\u001b[38;5;124m\"\u001b[39m\n\u001b[1;32m    460\u001b[0m     )\n\u001b[1;32m    461\u001b[0m \u001b[38;5;28;01mreturn\u001b[39;00m ctx\n",
      "\u001b[0;31mTypeError\u001b[0m: TLS expects a `ssl_context` argument of type ssl.SSLContext (perhaps check your TLS configuration?) Instead got None",
      "\nThe above exception was the direct cause of the following exception:\n",
      "\u001b[0;31mRuntimeError\u001b[0m                              Traceback (most recent call last)",
      "Cell \u001b[0;32mIn[15], line 1\u001b[0m\n\u001b[0;32m----> 1\u001b[0m fileset_total \u001b[38;5;241m=\u001b[39m \u001b[43mddc\u001b[49m\u001b[38;5;241;43m.\u001b[39;49m\u001b[43mdo_preprocess\u001b[49m\u001b[43m(\u001b[49m\u001b[43moutput_file\u001b[49m\u001b[38;5;241;43m=\u001b[39;49m\u001b[38;5;124;43m\"\u001b[39;49m\u001b[38;5;124;43mfileset\u001b[39;49m\u001b[38;5;124;43m\"\u001b[39;49m\u001b[43m,\u001b[49m\n\u001b[1;32m      2\u001b[0m \u001b[43m                  \u001b[49m\u001b[43mstep_size\u001b[49m\u001b[38;5;241;43m=\u001b[39;49m\u001b[38;5;241;43m10000\u001b[39;49m\u001b[43m,\u001b[49m\u001b[43m  \u001b[49m\u001b[38;5;66;43;03m#chunk size for files splitting\u001b[39;49;00m\n\u001b[1;32m      3\u001b[0m \u001b[43m                  \u001b[49m\u001b[43malign_to_clusters\u001b[49m\u001b[38;5;241;43m=\u001b[39;49m\u001b[38;5;28;43;01mFalse\u001b[39;49;00m\u001b[43m,\u001b[49m\n\u001b[1;32m      4\u001b[0m \u001b[43m                 \u001b[49m\u001b[43mscheduler_url\u001b[49m\u001b[38;5;241;43m=\u001b[39;49m\u001b[38;5;28;43;01mNone\u001b[39;49;00m\u001b[43m)\u001b[49m\n",
      "File \u001b[0;32m/usr/local/lib/python3.10/site-packages/coffea/dataset_tools/dataset_query.py:568\u001b[0m, in \u001b[0;36mDataDiscoveryCLI.do_preprocess\u001b[0;34m(self, output_file, step_size, align_to_clusters, scheduler_url, recalculate_steps, files_per_batch, file_exceptions, save_form, uproot_options, step_size_safety_factor)\u001b[0m\n\u001b[1;32m    564\u001b[0m \u001b[38;5;66;03m# init a local Dask cluster\u001b[39;00m\n\u001b[1;32m    565\u001b[0m \u001b[38;5;28;01mwith\u001b[39;00m \u001b[38;5;28mself\u001b[39m\u001b[38;5;241m.\u001b[39mconsole\u001b[38;5;241m.\u001b[39mstatus(\n\u001b[1;32m    566\u001b[0m     \u001b[38;5;124m\"\u001b[39m\u001b[38;5;124m[red] Preprocessing files to extract available chunks with dask[/]\u001b[39m\u001b[38;5;124m\"\u001b[39m\n\u001b[1;32m    567\u001b[0m ):\n\u001b[0;32m--> 568\u001b[0m     \u001b[38;5;28;01mwith\u001b[39;00m \u001b[43mClient\u001b[49m\u001b[43m(\u001b[49m\u001b[43mscheduler_url\u001b[49m\u001b[43m)\u001b[49m \u001b[38;5;28;01mas\u001b[39;00m ddcsched:\n\u001b[1;32m    569\u001b[0m         \u001b[38;5;28mself\u001b[39m\u001b[38;5;241m.\u001b[39mpreprocessed_available, \u001b[38;5;28mself\u001b[39m\u001b[38;5;241m.\u001b[39mpreprocessed_total \u001b[38;5;241m=\u001b[39m preprocess(\n\u001b[1;32m    570\u001b[0m             \u001b[38;5;28mself\u001b[39m\u001b[38;5;241m.\u001b[39mfinal_output,\n\u001b[1;32m    571\u001b[0m             step_size\u001b[38;5;241m=\u001b[39mstep_size,\n\u001b[0;32m   (...)\u001b[0m\n\u001b[1;32m    580\u001b[0m             step_size_safety_factor\u001b[38;5;241m=\u001b[39mstep_size_safety_factor,\n\u001b[1;32m    581\u001b[0m         )\n\u001b[1;32m    583\u001b[0m \u001b[38;5;28;01mwith\u001b[39;00m gzip\u001b[38;5;241m.\u001b[39mopen(\u001b[38;5;124mf\u001b[39m\u001b[38;5;124m\"\u001b[39m\u001b[38;5;132;01m{\u001b[39;00moutput_file\u001b[38;5;132;01m}\u001b[39;00m\u001b[38;5;124m_available.json.gz\u001b[39m\u001b[38;5;124m\"\u001b[39m, \u001b[38;5;124m\"\u001b[39m\u001b[38;5;124mwt\u001b[39m\u001b[38;5;124m\"\u001b[39m) \u001b[38;5;28;01mas\u001b[39;00m file:\n",
      "File \u001b[0;32m/usr/local/lib/python3.10/site-packages/distributed/client.py:1235\u001b[0m, in \u001b[0;36mClient.__init__\u001b[0;34m(self, address, loop, timeout, set_as_default, scheduler_file, security, asynchronous, name, heartbeat_interval, serializers, deserializers, extensions, direct_to_workers, connection_limit, **kwargs)\u001b[0m\n\u001b[1;32m   1232\u001b[0m preload_argv \u001b[38;5;241m=\u001b[39m dask\u001b[38;5;241m.\u001b[39mconfig\u001b[38;5;241m.\u001b[39mget(\u001b[38;5;124m\"\u001b[39m\u001b[38;5;124mdistributed.client.preload-argv\u001b[39m\u001b[38;5;124m\"\u001b[39m)\n\u001b[1;32m   1233\u001b[0m \u001b[38;5;28mself\u001b[39m\u001b[38;5;241m.\u001b[39mpreloads \u001b[38;5;241m=\u001b[39m preloading\u001b[38;5;241m.\u001b[39mprocess_preloads(\u001b[38;5;28mself\u001b[39m, preload, preload_argv)\n\u001b[0;32m-> 1235\u001b[0m \u001b[38;5;28;43mself\u001b[39;49m\u001b[38;5;241;43m.\u001b[39;49m\u001b[43mstart\u001b[49m\u001b[43m(\u001b[49m\u001b[43mtimeout\u001b[49m\u001b[38;5;241;43m=\u001b[39;49m\u001b[43mtimeout\u001b[49m\u001b[43m)\u001b[49m\n\u001b[1;32m   1236\u001b[0m Client\u001b[38;5;241m.\u001b[39m_instances\u001b[38;5;241m.\u001b[39madd(\u001b[38;5;28mself\u001b[39m)\n\u001b[1;32m   1238\u001b[0m \u001b[38;5;28;01mfrom\u001b[39;00m \u001b[38;5;21;01mdistributed\u001b[39;00m\u001b[38;5;21;01m.\u001b[39;00m\u001b[38;5;21;01mrecreate_tasks\u001b[39;00m \u001b[38;5;28;01mimport\u001b[39;00m ReplayTaskClient\n",
      "File \u001b[0;32m/usr/local/lib/python3.10/site-packages/distributed/client.py:1437\u001b[0m, in \u001b[0;36mClient.start\u001b[0;34m(self, **kwargs)\u001b[0m\n\u001b[1;32m   1435\u001b[0m     \u001b[38;5;28mself\u001b[39m\u001b[38;5;241m.\u001b[39m_started \u001b[38;5;241m=\u001b[39m asyncio\u001b[38;5;241m.\u001b[39mensure_future(\u001b[38;5;28mself\u001b[39m\u001b[38;5;241m.\u001b[39m_start(\u001b[38;5;241m*\u001b[39m\u001b[38;5;241m*\u001b[39mkwargs))\n\u001b[1;32m   1436\u001b[0m \u001b[38;5;28;01melse\u001b[39;00m:\n\u001b[0;32m-> 1437\u001b[0m     \u001b[43msync\u001b[49m\u001b[43m(\u001b[49m\u001b[38;5;28;43mself\u001b[39;49m\u001b[38;5;241;43m.\u001b[39;49m\u001b[43mloop\u001b[49m\u001b[43m,\u001b[49m\u001b[43m \u001b[49m\u001b[38;5;28;43mself\u001b[39;49m\u001b[38;5;241;43m.\u001b[39;49m\u001b[43m_start\u001b[49m\u001b[43m,\u001b[49m\u001b[43m \u001b[49m\u001b[38;5;241;43m*\u001b[39;49m\u001b[38;5;241;43m*\u001b[39;49m\u001b[43mkwargs\u001b[49m\u001b[43m)\u001b[49m\n",
      "File \u001b[0;32m/usr/local/lib/python3.10/site-packages/distributed/utils.py:439\u001b[0m, in \u001b[0;36msync\u001b[0;34m(loop, func, callback_timeout, *args, **kwargs)\u001b[0m\n\u001b[1;32m    436\u001b[0m         wait(\u001b[38;5;241m10\u001b[39m)\n\u001b[1;32m    438\u001b[0m \u001b[38;5;28;01mif\u001b[39;00m error \u001b[38;5;129;01mis\u001b[39;00m \u001b[38;5;129;01mnot\u001b[39;00m \u001b[38;5;28;01mNone\u001b[39;00m:\n\u001b[0;32m--> 439\u001b[0m     \u001b[38;5;28;01mraise\u001b[39;00m error\n\u001b[1;32m    440\u001b[0m \u001b[38;5;28;01melse\u001b[39;00m:\n\u001b[1;32m    441\u001b[0m     \u001b[38;5;28;01mreturn\u001b[39;00m result\n",
      "File \u001b[0;32m/usr/local/lib/python3.10/site-packages/distributed/utils.py:413\u001b[0m, in \u001b[0;36msync.<locals>.f\u001b[0;34m()\u001b[0m\n\u001b[1;32m    411\u001b[0m         awaitable \u001b[38;5;241m=\u001b[39m wait_for(awaitable, timeout)\n\u001b[1;32m    412\u001b[0m     future \u001b[38;5;241m=\u001b[39m asyncio\u001b[38;5;241m.\u001b[39mensure_future(awaitable)\n\u001b[0;32m--> 413\u001b[0m     result \u001b[38;5;241m=\u001b[39m \u001b[38;5;28;01myield\u001b[39;00m future\n\u001b[1;32m    414\u001b[0m \u001b[38;5;28;01mexcept\u001b[39;00m \u001b[38;5;167;01mException\u001b[39;00m \u001b[38;5;28;01mas\u001b[39;00m exception:\n\u001b[1;32m    415\u001b[0m     error \u001b[38;5;241m=\u001b[39m exception\n",
      "File \u001b[0;32m/usr/local/lib/python3.10/site-packages/tornado/gen.py:766\u001b[0m, in \u001b[0;36mRunner.run\u001b[0;34m(self)\u001b[0m\n\u001b[1;32m    764\u001b[0m \u001b[38;5;28;01mtry\u001b[39;00m:\n\u001b[1;32m    765\u001b[0m     \u001b[38;5;28;01mtry\u001b[39;00m:\n\u001b[0;32m--> 766\u001b[0m         value \u001b[38;5;241m=\u001b[39m \u001b[43mfuture\u001b[49m\u001b[38;5;241;43m.\u001b[39;49m\u001b[43mresult\u001b[49m\u001b[43m(\u001b[49m\u001b[43m)\u001b[49m\n\u001b[1;32m    767\u001b[0m     \u001b[38;5;28;01mexcept\u001b[39;00m \u001b[38;5;167;01mException\u001b[39;00m \u001b[38;5;28;01mas\u001b[39;00m e:\n\u001b[1;32m    768\u001b[0m         \u001b[38;5;66;03m# Save the exception for later. It's important that\u001b[39;00m\n\u001b[1;32m    769\u001b[0m         \u001b[38;5;66;03m# gen.throw() not be called inside this try/except block\u001b[39;00m\n\u001b[1;32m    770\u001b[0m         \u001b[38;5;66;03m# because that makes sys.exc_info behave unexpectedly.\u001b[39;00m\n\u001b[1;32m    771\u001b[0m         exc: Optional[\u001b[38;5;167;01mException\u001b[39;00m] \u001b[38;5;241m=\u001b[39m e\n",
      "File \u001b[0;32m/usr/local/lib/python3.10/site-packages/distributed/client.py:1502\u001b[0m, in \u001b[0;36mClient._start\u001b[0;34m(self, timeout, **kwargs)\u001b[0m\n\u001b[1;32m   1499\u001b[0m \u001b[38;5;28;01melif\u001b[39;00m \u001b[38;5;28mself\u001b[39m\u001b[38;5;241m.\u001b[39m_start_arg \u001b[38;5;129;01mis\u001b[39;00m \u001b[38;5;28;01mNone\u001b[39;00m:\n\u001b[1;32m   1500\u001b[0m     \u001b[38;5;28;01mfrom\u001b[39;00m \u001b[38;5;21;01mdistributed\u001b[39;00m\u001b[38;5;21;01m.\u001b[39;00m\u001b[38;5;21;01mdeploy\u001b[39;00m \u001b[38;5;28;01mimport\u001b[39;00m LocalCluster\n\u001b[0;32m-> 1502\u001b[0m     \u001b[38;5;28mself\u001b[39m\u001b[38;5;241m.\u001b[39mcluster \u001b[38;5;241m=\u001b[39m \u001b[38;5;28;01mawait\u001b[39;00m LocalCluster(\n\u001b[1;32m   1503\u001b[0m         loop\u001b[38;5;241m=\u001b[39m\u001b[38;5;28mself\u001b[39m\u001b[38;5;241m.\u001b[39mloop,\n\u001b[1;32m   1504\u001b[0m         asynchronous\u001b[38;5;241m=\u001b[39m\u001b[38;5;28mself\u001b[39m\u001b[38;5;241m.\u001b[39m_asynchronous,\n\u001b[1;32m   1505\u001b[0m         \u001b[38;5;241m*\u001b[39m\u001b[38;5;241m*\u001b[39m\u001b[38;5;28mself\u001b[39m\u001b[38;5;241m.\u001b[39m_startup_kwargs,\n\u001b[1;32m   1506\u001b[0m     )\n\u001b[1;32m   1507\u001b[0m     address \u001b[38;5;241m=\u001b[39m \u001b[38;5;28mself\u001b[39m\u001b[38;5;241m.\u001b[39mcluster\u001b[38;5;241m.\u001b[39mscheduler_address\n\u001b[1;32m   1509\u001b[0m \u001b[38;5;28mself\u001b[39m\u001b[38;5;241m.\u001b[39m_gather_semaphore \u001b[38;5;241m=\u001b[39m asyncio\u001b[38;5;241m.\u001b[39mSemaphore(\u001b[38;5;241m5\u001b[39m)\n",
      "File \u001b[0;32m/usr/local/lib/python3.10/site-packages/distributed/deploy/spec.py:421\u001b[0m, in \u001b[0;36mSpecCluster.__await__.<locals>._\u001b[0;34m()\u001b[0m\n\u001b[1;32m    419\u001b[0m     \u001b[38;5;28;01mawait\u001b[39;00m \u001b[38;5;28mself\u001b[39m\u001b[38;5;241m.\u001b[39m_start()\n\u001b[1;32m    420\u001b[0m \u001b[38;5;28;01mawait\u001b[39;00m \u001b[38;5;28mself\u001b[39m\u001b[38;5;241m.\u001b[39mscheduler\n\u001b[0;32m--> 421\u001b[0m \u001b[38;5;28;01mawait\u001b[39;00m \u001b[38;5;28mself\u001b[39m\u001b[38;5;241m.\u001b[39m_correct_state()\n\u001b[1;32m    422\u001b[0m \u001b[38;5;28;01mif\u001b[39;00m \u001b[38;5;28mself\u001b[39m\u001b[38;5;241m.\u001b[39mworkers:\n\u001b[1;32m    423\u001b[0m     \u001b[38;5;28;01mawait\u001b[39;00m asyncio\u001b[38;5;241m.\u001b[39mwait(\n\u001b[1;32m    424\u001b[0m         [\n\u001b[1;32m    425\u001b[0m             asyncio\u001b[38;5;241m.\u001b[39mcreate_task(_wrap_awaitable(w))\n\u001b[1;32m    426\u001b[0m             \u001b[38;5;28;01mfor\u001b[39;00m w \u001b[38;5;129;01min\u001b[39;00m \u001b[38;5;28mself\u001b[39m\u001b[38;5;241m.\u001b[39mworkers\u001b[38;5;241m.\u001b[39mvalues()\n\u001b[1;32m    427\u001b[0m         ]\n\u001b[1;32m    428\u001b[0m     )  \u001b[38;5;66;03m# maybe there are more\u001b[39;00m\n",
      "File \u001b[0;32m/usr/local/lib/python3.10/site-packages/distributed/deploy/spec.py:391\u001b[0m, in \u001b[0;36mSpecCluster._correct_state_internal\u001b[0;34m(self)\u001b[0m\n\u001b[1;32m    387\u001b[0m     w\u001b[38;5;241m.\u001b[39m_cluster \u001b[38;5;241m=\u001b[39m weakref\u001b[38;5;241m.\u001b[39mref(\u001b[38;5;28mself\u001b[39m)\n\u001b[1;32m    388\u001b[0m \u001b[38;5;66;03m# Collect exceptions from failed workers. This must happen after all\u001b[39;00m\n\u001b[1;32m    389\u001b[0m \u001b[38;5;66;03m# *other* workers have finished initialising, so that we can have a\u001b[39;00m\n\u001b[1;32m    390\u001b[0m \u001b[38;5;66;03m# proper teardown.\u001b[39;00m\n\u001b[0;32m--> 391\u001b[0m \u001b[38;5;28;01mawait\u001b[39;00m asyncio\u001b[38;5;241m.\u001b[39mgather(\u001b[38;5;241m*\u001b[39mworker_futs)\n",
      "File \u001b[0;32m/usr/local/lib/python3.10/asyncio/tasks.py:650\u001b[0m, in \u001b[0;36m_wrap_awaitable\u001b[0;34m(awaitable)\u001b[0m\n\u001b[1;32m    643\u001b[0m \u001b[38;5;129m@types\u001b[39m\u001b[38;5;241m.\u001b[39mcoroutine\n\u001b[1;32m    644\u001b[0m \u001b[38;5;28;01mdef\u001b[39;00m \u001b[38;5;21m_wrap_awaitable\u001b[39m(awaitable):\n\u001b[1;32m    645\u001b[0m \u001b[38;5;250m    \u001b[39m\u001b[38;5;124;03m\"\"\"Helper for asyncio.ensure_future().\u001b[39;00m\n\u001b[1;32m    646\u001b[0m \n\u001b[1;32m    647\u001b[0m \u001b[38;5;124;03m    Wraps awaitable (an object with __await__) into a coroutine\u001b[39;00m\n\u001b[1;32m    648\u001b[0m \u001b[38;5;124;03m    that will later be wrapped in a Task by ensure_future().\u001b[39;00m\n\u001b[1;32m    649\u001b[0m \u001b[38;5;124;03m    \"\"\"\u001b[39;00m\n\u001b[0;32m--> 650\u001b[0m     \u001b[38;5;28;01mreturn\u001b[39;00m (\u001b[38;5;28;01myield from\u001b[39;00m awaitable\u001b[38;5;241m.\u001b[39m\u001b[38;5;21m__await__\u001b[39m())\n",
      "File \u001b[0;32m/usr/local/lib/python3.10/site-packages/distributed/core.py:533\u001b[0m, in \u001b[0;36mServer.start\u001b[0;34m(self)\u001b[0m\n\u001b[1;32m    531\u001b[0m \u001b[38;5;28;01mexcept\u001b[39;00m \u001b[38;5;167;01mException\u001b[39;00m \u001b[38;5;28;01mas\u001b[39;00m exc:\n\u001b[1;32m    532\u001b[0m     \u001b[38;5;28;01mawait\u001b[39;00m _close_on_failure(exc)\n\u001b[0;32m--> 533\u001b[0m     \u001b[38;5;28;01mraise\u001b[39;00m \u001b[38;5;167;01mRuntimeError\u001b[39;00m(\u001b[38;5;124mf\u001b[39m\u001b[38;5;124m\"\u001b[39m\u001b[38;5;132;01m{\u001b[39;00m\u001b[38;5;28mtype\u001b[39m(\u001b[38;5;28mself\u001b[39m)\u001b[38;5;241m.\u001b[39m\u001b[38;5;18m__name__\u001b[39m\u001b[38;5;132;01m}\u001b[39;00m\u001b[38;5;124m failed to start.\u001b[39m\u001b[38;5;124m\"\u001b[39m) \u001b[38;5;28;01mfrom\u001b[39;00m \u001b[38;5;21;01mexc\u001b[39;00m\n\u001b[1;32m    534\u001b[0m \u001b[38;5;28;01mif\u001b[39;00m \u001b[38;5;28mself\u001b[39m\u001b[38;5;241m.\u001b[39mstatus \u001b[38;5;241m==\u001b[39m Status\u001b[38;5;241m.\u001b[39minit:\n\u001b[1;32m    535\u001b[0m     \u001b[38;5;28mself\u001b[39m\u001b[38;5;241m.\u001b[39mstatus \u001b[38;5;241m=\u001b[39m Status\u001b[38;5;241m.\u001b[39mrunning\n",
      "\u001b[0;31mRuntimeError\u001b[0m: Nanny failed to start."
     ]
    }
   ],
   "source": [
    "fileset_total = ddc.do_preprocess(output_file=\"fileset\",\n",
    "                  step_size=10000,  #chunk size for files splitting\n",
    "                  align_to_clusters=False,\n",
    "                 scheduler_url=None)"
   ]
  },
  {
   "cell_type": "code",
   "execution_count": null,
   "id": "d24254ea-66bb-4ba2-8575-bbdeb14a9204",
   "metadata": {},
   "outputs": [],
   "source": []
  }
 ],
 "metadata": {
  "kernelspec": {
   "display_name": "Python 3 (ipykernel)",
   "language": "python",
   "name": "python3"
  },
  "language_info": {
   "codemirror_mode": {
    "name": "ipython",
    "version": 3
   },
   "file_extension": ".py",
   "mimetype": "text/x-python",
   "name": "python",
   "nbconvert_exporter": "python",
   "pygments_lexer": "ipython3",
   "version": "3.12.5"
  }
 },
 "nbformat": 4,
 "nbformat_minor": 5
}
