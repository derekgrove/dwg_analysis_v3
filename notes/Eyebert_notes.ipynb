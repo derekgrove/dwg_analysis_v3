{
 "cells": [
  {
   "cell_type": "markdown",
   "id": "3298a3d7-609a-4580-933e-438413c5b2c9",
   "metadata": {},
   "source": [
    "## Eyebert with relay board\n",
    "\n",
    "start by powering on KC705, multimeter, and plugging in white DC power plug (powers relay board). get the proper mapping document out (TFPX Type 1.3, 2.2, 2.3, or 3.2) so you then change the SMA connectors on the green board (K45002) to match what corresponds to the mapping in the documentation. You read the documentation left to right, for 2.2 D3_P -> D0_N, D3_N -> D0_P, etc. You do not need to change any SMAs on the yellow board.\n",
    "\n",
    "on the computer, on desktop click Bert icon to open Vivado, then open Command Prompt, without changing directories run `go_RevA`, RevA corresponds to the RevA relay board. It'll ask you questions , operator name, cable number, cable type, then the branch, SN (serial number) of the left board (yellow board) and the SN of the right board (green board).\n",
    "\n",
    "When it finishes, go to the excel spread sheet and enter the results from whats printed out in the terminal. The results are the **resistances** (at the top of the print out in a table-like format), the **open eye area**, and the **\"number of 0's inside reference eye\"**. \n",
    "\n",
    "If any resistances end up being infinity that can be an indication of a problem with the cable, just disconnect and reconnect it and run again. If its still infinity then record that and highlight it pink for Fail"
   ]
  }
 ],
 "metadata": {
  "kernelspec": {
   "display_name": "Python 3",
   "language": "python",
   "name": "python3"
  },
  "language_info": {
   "codemirror_mode": {
    "name": "ipython",
    "version": 3
   },
   "file_extension": ".py",
   "mimetype": "text/x-python",
   "name": "python",
   "nbconvert_exporter": "python",
   "pygments_lexer": "ipython3",
   "version": "3.11.9"
  }
 },
 "nbformat": 4,
 "nbformat_minor": 5
}
