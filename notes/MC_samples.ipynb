{
 "cells": [
  {
   "cell_type": "markdown",
   "id": "74527ec4-dc85-4362-a024-9eefaa716e6c",
   "metadata": {},
   "source": [
    "# CMS Data Aggregation Service samples:"
   ]
  },
  {
   "cell_type": "markdown",
   "id": "fc537a02-38e8-4435-bfa6-0b9cd7a0296f",
   "metadata": {},
   "source": [
    "**(diboson)WZ2017**: dataset=/WZ_TuneCP5_13TeV-pythia8/RunIISummer20UL17NanoAODv9-106X_mc2017_realistic_v9-v1/NANOAODSIM\n",
    "\n",
    "**$t\\bar{t}$2017**: dataset=/TTJets_DiLept_TuneCP5_13TeV-madgraphMLM-pythia8/RunIISummer20UL17NanoAODv9-106X_mc2017_realistic_v9-v1/NANOAODSIM\n",
    "\n",
    "\n",
    "**$t\\bar{t}$2023**: dataset=/TTto2L2Nu_TuneCP5_13p6TeV_powheg-pythia8/Run3Summer23NanoAODv12-130X_mcRun3_2023_realistic_v14-v2/NANOAODSIM\n",
    "\n",
    "**TSlepSlep2017**: dataset=/SMS-TSlepSlep_mSlep-100To475_TuneCP5_13TeV-madgraphMLM-pythia8/RunIISummer20UL17NanoAODv9-FSUL17_FSUL17_106X_mc2017_realistic_v9-v1/NANOAODSIM\n",
    "\n",
    "\n",
    "**TChiWZ2017**: dataset=/SMS-TChiWZ_ZToLL_mZMin-0p1_TuneCP5_13TeV-madgraphMLM-pythia8/RunIISummer20UL17NanoAODv9-106X_mc2017_realistic_v9-v1/NANOAODSIM"
   ]
  },
  {
   "cell_type": "raw",
   "id": "86d9b476-5cc7-4262-a13a-69e0d9f47433",
   "metadata": {},
   "source": [
    "To search in a general way the DAS database use wildcards like: \n",
    "\n",
    "dataset=/TTJets_DiLept*/*NanoAODv9*/NANOAODSIM\n",
    "\n",
    "To `xrdcp` a root file (need to first enable your proxy with `voms-proxy-init --valid 192:00 -voms cms` ): \n",
    "\n",
    "`xrdcp root://cms-xrd-global.cern.ch//store/mc/Run3Summer23BPixNanoAODv12/SlepSnuCascade_MN1-270_MN2-280_MC1-275_TuneCP5_13p6TeV_madgraphMLM-pythia8/NANOAODSIM/130X_mcRun3_2023_realistic_postBPix_v6-v2/2820000/105d225a-5e5f-4140-bc42-80eb3ea321a7.root .`\n",
    "\n",
    "or in general: \n",
    " `xrdcp root://cms-xrd-global.cern.ch/___ .`\n"
   ]
  },
  {
   "cell_type": "markdown",
   "id": "3adf17fb-8e77-484e-8197-c7d902578ebe",
   "metadata": {},
   "source": []
  },
  {
   "cell_type": "markdown",
   "id": "d71fa662-5d4d-42e4-9b5d-53f65b96af80",
   "metadata": {},
   "source": []
  }
 ],
 "metadata": {
  "kernelspec": {
   "display_name": "Python 3 (ipykernel)",
   "language": "python",
   "name": "python3"
  },
  "language_info": {
   "codemirror_mode": {
    "name": "ipython",
    "version": 3
   },
   "file_extension": ".py",
   "mimetype": "text/x-python",
   "name": "python",
   "nbconvert_exporter": "python",
   "pygments_lexer": "ipython3",
   "version": "3.12.5"
  }
 },
 "nbformat": 4,
 "nbformat_minor": 5
}
