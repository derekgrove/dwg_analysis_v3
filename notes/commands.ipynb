{
 "cells": [
  {
   "cell_type": "markdown",
   "id": "44f04f0a-e3bb-40fc-a90a-cc75aa53675a",
   "metadata": {},
   "source": [
    "# Useful commands!"
   ]
  },
  {
   "cell_type": "markdown",
   "id": "ac520984-b3f9-4879-9df1-79f6ac1b66b9",
   "metadata": {},
   "source": [
    "downloading a ttbar NanoAODv9 root files located in Caleb's LPC eos area: "
   ]
  },
  {
   "cell_type": "markdown",
   "id": "eb10fdae-83f6-4dc6-b02a-bdc36fdef462",
   "metadata": {},
   "source": [
    "`xrdcp root://cmseos.fnal.gov//store/user/caleb/NanoAODv9/TTJets_DiLept_TuneCP5_13TeV-madgraphMLM-pythia8_UL2017_NanoAODv9/040206C8-D83C-BA42-BE3F-C3CB0920BEED.root .`"
   ]
  },
  {
   "cell_type": "markdown",
   "id": "e1486891-afda-4d5d-b65e-a51d7ee5b042",
   "metadata": {},
   "source": [
    "To see whats in Caleb's eos area, while ssh'd into the lpc:"
   ]
  },
  {
   "cell_type": "markdown",
   "id": "ce75d62b-584c-47f8-b311-1fde6f890b07",
   "metadata": {},
   "source": [
    "`eosls -lh /store/user/caleb/NanoAODv9/TTJets_DiLept_TuneCP5_13TeV-madgraphMLM-pythia8_UL2017_NanoAODv9/`"
   ]
  },
  {
   "cell_type": "markdown",
   "id": "d7741a07-3c61-49e0-b7d8-4894de253962",
   "metadata": {},
   "source": [
    "Grabbing a .root file from CMS DAS with CERN (global) redirector:"
   ]
  },
  {
   "cell_type": "markdown",
   "id": "003f634a-0e54-4860-9754-0d3405586ac8",
   "metadata": {},
   "source": [
    "`xrdcp root://cms-xrd-global.cern.ch//store/mc/RunIISummer20UL17NanoAODv9/SMS-TChiWZ_ZToLL_mZMin-0p1_TuneCP5_13TeV-madgraphMLM-pythia8/NANOAODSIM/106X_mc2017_realistic_v9-v1/80000/0B041116-DADF-CF45-8C16-DF2920CC756D.root .\n",
    "`"
   ]
  },
  {
   "cell_type": "markdown",
   "id": "02ab9a66-4b21-4678-9a76-72ee70424ef6",
   "metadata": {},
   "source": [
    "without the root file attached:"
   ]
  },
  {
   "cell_type": "markdown",
   "id": "9eb2709b-5f37-4112-979d-fa493ee68eaf",
   "metadata": {},
   "source": [
    "`xrdcp root://cms-xrd-global.cern.ch/ .\n",
    "`"
   ]
  },
  {
   "cell_type": "markdown",
   "id": "e0436f6f-37c7-44a2-ab9c-9a4b847c4220",
   "metadata": {},
   "source": []
  },
  {
   "cell_type": "markdown",
   "id": "31ee3fe0-8769-4a90-b163-1e4e9129e38f",
   "metadata": {},
   "source": []
  }
 ],
 "metadata": {
  "kernelspec": {
   "display_name": "Python 3 (ipykernel)",
   "language": "python",
   "name": "python3"
  },
  "language_info": {
   "codemirror_mode": {
    "name": "ipython",
    "version": 3
   },
   "file_extension": ".py",
   "mimetype": "text/x-python",
   "name": "python",
   "nbconvert_exporter": "python",
   "pygments_lexer": "ipython3",
   "version": "3.12.5"
  }
 },
 "nbformat": 4,
 "nbformat_minor": 5
}
