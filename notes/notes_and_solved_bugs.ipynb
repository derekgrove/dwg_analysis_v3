{
 "cells": [
  {
   "cell_type": "markdown",
   "id": "d2fe4c3d-3bfc-4156-8486-ef14da6cdfbb",
   "metadata": {},
   "source": [
    "## a notebook to keep track of bugs I solved within coffea that gave me more insight into what I'm doing (note: the code will not run in this notebook, I'm just copy and pasting it as an example) coffea version 2024.9\n",
    "\n",
    "## And to take notes about coffea in general"
   ]
  },
  {
   "cell_type": "markdown",
   "id": "cf470b35-cab4-483c-aa09-fd8439e66d0d",
   "metadata": {},
   "source": [
    "## Initializing grid certificate on coffea casa (Nebraska compute center?)\n",
    "\n",
    "have to use:\n",
    "\n",
    "`voms-proxy-init -voms cms -vomses /etc/vomses`\n",
    "\n",
    "instead of the typical:\n",
    "\n",
    "`voms-proxy-init -voms cms -rfc --valid 168:0`"
   ]
  },
  {
   "cell_type": "markdown",
   "id": "346d6639-e1f5-447e-994a-95d5b57dd961",
   "metadata": {},
   "source": [
    "## useful linkes:\n",
    "\n",
    "twiki about nano AOD variables: https://twiki.cern.ch/twiki/bin/viewauth/CMS/EgammaNanoAOD"
   ]
  },
  {
   "cell_type": "markdown",
   "id": "7032d246-d81e-4e9c-a000-6b6c7803cdef",
   "metadata": {},
   "source": [
    "### subsection: cuts"
   ]
  },
  {
   "cell_type": "markdown",
   "id": "6a9fa0f1-30e1-4203-826a-03c1de24100d",
   "metadata": {},
   "source": [
    "I noticed when trying to apply preselection cuts two different ways (that are supposed to be equivalent) I was getting different results:"
   ]
  },
  {
   "cell_type": "markdown",
   "id": "04850edb-5816-45a7-9cc0-60df9c610c99",
   "metadata": {},
   "source": [
    "## lpte fields\n",
    "\n",
    "['convVeto', 'convWP', 'lostHits', 'electronIdx', 'photonIdx', 'charge', 'pdgId', 'ID', 'convVtxRadius', 'deltaEtaSC', 'dxy', 'dxyErr', 'dz', 'dzErr', 'eInvMinusPInv', 'energyErr', 'eta', 'hoe', 'mass', 'miniPFRelIso_all', 'miniPFRelIso_chg', 'phi', 'pt', 'ptbiased', 'r9', 'scEtOverPt', 'sieie', 'unbiased', 'genPartFlav', 'genPartIdx', 'electronIdxG', 'genPartIdxG', 'photonIdxG']\n",
    "\n",
    "## ele fields\n",
    "\n",
    "['seediEtaOriX', 'convVeto', 'cutBased', 'cutBased_HEEP', 'isPFcand', 'jetNDauCharged', 'lostHits', 'mvaIso_WP80', 'mvaIso_WP90', 'mvaNoIso_WP80', 'mvaNoIso_WP90', 'seedGain', 'tightCharge', 'jetIdx', 'photonIdx', 'svIdx', 'fsrPhotonIdx', 'charge', 'pdgId', 'seediPhiOriY', 'vidNestedWPBitmap', 'vidNestedWPBitmapHEEP', 'deltaEtaSC', 'dr03EcalRecHitSumEt', 'dr03HcalDepth1TowerSumEt', 'dr03TkSumPt', 'dr03TkSumPtHEEP', 'dxy', 'dxyErr', 'dz', 'dzErr', 'eInvMinusPInv', 'energyErr', 'eta', 'hoe', 'ip3d', 'jetPtRelv2', 'jetRelIso', 'mass', 'miniPFRelIso_all', 'miniPFRelIso_chg', 'mvaHZZIso', 'mvaIso', 'mvaNoIso', 'pfRelIso03_all', 'pfRelIso03_chg', 'phi', 'pt', 'r9', 'scEtOverPt', 'sieie', 'sip3d', 'mvaTTH', 'genPartFlav', 'genPartIdx', 'genPartIdxG', 'jetIdxG', 'photonIdxG']\n",
    "\n",
    "## events fields\n",
    "\n",
    "```['luminosityBlock', 'SoftActivityJetHT2', 'genTtbarId', 'PSWeight', 'LHEPart', 'TrigObj', 'Generator', 'bunchCrossing', 'PuppiMET', 'HLTriggerFirstPath', 'HLTriggerFinalPath', 'Muon', 'HTXS', 'RawMET', 'OtherPV', 'CorrT1METJet', 'DeepMETResolutionTune', 'LHEPdfWeight', 'SoftActivityJetHT', 'L1', 'Rho', 'SV', 'GenJetAK8', 'HLT', 'FatJet', 'event', 'GenDressedLepton', 'SubJet', 'BeamSpot', 'RawPuppiMET', 'LHEReweightingWeight', 'SoftActivityJetNjets5', 'LowPtElectron', 'Photon', 'GenProton', 'LHE', 'Pileup', 'GenIsolatedPhoton', 'TkMET', 'CaloMET', 'Tau', 'L1Reco', 'Electron', 'boostedTau', 'SoftActivityJetNjets10', 'L1simulation', 'genWeight', 'SoftActivityJetHT10', 'SubGenJetAK8', 'SoftActivityJet', 'PV', 'GenPart', 'run', 'GenVisTau', 'SoftActivityJetNjets2', 'ChsMET', 'SoftActivityJetHT5', 'Jet', 'MET', 'GenJet', 'GenVtx', 'DeepMETResponseTune', 'GenMET', 'LHEWeight', 'Flag', 'IsoTrack', 'LHEScaleWeight', 'FsrPhoton']```\n",
    "\n",
    "## jet fields\n",
    "\n",
    "``` ['jetId', 'nConstituents', 'nElectrons', 'nMuons', 'nSVs', 'electronIdx1', 'electronIdx2', 'muonIdx1', 'muonIdx2', 'svIdx1', 'svIdx2', 'hfadjacentEtaStripsSize', 'hfcentralEtaStripSize', 'PNetRegPtRawCorr', 'PNetRegPtRawCorrNeutrino', 'PNetRegPtRawRes', 'area', 'btagDeepFlavB', 'btagDeepFlavCvB', 'btagDeepFlavCvL', 'btagDeepFlavQG', 'btagPNetB', 'btagPNetCvB', 'btagPNetCvL', 'btagPNetQvG', 'btagPNetTauVJet', 'btagRobustParTAK4B', 'btagRobustParTAK4CvB', 'btagRobustParTAK4CvL', 'btagRobustParTAK4QG', 'chEmEF', 'chHEF', 'eta', 'hfsigmaEtaEta', 'hfsigmaPhiPhi', 'mass', 'muEF', 'muonSubtrFactor', 'neEmEF', 'neHEF', 'phi', 'pt', 'rawFactor', 'hadronFlavour', 'genJetIdx', 'partonFlavour', 'electronIdx1G', 'electronIdx2G', 'genJetIdxG', 'muonIdx1G', 'muonIdx2G', 'muonIdxG', 'electronIdxG'] ```"
   ]
  },
  {
   "cell_type": "code",
   "execution_count": 1,
   "id": "69230655-5669-4f9f-b7d1-125180cebe59",
   "metadata": {},
   "outputs": [
    {
     "ename": "NameError",
     "evalue": "name 'events' is not defined",
     "output_type": "error",
     "traceback": [
      "\u001b[0;31m---------------------------------------------------------------------------\u001b[0m",
      "\u001b[0;31mNameError\u001b[0m                                 Traceback (most recent call last)",
      "\u001b[0;32m/tmp/ipykernel_623/1130381756.py\u001b[0m in \u001b[0;36m<module>\u001b[0;34m\u001b[0m\n\u001b[0;32m----> 1\u001b[0;31m \u001b[0melectron_cuts\u001b[0m \u001b[0;34m=\u001b[0m \u001b[0;34m(\u001b[0m\u001b[0mevents\u001b[0m\u001b[0;34m.\u001b[0m\u001b[0mElectron\u001b[0m\u001b[0;34m.\u001b[0m\u001b[0mpt\u001b[0m \u001b[0;34m>=\u001b[0m \u001b[0;36m5\u001b[0m\u001b[0;34m)\u001b[0m \u001b[0;34m&\u001b[0m \u001b[0;34m(\u001b[0m\u001b[0mnp\u001b[0m\u001b[0;34m.\u001b[0m\u001b[0mabs\u001b[0m\u001b[0;34m(\u001b[0m\u001b[0mevents\u001b[0m\u001b[0;34m.\u001b[0m\u001b[0mElectron\u001b[0m\u001b[0;34m.\u001b[0m\u001b[0meta\u001b[0m\u001b[0;34m)\u001b[0m \u001b[0;34m<\u001b[0m \u001b[0;36m2.4\u001b[0m\u001b[0;34m)\u001b[0m\u001b[0;34m\u001b[0m\u001b[0;34m\u001b[0m\u001b[0m\n\u001b[0m\u001b[1;32m      2\u001b[0m \u001b[0;34m\u001b[0m\u001b[0m\n\u001b[1;32m      3\u001b[0m \u001b[0mevent_mask\u001b[0m \u001b[0;34m=\u001b[0m \u001b[0mak\u001b[0m\u001b[0;34m.\u001b[0m\u001b[0many\u001b[0m\u001b[0;34m(\u001b[0m\u001b[0melectron_cuts\u001b[0m\u001b[0;34m,\u001b[0m \u001b[0maxis\u001b[0m\u001b[0;34m=\u001b[0m\u001b[0;36m1\u001b[0m\u001b[0;34m)\u001b[0m\u001b[0;34m\u001b[0m\u001b[0;34m\u001b[0m\u001b[0m\n\u001b[1;32m      4\u001b[0m \u001b[0;34m\u001b[0m\u001b[0m\n\u001b[1;32m      5\u001b[0m \u001b[0mselected_events_1\u001b[0m \u001b[0;34m=\u001b[0m \u001b[0mevents\u001b[0m\u001b[0;34m[\u001b[0m\u001b[0mevent_mask\u001b[0m\u001b[0;34m]\u001b[0m\u001b[0;34m\u001b[0m\u001b[0;34m\u001b[0m\u001b[0m\n",
      "\u001b[0;31mNameError\u001b[0m: name 'events' is not defined"
     ]
    }
   ],
   "source": [
    "electron_cuts = (events.Electron.pt >= 5) & (np.abs(events.Electron.eta) < 2.4)\n",
    "\n",
    "event_mask = ak.any(electron_cuts, axis=1)\n",
    "\n",
    "selected_events_1 = events[event_mask]\n"
   ]
  },
  {
   "cell_type": "markdown",
   "id": "e7dfbe54-033c-443d-a34a-258d35b62848",
   "metadata": {},
   "source": [
    "And:"
   ]
  },
  {
   "cell_type": "code",
   "execution_count": null,
   "id": "5d2f9a5c-bf75-4d01-a490-e8471b6e8abc",
   "metadata": {},
   "outputs": [],
   "source": [
    "from coffea.analysis_tools import PackedSelection\n",
    "\n",
    "selection = PackedSelection()\n",
    "\n",
    "selection.add(\"e pt\", ak.any(events.Electron.pt >= 5, axis=1))\n",
    "selection.add(\"e eta\", ak.any(np.abs(events.Electron.eta) < 2.4, axis=1))\n",
    "\n",
    "selected_events_2 = events[selection.all(\"e pt\", \"e eta\")]\n",
    "\n",
    "print(f\"Event count after cuts: {len(selected_events_2)}\")"
   ]
  },
  {
   "cell_type": "markdown",
   "id": "90d7d6a0-2178-446a-8fb5-275c7a15e120",
   "metadata": {},
   "source": [
    "the two code blocks (for the TSlepSlep root file I was working with) would give slightly different print outs:\n",
    "\n",
    "`Event count after cuts: 680656`\n",
    "\n",
    "and\n",
    "\n",
    "`Event count after cuts: 680659`\n",
    "\n",
    "After many confused hours, the answer is that packed selection was applying each selection one at a time to each electron, so for example you could have an event where one electron satisfies the first pt cut and another electron satisfies the eta cut and thus the expression would evaluate to true and \"pass the cuts\", however this is not what we want. I want passing events to have at least one electron that **itself** passes all the cuts. This being the case, the solution was to rewrite the packed selection code block like so:"
   ]
  },
  {
   "cell_type": "code",
   "execution_count": null,
   "id": "d0b7b196-3f9a-4c53-9f34-53475d81d35a",
   "metadata": {},
   "outputs": [],
   "source": [
    "from coffea.analysis_tools import PackedSelection\n",
    "\n",
    "selection = PackedSelection()\n",
    "\n",
    "selection.add(\"e selection\", ak.any((events.Electron.pt >= 5) & (np.abs(events.Electron.eta) < 2.4), axis=1))\n",
    "selected_events_2 = events[selection.all(\"e selection\")]\n",
    "\n",
    "print(f\"Event count after cuts: {len(selected_events_2)}\")"
   ]
  },
  {
   "cell_type": "markdown",
   "id": "9eca3802-2fc3-4d28-b8f5-01c073ae9463",
   "metadata": {},
   "source": [
    "And finally, this block will yield the correct output: `Event count after cuts: 680656`\n",
    "\n",
    "And here is proof that this is the correct answer by ground truthing it with root interactive mode:\n",
    "\n",
    "![ground truthed cuts](./notebook_pics/root_cuts_gt.png)\n"
   ]
  },
  {
   "cell_type": "markdown",
   "id": "14595fbc-02d3-4fde-9561-3f9f454cc30e",
   "metadata": {},
   "source": [
    "# PLEASE DO OBJECT CUTS (like electron pt) THIS WAY INSTEAD OF PACKED SELECTION:\n",
    "\n",
    "\n"
   ]
  },
  {
   "cell_type": "code",
   "execution_count": null,
   "id": "54bf367b-0295-42e8-9e48-da0d4d2162f2",
   "metadata": {},
   "outputs": [],
   "source": [
    "def sip3D(dxy, dz, dxyErr, dzErr):\n",
    "            sigma_xy = dxy/dxyErr\n",
    "            sigma_z = dz/dzErr\n",
    "            return np.sqrt(sigma_xy**2 + sigma_z**2)\n",
    "            \n",
    "        custodial_cut = (\n",
    "            (np.abs(lpte.eta) < 2.4) & \n",
    "            (sip3D(lpte.dxy, lpte.dz, lpte.dxyErr, lpte.dzErr) < 8) & \n",
    "            (np.abs(lpte.dxy) < 0.05) & \n",
    "            (np.abs(lpte.dz) < 0.1) & \n",
    "            (lpte.miniPFRelIso_all < (20 + 300/lpte.pt))\n",
    "        )\n",
    "        \n",
    "        custodial_lpte = lpte[custodial_cut]"
   ]
  },
  {
   "cell_type": "markdown",
   "id": "d038d47b-75fc-4dfe-8703-a62eb661edbc",
   "metadata": {},
   "source": [
    "And then you work with the custodial_lpte list of LowPtElectrons going forward. This cutting uses boolean masking, its efficient and better for object cuts instead of event cuts (like seen with the packed selection method). Honestly either works but please be careful"
   ]
  },
  {
   "cell_type": "markdown",
   "id": "cc539cb3-e511-4aaa-a1d9-220bb77166be",
   "metadata": {},
   "source": [
    "---"
   ]
  },
  {
   "cell_type": "markdown",
   "id": "73c6010c-5d8c-4139-b5e2-8f275a4f7860",
   "metadata": {},
   "source": [
    "## subsection: notes"
   ]
  },
  {
   "cell_type": "markdown",
   "id": "8f8171c1-3c16-48cf-9c26-591027d526d2",
   "metadata": {},
   "source": [
    "Mass points for SUSY stuff, convo with Nick Magnelli:"
   ]
  },
  {
   "cell_type": "markdown",
   "id": "86bb4457-65e0-45d8-a664-ba6c8407680d",
   "metadata": {},
   "source": [
    "to see all the mass points in our NanoAOD file we can run:"
   ]
  },
  {
   "cell_type": "code",
   "execution_count": null,
   "id": "b825ff51-cf0b-43ca-b70f-fc98e4ddeada",
   "metadata": {},
   "outputs": [],
   "source": [
    "events.GenModel.fields"
   ]
  },
  {
   "cell_type": "markdown",
   "id": "af3078e4-2c3d-44cf-a670-b78940ea0be9",
   "metadata": {},
   "source": [
    "This prints out something like:\n",
    "\n",
    "```\n",
    "['TSlepSlep_400_100',\n",
    " 'TSlepSlep_350_275',\n",
    " 'TSlepSlep_225_175',\n",
    " 'TSlepSlep_300_225',\n",
    " 'TSlepSlep_175_145',\n",
    " 'TSlepSlep_300_260',\n",
    " 'TSlepSlep_300_125',\n",
    " 'TSlepSlep_375_325',\n",
    " 'TSlepSlep_300_200',\n",
    " 'TSlepSlep_125_75',\n",
    " 'TSlepSlep_325_225',\n",
    " 'TSlepSlep_100_50',\n",
    " 'TSlepSlep_225_125',\n",
    " 'TSlepSlep_450_375',\n",
    " 'TSlepSlep_275_235',\n",
    " 'TSlepSlep_400_360',\n",
    " 'TSlepSlep_375_345',\n",
    " 'TSlepSlep_475_75',\n",
    " 'TSlepSlep_300_250',\n",
    " 'TSlepSlep_175_100',\n",
    " 'TSlepSlep_225_100',\n",
    "...\n",
    "```\n",
    "\n",
    "Unfortunately its not sorted, can be sorted with more code though. And Nick says:\n",
    "\n",
    "\"These are boolean branches, so if you do `mass_point_events = events[events.GenModel.TSlepSlep_300_225]` you'll exclusively get those events\""
   ]
  },
  {
   "cell_type": "markdown",
   "id": "44f769a2-def8-4009-bef5-d8c82bf4acca",
   "metadata": {},
   "source": [
    "Nick also says:\n",
    "\n",
    "\"equivalently you can for loop over the fields, and do something like\n",
    "```\n",
    "for model_point in events.GenModel.fields:\n",
    "    mp_events = events[getattr(events.GenModel, model_point)]\n",
    "    mp_histo.fill(mpaxis=model_point, pt=mp_events.Muon.pt)\n",
    "```\n",
    "Etc\" \n",
    "\n",
    "\"Where mpaxis would be a StrCategory type axis\"\n",
    "\n",
    "I asked if the naming convention means `TSlepSlep_350_320` as Sleptons are mass 350 and LSP is mass 320 and Nick says: \"You have to check the dataset name and match the ranges, if they're unambiguously different, no way to tell purely from those branches\""
   ]
  },
  {
   "cell_type": "markdown",
   "id": "885d6361-c913-4b80-963a-ac768d2ebe0a",
   "metadata": {},
   "source": [
    "Electron Reconstruction:\n",
    "\n"
   ]
  },
  {
   "cell_type": "markdown",
   "id": "4dee78db-0d85-439f-91f1-1c460d31640e",
   "metadata": {},
   "source": [
    "## sorting an awkward array by unique values (for like, gen parent)\n",
    "\n",
    "```\n",
    "parents = computed[\"ttbar\"][\"test\"]\n",
    "parents = ak.to_numpy(ak.flatten(parents))\n",
    "parents = np.unique(parents)\n",
    "parents = np.sort(parents)\n",
    "```\n",
    "`computed[\"ttbar\"][\"test\"]` is an awkard array, so any awkward array should work here"
   ]
  },
  {
   "cell_type": "markdown",
   "id": "c491c1f2-633b-491f-ba1d-1478a8077893",
   "metadata": {},
   "source": [
    "# Gen Parent Filtering\n",
    "\n",
    "here is an example of how I did gen parent filtering:"
   ]
  },
  {
   "cell_type": "code",
   "execution_count": null,
   "id": "ceeb2f71-d86b-4206-9e07-a7f65836abca",
   "metadata": {},
   "outputs": [],
   "source": [
    "lpte_orig = events.LowPtElectron\n",
    "        has_lpte = (ak.num(events.LowPtElectron, axis=1) >= 1)\n",
    "        lpte_events = events[has_lpte]\n",
    "        lpte = lpte_events.LowPtElectron\n",
    "\n",
    "        if dataset == \"TChiWZ_17\":\n",
    "            is_W = (abs(lpte.matched_gen.distinctParent.pdgId) == 24)\n",
    "            is_W_clean = ak.fill_none(is_W, False)\n",
    "    \n",
    "            is_Z = (lpte.matched_gen.distinctParent.pdgId == 23)\n",
    "            is_Z_clean = ak.fill_none(is_Z, False)\n",
    "\n",
    "            lpte_child_mask = (is_W_clean | is_Z_clean)\n",
    "            lpte = lpte[lpte_child_mask]\n",
    "            print(\"Parents filtered to W's and Z's for TChiWZ!\")"
   ]
  },
  {
   "cell_type": "markdown",
   "id": "224e6765-2582-401d-ab08-88b404774378",
   "metadata": {},
   "source": [
    "This was written with the `if` statement because I was running this processor over many different data sets and I only wanted to perform the gen parent filtering on the TChiWZ dataset. Some of the other variable declarations could've been been put in the if statement probably but whatever...\n",
    "\n",
    "In order to get this working I had to solve a squash a few bugs, first had to guarentee events had a lowptelectron (because if not something bad would happen that I forget, probably an error?). Then, if the `matched_gen` didn't have a gen parent then it would be `None`, and we have to convert these to `False` so our boolean masking works correctly."
   ]
  },
  {
   "cell_type": "markdown",
   "id": "6308bd6a-0dab-4391-b9c6-235bd5ea6b0d",
   "metadata": {},
   "source": [
    "for NanoAODSchema, output of `events.fields`: (on a ttbar 2017 MC file)"
   ]
  },
  {
   "cell_type": "markdown",
   "id": "a57a58ba-170c-453f-abde-fa78a0af1cb4",
   "metadata": {},
   "source": [
    "```['LowPtElectron', 'SV', 'HTXS', 'SoftActivityJetNjets2', 'GenDressedLepton', 'FsrPhoton', 'SoftActivityJetNjets5', 'GenJetAK8', 'fixedGridRhoFastjetCentralChargedPileUp', 'TkMET', 'L1', 'ChsMET', 'fixedGridRhoFastjetCentral', 'DeepMETResponseTune', 'run', 'GenIsolatedPhoton', 'GenVtx', 'SubJet', 'fixedGridRhoFastjetCentralNeutral', 'OtherPV', 'SoftActivityJet', 'GenPart', 'PSWeight', 'fixedGridRhoFastjetAll', 'LHEReweightingWeight', 'genTtbarId', 'boostedTau', 'SoftActivityJetHT', 'btagWeight', 'CorrT1METJet', 'LHEScaleWeight', 'SoftActivityJetHT2', 'Pileup', 'L1Reco', 'TrigObj', 'SoftActivityJetNjets10', 'Muon', 'DeepMETResolutionTune', 'fixedGridRhoFastjetCentralCalo', 'Flag', 'HLTriggerFirstPath', 'FatJet', 'SoftActivityJetHT10', 'GenMET', 'Jet', 'RawMET', 'Tau', 'RawPuppiMET', 'PuppiMET', 'Photon', 'IsoTrack', 'PV', 'GenVisTau', 'HLTriggerFinalPath', 'CaloMET', 'HLT', 'LHEPdfWeight', 'Electron', 'L1PreFiringWeight', 'event', 'genWeight', 'LHEPart', 'L1simulation', 'Generator', 'luminosityBlock', 'SoftActivityJetHT5', 'LHE', 'SubGenJetAK8', 'LHEWeight', 'MET', 'GenJet']```"
   ]
  },
  {
   "cell_type": "markdown",
   "id": "26058196-436d-4e4e-b499-f35a4d39fddf",
   "metadata": {},
   "source": [
    "# Printing out more than just fields for events.fields:\n",
    "\n",
    "Nick told me I could use `dir(events)` to print out all possible options for the events, it gives: \n",
    "\n",
    "```['CaloMET', 'ChsMET', 'CorrT1METJet', 'DeepMETResolutionTune', 'DeepMETResponseTune', 'Electron', 'FatJet', 'Flag', 'FsrPhoton', 'GenDressedLepton', 'GenIsolatedPhoton', 'GenJet', 'GenJetAK8', 'GenMET', 'GenPart', 'GenVisTau', 'GenVtx', 'Generator', 'HLT', 'HLTriggerFinalPath', 'HLTriggerFirstPath', 'HTXS', 'IsoTrack', 'Jet', 'L1', 'L1PreFiringWeight', 'L1Reco', 'L1simulation', 'LHE', 'LHEPart', 'LHEPdfWeight', 'LHEReweightingWeight', 'LHEScaleWeight', 'LHEWeight', 'LowPtElectron', 'MET', 'Muon', 'OtherPV', 'PSWeight', 'PV', 'Photon', 'Pileup', 'PuppiMET', 'RawMET', 'RawPuppiMET', 'SV', 'SoftActivityJet', 'SoftActivityJetHT', 'SoftActivityJetHT10', 'SoftActivityJetHT2', 'SoftActivityJetHT5', 'SoftActivityJetNjets10', 'SoftActivityJetNjets2', 'SoftActivityJetNjets5', 'SubGenJetAK8', 'SubJet', 'Tau', 'TkMET', 'TrigObj', '__class__', '__delattr__', '__dir__', '__doc__', '__eq__', '__format__', '__ge__', '__get__', '__getattribute__', '__getstate__', '__gt__', '__hash__', '__init__', '__init_subclass__', '__le__', '__lt__', '__ne__', '__new__', '__reduce__', '__reduce_ex__', '__repr__', '__self__', '__self_class__', '__setattr__', '__sizeof__', '__str__', '__subclasshook__', '__thisclass__', '_dask', '_divisions', '_meta', '_name', 'attrs', 'behavior', 'boostedTau', 'btagWeight', 'clear_divisions', 'compute', 'dask', 'defined_divisions', 'divisions', 'eager_compute_divisions', 'event', 'fields', 'fixedGridRhoFastjetAll', 'fixedGridRhoFastjetCentral', 'fixedGridRhoFastjetCentralCalo', 'fixedGridRhoFastjetCentralChargedPileUp', 'fixedGridRhoFastjetCentralNeutral', 'form', 'genTtbarId', 'genWeight', 'head', 'keys', 'keys_array', 'known_divisions', 'layout', 'luminosityBlock', 'map_partitions', 'mask', 'name', 'ndim', 'npartitions', 'partitions', 'persist', 'repartition', 'reset_meta', 'run', 'to_dask_array', 'to_dask_bag', 'to_delayed', 'to_parquet', 'type', 'visualize']```\n",
    "\n",
    "for the same ttbar 2017 MC file"
   ]
  },
  {
   "cell_type": "markdown",
   "id": "dd994221-d911-4301-990a-aa58a2868c91",
   "metadata": {},
   "source": [
    "Hyeon-Seo Yun in the Jan 21st coffea users meeting:\n",
    "\n",
    "\"personally if you decide the to_parquet() route, I strongly recommend doing .to_persist().to_parquet() bc that was the key command that made my task graph to be more parallel\"\n",
    "\n",
    "\"At the cost of some memory usage on the cluster - depends on your resources\" - Lyndsey\n",
    "\n",
    "\"weirdly enough, better parallelization actually led to lower memory per worker usage\" - Hyeon-Seo"
   ]
  },
  {
   "cell_type": "markdown",
   "id": "13150ae0-c4db-49e5-9017-7041b59d3c10",
   "metadata": {},
   "source": [
    "### `step_size`, `max_chunks`, and `max_files`\n",
    "\n",
    "Per a discussion with Iason Jan 27th in the CMS Coffea Users channel on mattermost, `step_size` is the number of events it will slice the root files into, called chunks. A root file with 250,000 events sliced by a `step_size` of 100,000 will result in three chunks, 100,000, 100,000, and 50,000.\n",
    "\n",
    "\n",
    "`max_chunks` is the number chunks per root file it will over, so if we have the earlier chunks divided as so then a `max_chunks` of 2, it will keep only the first 2 chunks of each file in the dictionary. So we effectively trim off 50,000 events of each root file.\n",
    "\n",
    "`max_files` is zoomed out once more, set's the maximum number of files for each dataset, and it always starts at the top of the dictionary (first root files in dictionary)"
   ]
  },
  {
   "cell_type": "markdown",
   "id": "f40d33e6-c3af-4a71-a74c-834e91229433",
   "metadata": {},
   "source": [
    "# Delta R matching between jets and electrons\n",
    "\n",
    "We use the `.metric_table` method, and we use it between jets and electrons (or lepton objects or anything actually). Nick showed me this way: \n",
    "\n",
    "`delta_r = ak.all(ele.metric_table(jets) <= 0.2, axis=2)`\n",
    "\n",
    "And what this does is create a boolean mask depending on the delta r matching.\n",
    "\n",
    "## THE IMPORTANT THING: axis!!\n",
    "\n",
    "per our order of operations, i.e. `ele.metric_table(jets)`, `axis = 2` is returning a boolean mask for the electrons (checking each electron against `ak.all` the jets?) and if you do `axis = 1` you'll flip the ordering and get a boolean mask for the jets against all the electrons. here is the proof:\n",
    "\n",
    "```\n",
    "delta_r = ak.all(ele.metric_table(jets) <= 0.2, axis=2)\n",
    "delta_r_2 = ak.all(ele.metric_table(jets) <= 0.2, axis=1)\n",
    "count_delta_r = ak.num(delta_r)\n",
    "count_delta_r_2 = ak.num(delta_r_2)\n",
    "\n",
    "ele_p_event = ak.num(ele)\n",
    "jet_p_event = ak.num(jets)\n",
    "\n",
    "results:\n",
    "\n",
    "print(results['delta_r'])\n",
    "print(results['delta_r_2'])\n",
    "print(results['count_delta_r'])\n",
    "print(results['count_delta_r_2'])\n",
    "print(results['ele_p_event'])\n",
    "print(results['jet_p_event'])\n",
    "\n",
    "yields:\n",
    "\n",
    "[[False], [], [False, False], ..., [False, False], [False], [False, False]]\n",
    "[[True, False], [], ..., [False, True, ..., False, False], [False, False]]\n",
    "[1, 0, 2, 1, 1, 1, 3, 2, 1, 0, 1, 0, 0, ..., 0, 0, 0, 2, 0, 3, 0, 0, 0, 2, 1, 2]\n",
    "[2, 0, 4, 2, 1, 2, 6, 5, 1, 0, 4, 0, 0, ..., 0, 0, 0, 1, 0, 4, 0, 0, 0, 5, 7, 2]\n",
    "[1, 0, 2, 1, 1, 1, 3, 2, 1, 0, 1, 0, 0, ..., 0, 0, 0, 2, 0, 3, 0, 0, 0, 2, 1, 2]\n",
    "[2, 0, 4, 2, 1, 2, 6, 5, 1, 5, 4, 2, 5, ..., 6, 2, 1, 1, 3, 4, 1, 3, 4, 5, 7, 2]\n",
    "```\n",
    "\n",
    "### Basically, just be very sure you have the axis correct! your mask should have the same number of booleans as the number of objects in the list you are going to apply it to"
   ]
  },
  {
   "cell_type": "markdown",
   "id": "770f4d5c-21c8-4abe-87bf-469e2b4e6e15",
   "metadata": {},
   "source": [
    "# Unpacking vidNestedWPBitmap variable for electrons in NanoAOD"
   ]
  },
  {
   "cell_type": "markdown",
   "id": "0e6a3d36-5658-4b4f-8cce-984172040840",
   "metadata": {},
   "source": [
    "The various categories of cuts applied to electrons (from the POG) to determine whether or not the electron is flagged as \"Loose\" or \"Medium\" or whatever, those can be found at the bottom of [this page](https://twiki.cern.ch/twiki/bin/viewauth/CMS/CutBasedElectronIdentificationRun3) in a table (for Run 3):"
   ]
  },
  {
   "cell_type": "markdown",
   "id": "95c20d6f-440b-4af7-92b4-8f54e56dd3a0",
   "metadata": {},
   "source": [
    "![Description](pics/run3_pog.png)"
   ]
  },
  {
   "cell_type": "markdown",
   "id": "52fb18dd-aae1-44d4-9420-399b58bf05d6",
   "metadata": {},
   "source": [
    "You can check the `cutBased` variable, of course, and if the electron passes all the cuts uniformly at a given level it will be flagged whatever value corresponds to it, i.e. if for all the above cuts in that table the electron passes has stored bits of *at least* 2, then the electron will be flagged \"Loose\" and its `cutBased` value will be set to `2`.\n",
    "\n",
    "The categories are defined as followed: \n",
    "\n",
    "Fail   = 0\n",
    "\n",
    "Veto   = 1\n",
    "\n",
    "Loose  = 2\n",
    "\n",
    "Medium = 3\n",
    "\n",
    "Tight  = 4\n",
    "\n",
    "We're not really interested in the cutBased variable though, we want to be more specific with the cuts we check for. In our case, we want the electron to pass all the cuts with *at least* \"Veto\". So, we need to use the electron variable `vidNestedWPBitmap` and check each cut's value individually. `vidNestedWPBitmap` is a \n",
    "\n",
    "The value of which category the electron passes is stored in a specific bit position"
   ]
  },
  {
   "cell_type": "markdown",
   "id": "6a490e32-c4c9-4354-991b-efd3b94ff673",
   "metadata": {},
   "source": [
    "Nice Mangonelli gave me this code (which I edited only slightly): \n",
    "\n",
    "```\n",
    "def vidUnpackedWP(obj):\n",
    "    \"\"\"\n",
    "    Return a dictionary of the cuts in the electron cutBasedID,\n",
    "    e.g. results[\"GsfEleEInverseMinusPInverseCut\"] will be 0 (fail), 1, 2, 3, or 4 (tight)\n",
    "    \"\"\"\n",
    "    results = {}\n",
    "    for name, shift in zip(\n",
    "        [\n",
    "            \"MinPtCut\",\n",
    "            \"GsfEleSCEtaMultiRangeCut\",\n",
    "            \"GsfEleDEtaInSeedCut\",\n",
    "            \"GsfEleDPhiInCut\",\n",
    "            \"GsfEleFull5x5SigmaIEtaIEtaCut\",\n",
    "            \"GsfEleHadronicOverEMEnergyScaledCut\",\n",
    "            \"GsfEleEInverseMinusPInverseCut\",\n",
    "            \"GsfEleRelPFIsoScaledCut\",\n",
    "            \"GsfEleConversionVetoCut\",\n",
    "            \"GsfEleMissingHitsCut\",\n",
    "        ],\n",
    "        range(0, 28, 3),\n",
    "    ):\n",
    "        results[name] = (obj.vidNestedWPBitmap >> shift) & 0b111\n",
    "    return results\n",
    "\n",
    "\n",
    "def vidUnpackedWPSelection(electrons, level):\n",
    "    \"\"\"Return a dictionary of boolean masks for the electron cutBasedID,\n",
    "    e.g. results[\"GsfEleEInverseMinusPInverseCut\"] will be True if the result value is >= level\n",
    "    \"\"\"\n",
    "    results = {}\n",
    "    for name, cut_level in vidUnpackedWP(electrons).items():\n",
    "        results[name] = cut_level >= level\n",
    "    return results\n",
    "```"
   ]
  },
  {
   "cell_type": "markdown",
   "id": "92ef9856-5a36-4cb3-83eb-292299530249",
   "metadata": {},
   "source": [
    "if you run `test = vidUnpackedWPSelection(ele, 2)` it will return you a dictionary:\n",
    "\n",
    "```\n",
    "{'MinPtCut': <Array [[True], [], [...], ..., [], [True], []] type='303452 * var * bool[p...'>,\n",
    " 'GsfEleSCEtaMultiRangeCut': <Array [[True], [], [...], ..., [], [True], []] type='303452 * var * bool[p...'>,\n",
    " 'GsfEleDEtaInSeedCut': <Array [[True], [], [...], ..., [], [True], []] type='303452 * var * bool[p...'>,\n",
    " 'GsfEleDPhiInCut': <Array [[True], [], [...], ..., [], [True], []] type='303452 * var * bool[p...'>,\n",
    " 'GsfEleFull5x5SigmaIEtaIEtaCut': <Array [[True], [], [...], ..., [], [True], []] type='303452 * var * bool[p...'>,\n",
    " 'GsfEleHadronicOverEMEnergyScaledCut': <Array [[True], [], [...], ..., [], [True], []] type='303452 * var * bool[p...'>,\n",
    " 'GsfEleEInverseMinusPInverseCut': <Array [[True], [], [...], ..., [], [True], []] type='303452 * var * bool[p...'>,\n",
    " 'GsfEleRelPFIsoScaledCut': <Array [[True], [], [...], ..., [], [True], []] type='303452 * var * bool[p...'>,\n",
    " 'GsfEleConversionVetoCut': <Array [[True], [], [...], ..., [], [True], []] type='303452 * var * bool[p...'>,\n",
    " 'GsfEleMissingHitsCut': <Array [[True], [], [...], ..., [], [True], []] type='303452 * var * bool[p...'>}\n",
    "```"
   ]
  },
  {
   "cell_type": "markdown",
   "id": "9b6745fb-498d-4d68-b57d-233e1a3dc291",
   "metadata": {},
   "source": [
    "if print the keys: `test.keys()`\n",
    "\n",
    "```\n",
    "dict_keys(['MinPtCut', 'GsfEleSCEtaMultiRangeCut', 'GsfEleDEtaInSeedCut', 'GsfEleDPhiInCut', 'GsfEleFull5x5SigmaIEtaIEtaCut', 'GsfEleHadronicOverEMEnergyScaledCut', 'GsfEleEInverseMinusPInverseCut', 'GsfEleRelPFIsoScaledCut', 'GsfEleConversionVetoCut', 'GsfEleMissingHitsCut'])\n",
    "```"
   ]
  },
  {
   "cell_type": "markdown",
   "id": "08f48c76-06d0-4cf5-87a3-9ac0b16b81f9",
   "metadata": {},
   "source": [
    "and if we print just one key to see its entries: ``"
   ]
  },
  {
   "cell_type": "markdown",
   "id": "d01cf671-b71f-463e-8f42-78e0ff6008f4",
   "metadata": {},
   "source": [
    "`print(test['GsfEleRelPFIsoScaledCut'])`\n",
    "```\n",
    "[[True],\n",
    " [],\n",
    " [True, True],\n",
    " [True],\n",
    " [True],\n",
    " [True],\n",
    " [False, False, True],\n",
    " [True, True],\n",
    " [True],\n",
    " [],\n",
    " ...,\n",
    " [],\n",
    " [True],\n",
    " [True],\n",
    " [],\n",
    " [True],\n",
    " [],\n",
    " [],\n",
    " [True],\n",
    " []]\n",
    "```\n",
    "\n",
    "What we see is this key is a dictionary, for all electrons, and stores the boolean of if it passed at *at least* our given value, which was 2, or \"Loose\""
   ]
  },
  {
   "cell_type": "markdown",
   "id": "d4b4bc52-ae10-47e9-9306-b404bea34217",
   "metadata": {},
   "source": [
    "# Doing more with Hist:\n",
    "\n",
    "Technically don't need to count objects, could skip that process all together and just read the total amount of entries in my histogram (from the over/under flow). \n",
    "\n",
    "When you have your hist object, `hist_obj` (in this case I'm considering a filled `Hist` histogram object), you can do so many things.\n",
    "\n",
    "If 1d, to \"slice\", or select certain bins, just do hist_obj[0:50], this will give you the histogram of the first 50 bins, bin 0 through bin 50.\n",
    "\n",
    "You can access the values inside (because a histogram is really just an array or a list if you think about it) like:\n",
    "\n",
    "`hist_obj.values()` accesses that list inside:\n",
    "\n",
    "`hist_obj.values().sum()` will sum everything and give you the total count *in the plot*, specifically. To get the total counts of your objects (overflow and underflow included), you need to do `hist_obj.values(flow=True).sum()`. \n",
    "\n",
    "if you make an object of the values, like:\n",
    "\n",
    "`values = hist_obj.values()`\n",
    "\n",
    "then you have options to access specific values. For a 2D histogram of HoE vs pT:\n",
    "\n",
    "```\n",
    "X Overflow (p_T)\t[-1, :]\n",
    "Y Overflow (H/E)\t[:, -1]\n",
    "Corner Overflow (both)\t[-1, -1]\n",
    "X Underflow (p_T)\t[0, :]\n",
    "Y Underflow (H/E)\t[:, 0]\n",
    "Corner Underflow (both)\t[0, 0]\n",
    "```\n",
    "\n",
    "like: `values[:, -1]`\n",
    "\n",
    "I imagine its similar for a 1D histogram, simpler though"
   ]
  },
  {
   "cell_type": "markdown",
   "id": "c6f03158-5d95-4890-9151-ea84ec0275bc",
   "metadata": {},
   "source": []
  },
  {
   "cell_type": "code",
   "execution_count": null,
   "id": "1dd8824b-4669-4d44-80df-86331eb33665",
   "metadata": {},
   "outputs": [],
   "source": []
  }
 ],
 "metadata": {
  "kernelspec": {
   "display_name": "Python 3 (ipykernel)",
   "language": "python",
   "name": "python3"
  },
  "language_info": {
   "codemirror_mode": {
    "name": "ipython",
    "version": 3
   },
   "file_extension": ".py",
   "mimetype": "text/x-python",
   "name": "python",
   "nbconvert_exporter": "python",
   "pygments_lexer": "ipython3",
   "version": "3.12.5"
  }
 },
 "nbformat": 4,
 "nbformat_minor": 5
}
