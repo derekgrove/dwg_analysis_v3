{
 "cells": [
  {
   "cell_type": "markdown",
   "id": "8ea4399d-4f6c-4d56-9083-2419954ecce1",
   "metadata": {},
   "source": [
    "# Useful root commands, compiled in one place:"
   ]
  },
  {
   "cell_type": "markdown",
   "id": "069036d8-3bda-4f58-b78c-8ea6f7381fa0",
   "metadata": {},
   "source": [
    "To display the number of events in the Events tree in a root file:\n",
    "\n",
    "`Events->GetEntries()`\n",
    "\n",
    "You can also put cuts in here to apply cuts to the events:\n",
    "\n",
    "`Events->GetEntries(\"5<=Electron_pt && abs(Electron_eta) < 2.4\")`\n",
    "\n"
   ]
  },
  {
   "cell_type": "markdown",
   "id": "6c4d4523-02b9-4a69-aa58-6a7afb0f00a3",
   "metadata": {},
   "source": [
    "To see how big a tree is:\n",
    "\n",
    "KUAnalsis->GetEntries()\n",
    "\n",
    "where KUAnalysis is the TTree"
   ]
  },
  {
   "cell_type": "markdown",
   "id": "1f047b2e-645e-46a5-ae06-78cc988c235c",
   "metadata": {},
   "source": []
  },
  {
   "cell_type": "markdown",
   "id": "0b103392-8bd8-4b68-9c92-f5df3f3c0aff",
   "metadata": {},
   "source": []
  },
  {
   "cell_type": "markdown",
   "id": "7288c212-ff63-4c51-b143-c147e0f84bb0",
   "metadata": {},
   "source": []
  },
  {
   "cell_type": "markdown",
   "id": "3487e6f1-cc18-4495-848a-2ab983e94de4",
   "metadata": {},
   "source": []
  },
  {
   "cell_type": "markdown",
   "id": "86168abe-ff2a-4f8e-9b44-cde82c824968",
   "metadata": {},
   "source": []
  },
  {
   "cell_type": "markdown",
   "id": "5220f9fe-8696-409d-a154-4e54a2b1763c",
   "metadata": {},
   "source": []
  },
  {
   "cell_type": "markdown",
   "id": "b8c645be-c433-4acd-9cbf-291f1d6dcc47",
   "metadata": {},
   "source": []
  }
 ],
 "metadata": {
  "kernelspec": {
   "display_name": "Python 3 (ipykernel)",
   "language": "python",
   "name": "python3"
  },
  "language_info": {
   "codemirror_mode": {
    "name": "ipython",
    "version": 3
   },
   "file_extension": ".py",
   "mimetype": "text/x-python",
   "name": "python",
   "nbconvert_exporter": "python",
   "pygments_lexer": "ipython3",
   "version": "3.12.5"
  }
 },
 "nbformat": 4,
 "nbformat_minor": 5
}
