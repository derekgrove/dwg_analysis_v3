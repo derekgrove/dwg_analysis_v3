{
 "cells": [
  {
   "cell_type": "code",
   "execution_count": 1,
   "id": "5603470e-c3cf-42ac-8ea2-e4356d03dd13",
   "metadata": {
    "tags": []
   },
   "outputs": [
    {
     "name": "stderr",
     "output_type": "stream",
     "text": [
      "/usr/local/lib/python3.12/site-packages/coffea/nanoevents/schemas/fcc.py:5: FutureWarning: In version 2025.1.0 (target date: 2024-12-31 11:59:59-06:00), this will be an error.\n",
      "To raise these warnings as errors (and get stack traces to find out where they're called), run\n",
      "    import warnings\n",
      "    warnings.filterwarnings(\"error\", module=\"coffea.*\")\n",
      "after the first `import coffea` or use `@pytest.mark.filterwarnings(\"error:::coffea.*\")` in pytest.\n",
      "Issue: coffea.nanoevents.methods.vector will be removed and replaced with scikit-hep vector. Nanoevents schemas internal to coffea will be migrated. Otherwise please consider using that package!.\n",
      "  from coffea.nanoevents.methods import vector\n"
     ]
    },
    {
     "data": {
      "application/vnd.jupyter.widget-view+json": {
       "model_id": "0ae0fe6cbc8a4b1faef8ec3293fa5835",
       "version_major": 2,
       "version_minor": 0
      },
      "text/plain": [
       "Output()"
      ]
     },
     "metadata": {},
     "output_type": "display_data"
    },
    {
     "data": {
      "text/html": [
       "<pre style=\"white-space:pre;overflow-x:auto;line-height:normal;font-family:Menlo,'DejaVu Sans Mono',consolas,'Courier New',monospace\"><span style=\"font-style: italic\">                                            Query: </span><span style=\"color: #800000; text-decoration-color: #800000; font-weight: bold; font-style: italic\">/SlepSnu*NanoAOD*v3*</span><span style=\"font-style: italic\">                                            </span>\n",
       "┏━━━━━━━━━━━━━━━━━━━━━━━━━━━━━━━━━━━━━━━━━━━━━━━━━━━┳━━━━━━━━━━━━━━━━━━━━━━━━━━━━━━━━━━━━━━━━━━━━━━━━━━━━━━━━━━━━┳┓\n",
       "┃<span style=\"font-weight: bold\"> Name                                              </span>┃<span style=\"font-weight: bold\"> Tag                                                        </span>┃<span style=\"font-weight: bold\"></span>┃\n",
       "┡━━━━━━━━━━━━━━━━━━━━━━━━━━━━━━━━━━━━━━━━━━━━━━━━━━━╇━━━━━━━━━━━━━━━━━━━━━━━━━━━━━━━━━━━━━━━━━━━━━━━━━━━━━━━━━━━━╇┩\n",
       "│<span style=\"color: #7fbfbf; text-decoration-color: #7fbfbf\"> SlepSnuCascade_MN1-220_MN2-260_MC1-240_TuneCP5_1… </span>│<span style=\"color: #bf7fbf; text-decoration-color: #bf7fbf\"> </span><span style=\"color: #bf7fbf; text-decoration-color: #bf7fbf; font-weight: bold\">(1)</span><span style=\"color: #bf7fbf; text-decoration-color: #bf7fbf\"> Run3Summer23BPixNanoAODv12-130X_mcRun3_2023_realistic… </span>│<span style=\"color: #7f7f7f; text-decoration-color: #7f7f7f\"></span>│\n",
       "├───────────────────────────────────────────────────┼────────────────────────────────────────────────────────────┼┤\n",
       "│<span style=\"color: #008080; text-decoration-color: #008080\"> SlepSnuCascade_MN1-260_MN2-280_MC1-270_TuneCP5_1… </span>│<span style=\"color: #800080; text-decoration-color: #800080\"> </span><span style=\"color: #800080; text-decoration-color: #800080; font-weight: bold\">(2)</span><span style=\"color: #800080; text-decoration-color: #800080\"> Run3Summer23BPixNanoAODv12-130X_mcRun3_2023_realistic… </span>││\n",
       "├───────────────────────────────────────────────────┼────────────────────────────────────────────────────────────┼┤\n",
       "│<span style=\"color: #7fbfbf; text-decoration-color: #7fbfbf\"> SlepSnuCascade_MN1-270_MN2-280_MC1-275_TuneCP5_1… </span>│<span style=\"color: #bf7fbf; text-decoration-color: #bf7fbf\"> </span><span style=\"color: #bf7fbf; text-decoration-color: #bf7fbf; font-weight: bold\">(3)</span><span style=\"color: #bf7fbf; text-decoration-color: #bf7fbf\"> Run3Summer23BPixNanoAODv12-130X_mcRun3_2023_realistic… </span>│<span style=\"color: #7f7f7f; text-decoration-color: #7f7f7f\"></span>│\n",
       "└───────────────────────────────────────────────────┴────────────────────────────────────────────────────────────┴┘\n",
       "</pre>\n"
      ],
      "text/plain": [
       "\u001b[3m                                            Query: \u001b[0m\u001b[1;3;31m/SlepSnu*NanoAOD*v3*\u001b[0m\u001b[3m                                            \u001b[0m\n",
       "┏━━━━━━━━━━━━━━━━━━━━━━━━━━━━━━━━━━━━━━━━━━━━━━━━━━━┳━━━━━━━━━━━━━━━━━━━━━━━━━━━━━━━━━━━━━━━━━━━━━━━━━━━━━━━━━━━━┳┓\n",
       "┃\u001b[1m \u001b[0m\u001b[1mName                                             \u001b[0m\u001b[1m \u001b[0m┃\u001b[1m \u001b[0m\u001b[1mTag                                                       \u001b[0m\u001b[1m \u001b[0m┃┃\n",
       "┡━━━━━━━━━━━━━━━━━━━━━━━━━━━━━━━━━━━━━━━━━━━━━━━━━━━╇━━━━━━━━━━━━━━━━━━━━━━━━━━━━━━━━━━━━━━━━━━━━━━━━━━━━━━━━━━━━╇┩\n",
       "│\u001b[2;36m \u001b[0m\u001b[2;36mSlepSnuCascade_MN1-220_MN2-260_MC1-240_TuneCP5_1…\u001b[0m\u001b[2;36m \u001b[0m│\u001b[2;35m \u001b[0m\u001b[1;2;35m(1)\u001b[0m\u001b[2;35m Run3Summer23BPixNanoAODv12-130X_mcRun3_2023_realistic…\u001b[0m\u001b[2;35m \u001b[0m││\n",
       "├───────────────────────────────────────────────────┼────────────────────────────────────────────────────────────┼┤\n",
       "│\u001b[36m \u001b[0m\u001b[36mSlepSnuCascade_MN1-260_MN2-280_MC1-270_TuneCP5_1…\u001b[0m\u001b[36m \u001b[0m│\u001b[35m \u001b[0m\u001b[1;35m(2)\u001b[0m\u001b[35m Run3Summer23BPixNanoAODv12-130X_mcRun3_2023_realistic…\u001b[0m\u001b[35m \u001b[0m││\n",
       "├───────────────────────────────────────────────────┼────────────────────────────────────────────────────────────┼┤\n",
       "│\u001b[2;36m \u001b[0m\u001b[2;36mSlepSnuCascade_MN1-270_MN2-280_MC1-275_TuneCP5_1…\u001b[0m\u001b[2;36m \u001b[0m│\u001b[2;35m \u001b[0m\u001b[1;2;35m(3)\u001b[0m\u001b[2;35m Run3Summer23BPixNanoAODv12-130X_mcRun3_2023_realistic…\u001b[0m\u001b[2;35m \u001b[0m││\n",
       "└───────────────────────────────────────────────────┴────────────────────────────────────────────────────────────┴┘\n"
      ]
     },
     "metadata": {},
     "output_type": "display_data"
    },
    {
     "data": {
      "text/html": [
       "<pre style=\"white-space:pre;overflow-x:auto;line-height:normal;font-family:Menlo,'DejaVu Sans Mono',consolas,'Courier New',monospace\"></pre>\n"
      ],
      "text/plain": []
     },
     "metadata": {},
     "output_type": "display_data"
    },
    {
     "data": {
      "text/html": [
       "<pre style=\"white-space:pre;overflow-x:auto;line-height:normal;font-family:Menlo,'DejaVu Sans Mono',consolas,'Courier New',monospace\">Use the command <span style=\"color: #800000; text-decoration-color: #800000; font-weight: bold\">select</span> to selected the datasets\n",
       "</pre>\n"
      ],
      "text/plain": [
       "Use the command \u001b[1;31mselect\u001b[0m to selected the datasets\n"
      ]
     },
     "metadata": {},
     "output_type": "display_data"
    },
    {
     "data": {
      "text/html": [
       "<pre style=\"white-space:pre;overflow-x:auto;line-height:normal;font-family:Menlo,'DejaVu Sans Mono',consolas,'Courier New',monospace\"><span style=\"color: #008080; text-decoration-color: #008080\">Selected datasets:</span>\n",
       "</pre>\n"
      ],
      "text/plain": [
       "\u001b[36mSelected datasets:\u001b[0m\n"
      ]
     },
     "metadata": {},
     "output_type": "display_data"
    },
    {
     "data": {
      "text/html": [
       "<pre style=\"white-space:pre;overflow-x:auto;line-height:normal;font-family:Menlo,'DejaVu Sans Mono',consolas,'Courier New',monospace\">- <span style=\"font-weight: bold\">(</span><span style=\"color: #008080; text-decoration-color: #008080; font-weight: bold\">1</span><span style=\"font-weight: bold\">)</span> \n",
       "<span style=\"color: #800080; text-decoration-color: #800080\">/SlepSnuCascade_MN1-220_MN2-260_MC1-240_TuneCP5_13p6TeV_madgraphMLM-pythia8/Run3Summer23BPixNanoAODv12-130X_mcRun3_</span>\n",
       "<span style=\"color: #800080; text-decoration-color: #800080\">2023_realistic_postBPix_v6-v3/</span><span style=\"color: #ff00ff; text-decoration-color: #ff00ff\">NANOAODSIM</span>\n",
       "</pre>\n"
      ],
      "text/plain": [
       "- \u001b[1m(\u001b[0m\u001b[1;36m1\u001b[0m\u001b[1m)\u001b[0m \n",
       "\u001b[35m/SlepSnuCascade_MN1-220_MN2-260_MC1-240_TuneCP5_13p6TeV_madgraphMLM-pythia8/Run3Summer23BPixNanoAODv12-130X_mcRun3_\u001b[0m\n",
       "\u001b[35m2023_realistic_postBPix_v6-v3/\u001b[0m\u001b[95mNANOAODSIM\u001b[0m\n"
      ]
     },
     "metadata": {},
     "output_type": "display_data"
    },
    {
     "data": {
      "text/html": [
       "<pre style=\"white-space:pre;overflow-x:auto;line-height:normal;font-family:Menlo,'DejaVu Sans Mono',consolas,'Courier New',monospace\">- <span style=\"font-weight: bold\">(</span><span style=\"color: #008080; text-decoration-color: #008080; font-weight: bold\">2</span><span style=\"font-weight: bold\">)</span> \n",
       "<span style=\"color: #800080; text-decoration-color: #800080\">/SlepSnuCascade_MN1-260_MN2-280_MC1-270_TuneCP5_13p6TeV_madgraphMLM-pythia8/Run3Summer23BPixNanoAODv12-130X_mcRun3_</span>\n",
       "<span style=\"color: #800080; text-decoration-color: #800080\">2023_realistic_postBPix_v6-v3/</span><span style=\"color: #ff00ff; text-decoration-color: #ff00ff\">NANOAODSIM</span>\n",
       "</pre>\n"
      ],
      "text/plain": [
       "- \u001b[1m(\u001b[0m\u001b[1;36m2\u001b[0m\u001b[1m)\u001b[0m \n",
       "\u001b[35m/SlepSnuCascade_MN1-260_MN2-280_MC1-270_TuneCP5_13p6TeV_madgraphMLM-pythia8/Run3Summer23BPixNanoAODv12-130X_mcRun3_\u001b[0m\n",
       "\u001b[35m2023_realistic_postBPix_v6-v3/\u001b[0m\u001b[95mNANOAODSIM\u001b[0m\n"
      ]
     },
     "metadata": {},
     "output_type": "display_data"
    },
    {
     "data": {
      "text/html": [
       "<pre style=\"white-space:pre;overflow-x:auto;line-height:normal;font-family:Menlo,'DejaVu Sans Mono',consolas,'Courier New',monospace\">- <span style=\"font-weight: bold\">(</span><span style=\"color: #008080; text-decoration-color: #008080; font-weight: bold\">3</span><span style=\"font-weight: bold\">)</span> \n",
       "<span style=\"color: #800080; text-decoration-color: #800080\">/SlepSnuCascade_MN1-270_MN2-280_MC1-275_TuneCP5_13p6TeV_madgraphMLM-pythia8/Run3Summer23BPixNanoAODv12-130X_mcRun3_</span>\n",
       "<span style=\"color: #800080; text-decoration-color: #800080\">2023_realistic_postBPix_v6-v3/</span><span style=\"color: #ff00ff; text-decoration-color: #ff00ff\">NANOAODSIM</span>\n",
       "</pre>\n"
      ],
      "text/plain": [
       "- \u001b[1m(\u001b[0m\u001b[1;36m3\u001b[0m\u001b[1m)\u001b[0m \n",
       "\u001b[35m/SlepSnuCascade_MN1-270_MN2-280_MC1-275_TuneCP5_13p6TeV_madgraphMLM-pythia8/Run3Summer23BPixNanoAODv12-130X_mcRun3_\u001b[0m\n",
       "\u001b[35m2023_realistic_postBPix_v6-v3/\u001b[0m\u001b[95mNANOAODSIM\u001b[0m\n"
      ]
     },
     "metadata": {},
     "output_type": "display_data"
    },
    {
     "data": {
      "text/html": [
       "<pre style=\"white-space:pre;overflow-x:auto;line-height:normal;font-family:Menlo,'DejaVu Sans Mono',consolas,'Courier New',monospace\">New sites regex: <span style=\"color: #008080; text-decoration-color: #008080\">T</span><span style=\"color: #008080; text-decoration-color: #008080; font-weight: bold\">[</span><span style=\"color: #008080; text-decoration-color: #008080; font-weight: bold\">12</span><span style=\"color: #008080; text-decoration-color: #008080; font-weight: bold\">]_(</span><span style=\"color: #008080; text-decoration-color: #008080\">US</span><span style=\"color: #008080; text-decoration-color: #008080; font-weight: bold\">)</span><span style=\"color: #008080; text-decoration-color: #008080\">_\\w+</span>\n",
       "</pre>\n"
      ],
      "text/plain": [
       "New sites regex: \u001b[36mT\u001b[0m\u001b[1;36m[\u001b[0m\u001b[1;36m12\u001b[0m\u001b[1;36m]\u001b[0m\u001b[1;36m_\u001b[0m\u001b[1;36m(\u001b[0m\u001b[36mUS\u001b[0m\u001b[1;36m)\u001b[0m\u001b[36m_\\w+\u001b[0m\n"
      ]
     },
     "metadata": {},
     "output_type": "display_data"
    },
    {
     "data": {
      "text/html": [
       "<pre style=\"white-space:pre;overflow-x:auto;line-height:normal;font-family:Menlo,'DejaVu Sans Mono',consolas,'Courier New',monospace\">Loading SITECONF info\n",
       "</pre>\n"
      ],
      "text/plain": [
       "Loading SITECONF info\n"
      ]
     },
     "metadata": {},
     "output_type": "display_data"
    },
    {
     "data": {
      "application/vnd.jupyter.widget-view+json": {
       "model_id": "fbb17fa5091a435ea3b300ac1b0849ee",
       "version_major": 2,
       "version_minor": 0
      },
      "text/plain": [
       "Output()"
      ]
     },
     "metadata": {},
     "output_type": "display_data"
    },
    {
     "data": {
      "text/html": [
       "<pre style=\"white-space:pre;overflow-x:auto;line-height:normal;font-family:Menlo,'DejaVu Sans Mono',consolas,'Courier New',monospace\"></pre>\n"
      ],
      "text/plain": []
     },
     "metadata": {},
     "output_type": "display_data"
    },
    {
     "data": {
      "text/html": [
       "<pre style=\"white-space:pre;overflow-x:auto;line-height:normal;font-family:Menlo,'DejaVu Sans Mono',consolas,'Courier New',monospace\"><span style=\"color: #008080; text-decoration-color: #008080\">Sites availability for dataset: </span>\n",
       "<span style=\"color: #800000; text-decoration-color: #800000\">/SlepSnuCascade_MN1-220_MN2-260_MC1-240_TuneCP5_13p6TeV_madgraphMLM-pythia8/Run3Summer23BPixNanoAODv12-130X_mcRun3_</span>\n",
       "<span style=\"color: #800000; text-decoration-color: #800000\">2023_realistic_postBPix_v6-v3/NANOAODSIM</span>\n",
       "</pre>\n"
      ],
      "text/plain": [
       "\u001b[36mSites availability for dataset: \u001b[0m\n",
       "\u001b[31m/SlepSnuCascade_MN1-220_MN2-260_MC1-240_TuneCP5_13p6TeV_madgraphMLM-pythia8/Run3Summer23BPixNanoAODv12-130X_mcRun3_\u001b[0m\n",
       "\u001b[31m2023_realistic_postBPix_v6-v3/\u001b[0m\u001b[31mNANOAODSIM\u001b[0m\n"
      ]
     },
     "metadata": {},
     "output_type": "display_data"
    },
    {
     "data": {
      "text/html": [
       "<pre style=\"white-space:pre;overflow-x:auto;line-height:normal;font-family:Menlo,'DejaVu Sans Mono',consolas,'Courier New',monospace\"><span style=\"font-style: italic\">                 Available replicas                  </span>\n",
       "┏━━━━━━━┳━━━━━━━━━━━━━━━━━━┳━━━━━━━━━┳━━━━━━━━━━━━━━┓\n",
       "┃<span style=\"font-weight: bold\"> Index </span>┃<span style=\"font-weight: bold\"> Site             </span>┃<span style=\"font-weight: bold\"> Files   </span>┃<span style=\"font-weight: bold\"> Availability </span>┃\n",
       "┡━━━━━━━╇━━━━━━━━━━━━━━━━━━╇━━━━━━━━━╇━━━━━━━━━━━━━━┩\n",
       "│<span style=\"color: #7f7f7f; text-decoration-color: #7f7f7f\">   0   </span>│<span style=\"color: #7fbfbf; text-decoration-color: #7fbfbf\"> T1_US_FNAL_Disk  </span>│<span style=\"color: #bf7fbf; text-decoration-color: #bf7fbf\"> 18 / 18 </span>│<span style=\"color: #7f7f7f; text-decoration-color: #7f7f7f\">    100.0%    </span>│\n",
       "│   1   │<span style=\"color: #008080; text-decoration-color: #008080\"> T2_US_Vanderbilt </span>│<span style=\"color: #800080; text-decoration-color: #800080\"> 18 / 18 </span>│    100.0%    │\n",
       "└───────┴──────────────────┴─────────┴──────────────┘\n",
       "</pre>\n"
      ],
      "text/plain": [
       "\u001b[3m                 Available replicas                  \u001b[0m\n",
       "┏━━━━━━━┳━━━━━━━━━━━━━━━━━━┳━━━━━━━━━┳━━━━━━━━━━━━━━┓\n",
       "┃\u001b[1m \u001b[0m\u001b[1mIndex\u001b[0m\u001b[1m \u001b[0m┃\u001b[1m \u001b[0m\u001b[1mSite            \u001b[0m\u001b[1m \u001b[0m┃\u001b[1m \u001b[0m\u001b[1mFiles  \u001b[0m\u001b[1m \u001b[0m┃\u001b[1m \u001b[0m\u001b[1mAvailability\u001b[0m\u001b[1m \u001b[0m┃\n",
       "┡━━━━━━━╇━━━━━━━━━━━━━━━━━━╇━━━━━━━━━╇━━━━━━━━━━━━━━┩\n",
       "│\u001b[2m \u001b[0m\u001b[2m  0  \u001b[0m\u001b[2m \u001b[0m│\u001b[2;36m \u001b[0m\u001b[2;36mT1_US_FNAL_Disk \u001b[0m\u001b[2;36m \u001b[0m│\u001b[2;35m \u001b[0m\u001b[2;35m18 / 18\u001b[0m\u001b[2;35m \u001b[0m│\u001b[2m \u001b[0m\u001b[2m   100.0%   \u001b[0m\u001b[2m \u001b[0m│\n",
       "│   1   │\u001b[36m \u001b[0m\u001b[36mT2_US_Vanderbilt\u001b[0m\u001b[36m \u001b[0m│\u001b[35m \u001b[0m\u001b[35m18 / 18\u001b[0m\u001b[35m \u001b[0m│    100.0%    │\n",
       "└───────┴──────────────────┴─────────┴──────────────┘\n"
      ]
     },
     "metadata": {},
     "output_type": "display_data"
    },
    {
     "data": {
      "text/html": [
       "<pre style=\"white-space:pre;overflow-x:auto;line-height:normal;font-family:Menlo,'DejaVu Sans Mono',consolas,'Courier New',monospace\">Replicas for \n",
       "<span style=\"color: #008000; text-decoration-color: #008000\">/SlepSnuCascade_MN1-220_MN2-260_MC1-240_TuneCP5_13p6TeV_madgraphMLM-pythia8/Run3Summer23BPixNanoAODv12-130X_mcRun3_</span>\n",
       "<span style=\"color: #008000; text-decoration-color: #008000\">2023_realistic_postBPix_v6-v3/NANOAODSIM</span>\n",
       "└── <span style=\"color: #008000; text-decoration-color: #008000\">T1_US_FNAL_Disk</span>\n",
       "    ├── <span style=\"color: #008080; text-decoration-color: #008080\">root://cmsdcadisk.fnal.gov//dcache/uscmsdisk/store/mc/Run3Summer23BPixNanoAODv12/SlepSnuCascade_MN1-220_MN2</span>\n",
       "    │   <span style=\"color: #008080; text-decoration-color: #008080\">-260_MC1-240_TuneCP5_13p6TeV_madgraphMLM-pythia8/NANOAODSIM/130X_mcRun3_2023_realistic_postBPix_v6-v3/25200</span>\n",
       "    │   <span style=\"color: #008080; text-decoration-color: #008080\">00/0238744e-b5c3-48d0-9415-97854405b503.root</span>\n",
       "    ├── <span style=\"color: #008080; text-decoration-color: #008080\">root://cmsdcadisk.fnal.gov//dcache/uscmsdisk/store/mc/Run3Summer23BPixNanoAODv12/SlepSnuCascade_MN1-220_MN2</span>\n",
       "    │   <span style=\"color: #008080; text-decoration-color: #008080\">-260_MC1-240_TuneCP5_13p6TeV_madgraphMLM-pythia8/NANOAODSIM/130X_mcRun3_2023_realistic_postBPix_v6-v3/25200</span>\n",
       "    │   <span style=\"color: #008080; text-decoration-color: #008080\">00/1b117b99-b288-4121-a3ad-e9cdee0deebd.root</span>\n",
       "    ├── <span style=\"color: #008080; text-decoration-color: #008080\">root://cmsdcadisk.fnal.gov//dcache/uscmsdisk/store/mc/Run3Summer23BPixNanoAODv12/SlepSnuCascade_MN1-220_MN2</span>\n",
       "    │   <span style=\"color: #008080; text-decoration-color: #008080\">-260_MC1-240_TuneCP5_13p6TeV_madgraphMLM-pythia8/NANOAODSIM/130X_mcRun3_2023_realistic_postBPix_v6-v3/25200</span>\n",
       "    │   <span style=\"color: #008080; text-decoration-color: #008080\">00/1c3d452f-62da-4dd1-9734-fbd7024de64d.root</span>\n",
       "    ├── <span style=\"color: #008080; text-decoration-color: #008080\">root://cmsdcadisk.fnal.gov//dcache/uscmsdisk/store/mc/Run3Summer23BPixNanoAODv12/SlepSnuCascade_MN1-220_MN2</span>\n",
       "    │   <span style=\"color: #008080; text-decoration-color: #008080\">-260_MC1-240_TuneCP5_13p6TeV_madgraphMLM-pythia8/NANOAODSIM/130X_mcRun3_2023_realistic_postBPix_v6-v3/25200</span>\n",
       "    │   <span style=\"color: #008080; text-decoration-color: #008080\">00/1d2b26be-ae3d-42a2-8788-be01a97b28c7.root</span>\n",
       "    ├── <span style=\"color: #008080; text-decoration-color: #008080\">root://cmsdcadisk.fnal.gov//dcache/uscmsdisk/store/mc/Run3Summer23BPixNanoAODv12/SlepSnuCascade_MN1-220_MN2</span>\n",
       "    │   <span style=\"color: #008080; text-decoration-color: #008080\">-260_MC1-240_TuneCP5_13p6TeV_madgraphMLM-pythia8/NANOAODSIM/130X_mcRun3_2023_realistic_postBPix_v6-v3/25200</span>\n",
       "    │   <span style=\"color: #008080; text-decoration-color: #008080\">00/393292c6-6a1a-45d1-9031-1c05e0ddba78.root</span>\n",
       "    ├── <span style=\"color: #008080; text-decoration-color: #008080\">root://cmsdcadisk.fnal.gov//dcache/uscmsdisk/store/mc/Run3Summer23BPixNanoAODv12/SlepSnuCascade_MN1-220_MN2</span>\n",
       "    │   <span style=\"color: #008080; text-decoration-color: #008080\">-260_MC1-240_TuneCP5_13p6TeV_madgraphMLM-pythia8/NANOAODSIM/130X_mcRun3_2023_realistic_postBPix_v6-v3/25200</span>\n",
       "    │   <span style=\"color: #008080; text-decoration-color: #008080\">00/435988e8-a68a-48d0-82f0-a388dd64d7b6.root</span>\n",
       "    ├── <span style=\"color: #008080; text-decoration-color: #008080\">root://cmsdcadisk.fnal.gov//dcache/uscmsdisk/store/mc/Run3Summer23BPixNanoAODv12/SlepSnuCascade_MN1-220_MN2</span>\n",
       "    │   <span style=\"color: #008080; text-decoration-color: #008080\">-260_MC1-240_TuneCP5_13p6TeV_madgraphMLM-pythia8/NANOAODSIM/130X_mcRun3_2023_realistic_postBPix_v6-v3/25200</span>\n",
       "    │   <span style=\"color: #008080; text-decoration-color: #008080\">00/45161c49-7f6a-4d5f-8cc7-15382cad4682.root</span>\n",
       "    ├── <span style=\"color: #008080; text-decoration-color: #008080\">root://cmsdcadisk.fnal.gov//dcache/uscmsdisk/store/mc/Run3Summer23BPixNanoAODv12/SlepSnuCascade_MN1-220_MN2</span>\n",
       "    │   <span style=\"color: #008080; text-decoration-color: #008080\">-260_MC1-240_TuneCP5_13p6TeV_madgraphMLM-pythia8/NANOAODSIM/130X_mcRun3_2023_realistic_postBPix_v6-v3/25200</span>\n",
       "    │   <span style=\"color: #008080; text-decoration-color: #008080\">00/525b3721-8456-4be9-8ebb-9bd077162131.root</span>\n",
       "    ├── <span style=\"color: #008080; text-decoration-color: #008080\">root://cmsdcadisk.fnal.gov//dcache/uscmsdisk/store/mc/Run3Summer23BPixNanoAODv12/SlepSnuCascade_MN1-220_MN2</span>\n",
       "    │   <span style=\"color: #008080; text-decoration-color: #008080\">-260_MC1-240_TuneCP5_13p6TeV_madgraphMLM-pythia8/NANOAODSIM/130X_mcRun3_2023_realistic_postBPix_v6-v3/25200</span>\n",
       "    │   <span style=\"color: #008080; text-decoration-color: #008080\">00/60150486-f22c-4b0a-8222-02b26a9493f1.root</span>\n",
       "    ├── <span style=\"color: #008080; text-decoration-color: #008080\">root://cmsdcadisk.fnal.gov//dcache/uscmsdisk/store/mc/Run3Summer23BPixNanoAODv12/SlepSnuCascade_MN1-220_MN2</span>\n",
       "    │   <span style=\"color: #008080; text-decoration-color: #008080\">-260_MC1-240_TuneCP5_13p6TeV_madgraphMLM-pythia8/NANOAODSIM/130X_mcRun3_2023_realistic_postBPix_v6-v3/25200</span>\n",
       "    │   <span style=\"color: #008080; text-decoration-color: #008080\">00/6d6e3789-b918-4aab-a86c-efafffabf12c.root</span>\n",
       "    ├── <span style=\"color: #008080; text-decoration-color: #008080\">root://cmsdcadisk.fnal.gov//dcache/uscmsdisk/store/mc/Run3Summer23BPixNanoAODv12/SlepSnuCascade_MN1-220_MN2</span>\n",
       "    │   <span style=\"color: #008080; text-decoration-color: #008080\">-260_MC1-240_TuneCP5_13p6TeV_madgraphMLM-pythia8/NANOAODSIM/130X_mcRun3_2023_realistic_postBPix_v6-v3/25200</span>\n",
       "    │   <span style=\"color: #008080; text-decoration-color: #008080\">00/6fd954b5-2f2c-4efb-8fdd-18c78bbe0649.root</span>\n",
       "    ├── <span style=\"color: #008080; text-decoration-color: #008080\">root://cmsdcadisk.fnal.gov//dcache/uscmsdisk/store/mc/Run3Summer23BPixNanoAODv12/SlepSnuCascade_MN1-220_MN2</span>\n",
       "    │   <span style=\"color: #008080; text-decoration-color: #008080\">-260_MC1-240_TuneCP5_13p6TeV_madgraphMLM-pythia8/NANOAODSIM/130X_mcRun3_2023_realistic_postBPix_v6-v3/25200</span>\n",
       "    │   <span style=\"color: #008080; text-decoration-color: #008080\">00/794b6891-e65e-422a-9388-9f87663c83ae.root</span>\n",
       "    ├── <span style=\"color: #008080; text-decoration-color: #008080\">root://cmsdcadisk.fnal.gov//dcache/uscmsdisk/store/mc/Run3Summer23BPixNanoAODv12/SlepSnuCascade_MN1-220_MN2</span>\n",
       "    │   <span style=\"color: #008080; text-decoration-color: #008080\">-260_MC1-240_TuneCP5_13p6TeV_madgraphMLM-pythia8/NANOAODSIM/130X_mcRun3_2023_realistic_postBPix_v6-v3/25200</span>\n",
       "    │   <span style=\"color: #008080; text-decoration-color: #008080\">00/8a33b5b6-5328-4552-848d-693c050bbc9d.root</span>\n",
       "    ├── <span style=\"color: #008080; text-decoration-color: #008080\">root://cmsdcadisk.fnal.gov//dcache/uscmsdisk/store/mc/Run3Summer23BPixNanoAODv12/SlepSnuCascade_MN1-220_MN2</span>\n",
       "    │   <span style=\"color: #008080; text-decoration-color: #008080\">-260_MC1-240_TuneCP5_13p6TeV_madgraphMLM-pythia8/NANOAODSIM/130X_mcRun3_2023_realistic_postBPix_v6-v3/25200</span>\n",
       "    │   <span style=\"color: #008080; text-decoration-color: #008080\">00/8eb51295-6260-4a29-b5bd-04c8d3231ceb.root</span>\n",
       "    ├── <span style=\"color: #008080; text-decoration-color: #008080\">root://cmsdcadisk.fnal.gov//dcache/uscmsdisk/store/mc/Run3Summer23BPixNanoAODv12/SlepSnuCascade_MN1-220_MN2</span>\n",
       "    │   <span style=\"color: #008080; text-decoration-color: #008080\">-260_MC1-240_TuneCP5_13p6TeV_madgraphMLM-pythia8/NANOAODSIM/130X_mcRun3_2023_realistic_postBPix_v6-v3/25200</span>\n",
       "    │   <span style=\"color: #008080; text-decoration-color: #008080\">00/aa622bcd-2d33-449f-b803-8972fe021efd.root</span>\n",
       "    ├── <span style=\"color: #008080; text-decoration-color: #008080\">root://cmsdcadisk.fnal.gov//dcache/uscmsdisk/store/mc/Run3Summer23BPixNanoAODv12/SlepSnuCascade_MN1-220_MN2</span>\n",
       "    │   <span style=\"color: #008080; text-decoration-color: #008080\">-260_MC1-240_TuneCP5_13p6TeV_madgraphMLM-pythia8/NANOAODSIM/130X_mcRun3_2023_realistic_postBPix_v6-v3/25200</span>\n",
       "    │   <span style=\"color: #008080; text-decoration-color: #008080\">00/d3272061-dba4-4258-9947-eccaee03ae45.root</span>\n",
       "    ├── <span style=\"color: #008080; text-decoration-color: #008080\">root://cmsdcadisk.fnal.gov//dcache/uscmsdisk/store/mc/Run3Summer23BPixNanoAODv12/SlepSnuCascade_MN1-220_MN2</span>\n",
       "    │   <span style=\"color: #008080; text-decoration-color: #008080\">-260_MC1-240_TuneCP5_13p6TeV_madgraphMLM-pythia8/NANOAODSIM/130X_mcRun3_2023_realistic_postBPix_v6-v3/25200</span>\n",
       "    │   <span style=\"color: #008080; text-decoration-color: #008080\">00/fe4466d8-f94d-460e-b165-4d6d746cf27d.root</span>\n",
       "    └── <span style=\"color: #008080; text-decoration-color: #008080\">root://cmsdcadisk.fnal.gov//dcache/uscmsdisk/store/mc/Run3Summer23BPixNanoAODv12/SlepSnuCascade_MN1-220_MN2</span>\n",
       "        <span style=\"color: #008080; text-decoration-color: #008080\">-260_MC1-240_TuneCP5_13p6TeV_madgraphMLM-pythia8/NANOAODSIM/130X_mcRun3_2023_realistic_postBPix_v6-v3/25300</span>\n",
       "        <span style=\"color: #008080; text-decoration-color: #008080\">00/7c67a574-a41f-4ffc-921a-7a268002cdc7.root</span>\n",
       "</pre>\n"
      ],
      "text/plain": [
       "Replicas for \n",
       "\u001b[32m/SlepSnuCascade_MN1-220_MN2-260_MC1-240_TuneCP5_13p6TeV_madgraphMLM-pythia8/Run3Summer23BPixNanoAODv12-130X_mcRun3_\u001b[0m\n",
       "\u001b[32m2023_realistic_postBPix_v6-v3/NANOAODSIM\u001b[0m\n",
       "└── \u001b[32mT1_US_FNAL_Disk\u001b[0m\n",
       "    ├── \u001b[36mroot://cmsdcadisk.fnal.gov//dcache/uscmsdisk/store/mc/Run3Summer23BPixNanoAODv12/SlepSnuCascade_MN1-220_MN2\u001b[0m\n",
       "    │   \u001b[36m-260_MC1-240_TuneCP5_13p6TeV_madgraphMLM-pythia8/NANOAODSIM/130X_mcRun3_2023_realistic_postBPix_v6-v3/25200\u001b[0m\n",
       "    │   \u001b[36m00/0238744e-b5c3-48d0-9415-97854405b503.root\u001b[0m\n",
       "    ├── \u001b[36mroot://cmsdcadisk.fnal.gov//dcache/uscmsdisk/store/mc/Run3Summer23BPixNanoAODv12/SlepSnuCascade_MN1-220_MN2\u001b[0m\n",
       "    │   \u001b[36m-260_MC1-240_TuneCP5_13p6TeV_madgraphMLM-pythia8/NANOAODSIM/130X_mcRun3_2023_realistic_postBPix_v6-v3/25200\u001b[0m\n",
       "    │   \u001b[36m00/1b117b99-b288-4121-a3ad-e9cdee0deebd.root\u001b[0m\n",
       "    ├── \u001b[36mroot://cmsdcadisk.fnal.gov//dcache/uscmsdisk/store/mc/Run3Summer23BPixNanoAODv12/SlepSnuCascade_MN1-220_MN2\u001b[0m\n",
       "    │   \u001b[36m-260_MC1-240_TuneCP5_13p6TeV_madgraphMLM-pythia8/NANOAODSIM/130X_mcRun3_2023_realistic_postBPix_v6-v3/25200\u001b[0m\n",
       "    │   \u001b[36m00/1c3d452f-62da-4dd1-9734-fbd7024de64d.root\u001b[0m\n",
       "    ├── \u001b[36mroot://cmsdcadisk.fnal.gov//dcache/uscmsdisk/store/mc/Run3Summer23BPixNanoAODv12/SlepSnuCascade_MN1-220_MN2\u001b[0m\n",
       "    │   \u001b[36m-260_MC1-240_TuneCP5_13p6TeV_madgraphMLM-pythia8/NANOAODSIM/130X_mcRun3_2023_realistic_postBPix_v6-v3/25200\u001b[0m\n",
       "    │   \u001b[36m00/1d2b26be-ae3d-42a2-8788-be01a97b28c7.root\u001b[0m\n",
       "    ├── \u001b[36mroot://cmsdcadisk.fnal.gov//dcache/uscmsdisk/store/mc/Run3Summer23BPixNanoAODv12/SlepSnuCascade_MN1-220_MN2\u001b[0m\n",
       "    │   \u001b[36m-260_MC1-240_TuneCP5_13p6TeV_madgraphMLM-pythia8/NANOAODSIM/130X_mcRun3_2023_realistic_postBPix_v6-v3/25200\u001b[0m\n",
       "    │   \u001b[36m00/393292c6-6a1a-45d1-9031-1c05e0ddba78.root\u001b[0m\n",
       "    ├── \u001b[36mroot://cmsdcadisk.fnal.gov//dcache/uscmsdisk/store/mc/Run3Summer23BPixNanoAODv12/SlepSnuCascade_MN1-220_MN2\u001b[0m\n",
       "    │   \u001b[36m-260_MC1-240_TuneCP5_13p6TeV_madgraphMLM-pythia8/NANOAODSIM/130X_mcRun3_2023_realistic_postBPix_v6-v3/25200\u001b[0m\n",
       "    │   \u001b[36m00/435988e8-a68a-48d0-82f0-a388dd64d7b6.root\u001b[0m\n",
       "    ├── \u001b[36mroot://cmsdcadisk.fnal.gov//dcache/uscmsdisk/store/mc/Run3Summer23BPixNanoAODv12/SlepSnuCascade_MN1-220_MN2\u001b[0m\n",
       "    │   \u001b[36m-260_MC1-240_TuneCP5_13p6TeV_madgraphMLM-pythia8/NANOAODSIM/130X_mcRun3_2023_realistic_postBPix_v6-v3/25200\u001b[0m\n",
       "    │   \u001b[36m00/45161c49-7f6a-4d5f-8cc7-15382cad4682.root\u001b[0m\n",
       "    ├── \u001b[36mroot://cmsdcadisk.fnal.gov//dcache/uscmsdisk/store/mc/Run3Summer23BPixNanoAODv12/SlepSnuCascade_MN1-220_MN2\u001b[0m\n",
       "    │   \u001b[36m-260_MC1-240_TuneCP5_13p6TeV_madgraphMLM-pythia8/NANOAODSIM/130X_mcRun3_2023_realistic_postBPix_v6-v3/25200\u001b[0m\n",
       "    │   \u001b[36m00/525b3721-8456-4be9-8ebb-9bd077162131.root\u001b[0m\n",
       "    ├── \u001b[36mroot://cmsdcadisk.fnal.gov//dcache/uscmsdisk/store/mc/Run3Summer23BPixNanoAODv12/SlepSnuCascade_MN1-220_MN2\u001b[0m\n",
       "    │   \u001b[36m-260_MC1-240_TuneCP5_13p6TeV_madgraphMLM-pythia8/NANOAODSIM/130X_mcRun3_2023_realistic_postBPix_v6-v3/25200\u001b[0m\n",
       "    │   \u001b[36m00/60150486-f22c-4b0a-8222-02b26a9493f1.root\u001b[0m\n",
       "    ├── \u001b[36mroot://cmsdcadisk.fnal.gov//dcache/uscmsdisk/store/mc/Run3Summer23BPixNanoAODv12/SlepSnuCascade_MN1-220_MN2\u001b[0m\n",
       "    │   \u001b[36m-260_MC1-240_TuneCP5_13p6TeV_madgraphMLM-pythia8/NANOAODSIM/130X_mcRun3_2023_realistic_postBPix_v6-v3/25200\u001b[0m\n",
       "    │   \u001b[36m00/6d6e3789-b918-4aab-a86c-efafffabf12c.root\u001b[0m\n",
       "    ├── \u001b[36mroot://cmsdcadisk.fnal.gov//dcache/uscmsdisk/store/mc/Run3Summer23BPixNanoAODv12/SlepSnuCascade_MN1-220_MN2\u001b[0m\n",
       "    │   \u001b[36m-260_MC1-240_TuneCP5_13p6TeV_madgraphMLM-pythia8/NANOAODSIM/130X_mcRun3_2023_realistic_postBPix_v6-v3/25200\u001b[0m\n",
       "    │   \u001b[36m00/6fd954b5-2f2c-4efb-8fdd-18c78bbe0649.root\u001b[0m\n",
       "    ├── \u001b[36mroot://cmsdcadisk.fnal.gov//dcache/uscmsdisk/store/mc/Run3Summer23BPixNanoAODv12/SlepSnuCascade_MN1-220_MN2\u001b[0m\n",
       "    │   \u001b[36m-260_MC1-240_TuneCP5_13p6TeV_madgraphMLM-pythia8/NANOAODSIM/130X_mcRun3_2023_realistic_postBPix_v6-v3/25200\u001b[0m\n",
       "    │   \u001b[36m00/794b6891-e65e-422a-9388-9f87663c83ae.root\u001b[0m\n",
       "    ├── \u001b[36mroot://cmsdcadisk.fnal.gov//dcache/uscmsdisk/store/mc/Run3Summer23BPixNanoAODv12/SlepSnuCascade_MN1-220_MN2\u001b[0m\n",
       "    │   \u001b[36m-260_MC1-240_TuneCP5_13p6TeV_madgraphMLM-pythia8/NANOAODSIM/130X_mcRun3_2023_realistic_postBPix_v6-v3/25200\u001b[0m\n",
       "    │   \u001b[36m00/8a33b5b6-5328-4552-848d-693c050bbc9d.root\u001b[0m\n",
       "    ├── \u001b[36mroot://cmsdcadisk.fnal.gov//dcache/uscmsdisk/store/mc/Run3Summer23BPixNanoAODv12/SlepSnuCascade_MN1-220_MN2\u001b[0m\n",
       "    │   \u001b[36m-260_MC1-240_TuneCP5_13p6TeV_madgraphMLM-pythia8/NANOAODSIM/130X_mcRun3_2023_realistic_postBPix_v6-v3/25200\u001b[0m\n",
       "    │   \u001b[36m00/8eb51295-6260-4a29-b5bd-04c8d3231ceb.root\u001b[0m\n",
       "    ├── \u001b[36mroot://cmsdcadisk.fnal.gov//dcache/uscmsdisk/store/mc/Run3Summer23BPixNanoAODv12/SlepSnuCascade_MN1-220_MN2\u001b[0m\n",
       "    │   \u001b[36m-260_MC1-240_TuneCP5_13p6TeV_madgraphMLM-pythia8/NANOAODSIM/130X_mcRun3_2023_realistic_postBPix_v6-v3/25200\u001b[0m\n",
       "    │   \u001b[36m00/aa622bcd-2d33-449f-b803-8972fe021efd.root\u001b[0m\n",
       "    ├── \u001b[36mroot://cmsdcadisk.fnal.gov//dcache/uscmsdisk/store/mc/Run3Summer23BPixNanoAODv12/SlepSnuCascade_MN1-220_MN2\u001b[0m\n",
       "    │   \u001b[36m-260_MC1-240_TuneCP5_13p6TeV_madgraphMLM-pythia8/NANOAODSIM/130X_mcRun3_2023_realistic_postBPix_v6-v3/25200\u001b[0m\n",
       "    │   \u001b[36m00/d3272061-dba4-4258-9947-eccaee03ae45.root\u001b[0m\n",
       "    ├── \u001b[36mroot://cmsdcadisk.fnal.gov//dcache/uscmsdisk/store/mc/Run3Summer23BPixNanoAODv12/SlepSnuCascade_MN1-220_MN2\u001b[0m\n",
       "    │   \u001b[36m-260_MC1-240_TuneCP5_13p6TeV_madgraphMLM-pythia8/NANOAODSIM/130X_mcRun3_2023_realistic_postBPix_v6-v3/25200\u001b[0m\n",
       "    │   \u001b[36m00/fe4466d8-f94d-460e-b165-4d6d746cf27d.root\u001b[0m\n",
       "    └── \u001b[36mroot://cmsdcadisk.fnal.gov//dcache/uscmsdisk/store/mc/Run3Summer23BPixNanoAODv12/SlepSnuCascade_MN1-220_MN2\u001b[0m\n",
       "        \u001b[36m-260_MC1-240_TuneCP5_13p6TeV_madgraphMLM-pythia8/NANOAODSIM/130X_mcRun3_2023_realistic_postBPix_v6-v3/25300\u001b[0m\n",
       "        \u001b[36m00/7c67a574-a41f-4ffc-921a-7a268002cdc7.root\u001b[0m\n"
      ]
     },
     "metadata": {},
     "output_type": "display_data"
    },
    {
     "data": {
      "application/vnd.jupyter.widget-view+json": {
       "model_id": "07529e8201ea4b7b85c7aa2770d52722",
       "version_major": 2,
       "version_minor": 0
      },
      "text/plain": [
       "Output()"
      ]
     },
     "metadata": {},
     "output_type": "display_data"
    },
    {
     "data": {
      "text/html": [
       "<pre style=\"white-space:pre;overflow-x:auto;line-height:normal;font-family:Menlo,'DejaVu Sans Mono',consolas,'Courier New',monospace\"></pre>\n"
      ],
      "text/plain": []
     },
     "metadata": {},
     "output_type": "display_data"
    },
    {
     "data": {
      "text/html": [
       "<pre style=\"white-space:pre;overflow-x:auto;line-height:normal;font-family:Menlo,'DejaVu Sans Mono',consolas,'Courier New',monospace\"><span style=\"color: #008080; text-decoration-color: #008080\">Sites availability for dataset: </span>\n",
       "<span style=\"color: #800000; text-decoration-color: #800000\">/SlepSnuCascade_MN1-260_MN2-280_MC1-270_TuneCP5_13p6TeV_madgraphMLM-pythia8/Run3Summer23BPixNanoAODv12-130X_mcRun3_</span>\n",
       "<span style=\"color: #800000; text-decoration-color: #800000\">2023_realistic_postBPix_v6-v3/NANOAODSIM</span>\n",
       "</pre>\n"
      ],
      "text/plain": [
       "\u001b[36mSites availability for dataset: \u001b[0m\n",
       "\u001b[31m/SlepSnuCascade_MN1-260_MN2-280_MC1-270_TuneCP5_13p6TeV_madgraphMLM-pythia8/Run3Summer23BPixNanoAODv12-130X_mcRun3_\u001b[0m\n",
       "\u001b[31m2023_realistic_postBPix_v6-v3/\u001b[0m\u001b[31mNANOAODSIM\u001b[0m\n"
      ]
     },
     "metadata": {},
     "output_type": "display_data"
    },
    {
     "data": {
      "text/html": [
       "<pre style=\"white-space:pre;overflow-x:auto;line-height:normal;font-family:Menlo,'DejaVu Sans Mono',consolas,'Courier New',monospace\"><span style=\"font-style: italic\">                Available replicas                 </span>\n",
       "┏━━━━━━━┳━━━━━━━━━━━━━━━━┳━━━━━━━━━┳━━━━━━━━━━━━━━┓\n",
       "┃<span style=\"font-weight: bold\"> Index </span>┃<span style=\"font-weight: bold\"> Site           </span>┃<span style=\"font-weight: bold\"> Files   </span>┃<span style=\"font-weight: bold\"> Availability </span>┃\n",
       "┡━━━━━━━╇━━━━━━━━━━━━━━━━╇━━━━━━━━━╇━━━━━━━━━━━━━━┩\n",
       "│<span style=\"color: #7f7f7f; text-decoration-color: #7f7f7f\">   0   </span>│<span style=\"color: #7fbfbf; text-decoration-color: #7fbfbf\"> T2_US_Florida  </span>│<span style=\"color: #bf7fbf; text-decoration-color: #bf7fbf\"> 16 / 16 </span>│<span style=\"color: #7f7f7f; text-decoration-color: #7f7f7f\">    100.0%    </span>│\n",
       "│   1   │<span style=\"color: #008080; text-decoration-color: #008080\"> T2_US_Nebraska </span>│<span style=\"color: #800080; text-decoration-color: #800080\"> 16 / 16 </span>│    100.0%    │\n",
       "└───────┴────────────────┴─────────┴──────────────┘\n",
       "</pre>\n"
      ],
      "text/plain": [
       "\u001b[3m                Available replicas                 \u001b[0m\n",
       "┏━━━━━━━┳━━━━━━━━━━━━━━━━┳━━━━━━━━━┳━━━━━━━━━━━━━━┓\n",
       "┃\u001b[1m \u001b[0m\u001b[1mIndex\u001b[0m\u001b[1m \u001b[0m┃\u001b[1m \u001b[0m\u001b[1mSite          \u001b[0m\u001b[1m \u001b[0m┃\u001b[1m \u001b[0m\u001b[1mFiles  \u001b[0m\u001b[1m \u001b[0m┃\u001b[1m \u001b[0m\u001b[1mAvailability\u001b[0m\u001b[1m \u001b[0m┃\n",
       "┡━━━━━━━╇━━━━━━━━━━━━━━━━╇━━━━━━━━━╇━━━━━━━━━━━━━━┩\n",
       "│\u001b[2m \u001b[0m\u001b[2m  0  \u001b[0m\u001b[2m \u001b[0m│\u001b[2;36m \u001b[0m\u001b[2;36mT2_US_Florida \u001b[0m\u001b[2;36m \u001b[0m│\u001b[2;35m \u001b[0m\u001b[2;35m16 / 16\u001b[0m\u001b[2;35m \u001b[0m│\u001b[2m \u001b[0m\u001b[2m   100.0%   \u001b[0m\u001b[2m \u001b[0m│\n",
       "│   1   │\u001b[36m \u001b[0m\u001b[36mT2_US_Nebraska\u001b[0m\u001b[36m \u001b[0m│\u001b[35m \u001b[0m\u001b[35m16 / 16\u001b[0m\u001b[35m \u001b[0m│    100.0%    │\n",
       "└───────┴────────────────┴─────────┴──────────────┘\n"
      ]
     },
     "metadata": {},
     "output_type": "display_data"
    },
    {
     "data": {
      "text/html": [
       "<pre style=\"white-space:pre;overflow-x:auto;line-height:normal;font-family:Menlo,'DejaVu Sans Mono',consolas,'Courier New',monospace\">Replicas for \n",
       "<span style=\"color: #008000; text-decoration-color: #008000\">/SlepSnuCascade_MN1-260_MN2-280_MC1-270_TuneCP5_13p6TeV_madgraphMLM-pythia8/Run3Summer23BPixNanoAODv12-130X_mcRun3_</span>\n",
       "<span style=\"color: #008000; text-decoration-color: #008000\">2023_realistic_postBPix_v6-v3/NANOAODSIM</span>\n",
       "└── <span style=\"color: #008000; text-decoration-color: #008000\">T2_US_Florida</span>\n",
       "    ├── <span style=\"color: #008080; text-decoration-color: #008080\">root://cmsio2.rc.ufl.edu:1094//store/mc/Run3Summer23BPixNanoAODv12/SlepSnuCascade_MN1-260_MN2-280_MC1-270_T</span>\n",
       "    │   <span style=\"color: #008080; text-decoration-color: #008080\">uneCP5_13p6TeV_madgraphMLM-pythia8/NANOAODSIM/130X_mcRun3_2023_realistic_postBPix_v6-v3/2530000/0d22cdae-b8</span>\n",
       "    │   <span style=\"color: #008080; text-decoration-color: #008080\">db-41fb-8ab4-f0c74187f950.root</span>\n",
       "    ├── <span style=\"color: #008080; text-decoration-color: #008080\">root://cmsio2.rc.ufl.edu:1094//store/mc/Run3Summer23BPixNanoAODv12/SlepSnuCascade_MN1-260_MN2-280_MC1-270_T</span>\n",
       "    │   <span style=\"color: #008080; text-decoration-color: #008080\">uneCP5_13p6TeV_madgraphMLM-pythia8/NANOAODSIM/130X_mcRun3_2023_realistic_postBPix_v6-v3/2530000/2f75bba9-b6</span>\n",
       "    │   <span style=\"color: #008080; text-decoration-color: #008080\">04-4d42-9d06-0c34ce6b551c.root</span>\n",
       "    ├── <span style=\"color: #008080; text-decoration-color: #008080\">root://cmsio2.rc.ufl.edu:1094//store/mc/Run3Summer23BPixNanoAODv12/SlepSnuCascade_MN1-260_MN2-280_MC1-270_T</span>\n",
       "    │   <span style=\"color: #008080; text-decoration-color: #008080\">uneCP5_13p6TeV_madgraphMLM-pythia8/NANOAODSIM/130X_mcRun3_2023_realistic_postBPix_v6-v3/2530000/3e0d6872-e7</span>\n",
       "    │   <span style=\"color: #008080; text-decoration-color: #008080\">e1-4aab-9913-50e2d66ccbf4.root</span>\n",
       "    ├── <span style=\"color: #008080; text-decoration-color: #008080\">root://cmsio2.rc.ufl.edu:1094//store/mc/Run3Summer23BPixNanoAODv12/SlepSnuCascade_MN1-260_MN2-280_MC1-270_T</span>\n",
       "    │   <span style=\"color: #008080; text-decoration-color: #008080\">uneCP5_13p6TeV_madgraphMLM-pythia8/NANOAODSIM/130X_mcRun3_2023_realistic_postBPix_v6-v3/2530000/5e033857-fd</span>\n",
       "    │   <span style=\"color: #008080; text-decoration-color: #008080\">d9-43fa-b8a6-bb606a0d7cf3.root</span>\n",
       "    ├── <span style=\"color: #008080; text-decoration-color: #008080\">root://cmsio2.rc.ufl.edu:1094//store/mc/Run3Summer23BPixNanoAODv12/SlepSnuCascade_MN1-260_MN2-280_MC1-270_T</span>\n",
       "    │   <span style=\"color: #008080; text-decoration-color: #008080\">uneCP5_13p6TeV_madgraphMLM-pythia8/NANOAODSIM/130X_mcRun3_2023_realistic_postBPix_v6-v3/2530000/7db046a5-38</span>\n",
       "    │   <span style=\"color: #008080; text-decoration-color: #008080\">39-49c1-92ee-823499ecbfb0.root</span>\n",
       "    ├── <span style=\"color: #008080; text-decoration-color: #008080\">root://cmsio2.rc.ufl.edu:1094//store/mc/Run3Summer23BPixNanoAODv12/SlepSnuCascade_MN1-260_MN2-280_MC1-270_T</span>\n",
       "    │   <span style=\"color: #008080; text-decoration-color: #008080\">uneCP5_13p6TeV_madgraphMLM-pythia8/NANOAODSIM/130X_mcRun3_2023_realistic_postBPix_v6-v3/2530000/7fafb075-d3</span>\n",
       "    │   <span style=\"color: #008080; text-decoration-color: #008080\">7e-4ee0-86dd-63d7554f5304.root</span>\n",
       "    ├── <span style=\"color: #008080; text-decoration-color: #008080\">root://cmsio2.rc.ufl.edu:1094//store/mc/Run3Summer23BPixNanoAODv12/SlepSnuCascade_MN1-260_MN2-280_MC1-270_T</span>\n",
       "    │   <span style=\"color: #008080; text-decoration-color: #008080\">uneCP5_13p6TeV_madgraphMLM-pythia8/NANOAODSIM/130X_mcRun3_2023_realistic_postBPix_v6-v3/2530000/81e6a990-28</span>\n",
       "    │   <span style=\"color: #008080; text-decoration-color: #008080\">71-45cc-b1fd-dcc44af5e85a.root</span>\n",
       "    ├── <span style=\"color: #008080; text-decoration-color: #008080\">root://cmsio2.rc.ufl.edu:1094//store/mc/Run3Summer23BPixNanoAODv12/SlepSnuCascade_MN1-260_MN2-280_MC1-270_T</span>\n",
       "    │   <span style=\"color: #008080; text-decoration-color: #008080\">uneCP5_13p6TeV_madgraphMLM-pythia8/NANOAODSIM/130X_mcRun3_2023_realistic_postBPix_v6-v3/2530000/86f4a155-3b</span>\n",
       "    │   <span style=\"color: #008080; text-decoration-color: #008080\">0f-48aa-a8fe-386495defc7b.root</span>\n",
       "    ├── <span style=\"color: #008080; text-decoration-color: #008080\">root://cmsio2.rc.ufl.edu:1094//store/mc/Run3Summer23BPixNanoAODv12/SlepSnuCascade_MN1-260_MN2-280_MC1-270_T</span>\n",
       "    │   <span style=\"color: #008080; text-decoration-color: #008080\">uneCP5_13p6TeV_madgraphMLM-pythia8/NANOAODSIM/130X_mcRun3_2023_realistic_postBPix_v6-v3/2530000/99c3fd5f-17</span>\n",
       "    │   <span style=\"color: #008080; text-decoration-color: #008080\">ef-42aa-a356-a6cf10244049.root</span>\n",
       "    ├── <span style=\"color: #008080; text-decoration-color: #008080\">root://cmsio2.rc.ufl.edu:1094//store/mc/Run3Summer23BPixNanoAODv12/SlepSnuCascade_MN1-260_MN2-280_MC1-270_T</span>\n",
       "    │   <span style=\"color: #008080; text-decoration-color: #008080\">uneCP5_13p6TeV_madgraphMLM-pythia8/NANOAODSIM/130X_mcRun3_2023_realistic_postBPix_v6-v3/2530000/a1dca706-2e</span>\n",
       "    │   <span style=\"color: #008080; text-decoration-color: #008080\">cb-4cef-84a8-3feb33428ecc.root</span>\n",
       "    ├── <span style=\"color: #008080; text-decoration-color: #008080\">root://cmsio2.rc.ufl.edu:1094//store/mc/Run3Summer23BPixNanoAODv12/SlepSnuCascade_MN1-260_MN2-280_MC1-270_T</span>\n",
       "    │   <span style=\"color: #008080; text-decoration-color: #008080\">uneCP5_13p6TeV_madgraphMLM-pythia8/NANOAODSIM/130X_mcRun3_2023_realistic_postBPix_v6-v3/2530000/aa2f23ee-3f</span>\n",
       "    │   <span style=\"color: #008080; text-decoration-color: #008080\">a8-4450-ae4e-0a44290dd146.root</span>\n",
       "    ├── <span style=\"color: #008080; text-decoration-color: #008080\">root://cmsio2.rc.ufl.edu:1094//store/mc/Run3Summer23BPixNanoAODv12/SlepSnuCascade_MN1-260_MN2-280_MC1-270_T</span>\n",
       "    │   <span style=\"color: #008080; text-decoration-color: #008080\">uneCP5_13p6TeV_madgraphMLM-pythia8/NANOAODSIM/130X_mcRun3_2023_realistic_postBPix_v6-v3/2530000/cbb38e5f-44</span>\n",
       "    │   <span style=\"color: #008080; text-decoration-color: #008080\">86-4f9c-b0db-272c9008133a.root</span>\n",
       "    ├── <span style=\"color: #008080; text-decoration-color: #008080\">root://cmsio2.rc.ufl.edu:1094//store/mc/Run3Summer23BPixNanoAODv12/SlepSnuCascade_MN1-260_MN2-280_MC1-270_T</span>\n",
       "    │   <span style=\"color: #008080; text-decoration-color: #008080\">uneCP5_13p6TeV_madgraphMLM-pythia8/NANOAODSIM/130X_mcRun3_2023_realistic_postBPix_v6-v3/2530000/ccbd4f89-12</span>\n",
       "    │   <span style=\"color: #008080; text-decoration-color: #008080\">2a-4065-b0be-f38e9b2878d1.root</span>\n",
       "    ├── <span style=\"color: #008080; text-decoration-color: #008080\">root://cmsio2.rc.ufl.edu:1094//store/mc/Run3Summer23BPixNanoAODv12/SlepSnuCascade_MN1-260_MN2-280_MC1-270_T</span>\n",
       "    │   <span style=\"color: #008080; text-decoration-color: #008080\">uneCP5_13p6TeV_madgraphMLM-pythia8/NANOAODSIM/130X_mcRun3_2023_realistic_postBPix_v6-v3/2530000/ee78214f-59</span>\n",
       "    │   <span style=\"color: #008080; text-decoration-color: #008080\">6d-4b13-923a-b2791499596c.root</span>\n",
       "    ├── <span style=\"color: #008080; text-decoration-color: #008080\">root://cmsio2.rc.ufl.edu:1094//store/mc/Run3Summer23BPixNanoAODv12/SlepSnuCascade_MN1-260_MN2-280_MC1-270_T</span>\n",
       "    │   <span style=\"color: #008080; text-decoration-color: #008080\">uneCP5_13p6TeV_madgraphMLM-pythia8/NANOAODSIM/130X_mcRun3_2023_realistic_postBPix_v6-v3/2530000/f786c693-9b</span>\n",
       "    │   <span style=\"color: #008080; text-decoration-color: #008080\">96-47dc-8f97-3986c1067e05.root</span>\n",
       "    └── <span style=\"color: #008080; text-decoration-color: #008080\">root://cmsio2.rc.ufl.edu:1094//store/mc/Run3Summer23BPixNanoAODv12/SlepSnuCascade_MN1-260_MN2-280_MC1-270_T</span>\n",
       "        <span style=\"color: #008080; text-decoration-color: #008080\">uneCP5_13p6TeV_madgraphMLM-pythia8/NANOAODSIM/130X_mcRun3_2023_realistic_postBPix_v6-v3/2530000/fac026d7-c4</span>\n",
       "        <span style=\"color: #008080; text-decoration-color: #008080\">7c-4007-a51c-514fe55f5bc7.root</span>\n",
       "</pre>\n"
      ],
      "text/plain": [
       "Replicas for \n",
       "\u001b[32m/SlepSnuCascade_MN1-260_MN2-280_MC1-270_TuneCP5_13p6TeV_madgraphMLM-pythia8/Run3Summer23BPixNanoAODv12-130X_mcRun3_\u001b[0m\n",
       "\u001b[32m2023_realistic_postBPix_v6-v3/NANOAODSIM\u001b[0m\n",
       "└── \u001b[32mT2_US_Florida\u001b[0m\n",
       "    ├── \u001b[36mroot://cmsio2.rc.ufl.edu:1094//store/mc/Run3Summer23BPixNanoAODv12/SlepSnuCascade_MN1-260_MN2-280_MC1-270_T\u001b[0m\n",
       "    │   \u001b[36muneCP5_13p6TeV_madgraphMLM-pythia8/NANOAODSIM/130X_mcRun3_2023_realistic_postBPix_v6-v3/2530000/0d22cdae-b8\u001b[0m\n",
       "    │   \u001b[36mdb-41fb-8ab4-f0c74187f950.root\u001b[0m\n",
       "    ├── \u001b[36mroot://cmsio2.rc.ufl.edu:1094//store/mc/Run3Summer23BPixNanoAODv12/SlepSnuCascade_MN1-260_MN2-280_MC1-270_T\u001b[0m\n",
       "    │   \u001b[36muneCP5_13p6TeV_madgraphMLM-pythia8/NANOAODSIM/130X_mcRun3_2023_realistic_postBPix_v6-v3/2530000/2f75bba9-b6\u001b[0m\n",
       "    │   \u001b[36m04-4d42-9d06-0c34ce6b551c.root\u001b[0m\n",
       "    ├── \u001b[36mroot://cmsio2.rc.ufl.edu:1094//store/mc/Run3Summer23BPixNanoAODv12/SlepSnuCascade_MN1-260_MN2-280_MC1-270_T\u001b[0m\n",
       "    │   \u001b[36muneCP5_13p6TeV_madgraphMLM-pythia8/NANOAODSIM/130X_mcRun3_2023_realistic_postBPix_v6-v3/2530000/3e0d6872-e7\u001b[0m\n",
       "    │   \u001b[36me1-4aab-9913-50e2d66ccbf4.root\u001b[0m\n",
       "    ├── \u001b[36mroot://cmsio2.rc.ufl.edu:1094//store/mc/Run3Summer23BPixNanoAODv12/SlepSnuCascade_MN1-260_MN2-280_MC1-270_T\u001b[0m\n",
       "    │   \u001b[36muneCP5_13p6TeV_madgraphMLM-pythia8/NANOAODSIM/130X_mcRun3_2023_realistic_postBPix_v6-v3/2530000/5e033857-fd\u001b[0m\n",
       "    │   \u001b[36md9-43fa-b8a6-bb606a0d7cf3.root\u001b[0m\n",
       "    ├── \u001b[36mroot://cmsio2.rc.ufl.edu:1094//store/mc/Run3Summer23BPixNanoAODv12/SlepSnuCascade_MN1-260_MN2-280_MC1-270_T\u001b[0m\n",
       "    │   \u001b[36muneCP5_13p6TeV_madgraphMLM-pythia8/NANOAODSIM/130X_mcRun3_2023_realistic_postBPix_v6-v3/2530000/7db046a5-38\u001b[0m\n",
       "    │   \u001b[36m39-49c1-92ee-823499ecbfb0.root\u001b[0m\n",
       "    ├── \u001b[36mroot://cmsio2.rc.ufl.edu:1094//store/mc/Run3Summer23BPixNanoAODv12/SlepSnuCascade_MN1-260_MN2-280_MC1-270_T\u001b[0m\n",
       "    │   \u001b[36muneCP5_13p6TeV_madgraphMLM-pythia8/NANOAODSIM/130X_mcRun3_2023_realistic_postBPix_v6-v3/2530000/7fafb075-d3\u001b[0m\n",
       "    │   \u001b[36m7e-4ee0-86dd-63d7554f5304.root\u001b[0m\n",
       "    ├── \u001b[36mroot://cmsio2.rc.ufl.edu:1094//store/mc/Run3Summer23BPixNanoAODv12/SlepSnuCascade_MN1-260_MN2-280_MC1-270_T\u001b[0m\n",
       "    │   \u001b[36muneCP5_13p6TeV_madgraphMLM-pythia8/NANOAODSIM/130X_mcRun3_2023_realistic_postBPix_v6-v3/2530000/81e6a990-28\u001b[0m\n",
       "    │   \u001b[36m71-45cc-b1fd-dcc44af5e85a.root\u001b[0m\n",
       "    ├── \u001b[36mroot://cmsio2.rc.ufl.edu:1094//store/mc/Run3Summer23BPixNanoAODv12/SlepSnuCascade_MN1-260_MN2-280_MC1-270_T\u001b[0m\n",
       "    │   \u001b[36muneCP5_13p6TeV_madgraphMLM-pythia8/NANOAODSIM/130X_mcRun3_2023_realistic_postBPix_v6-v3/2530000/86f4a155-3b\u001b[0m\n",
       "    │   \u001b[36m0f-48aa-a8fe-386495defc7b.root\u001b[0m\n",
       "    ├── \u001b[36mroot://cmsio2.rc.ufl.edu:1094//store/mc/Run3Summer23BPixNanoAODv12/SlepSnuCascade_MN1-260_MN2-280_MC1-270_T\u001b[0m\n",
       "    │   \u001b[36muneCP5_13p6TeV_madgraphMLM-pythia8/NANOAODSIM/130X_mcRun3_2023_realistic_postBPix_v6-v3/2530000/99c3fd5f-17\u001b[0m\n",
       "    │   \u001b[36mef-42aa-a356-a6cf10244049.root\u001b[0m\n",
       "    ├── \u001b[36mroot://cmsio2.rc.ufl.edu:1094//store/mc/Run3Summer23BPixNanoAODv12/SlepSnuCascade_MN1-260_MN2-280_MC1-270_T\u001b[0m\n",
       "    │   \u001b[36muneCP5_13p6TeV_madgraphMLM-pythia8/NANOAODSIM/130X_mcRun3_2023_realistic_postBPix_v6-v3/2530000/a1dca706-2e\u001b[0m\n",
       "    │   \u001b[36mcb-4cef-84a8-3feb33428ecc.root\u001b[0m\n",
       "    ├── \u001b[36mroot://cmsio2.rc.ufl.edu:1094//store/mc/Run3Summer23BPixNanoAODv12/SlepSnuCascade_MN1-260_MN2-280_MC1-270_T\u001b[0m\n",
       "    │   \u001b[36muneCP5_13p6TeV_madgraphMLM-pythia8/NANOAODSIM/130X_mcRun3_2023_realistic_postBPix_v6-v3/2530000/aa2f23ee-3f\u001b[0m\n",
       "    │   \u001b[36ma8-4450-ae4e-0a44290dd146.root\u001b[0m\n",
       "    ├── \u001b[36mroot://cmsio2.rc.ufl.edu:1094//store/mc/Run3Summer23BPixNanoAODv12/SlepSnuCascade_MN1-260_MN2-280_MC1-270_T\u001b[0m\n",
       "    │   \u001b[36muneCP5_13p6TeV_madgraphMLM-pythia8/NANOAODSIM/130X_mcRun3_2023_realistic_postBPix_v6-v3/2530000/cbb38e5f-44\u001b[0m\n",
       "    │   \u001b[36m86-4f9c-b0db-272c9008133a.root\u001b[0m\n",
       "    ├── \u001b[36mroot://cmsio2.rc.ufl.edu:1094//store/mc/Run3Summer23BPixNanoAODv12/SlepSnuCascade_MN1-260_MN2-280_MC1-270_T\u001b[0m\n",
       "    │   \u001b[36muneCP5_13p6TeV_madgraphMLM-pythia8/NANOAODSIM/130X_mcRun3_2023_realistic_postBPix_v6-v3/2530000/ccbd4f89-12\u001b[0m\n",
       "    │   \u001b[36m2a-4065-b0be-f38e9b2878d1.root\u001b[0m\n",
       "    ├── \u001b[36mroot://cmsio2.rc.ufl.edu:1094//store/mc/Run3Summer23BPixNanoAODv12/SlepSnuCascade_MN1-260_MN2-280_MC1-270_T\u001b[0m\n",
       "    │   \u001b[36muneCP5_13p6TeV_madgraphMLM-pythia8/NANOAODSIM/130X_mcRun3_2023_realistic_postBPix_v6-v3/2530000/ee78214f-59\u001b[0m\n",
       "    │   \u001b[36m6d-4b13-923a-b2791499596c.root\u001b[0m\n",
       "    ├── \u001b[36mroot://cmsio2.rc.ufl.edu:1094//store/mc/Run3Summer23BPixNanoAODv12/SlepSnuCascade_MN1-260_MN2-280_MC1-270_T\u001b[0m\n",
       "    │   \u001b[36muneCP5_13p6TeV_madgraphMLM-pythia8/NANOAODSIM/130X_mcRun3_2023_realistic_postBPix_v6-v3/2530000/f786c693-9b\u001b[0m\n",
       "    │   \u001b[36m96-47dc-8f97-3986c1067e05.root\u001b[0m\n",
       "    └── \u001b[36mroot://cmsio2.rc.ufl.edu:1094//store/mc/Run3Summer23BPixNanoAODv12/SlepSnuCascade_MN1-260_MN2-280_MC1-270_T\u001b[0m\n",
       "        \u001b[36muneCP5_13p6TeV_madgraphMLM-pythia8/NANOAODSIM/130X_mcRun3_2023_realistic_postBPix_v6-v3/2530000/fac026d7-c4\u001b[0m\n",
       "        \u001b[36m7c-4007-a51c-514fe55f5bc7.root\u001b[0m\n"
      ]
     },
     "metadata": {},
     "output_type": "display_data"
    },
    {
     "data": {
      "application/vnd.jupyter.widget-view+json": {
       "model_id": "560c8c6faec446c2962c6729f8ec4585",
       "version_major": 2,
       "version_minor": 0
      },
      "text/plain": [
       "Output()"
      ]
     },
     "metadata": {},
     "output_type": "display_data"
    },
    {
     "data": {
      "text/html": [
       "<pre style=\"white-space:pre;overflow-x:auto;line-height:normal;font-family:Menlo,'DejaVu Sans Mono',consolas,'Courier New',monospace\"></pre>\n"
      ],
      "text/plain": []
     },
     "metadata": {},
     "output_type": "display_data"
    },
    {
     "data": {
      "text/html": [
       "<pre style=\"white-space:pre;overflow-x:auto;line-height:normal;font-family:Menlo,'DejaVu Sans Mono',consolas,'Courier New',monospace\"><span style=\"color: #008080; text-decoration-color: #008080\">Sites availability for dataset: </span>\n",
       "<span style=\"color: #800000; text-decoration-color: #800000\">/SlepSnuCascade_MN1-270_MN2-280_MC1-275_TuneCP5_13p6TeV_madgraphMLM-pythia8/Run3Summer23BPixNanoAODv12-130X_mcRun3_</span>\n",
       "<span style=\"color: #800000; text-decoration-color: #800000\">2023_realistic_postBPix_v6-v3/NANOAODSIM</span>\n",
       "</pre>\n"
      ],
      "text/plain": [
       "\u001b[36mSites availability for dataset: \u001b[0m\n",
       "\u001b[31m/SlepSnuCascade_MN1-270_MN2-280_MC1-275_TuneCP5_13p6TeV_madgraphMLM-pythia8/Run3Summer23BPixNanoAODv12-130X_mcRun3_\u001b[0m\n",
       "\u001b[31m2023_realistic_postBPix_v6-v3/\u001b[0m\u001b[31mNANOAODSIM\u001b[0m\n"
      ]
     },
     "metadata": {},
     "output_type": "display_data"
    },
    {
     "data": {
      "text/html": [
       "<pre style=\"white-space:pre;overflow-x:auto;line-height:normal;font-family:Menlo,'DejaVu Sans Mono',consolas,'Courier New',monospace\"><span style=\"font-style: italic\">                 Available replicas                  </span>\n",
       "┏━━━━━━━┳━━━━━━━━━━━━━━━━━━┳━━━━━━━━━┳━━━━━━━━━━━━━━┓\n",
       "┃<span style=\"font-weight: bold\"> Index </span>┃<span style=\"font-weight: bold\"> Site             </span>┃<span style=\"font-weight: bold\"> Files   </span>┃<span style=\"font-weight: bold\"> Availability </span>┃\n",
       "┡━━━━━━━╇━━━━━━━━━━━━━━━━━━╇━━━━━━━━━╇━━━━━━━━━━━━━━┩\n",
       "│<span style=\"color: #7f7f7f; text-decoration-color: #7f7f7f\">   0   </span>│<span style=\"color: #7fbfbf; text-decoration-color: #7fbfbf\"> T2_US_Vanderbilt </span>│<span style=\"color: #bf7fbf; text-decoration-color: #bf7fbf\"> 17 / 17 </span>│<span style=\"color: #7f7f7f; text-decoration-color: #7f7f7f\">    100.0%    </span>│\n",
       "│   1   │<span style=\"color: #008080; text-decoration-color: #008080\"> T2_US_Nebraska   </span>│<span style=\"color: #800080; text-decoration-color: #800080\"> 17 / 17 </span>│    100.0%    │\n",
       "└───────┴──────────────────┴─────────┴──────────────┘\n",
       "</pre>\n"
      ],
      "text/plain": [
       "\u001b[3m                 Available replicas                  \u001b[0m\n",
       "┏━━━━━━━┳━━━━━━━━━━━━━━━━━━┳━━━━━━━━━┳━━━━━━━━━━━━━━┓\n",
       "┃\u001b[1m \u001b[0m\u001b[1mIndex\u001b[0m\u001b[1m \u001b[0m┃\u001b[1m \u001b[0m\u001b[1mSite            \u001b[0m\u001b[1m \u001b[0m┃\u001b[1m \u001b[0m\u001b[1mFiles  \u001b[0m\u001b[1m \u001b[0m┃\u001b[1m \u001b[0m\u001b[1mAvailability\u001b[0m\u001b[1m \u001b[0m┃\n",
       "┡━━━━━━━╇━━━━━━━━━━━━━━━━━━╇━━━━━━━━━╇━━━━━━━━━━━━━━┩\n",
       "│\u001b[2m \u001b[0m\u001b[2m  0  \u001b[0m\u001b[2m \u001b[0m│\u001b[2;36m \u001b[0m\u001b[2;36mT2_US_Vanderbilt\u001b[0m\u001b[2;36m \u001b[0m│\u001b[2;35m \u001b[0m\u001b[2;35m17 / 17\u001b[0m\u001b[2;35m \u001b[0m│\u001b[2m \u001b[0m\u001b[2m   100.0%   \u001b[0m\u001b[2m \u001b[0m│\n",
       "│   1   │\u001b[36m \u001b[0m\u001b[36mT2_US_Nebraska  \u001b[0m\u001b[36m \u001b[0m│\u001b[35m \u001b[0m\u001b[35m17 / 17\u001b[0m\u001b[35m \u001b[0m│    100.0%    │\n",
       "└───────┴──────────────────┴─────────┴──────────────┘\n"
      ]
     },
     "metadata": {},
     "output_type": "display_data"
    },
    {
     "data": {
      "text/html": [
       "<pre style=\"white-space:pre;overflow-x:auto;line-height:normal;font-family:Menlo,'DejaVu Sans Mono',consolas,'Courier New',monospace\">Replicas for \n",
       "<span style=\"color: #008000; text-decoration-color: #008000\">/SlepSnuCascade_MN1-270_MN2-280_MC1-275_TuneCP5_13p6TeV_madgraphMLM-pythia8/Run3Summer23BPixNanoAODv12-130X_mcRun3_</span>\n",
       "<span style=\"color: #008000; text-decoration-color: #008000\">2023_realistic_postBPix_v6-v3/NANOAODSIM</span>\n",
       "└── <span style=\"color: #008000; text-decoration-color: #008000\">T2_US_Vanderbilt</span>\n",
       "    ├── <span style=\"color: #008080; text-decoration-color: #008080\">root://xrootd-vanderbilt.sites.opensciencegrid.org:1094//store/mc/Run3Summer23BPixNanoAODv12/SlepSnuCascade</span>\n",
       "    │   <span style=\"color: #008080; text-decoration-color: #008080\">_MN1-270_MN2-280_MC1-275_TuneCP5_13p6TeV_madgraphMLM-pythia8/NANOAODSIM/130X_mcRun3_2023_realistic_postBPix</span>\n",
       "    │   <span style=\"color: #008080; text-decoration-color: #008080\">_v6-v3/2530000/014a47c0-b196-47d6-aaf1-c482c58e7fb3.root</span>\n",
       "    ├── <span style=\"color: #008080; text-decoration-color: #008080\">root://xrootd-vanderbilt.sites.opensciencegrid.org:1094//store/mc/Run3Summer23BPixNanoAODv12/SlepSnuCascade</span>\n",
       "    │   <span style=\"color: #008080; text-decoration-color: #008080\">_MN1-270_MN2-280_MC1-275_TuneCP5_13p6TeV_madgraphMLM-pythia8/NANOAODSIM/130X_mcRun3_2023_realistic_postBPix</span>\n",
       "    │   <span style=\"color: #008080; text-decoration-color: #008080\">_v6-v3/2530000/1b48e487-da20-4894-b8f6-03a65e07c682.root</span>\n",
       "    ├── <span style=\"color: #008080; text-decoration-color: #008080\">root://xrootd-vanderbilt.sites.opensciencegrid.org:1094//store/mc/Run3Summer23BPixNanoAODv12/SlepSnuCascade</span>\n",
       "    │   <span style=\"color: #008080; text-decoration-color: #008080\">_MN1-270_MN2-280_MC1-275_TuneCP5_13p6TeV_madgraphMLM-pythia8/NANOAODSIM/130X_mcRun3_2023_realistic_postBPix</span>\n",
       "    │   <span style=\"color: #008080; text-decoration-color: #008080\">_v6-v3/2530000/25da9226-6708-479f-888f-dccb550b2f00.root</span>\n",
       "    ├── <span style=\"color: #008080; text-decoration-color: #008080\">root://xrootd-vanderbilt.sites.opensciencegrid.org:1094//store/mc/Run3Summer23BPixNanoAODv12/SlepSnuCascade</span>\n",
       "    │   <span style=\"color: #008080; text-decoration-color: #008080\">_MN1-270_MN2-280_MC1-275_TuneCP5_13p6TeV_madgraphMLM-pythia8/NANOAODSIM/130X_mcRun3_2023_realistic_postBPix</span>\n",
       "    │   <span style=\"color: #008080; text-decoration-color: #008080\">_v6-v3/2530000/36cc4051-4e1f-4a9c-a793-7130d67e55c9.root</span>\n",
       "    ├── <span style=\"color: #008080; text-decoration-color: #008080\">root://xrootd-vanderbilt.sites.opensciencegrid.org:1094//store/mc/Run3Summer23BPixNanoAODv12/SlepSnuCascade</span>\n",
       "    │   <span style=\"color: #008080; text-decoration-color: #008080\">_MN1-270_MN2-280_MC1-275_TuneCP5_13p6TeV_madgraphMLM-pythia8/NANOAODSIM/130X_mcRun3_2023_realistic_postBPix</span>\n",
       "    │   <span style=\"color: #008080; text-decoration-color: #008080\">_v6-v3/2530000/3fc4792a-98ef-4ee4-ad52-2ef45fdad2ae.root</span>\n",
       "    ├── <span style=\"color: #008080; text-decoration-color: #008080\">root://xrootd-vanderbilt.sites.opensciencegrid.org:1094//store/mc/Run3Summer23BPixNanoAODv12/SlepSnuCascade</span>\n",
       "    │   <span style=\"color: #008080; text-decoration-color: #008080\">_MN1-270_MN2-280_MC1-275_TuneCP5_13p6TeV_madgraphMLM-pythia8/NANOAODSIM/130X_mcRun3_2023_realistic_postBPix</span>\n",
       "    │   <span style=\"color: #008080; text-decoration-color: #008080\">_v6-v3/2530000/40134c6c-2296-49a8-8473-c49a5ca39a99.root</span>\n",
       "    ├── <span style=\"color: #008080; text-decoration-color: #008080\">root://xrootd-vanderbilt.sites.opensciencegrid.org:1094//store/mc/Run3Summer23BPixNanoAODv12/SlepSnuCascade</span>\n",
       "    │   <span style=\"color: #008080; text-decoration-color: #008080\">_MN1-270_MN2-280_MC1-275_TuneCP5_13p6TeV_madgraphMLM-pythia8/NANOAODSIM/130X_mcRun3_2023_realistic_postBPix</span>\n",
       "    │   <span style=\"color: #008080; text-decoration-color: #008080\">_v6-v3/2530000/43a03ae0-8764-4e18-9473-e4d5b2ce5b3e.root</span>\n",
       "    ├── <span style=\"color: #008080; text-decoration-color: #008080\">root://xrootd-vanderbilt.sites.opensciencegrid.org:1094//store/mc/Run3Summer23BPixNanoAODv12/SlepSnuCascade</span>\n",
       "    │   <span style=\"color: #008080; text-decoration-color: #008080\">_MN1-270_MN2-280_MC1-275_TuneCP5_13p6TeV_madgraphMLM-pythia8/NANOAODSIM/130X_mcRun3_2023_realistic_postBPix</span>\n",
       "    │   <span style=\"color: #008080; text-decoration-color: #008080\">_v6-v3/2530000/74cb0109-f18a-467c-903b-9fec55026124.root</span>\n",
       "    ├── <span style=\"color: #008080; text-decoration-color: #008080\">root://xrootd-vanderbilt.sites.opensciencegrid.org:1094//store/mc/Run3Summer23BPixNanoAODv12/SlepSnuCascade</span>\n",
       "    │   <span style=\"color: #008080; text-decoration-color: #008080\">_MN1-270_MN2-280_MC1-275_TuneCP5_13p6TeV_madgraphMLM-pythia8/NANOAODSIM/130X_mcRun3_2023_realistic_postBPix</span>\n",
       "    │   <span style=\"color: #008080; text-decoration-color: #008080\">_v6-v3/2530000/9d5bb43f-8865-4736-8140-cc9448b521d1.root</span>\n",
       "    ├── <span style=\"color: #008080; text-decoration-color: #008080\">root://xrootd-vanderbilt.sites.opensciencegrid.org:1094//store/mc/Run3Summer23BPixNanoAODv12/SlepSnuCascade</span>\n",
       "    │   <span style=\"color: #008080; text-decoration-color: #008080\">_MN1-270_MN2-280_MC1-275_TuneCP5_13p6TeV_madgraphMLM-pythia8/NANOAODSIM/130X_mcRun3_2023_realistic_postBPix</span>\n",
       "    │   <span style=\"color: #008080; text-decoration-color: #008080\">_v6-v3/2530000/a00466ab-68f5-400b-b4c5-f088994049d9.root</span>\n",
       "    ├── <span style=\"color: #008080; text-decoration-color: #008080\">root://xrootd-vanderbilt.sites.opensciencegrid.org:1094//store/mc/Run3Summer23BPixNanoAODv12/SlepSnuCascade</span>\n",
       "    │   <span style=\"color: #008080; text-decoration-color: #008080\">_MN1-270_MN2-280_MC1-275_TuneCP5_13p6TeV_madgraphMLM-pythia8/NANOAODSIM/130X_mcRun3_2023_realistic_postBPix</span>\n",
       "    │   <span style=\"color: #008080; text-decoration-color: #008080\">_v6-v3/2530000/a2d8829f-8d72-476f-b468-5939df3918b8.root</span>\n",
       "    ├── <span style=\"color: #008080; text-decoration-color: #008080\">root://xrootd-vanderbilt.sites.opensciencegrid.org:1094//store/mc/Run3Summer23BPixNanoAODv12/SlepSnuCascade</span>\n",
       "    │   <span style=\"color: #008080; text-decoration-color: #008080\">_MN1-270_MN2-280_MC1-275_TuneCP5_13p6TeV_madgraphMLM-pythia8/NANOAODSIM/130X_mcRun3_2023_realistic_postBPix</span>\n",
       "    │   <span style=\"color: #008080; text-decoration-color: #008080\">_v6-v3/2530000/bc617c28-893d-4204-8273-fe0ed7e8f143.root</span>\n",
       "    ├── <span style=\"color: #008080; text-decoration-color: #008080\">root://xrootd-vanderbilt.sites.opensciencegrid.org:1094//store/mc/Run3Summer23BPixNanoAODv12/SlepSnuCascade</span>\n",
       "    │   <span style=\"color: #008080; text-decoration-color: #008080\">_MN1-270_MN2-280_MC1-275_TuneCP5_13p6TeV_madgraphMLM-pythia8/NANOAODSIM/130X_mcRun3_2023_realistic_postBPix</span>\n",
       "    │   <span style=\"color: #008080; text-decoration-color: #008080\">_v6-v3/2530000/d9e85cdd-50cf-4144-8d81-85dc4c341c76.root</span>\n",
       "    ├── <span style=\"color: #008080; text-decoration-color: #008080\">root://xrootd-vanderbilt.sites.opensciencegrid.org:1094//store/mc/Run3Summer23BPixNanoAODv12/SlepSnuCascade</span>\n",
       "    │   <span style=\"color: #008080; text-decoration-color: #008080\">_MN1-270_MN2-280_MC1-275_TuneCP5_13p6TeV_madgraphMLM-pythia8/NANOAODSIM/130X_mcRun3_2023_realistic_postBPix</span>\n",
       "    │   <span style=\"color: #008080; text-decoration-color: #008080\">_v6-v3/2530000/e3f98444-3de4-4c49-bcf9-3e5e9ba825e5.root</span>\n",
       "    ├── <span style=\"color: #008080; text-decoration-color: #008080\">root://xrootd-vanderbilt.sites.opensciencegrid.org:1094//store/mc/Run3Summer23BPixNanoAODv12/SlepSnuCascade</span>\n",
       "    │   <span style=\"color: #008080; text-decoration-color: #008080\">_MN1-270_MN2-280_MC1-275_TuneCP5_13p6TeV_madgraphMLM-pythia8/NANOAODSIM/130X_mcRun3_2023_realistic_postBPix</span>\n",
       "    │   <span style=\"color: #008080; text-decoration-color: #008080\">_v6-v3/2530000/ebb35a9e-c049-4414-a126-46cf7f414be0.root</span>\n",
       "    ├── <span style=\"color: #008080; text-decoration-color: #008080\">root://xrootd-vanderbilt.sites.opensciencegrid.org:1094//store/mc/Run3Summer23BPixNanoAODv12/SlepSnuCascade</span>\n",
       "    │   <span style=\"color: #008080; text-decoration-color: #008080\">_MN1-270_MN2-280_MC1-275_TuneCP5_13p6TeV_madgraphMLM-pythia8/NANOAODSIM/130X_mcRun3_2023_realistic_postBPix</span>\n",
       "    │   <span style=\"color: #008080; text-decoration-color: #008080\">_v6-v3/2530000/ee2dca10-4a75-46a9-bf87-fe6c6bb05400.root</span>\n",
       "    └── <span style=\"color: #008080; text-decoration-color: #008080\">root://xrootd-vanderbilt.sites.opensciencegrid.org:1094//store/mc/Run3Summer23BPixNanoAODv12/SlepSnuCascade</span>\n",
       "        <span style=\"color: #008080; text-decoration-color: #008080\">_MN1-270_MN2-280_MC1-275_TuneCP5_13p6TeV_madgraphMLM-pythia8/NANOAODSIM/130X_mcRun3_2023_realistic_postBPix</span>\n",
       "        <span style=\"color: #008080; text-decoration-color: #008080\">_v6-v3/2530000/fbd6ceb4-ab93-461c-8eb6-7a390df211c3.root</span>\n",
       "</pre>\n"
      ],
      "text/plain": [
       "Replicas for \n",
       "\u001b[32m/SlepSnuCascade_MN1-270_MN2-280_MC1-275_TuneCP5_13p6TeV_madgraphMLM-pythia8/Run3Summer23BPixNanoAODv12-130X_mcRun3_\u001b[0m\n",
       "\u001b[32m2023_realistic_postBPix_v6-v3/NANOAODSIM\u001b[0m\n",
       "└── \u001b[32mT2_US_Vanderbilt\u001b[0m\n",
       "    ├── \u001b[36mroot://xrootd-vanderbilt.sites.opensciencegrid.org:1094//store/mc/Run3Summer23BPixNanoAODv12/SlepSnuCascade\u001b[0m\n",
       "    │   \u001b[36m_MN1-270_MN2-280_MC1-275_TuneCP5_13p6TeV_madgraphMLM-pythia8/NANOAODSIM/130X_mcRun3_2023_realistic_postBPix\u001b[0m\n",
       "    │   \u001b[36m_v6-v3/2530000/014a47c0-b196-47d6-aaf1-c482c58e7fb3.root\u001b[0m\n",
       "    ├── \u001b[36mroot://xrootd-vanderbilt.sites.opensciencegrid.org:1094//store/mc/Run3Summer23BPixNanoAODv12/SlepSnuCascade\u001b[0m\n",
       "    │   \u001b[36m_MN1-270_MN2-280_MC1-275_TuneCP5_13p6TeV_madgraphMLM-pythia8/NANOAODSIM/130X_mcRun3_2023_realistic_postBPix\u001b[0m\n",
       "    │   \u001b[36m_v6-v3/2530000/1b48e487-da20-4894-b8f6-03a65e07c682.root\u001b[0m\n",
       "    ├── \u001b[36mroot://xrootd-vanderbilt.sites.opensciencegrid.org:1094//store/mc/Run3Summer23BPixNanoAODv12/SlepSnuCascade\u001b[0m\n",
       "    │   \u001b[36m_MN1-270_MN2-280_MC1-275_TuneCP5_13p6TeV_madgraphMLM-pythia8/NANOAODSIM/130X_mcRun3_2023_realistic_postBPix\u001b[0m\n",
       "    │   \u001b[36m_v6-v3/2530000/25da9226-6708-479f-888f-dccb550b2f00.root\u001b[0m\n",
       "    ├── \u001b[36mroot://xrootd-vanderbilt.sites.opensciencegrid.org:1094//store/mc/Run3Summer23BPixNanoAODv12/SlepSnuCascade\u001b[0m\n",
       "    │   \u001b[36m_MN1-270_MN2-280_MC1-275_TuneCP5_13p6TeV_madgraphMLM-pythia8/NANOAODSIM/130X_mcRun3_2023_realistic_postBPix\u001b[0m\n",
       "    │   \u001b[36m_v6-v3/2530000/36cc4051-4e1f-4a9c-a793-7130d67e55c9.root\u001b[0m\n",
       "    ├── \u001b[36mroot://xrootd-vanderbilt.sites.opensciencegrid.org:1094//store/mc/Run3Summer23BPixNanoAODv12/SlepSnuCascade\u001b[0m\n",
       "    │   \u001b[36m_MN1-270_MN2-280_MC1-275_TuneCP5_13p6TeV_madgraphMLM-pythia8/NANOAODSIM/130X_mcRun3_2023_realistic_postBPix\u001b[0m\n",
       "    │   \u001b[36m_v6-v3/2530000/3fc4792a-98ef-4ee4-ad52-2ef45fdad2ae.root\u001b[0m\n",
       "    ├── \u001b[36mroot://xrootd-vanderbilt.sites.opensciencegrid.org:1094//store/mc/Run3Summer23BPixNanoAODv12/SlepSnuCascade\u001b[0m\n",
       "    │   \u001b[36m_MN1-270_MN2-280_MC1-275_TuneCP5_13p6TeV_madgraphMLM-pythia8/NANOAODSIM/130X_mcRun3_2023_realistic_postBPix\u001b[0m\n",
       "    │   \u001b[36m_v6-v3/2530000/40134c6c-2296-49a8-8473-c49a5ca39a99.root\u001b[0m\n",
       "    ├── \u001b[36mroot://xrootd-vanderbilt.sites.opensciencegrid.org:1094//store/mc/Run3Summer23BPixNanoAODv12/SlepSnuCascade\u001b[0m\n",
       "    │   \u001b[36m_MN1-270_MN2-280_MC1-275_TuneCP5_13p6TeV_madgraphMLM-pythia8/NANOAODSIM/130X_mcRun3_2023_realistic_postBPix\u001b[0m\n",
       "    │   \u001b[36m_v6-v3/2530000/43a03ae0-8764-4e18-9473-e4d5b2ce5b3e.root\u001b[0m\n",
       "    ├── \u001b[36mroot://xrootd-vanderbilt.sites.opensciencegrid.org:1094//store/mc/Run3Summer23BPixNanoAODv12/SlepSnuCascade\u001b[0m\n",
       "    │   \u001b[36m_MN1-270_MN2-280_MC1-275_TuneCP5_13p6TeV_madgraphMLM-pythia8/NANOAODSIM/130X_mcRun3_2023_realistic_postBPix\u001b[0m\n",
       "    │   \u001b[36m_v6-v3/2530000/74cb0109-f18a-467c-903b-9fec55026124.root\u001b[0m\n",
       "    ├── \u001b[36mroot://xrootd-vanderbilt.sites.opensciencegrid.org:1094//store/mc/Run3Summer23BPixNanoAODv12/SlepSnuCascade\u001b[0m\n",
       "    │   \u001b[36m_MN1-270_MN2-280_MC1-275_TuneCP5_13p6TeV_madgraphMLM-pythia8/NANOAODSIM/130X_mcRun3_2023_realistic_postBPix\u001b[0m\n",
       "    │   \u001b[36m_v6-v3/2530000/9d5bb43f-8865-4736-8140-cc9448b521d1.root\u001b[0m\n",
       "    ├── \u001b[36mroot://xrootd-vanderbilt.sites.opensciencegrid.org:1094//store/mc/Run3Summer23BPixNanoAODv12/SlepSnuCascade\u001b[0m\n",
       "    │   \u001b[36m_MN1-270_MN2-280_MC1-275_TuneCP5_13p6TeV_madgraphMLM-pythia8/NANOAODSIM/130X_mcRun3_2023_realistic_postBPix\u001b[0m\n",
       "    │   \u001b[36m_v6-v3/2530000/a00466ab-68f5-400b-b4c5-f088994049d9.root\u001b[0m\n",
       "    ├── \u001b[36mroot://xrootd-vanderbilt.sites.opensciencegrid.org:1094//store/mc/Run3Summer23BPixNanoAODv12/SlepSnuCascade\u001b[0m\n",
       "    │   \u001b[36m_MN1-270_MN2-280_MC1-275_TuneCP5_13p6TeV_madgraphMLM-pythia8/NANOAODSIM/130X_mcRun3_2023_realistic_postBPix\u001b[0m\n",
       "    │   \u001b[36m_v6-v3/2530000/a2d8829f-8d72-476f-b468-5939df3918b8.root\u001b[0m\n",
       "    ├── \u001b[36mroot://xrootd-vanderbilt.sites.opensciencegrid.org:1094//store/mc/Run3Summer23BPixNanoAODv12/SlepSnuCascade\u001b[0m\n",
       "    │   \u001b[36m_MN1-270_MN2-280_MC1-275_TuneCP5_13p6TeV_madgraphMLM-pythia8/NANOAODSIM/130X_mcRun3_2023_realistic_postBPix\u001b[0m\n",
       "    │   \u001b[36m_v6-v3/2530000/bc617c28-893d-4204-8273-fe0ed7e8f143.root\u001b[0m\n",
       "    ├── \u001b[36mroot://xrootd-vanderbilt.sites.opensciencegrid.org:1094//store/mc/Run3Summer23BPixNanoAODv12/SlepSnuCascade\u001b[0m\n",
       "    │   \u001b[36m_MN1-270_MN2-280_MC1-275_TuneCP5_13p6TeV_madgraphMLM-pythia8/NANOAODSIM/130X_mcRun3_2023_realistic_postBPix\u001b[0m\n",
       "    │   \u001b[36m_v6-v3/2530000/d9e85cdd-50cf-4144-8d81-85dc4c341c76.root\u001b[0m\n",
       "    ├── \u001b[36mroot://xrootd-vanderbilt.sites.opensciencegrid.org:1094//store/mc/Run3Summer23BPixNanoAODv12/SlepSnuCascade\u001b[0m\n",
       "    │   \u001b[36m_MN1-270_MN2-280_MC1-275_TuneCP5_13p6TeV_madgraphMLM-pythia8/NANOAODSIM/130X_mcRun3_2023_realistic_postBPix\u001b[0m\n",
       "    │   \u001b[36m_v6-v3/2530000/e3f98444-3de4-4c49-bcf9-3e5e9ba825e5.root\u001b[0m\n",
       "    ├── \u001b[36mroot://xrootd-vanderbilt.sites.opensciencegrid.org:1094//store/mc/Run3Summer23BPixNanoAODv12/SlepSnuCascade\u001b[0m\n",
       "    │   \u001b[36m_MN1-270_MN2-280_MC1-275_TuneCP5_13p6TeV_madgraphMLM-pythia8/NANOAODSIM/130X_mcRun3_2023_realistic_postBPix\u001b[0m\n",
       "    │   \u001b[36m_v6-v3/2530000/ebb35a9e-c049-4414-a126-46cf7f414be0.root\u001b[0m\n",
       "    ├── \u001b[36mroot://xrootd-vanderbilt.sites.opensciencegrid.org:1094//store/mc/Run3Summer23BPixNanoAODv12/SlepSnuCascade\u001b[0m\n",
       "    │   \u001b[36m_MN1-270_MN2-280_MC1-275_TuneCP5_13p6TeV_madgraphMLM-pythia8/NANOAODSIM/130X_mcRun3_2023_realistic_postBPix\u001b[0m\n",
       "    │   \u001b[36m_v6-v3/2530000/ee2dca10-4a75-46a9-bf87-fe6c6bb05400.root\u001b[0m\n",
       "    └── \u001b[36mroot://xrootd-vanderbilt.sites.opensciencegrid.org:1094//store/mc/Run3Summer23BPixNanoAODv12/SlepSnuCascade\u001b[0m\n",
       "        \u001b[36m_MN1-270_MN2-280_MC1-275_TuneCP5_13p6TeV_madgraphMLM-pythia8/NANOAODSIM/130X_mcRun3_2023_realistic_postBPix\u001b[0m\n",
       "        \u001b[36m_v6-v3/2530000/fbd6ceb4-ab93-461c-8eb6-7a390df211c3.root\u001b[0m\n"
      ]
     },
     "metadata": {},
     "output_type": "display_data"
    },
    {
     "data": {
      "text/html": [
       "<pre style=\"white-space:pre;overflow-x:auto;line-height:normal;font-family:Menlo,'DejaVu Sans Mono',consolas,'Courier New',monospace\"><span style=\"color: #808000; text-decoration-color: #808000; font-weight: bold\">Recalculate steps</span> <span style=\"color: #800080; text-decoration-color: #800080; font-weight: bold\">[y/n]</span> <span style=\"color: #008080; text-decoration-color: #008080; font-weight: bold\">(n)</span>: </pre>\n"
      ],
      "text/plain": [
       "\u001b[1;33mRecalculate steps\u001b[0m \u001b[1;35m[y/n]\u001b[0m \u001b[1;36m(n)\u001b[0m: "
      ]
     },
     "metadata": {},
     "output_type": "display_data"
    },
    {
     "name": "stdin",
     "output_type": "stream",
     "text": [
      " n\n"
     ]
    },
    {
     "data": {
      "text/html": [
       "<pre style=\"white-space:pre;overflow-x:auto;line-height:normal;font-family:Menlo,'DejaVu Sans Mono',consolas,'Courier New',monospace\"><span style=\"color: #808000; text-decoration-color: #808000; font-weight: bold\">Files per batch</span> <span style=\"color: #008080; text-decoration-color: #008080; font-weight: bold\">(1)</span>: </pre>\n"
      ],
      "text/plain": [
       "\u001b[1;33mFiles per batch\u001b[0m \u001b[1;36m(1)\u001b[0m: "
      ]
     },
     "metadata": {},
     "output_type": "display_data"
    },
    {
     "name": "stdin",
     "output_type": "stream",
     "text": [
      " 1\n"
     ]
    },
    {
     "data": {
      "text/html": [
       "<pre style=\"white-space:pre;overflow-x:auto;line-height:normal;font-family:Menlo,'DejaVu Sans Mono',consolas,'Courier New',monospace\"><span style=\"color: #808000; text-decoration-color: #808000; font-weight: bold\">Save form</span> <span style=\"color: #800080; text-decoration-color: #800080; font-weight: bold\">[y/n]</span> <span style=\"color: #008080; text-decoration-color: #008080; font-weight: bold\">(n)</span>: </pre>\n"
      ],
      "text/plain": [
       "\u001b[1;33mSave form\u001b[0m \u001b[1;35m[y/n]\u001b[0m \u001b[1;36m(n)\u001b[0m: "
      ]
     },
     "metadata": {},
     "output_type": "display_data"
    },
    {
     "name": "stdin",
     "output_type": "stream",
     "text": [
      " n\n"
     ]
    },
    {
     "data": {
      "application/vnd.jupyter.widget-view+json": {
       "model_id": "4d652bceba4a479e9c1dff2c97c8eb30",
       "version_major": 2,
       "version_minor": 0
      },
      "text/plain": [
       "Output()"
      ]
     },
     "metadata": {},
     "output_type": "display_data"
    },
    {
     "data": {
      "text/html": [
       "<pre style=\"white-space:pre;overflow-x:auto;line-height:normal;font-family:Menlo,'DejaVu Sans Mono',consolas,'Courier New',monospace\">/usr/local/lib/python3.12/site-packages/distributed/node.py:187: UserWarning: Port 8787 is already in use.\n",
       "Perhaps you already have a cluster running?\n",
       "Hosting the HTTP server on port 40371 instead\n",
       "  warnings.warn(\n",
       "</pre>\n"
      ],
      "text/plain": [
       "/usr/local/lib/python3.12/site-packages/distributed/node.py:187: UserWarning: Port 8787 is already in use.\n",
       "Perhaps you already have a cluster running?\n",
       "Hosting the HTTP server on port 40371 instead\n",
       "  warnings.warn(\n"
      ]
     },
     "metadata": {},
     "output_type": "display_data"
    },
    {
     "data": {
      "text/html": [
       "<pre style=\"white-space:pre;overflow-x:auto;line-height:normal;font-family:Menlo,'DejaVu Sans Mono',consolas,'Courier New',monospace\"></pre>\n"
      ],
      "text/plain": []
     },
     "metadata": {},
     "output_type": "display_data"
    },
    {
     "ename": "RuntimeError",
     "evalue": "Nanny failed to start.",
     "output_type": "error",
     "traceback": [
      "\u001b[0;31m---------------------------------------------------------------------------\u001b[0m",
      "\u001b[0;31mTypeError\u001b[0m                                 Traceback (most recent call last)",
      "File \u001b[0;32m/usr/local/lib/python3.12/site-packages/distributed/core.py:528\u001b[0m, in \u001b[0;36mServer.start\u001b[0;34m(self)\u001b[0m\n\u001b[1;32m    527\u001b[0m \u001b[38;5;28;01mtry\u001b[39;00m:\n\u001b[0;32m--> 528\u001b[0m     \u001b[38;5;28;01mawait\u001b[39;00m wait_for(\u001b[38;5;28mself\u001b[39m\u001b[38;5;241m.\u001b[39mstart_unsafe(), timeout\u001b[38;5;241m=\u001b[39mtimeout)\n\u001b[1;32m    529\u001b[0m \u001b[38;5;28;01mexcept\u001b[39;00m asyncio\u001b[38;5;241m.\u001b[39mTimeoutError \u001b[38;5;28;01mas\u001b[39;00m exc:\n",
      "File \u001b[0;32m/usr/local/lib/python3.12/site-packages/distributed/utils.py:1910\u001b[0m, in \u001b[0;36mwait_for\u001b[0;34m(fut, timeout)\u001b[0m\n\u001b[1;32m   1909\u001b[0m \u001b[38;5;28;01masync\u001b[39;00m \u001b[38;5;28;01mwith\u001b[39;00m asyncio\u001b[38;5;241m.\u001b[39mtimeout(timeout):\n\u001b[0;32m-> 1910\u001b[0m     \u001b[38;5;28;01mreturn\u001b[39;00m \u001b[38;5;28;01mawait\u001b[39;00m fut\n",
      "File \u001b[0;32m/usr/local/lib/python3.12/site-packages/distributed/nanny.py:337\u001b[0m, in \u001b[0;36mNanny.start_unsafe\u001b[0;34m(self)\u001b[0m\n\u001b[1;32m    336\u001b[0m \u001b[38;5;28;01mtry\u001b[39;00m:\n\u001b[0;32m--> 337\u001b[0m     \u001b[38;5;28;01mawait\u001b[39;00m \u001b[38;5;28mself\u001b[39m\u001b[38;5;241m.\u001b[39mlisten(\n\u001b[1;32m    338\u001b[0m         start_address, \u001b[38;5;241m*\u001b[39m\u001b[38;5;241m*\u001b[39m\u001b[38;5;28mself\u001b[39m\u001b[38;5;241m.\u001b[39msecurity\u001b[38;5;241m.\u001b[39mget_listen_args(\u001b[38;5;124m\"\u001b[39m\u001b[38;5;124mworker\u001b[39m\u001b[38;5;124m\"\u001b[39m)\n\u001b[1;32m    339\u001b[0m     )\n\u001b[1;32m    340\u001b[0m \u001b[38;5;28;01mexcept\u001b[39;00m \u001b[38;5;167;01mOSError\u001b[39;00m \u001b[38;5;28;01mas\u001b[39;00m e:\n",
      "File \u001b[0;32m/usr/local/lib/python3.12/site-packages/distributed/core.py:723\u001b[0m, in \u001b[0;36mServer.listen\u001b[0;34m(self, port_or_addr, allow_offload, **kwargs)\u001b[0m\n\u001b[1;32m    722\u001b[0m     \u001b[38;5;28;01massert\u001b[39;00m \u001b[38;5;28misinstance\u001b[39m(addr, \u001b[38;5;28mstr\u001b[39m)\n\u001b[0;32m--> 723\u001b[0m listener \u001b[38;5;241m=\u001b[39m \u001b[38;5;28;01mawait\u001b[39;00m \u001b[43mlisten\u001b[49m\u001b[43m(\u001b[49m\n\u001b[1;32m    724\u001b[0m \u001b[43m    \u001b[49m\u001b[43maddr\u001b[49m\u001b[43m,\u001b[49m\n\u001b[1;32m    725\u001b[0m \u001b[43m    \u001b[49m\u001b[38;5;28;43mself\u001b[39;49m\u001b[38;5;241;43m.\u001b[39;49m\u001b[43mhandle_comm\u001b[49m\u001b[43m,\u001b[49m\n\u001b[1;32m    726\u001b[0m \u001b[43m    \u001b[49m\u001b[43mdeserialize\u001b[49m\u001b[38;5;241;43m=\u001b[39;49m\u001b[38;5;28;43mself\u001b[39;49m\u001b[38;5;241;43m.\u001b[39;49m\u001b[43mdeserialize\u001b[49m\u001b[43m,\u001b[49m\n\u001b[1;32m    727\u001b[0m \u001b[43m    \u001b[49m\u001b[43mallow_offload\u001b[49m\u001b[38;5;241;43m=\u001b[39;49m\u001b[43mallow_offload\u001b[49m\u001b[43m,\u001b[49m\n\u001b[1;32m    728\u001b[0m \u001b[43m    \u001b[49m\u001b[38;5;241;43m*\u001b[39;49m\u001b[38;5;241;43m*\u001b[39;49m\u001b[43mkwargs\u001b[49m\u001b[43m,\u001b[49m\n\u001b[1;32m    729\u001b[0m \u001b[43m\u001b[49m\u001b[43m)\u001b[49m\n\u001b[1;32m    730\u001b[0m \u001b[38;5;28mself\u001b[39m\u001b[38;5;241m.\u001b[39mlisteners\u001b[38;5;241m.\u001b[39mappend(listener)\n",
      "File \u001b[0;32m/usr/local/lib/python3.12/site-packages/distributed/comm/core.py:411\u001b[0m, in \u001b[0;36mlisten\u001b[0;34m(addr, handle_comm, deserialize, **kwargs)\u001b[0m\n\u001b[1;32m    409\u001b[0m backend \u001b[38;5;241m=\u001b[39m registry\u001b[38;5;241m.\u001b[39mget_backend(scheme)\n\u001b[0;32m--> 411\u001b[0m \u001b[38;5;28;01mreturn\u001b[39;00m \u001b[43mbackend\u001b[49m\u001b[38;5;241;43m.\u001b[39;49m\u001b[43mget_listener\u001b[49m\u001b[43m(\u001b[49m\u001b[43mloc\u001b[49m\u001b[43m,\u001b[49m\u001b[43m \u001b[49m\u001b[43mhandle_comm\u001b[49m\u001b[43m,\u001b[49m\u001b[43m \u001b[49m\u001b[43mdeserialize\u001b[49m\u001b[43m,\u001b[49m\u001b[43m \u001b[49m\u001b[38;5;241;43m*\u001b[39;49m\u001b[38;5;241;43m*\u001b[39;49m\u001b[43mkwargs\u001b[49m\u001b[43m)\u001b[49m\n",
      "File \u001b[0;32m/usr/local/lib/python3.12/site-packages/distributed/comm/tcp.py:744\u001b[0m, in \u001b[0;36mBaseTCPBackend.get_listener\u001b[0;34m(self, loc, handle_comm, deserialize, **connection_args)\u001b[0m\n\u001b[1;32m    743\u001b[0m \u001b[38;5;28;01mdef\u001b[39;00m\u001b[38;5;250m \u001b[39m\u001b[38;5;21mget_listener\u001b[39m(\u001b[38;5;28mself\u001b[39m, loc, handle_comm, deserialize, \u001b[38;5;241m*\u001b[39m\u001b[38;5;241m*\u001b[39mconnection_args):\n\u001b[0;32m--> 744\u001b[0m     \u001b[38;5;28;01mreturn\u001b[39;00m \u001b[38;5;28;43mself\u001b[39;49m\u001b[38;5;241;43m.\u001b[39;49m\u001b[43m_listener_class\u001b[49m\u001b[43m(\u001b[49m\u001b[43mloc\u001b[49m\u001b[43m,\u001b[49m\u001b[43m \u001b[49m\u001b[43mhandle_comm\u001b[49m\u001b[43m,\u001b[49m\u001b[43m \u001b[49m\u001b[43mdeserialize\u001b[49m\u001b[43m,\u001b[49m\u001b[43m \u001b[49m\u001b[38;5;241;43m*\u001b[39;49m\u001b[38;5;241;43m*\u001b[39;49m\u001b[43mconnection_args\u001b[49m\u001b[43m)\u001b[49m\n",
      "File \u001b[0;32m/usr/local/lib/python3.12/site-packages/distributed/comm/tcp.py:615\u001b[0m, in \u001b[0;36mBaseTCPListener.__init__\u001b[0;34m(self, address, comm_handler, deserialize, allow_offload, default_host, default_port, **connection_args)\u001b[0m\n\u001b[1;32m    614\u001b[0m \u001b[38;5;28mself\u001b[39m\u001b[38;5;241m.\u001b[39mallow_offload \u001b[38;5;241m=\u001b[39m allow_offload\n\u001b[0;32m--> 615\u001b[0m \u001b[38;5;28mself\u001b[39m\u001b[38;5;241m.\u001b[39mserver_args \u001b[38;5;241m=\u001b[39m \u001b[38;5;28;43mself\u001b[39;49m\u001b[38;5;241;43m.\u001b[39;49m\u001b[43m_get_server_args\u001b[49m\u001b[43m(\u001b[49m\u001b[38;5;241;43m*\u001b[39;49m\u001b[38;5;241;43m*\u001b[39;49m\u001b[43mconnection_args\u001b[49m\u001b[43m)\u001b[49m\n\u001b[1;32m    616\u001b[0m \u001b[38;5;28mself\u001b[39m\u001b[38;5;241m.\u001b[39mtcp_server \u001b[38;5;241m=\u001b[39m \u001b[38;5;28;01mNone\u001b[39;00m\n",
      "File \u001b[0;32m/usr/local/lib/python3.12/site-packages/distributed/comm/tcp.py:719\u001b[0m, in \u001b[0;36mTLSListener._get_server_args\u001b[0;34m(self, **connection_args)\u001b[0m\n\u001b[1;32m    718\u001b[0m \u001b[38;5;28;01mdef\u001b[39;00m\u001b[38;5;250m \u001b[39m\u001b[38;5;21m_get_server_args\u001b[39m(\u001b[38;5;28mself\u001b[39m, \u001b[38;5;241m*\u001b[39m\u001b[38;5;241m*\u001b[39mconnection_args):\n\u001b[0;32m--> 719\u001b[0m     ctx \u001b[38;5;241m=\u001b[39m \u001b[43m_expect_tls_context\u001b[49m\u001b[43m(\u001b[49m\u001b[43mconnection_args\u001b[49m\u001b[43m)\u001b[49m\n\u001b[1;32m    720\u001b[0m     \u001b[38;5;28;01mreturn\u001b[39;00m {\u001b[38;5;124m\"\u001b[39m\u001b[38;5;124mssl_options\u001b[39m\u001b[38;5;124m\"\u001b[39m: ctx}\n",
      "File \u001b[0;32m/usr/local/lib/python3.12/site-packages/distributed/comm/tcp.py:456\u001b[0m, in \u001b[0;36m_expect_tls_context\u001b[0;34m(connection_args)\u001b[0m\n\u001b[1;32m    455\u001b[0m \u001b[38;5;28;01mif\u001b[39;00m \u001b[38;5;129;01mnot\u001b[39;00m \u001b[38;5;28misinstance\u001b[39m(ctx, ssl\u001b[38;5;241m.\u001b[39mSSLContext):\n\u001b[0;32m--> 456\u001b[0m     \u001b[38;5;28;01mraise\u001b[39;00m \u001b[38;5;167;01mTypeError\u001b[39;00m(\n\u001b[1;32m    457\u001b[0m         \u001b[38;5;124m\"\u001b[39m\u001b[38;5;124mTLS expects a `ssl_context` argument of type \u001b[39m\u001b[38;5;124m\"\u001b[39m\n\u001b[1;32m    458\u001b[0m         \u001b[38;5;124m\"\u001b[39m\u001b[38;5;124mssl.SSLContext (perhaps check your TLS configuration?)\u001b[39m\u001b[38;5;124m\"\u001b[39m\n\u001b[1;32m    459\u001b[0m         \u001b[38;5;124mf\u001b[39m\u001b[38;5;124m\"\u001b[39m\u001b[38;5;124m Instead got \u001b[39m\u001b[38;5;132;01m{\u001b[39;00mctx\u001b[38;5;132;01m!r}\u001b[39;00m\u001b[38;5;124m\"\u001b[39m\n\u001b[1;32m    460\u001b[0m     )\n\u001b[1;32m    461\u001b[0m \u001b[38;5;28;01mreturn\u001b[39;00m ctx\n",
      "\u001b[0;31mTypeError\u001b[0m: TLS expects a `ssl_context` argument of type ssl.SSLContext (perhaps check your TLS configuration?) Instead got None",
      "\nThe above exception was the direct cause of the following exception:\n",
      "\u001b[0;31mRuntimeError\u001b[0m                              Traceback (most recent call last)",
      "Cell \u001b[0;32mIn[1], line 12\u001b[0m\n\u001b[1;32m     10\u001b[0m ddc\u001b[38;5;241m.\u001b[39mdo_regex_sites(\u001b[38;5;124mr\u001b[39m\u001b[38;5;124m\"\u001b[39m\u001b[38;5;124mT[12]_(US)_\u001b[39m\u001b[38;5;124m\\\u001b[39m\u001b[38;5;124mw+\u001b[39m\u001b[38;5;124m\"\u001b[39m)\n\u001b[1;32m     11\u001b[0m ddc\u001b[38;5;241m.\u001b[39mdo_replicas(\u001b[38;5;124m\"\u001b[39m\u001b[38;5;124mfirst\u001b[39m\u001b[38;5;124m\"\u001b[39m, \u001b[38;5;124m\"\u001b[39m\u001b[38;5;124mall\u001b[39m\u001b[38;5;124m\"\u001b[39m)\n\u001b[0;32m---> 12\u001b[0m fileset_total \u001b[38;5;241m=\u001b[39m \u001b[43mddc\u001b[49m\u001b[38;5;241;43m.\u001b[39;49m\u001b[43mdo_preprocess\u001b[49m\u001b[43m(\u001b[49m\u001b[43moutput_file\u001b[49m\u001b[38;5;241;43m=\u001b[39;49m\u001b[38;5;124;43m\"\u001b[39;49m\u001b[38;5;124;43mfileset\u001b[39;49m\u001b[38;5;124;43m\"\u001b[39;49m\u001b[43m,\u001b[49m\n\u001b[1;32m     13\u001b[0m \u001b[43m                  \u001b[49m\u001b[43mstep_size\u001b[49m\u001b[38;5;241;43m=\u001b[39;49m\u001b[38;5;241;43m10000\u001b[39;49m\u001b[43m,\u001b[49m\u001b[43m  \u001b[49m\u001b[38;5;66;43;03m#chunk size for files splitting\u001b[39;49;00m\n\u001b[1;32m     14\u001b[0m \u001b[43m                  \u001b[49m\u001b[43malign_to_clusters\u001b[49m\u001b[38;5;241;43m=\u001b[39;49m\u001b[38;5;28;43;01mFalse\u001b[39;49;00m\u001b[43m,\u001b[49m\n\u001b[1;32m     15\u001b[0m \u001b[43m                 \u001b[49m\u001b[43mscheduler_url\u001b[49m\u001b[38;5;241;43m=\u001b[39;49m\u001b[38;5;28;43;01mNone\u001b[39;49;00m\u001b[43m)\u001b[49m\n",
      "File \u001b[0;32m/usr/local/lib/python3.12/site-packages/coffea/dataset_tools/dataset_query.py:680\u001b[0m, in \u001b[0;36mDataDiscoveryCLI.do_preprocess\u001b[0;34m(self, output_file, step_size, align_to_clusters, scheduler_url, recalculate_steps, files_per_batch, file_exceptions, save_form, uproot_options, step_size_safety_factor, allow_empty_datasets)\u001b[0m\n\u001b[1;32m    676\u001b[0m \u001b[38;5;66;03m# init a local Dask cluster\u001b[39;00m\n\u001b[1;32m    677\u001b[0m \u001b[38;5;28;01mwith\u001b[39;00m \u001b[38;5;28mself\u001b[39m\u001b[38;5;241m.\u001b[39mconsole\u001b[38;5;241m.\u001b[39mstatus(\n\u001b[1;32m    678\u001b[0m     \u001b[38;5;124m\"\u001b[39m\u001b[38;5;124m[red] Preprocessing files to extract available chunks with dask[/]\u001b[39m\u001b[38;5;124m\"\u001b[39m\n\u001b[1;32m    679\u001b[0m ):\n\u001b[0;32m--> 680\u001b[0m     \u001b[38;5;28;01mwith\u001b[39;00m \u001b[43mClient\u001b[49m\u001b[43m(\u001b[49m\u001b[43mscheduler_url\u001b[49m\u001b[43m)\u001b[49m \u001b[38;5;28;01mas\u001b[39;00m ddcsched:\n\u001b[1;32m    681\u001b[0m         \u001b[38;5;28mself\u001b[39m\u001b[38;5;241m.\u001b[39mpreprocessed_available, \u001b[38;5;28mself\u001b[39m\u001b[38;5;241m.\u001b[39mpreprocessed_total \u001b[38;5;241m=\u001b[39m preprocess(\n\u001b[1;32m    682\u001b[0m             \u001b[38;5;28mself\u001b[39m\u001b[38;5;241m.\u001b[39mfinal_output,\n\u001b[1;32m    683\u001b[0m             step_size\u001b[38;5;241m=\u001b[39mstep_size,\n\u001b[0;32m   (...)\u001b[0m\n\u001b[1;32m    693\u001b[0m             allow_empty_datasets\u001b[38;5;241m=\u001b[39mallow_empty_datasets,\n\u001b[1;32m    694\u001b[0m         )\n\u001b[1;32m    696\u001b[0m \u001b[38;5;28;01mwith\u001b[39;00m gzip\u001b[38;5;241m.\u001b[39mopen(\u001b[38;5;124mf\u001b[39m\u001b[38;5;124m\"\u001b[39m\u001b[38;5;132;01m{\u001b[39;00moutput_file\u001b[38;5;132;01m}\u001b[39;00m\u001b[38;5;124m_available.json.gz\u001b[39m\u001b[38;5;124m\"\u001b[39m, \u001b[38;5;124m\"\u001b[39m\u001b[38;5;124mwt\u001b[39m\u001b[38;5;124m\"\u001b[39m) \u001b[38;5;28;01mas\u001b[39;00m file:\n",
      "File \u001b[0;32m/usr/local/lib/python3.12/site-packages/distributed/client.py:1231\u001b[0m, in \u001b[0;36mClient.__init__\u001b[0;34m(self, address, loop, timeout, set_as_default, scheduler_file, security, asynchronous, name, heartbeat_interval, serializers, deserializers, extensions, direct_to_workers, connection_limit, **kwargs)\u001b[0m\n\u001b[1;32m   1228\u001b[0m preload_argv \u001b[38;5;241m=\u001b[39m dask\u001b[38;5;241m.\u001b[39mconfig\u001b[38;5;241m.\u001b[39mget(\u001b[38;5;124m\"\u001b[39m\u001b[38;5;124mdistributed.client.preload-argv\u001b[39m\u001b[38;5;124m\"\u001b[39m)\n\u001b[1;32m   1229\u001b[0m \u001b[38;5;28mself\u001b[39m\u001b[38;5;241m.\u001b[39mpreloads \u001b[38;5;241m=\u001b[39m preloading\u001b[38;5;241m.\u001b[39mprocess_preloads(\u001b[38;5;28mself\u001b[39m, preload, preload_argv)\n\u001b[0;32m-> 1231\u001b[0m \u001b[38;5;28;43mself\u001b[39;49m\u001b[38;5;241;43m.\u001b[39;49m\u001b[43mstart\u001b[49m\u001b[43m(\u001b[49m\u001b[43mtimeout\u001b[49m\u001b[38;5;241;43m=\u001b[39;49m\u001b[43mtimeout\u001b[49m\u001b[43m)\u001b[49m\n\u001b[1;32m   1232\u001b[0m Client\u001b[38;5;241m.\u001b[39m_instances\u001b[38;5;241m.\u001b[39madd(\u001b[38;5;28mself\u001b[39m)\n\u001b[1;32m   1234\u001b[0m \u001b[38;5;28;01mfrom\u001b[39;00m\u001b[38;5;250m \u001b[39m\u001b[38;5;21;01mdistributed\u001b[39;00m\u001b[38;5;21;01m.\u001b[39;00m\u001b[38;5;21;01mrecreate_tasks\u001b[39;00m\u001b[38;5;250m \u001b[39m\u001b[38;5;28;01mimport\u001b[39;00m ReplayTaskClient\n",
      "File \u001b[0;32m/usr/local/lib/python3.12/site-packages/distributed/client.py:1433\u001b[0m, in \u001b[0;36mClient.start\u001b[0;34m(self, **kwargs)\u001b[0m\n\u001b[1;32m   1431\u001b[0m     \u001b[38;5;28mself\u001b[39m\u001b[38;5;241m.\u001b[39m_started \u001b[38;5;241m=\u001b[39m asyncio\u001b[38;5;241m.\u001b[39mensure_future(\u001b[38;5;28mself\u001b[39m\u001b[38;5;241m.\u001b[39m_start(\u001b[38;5;241m*\u001b[39m\u001b[38;5;241m*\u001b[39mkwargs))\n\u001b[1;32m   1432\u001b[0m \u001b[38;5;28;01melse\u001b[39;00m:\n\u001b[0;32m-> 1433\u001b[0m     \u001b[43msync\u001b[49m\u001b[43m(\u001b[49m\u001b[38;5;28;43mself\u001b[39;49m\u001b[38;5;241;43m.\u001b[39;49m\u001b[43mloop\u001b[49m\u001b[43m,\u001b[49m\u001b[43m \u001b[49m\u001b[38;5;28;43mself\u001b[39;49m\u001b[38;5;241;43m.\u001b[39;49m\u001b[43m_start\u001b[49m\u001b[43m,\u001b[49m\u001b[43m \u001b[49m\u001b[38;5;241;43m*\u001b[39;49m\u001b[38;5;241;43m*\u001b[39;49m\u001b[43mkwargs\u001b[49m\u001b[43m)\u001b[49m\n",
      "File \u001b[0;32m/usr/local/lib/python3.12/site-packages/distributed/utils.py:439\u001b[0m, in \u001b[0;36msync\u001b[0;34m(loop, func, callback_timeout, *args, **kwargs)\u001b[0m\n\u001b[1;32m    436\u001b[0m         wait(\u001b[38;5;241m10\u001b[39m)\n\u001b[1;32m    438\u001b[0m \u001b[38;5;28;01mif\u001b[39;00m error \u001b[38;5;129;01mis\u001b[39;00m \u001b[38;5;129;01mnot\u001b[39;00m \u001b[38;5;28;01mNone\u001b[39;00m:\n\u001b[0;32m--> 439\u001b[0m     \u001b[38;5;28;01mraise\u001b[39;00m error\n\u001b[1;32m    440\u001b[0m \u001b[38;5;28;01melse\u001b[39;00m:\n\u001b[1;32m    441\u001b[0m     \u001b[38;5;28;01mreturn\u001b[39;00m result\n",
      "File \u001b[0;32m/usr/local/lib/python3.12/site-packages/distributed/utils.py:413\u001b[0m, in \u001b[0;36msync.<locals>.f\u001b[0;34m()\u001b[0m\n\u001b[1;32m    411\u001b[0m         awaitable \u001b[38;5;241m=\u001b[39m wait_for(awaitable, timeout)\n\u001b[1;32m    412\u001b[0m     future \u001b[38;5;241m=\u001b[39m asyncio\u001b[38;5;241m.\u001b[39mensure_future(awaitable)\n\u001b[0;32m--> 413\u001b[0m     result \u001b[38;5;241m=\u001b[39m \u001b[38;5;28;01myield\u001b[39;00m future\n\u001b[1;32m    414\u001b[0m \u001b[38;5;28;01mexcept\u001b[39;00m \u001b[38;5;167;01mException\u001b[39;00m \u001b[38;5;28;01mas\u001b[39;00m exception:\n\u001b[1;32m    415\u001b[0m     error \u001b[38;5;241m=\u001b[39m exception\n",
      "File \u001b[0;32m/usr/local/lib/python3.12/site-packages/tornado/gen.py:766\u001b[0m, in \u001b[0;36mRunner.run\u001b[0;34m(self)\u001b[0m\n\u001b[1;32m    764\u001b[0m \u001b[38;5;28;01mtry\u001b[39;00m:\n\u001b[1;32m    765\u001b[0m     \u001b[38;5;28;01mtry\u001b[39;00m:\n\u001b[0;32m--> 766\u001b[0m         value \u001b[38;5;241m=\u001b[39m \u001b[43mfuture\u001b[49m\u001b[38;5;241;43m.\u001b[39;49m\u001b[43mresult\u001b[49m\u001b[43m(\u001b[49m\u001b[43m)\u001b[49m\n\u001b[1;32m    767\u001b[0m     \u001b[38;5;28;01mexcept\u001b[39;00m \u001b[38;5;167;01mException\u001b[39;00m \u001b[38;5;28;01mas\u001b[39;00m e:\n\u001b[1;32m    768\u001b[0m         \u001b[38;5;66;03m# Save the exception for later. It's important that\u001b[39;00m\n\u001b[1;32m    769\u001b[0m         \u001b[38;5;66;03m# gen.throw() not be called inside this try/except block\u001b[39;00m\n\u001b[1;32m    770\u001b[0m         \u001b[38;5;66;03m# because that makes sys.exc_info behave unexpectedly.\u001b[39;00m\n\u001b[1;32m    771\u001b[0m         exc: Optional[\u001b[38;5;167;01mException\u001b[39;00m] \u001b[38;5;241m=\u001b[39m e\n",
      "File \u001b[0;32m/usr/local/lib/python3.12/site-packages/distributed/client.py:1498\u001b[0m, in \u001b[0;36mClient._start\u001b[0;34m(self, timeout, **kwargs)\u001b[0m\n\u001b[1;32m   1495\u001b[0m \u001b[38;5;28;01melif\u001b[39;00m \u001b[38;5;28mself\u001b[39m\u001b[38;5;241m.\u001b[39m_start_arg \u001b[38;5;129;01mis\u001b[39;00m \u001b[38;5;28;01mNone\u001b[39;00m:\n\u001b[1;32m   1496\u001b[0m     \u001b[38;5;28;01mfrom\u001b[39;00m\u001b[38;5;250m \u001b[39m\u001b[38;5;21;01mdistributed\u001b[39;00m\u001b[38;5;21;01m.\u001b[39;00m\u001b[38;5;21;01mdeploy\u001b[39;00m\u001b[38;5;250m \u001b[39m\u001b[38;5;28;01mimport\u001b[39;00m LocalCluster\n\u001b[0;32m-> 1498\u001b[0m     \u001b[38;5;28mself\u001b[39m\u001b[38;5;241m.\u001b[39mcluster \u001b[38;5;241m=\u001b[39m \u001b[38;5;28;01mawait\u001b[39;00m LocalCluster(\n\u001b[1;32m   1499\u001b[0m         loop\u001b[38;5;241m=\u001b[39m\u001b[38;5;28mself\u001b[39m\u001b[38;5;241m.\u001b[39mloop,\n\u001b[1;32m   1500\u001b[0m         asynchronous\u001b[38;5;241m=\u001b[39m\u001b[38;5;28mself\u001b[39m\u001b[38;5;241m.\u001b[39m_asynchronous,\n\u001b[1;32m   1501\u001b[0m         \u001b[38;5;241m*\u001b[39m\u001b[38;5;241m*\u001b[39m\u001b[38;5;28mself\u001b[39m\u001b[38;5;241m.\u001b[39m_startup_kwargs,\n\u001b[1;32m   1502\u001b[0m     )\n\u001b[1;32m   1503\u001b[0m     address \u001b[38;5;241m=\u001b[39m \u001b[38;5;28mself\u001b[39m\u001b[38;5;241m.\u001b[39mcluster\u001b[38;5;241m.\u001b[39mscheduler_address\n\u001b[1;32m   1505\u001b[0m \u001b[38;5;28mself\u001b[39m\u001b[38;5;241m.\u001b[39m_gather_semaphore \u001b[38;5;241m=\u001b[39m asyncio\u001b[38;5;241m.\u001b[39mSemaphore(\u001b[38;5;241m5\u001b[39m)\n",
      "File \u001b[0;32m/usr/local/lib/python3.12/site-packages/distributed/deploy/spec.py:421\u001b[0m, in \u001b[0;36mSpecCluster.__await__.<locals>._\u001b[0;34m()\u001b[0m\n\u001b[1;32m    419\u001b[0m     \u001b[38;5;28;01mawait\u001b[39;00m \u001b[38;5;28mself\u001b[39m\u001b[38;5;241m.\u001b[39m_start()\n\u001b[1;32m    420\u001b[0m \u001b[38;5;28;01mawait\u001b[39;00m \u001b[38;5;28mself\u001b[39m\u001b[38;5;241m.\u001b[39mscheduler\n\u001b[0;32m--> 421\u001b[0m \u001b[38;5;28;01mawait\u001b[39;00m \u001b[38;5;28mself\u001b[39m\u001b[38;5;241m.\u001b[39m_correct_state()\n\u001b[1;32m    422\u001b[0m \u001b[38;5;28;01mif\u001b[39;00m \u001b[38;5;28mself\u001b[39m\u001b[38;5;241m.\u001b[39mworkers:\n\u001b[1;32m    423\u001b[0m     \u001b[38;5;28;01mawait\u001b[39;00m asyncio\u001b[38;5;241m.\u001b[39mwait(\n\u001b[1;32m    424\u001b[0m         [\n\u001b[1;32m    425\u001b[0m             asyncio\u001b[38;5;241m.\u001b[39mcreate_task(_wrap_awaitable(w))\n\u001b[1;32m    426\u001b[0m             \u001b[38;5;28;01mfor\u001b[39;00m w \u001b[38;5;129;01min\u001b[39;00m \u001b[38;5;28mself\u001b[39m\u001b[38;5;241m.\u001b[39mworkers\u001b[38;5;241m.\u001b[39mvalues()\n\u001b[1;32m    427\u001b[0m         ]\n\u001b[1;32m    428\u001b[0m     )  \u001b[38;5;66;03m# maybe there are more\u001b[39;00m\n",
      "File \u001b[0;32m/usr/local/lib/python3.12/site-packages/distributed/deploy/spec.py:391\u001b[0m, in \u001b[0;36mSpecCluster._correct_state_internal\u001b[0;34m(self)\u001b[0m\n\u001b[1;32m    387\u001b[0m     w\u001b[38;5;241m.\u001b[39m_cluster \u001b[38;5;241m=\u001b[39m weakref\u001b[38;5;241m.\u001b[39mref(\u001b[38;5;28mself\u001b[39m)\n\u001b[1;32m    388\u001b[0m \u001b[38;5;66;03m# Collect exceptions from failed workers. This must happen after all\u001b[39;00m\n\u001b[1;32m    389\u001b[0m \u001b[38;5;66;03m# *other* workers have finished initialising, so that we can have a\u001b[39;00m\n\u001b[1;32m    390\u001b[0m \u001b[38;5;66;03m# proper teardown.\u001b[39;00m\n\u001b[0;32m--> 391\u001b[0m \u001b[38;5;28;01mawait\u001b[39;00m asyncio\u001b[38;5;241m.\u001b[39mgather(\u001b[38;5;241m*\u001b[39mworker_futs)\n",
      "File \u001b[0;32m/usr/local/lib/python3.12/asyncio/tasks.py:684\u001b[0m, in \u001b[0;36mensure_future.<locals>._wrap_awaitable\u001b[0;34m(awaitable)\u001b[0m\n\u001b[1;32m    683\u001b[0m \u001b[38;5;28;01masync\u001b[39;00m \u001b[38;5;28;01mdef\u001b[39;00m\u001b[38;5;250m \u001b[39m\u001b[38;5;21m_wrap_awaitable\u001b[39m(awaitable):\n\u001b[0;32m--> 684\u001b[0m     \u001b[38;5;28;01mreturn\u001b[39;00m \u001b[38;5;28;01mawait\u001b[39;00m awaitable\n",
      "File \u001b[0;32m/usr/local/lib/python3.12/site-packages/distributed/core.py:536\u001b[0m, in \u001b[0;36mServer.start\u001b[0;34m(self)\u001b[0m\n\u001b[1;32m    534\u001b[0m \u001b[38;5;28;01mexcept\u001b[39;00m \u001b[38;5;167;01mException\u001b[39;00m \u001b[38;5;28;01mas\u001b[39;00m exc:\n\u001b[1;32m    535\u001b[0m     \u001b[38;5;28;01mawait\u001b[39;00m _close_on_failure(exc)\n\u001b[0;32m--> 536\u001b[0m     \u001b[38;5;28;01mraise\u001b[39;00m \u001b[38;5;167;01mRuntimeError\u001b[39;00m(\u001b[38;5;124mf\u001b[39m\u001b[38;5;124m\"\u001b[39m\u001b[38;5;132;01m{\u001b[39;00m\u001b[38;5;28mtype\u001b[39m(\u001b[38;5;28mself\u001b[39m)\u001b[38;5;241m.\u001b[39m\u001b[38;5;18m__name__\u001b[39m\u001b[38;5;132;01m}\u001b[39;00m\u001b[38;5;124m failed to start.\u001b[39m\u001b[38;5;124m\"\u001b[39m) \u001b[38;5;28;01mfrom\u001b[39;00m\u001b[38;5;250m \u001b[39m\u001b[38;5;21;01mexc\u001b[39;00m\n\u001b[1;32m    537\u001b[0m \u001b[38;5;28;01mif\u001b[39;00m \u001b[38;5;28mself\u001b[39m\u001b[38;5;241m.\u001b[39mstatus \u001b[38;5;241m==\u001b[39m Status\u001b[38;5;241m.\u001b[39minit:\n\u001b[1;32m    538\u001b[0m     \u001b[38;5;28mself\u001b[39m\u001b[38;5;241m.\u001b[39mstatus \u001b[38;5;241m=\u001b[39m Status\u001b[38;5;241m.\u001b[39mrunning\n",
      "\u001b[0;31mRuntimeError\u001b[0m: Nanny failed to start."
     ]
    }
   ],
   "source": [
    "from coffea.dataset_tools import rucio_utils\n",
    "from coffea.dataset_tools.dataset_query import print_dataset_query\n",
    "from rich.console import Console\n",
    "from coffea.dataset_tools.dataset_query import DataDiscoveryCLI\n",
    "\n",
    "ddc = DataDiscoveryCLI()\n",
    "\n",
    "ddc.do_query(\"/SlepSnu*NanoAOD*v3*\")\n",
    "ddc.do_select(\"all\")\n",
    "ddc.do_regex_sites(r\"T[12]_(US)_\\w+\")\n",
    "ddc.do_replicas(\"first\", \"all\")\n",
    "fileset_total = ddc.do_preprocess(output_file=\"fileset\",\n",
    "                  step_size=10000,  #chunk size for files splitting\n",
    "                  align_to_clusters=False,\n",
    "                 scheduler_url=None)"
   ]
  },
  {
   "cell_type": "code",
   "execution_count": null,
   "id": "2f1dfc5a-6e96-4f6b-97c3-8f2f91ccbf40",
   "metadata": {},
   "outputs": [],
   "source": []
  },
  {
   "cell_type": "code",
   "execution_count": null,
   "id": "c6d7a55f-f588-484b-8d7f-c917f59159eb",
   "metadata": {},
   "outputs": [],
   "source": []
  }
 ],
 "metadata": {
  "kernelspec": {
   "display_name": "Python 3 (ipykernel)",
   "language": "python",
   "name": "python3"
  },
  "language_info": {
   "codemirror_mode": {
    "name": "ipython",
    "version": 3
   },
   "file_extension": ".py",
   "mimetype": "text/x-python",
   "name": "python",
   "nbconvert_exporter": "python",
   "pygments_lexer": "ipython3",
   "version": "3.12.5"
  }
 },
 "nbformat": 4,
 "nbformat_minor": 5
}
