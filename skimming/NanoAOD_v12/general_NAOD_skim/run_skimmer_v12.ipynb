{
 "cells": [
  {
   "cell_type": "code",
   "execution_count": 1,
   "id": "8e36b160-23db-44a0-9fda-c1b6c01e1067",
   "metadata": {},
   "outputs": [
    {
     "name": "stderr",
     "output_type": "stream",
     "text": [
      "/usr/local/lib/python3.12/site-packages/coffea/nanoevents/schemas/fcc.py:5: FutureWarning: In version 2025.1.0 (target date: 2024-12-31 11:59:59-06:00), this will be an error.\n",
      "To raise these warnings as errors (and get stack traces to find out where they're called), run\n",
      "    import warnings\n",
      "    warnings.filterwarnings(\"error\", module=\"coffea.*\")\n",
      "after the first `import coffea` or use `@pytest.mark.filterwarnings(\"error:::coffea.*\")` in pytest.\n",
      "Issue: coffea.nanoevents.methods.vector will be removed and replaced with scikit-hep vector. Nanoevents schemas internal to coffea will be migrated. Otherwise please consider using that package!.\n",
      "  from coffea.nanoevents.methods import vector\n"
     ]
    },
    {
     "ename": "ModuleNotFoundError",
     "evalue": "No module named 'skimmer_nanoAOD_v12'",
     "output_type": "error",
     "traceback": [
      "\u001b[0;31m---------------------------------------------------------------------------\u001b[0m",
      "\u001b[0;31mModuleNotFoundError\u001b[0m                       Traceback (most recent call last)",
      "Cell \u001b[0;32mIn[1], line 13\u001b[0m\n\u001b[1;32m      8\u001b[0m \u001b[38;5;28;01mfrom\u001b[39;00m\u001b[38;5;250m \u001b[39m\u001b[38;5;21;01mcoffea\u001b[39;00m\u001b[38;5;21;01m.\u001b[39;00m\u001b[38;5;21;01mnanoevents\u001b[39;00m\u001b[38;5;250m \u001b[39m\u001b[38;5;28;01mimport\u001b[39;00m NanoAODSchema\n\u001b[1;32m      9\u001b[0m \u001b[38;5;28;01mfrom\u001b[39;00m\u001b[38;5;250m \u001b[39m\u001b[38;5;21;01mcoffea\u001b[39;00m\u001b[38;5;21;01m.\u001b[39;00m\u001b[38;5;21;01mdataset_tools\u001b[39;00m\u001b[38;5;250m \u001b[39m\u001b[38;5;28;01mimport\u001b[39;00m (\n\u001b[1;32m     10\u001b[0m apply_to_fileset, max_chunks, max_files, preprocess\n\u001b[1;32m     11\u001b[0m )\n\u001b[0;32m---> 13\u001b[0m \u001b[38;5;28;01mfrom\u001b[39;00m\u001b[38;5;250m \u001b[39m\u001b[38;5;21;01mskimmer_nanoAOD_v12\u001b[39;00m\u001b[38;5;250m \u001b[39m\u001b[38;5;28;01mimport\u001b[39;00m SkimNanoAODv12\n\u001b[1;32m     15\u001b[0m \u001b[38;5;28;01mfrom\u001b[39;00m\u001b[38;5;250m \u001b[39m\u001b[38;5;21;01mdask\u001b[39;00m\u001b[38;5;21;01m.\u001b[39;00m\u001b[38;5;21;01mdistributed\u001b[39;00m\u001b[38;5;250m \u001b[39m\u001b[38;5;28;01mimport\u001b[39;00m Client\n",
      "\u001b[0;31mModuleNotFoundError\u001b[0m: No module named 'skimmer_nanoAOD_v12'"
     ]
    }
   ],
   "source": [
    "import dask\n",
    "import numpy as np\n",
    "import awkward as ak\n",
    "import gzip\n",
    "import json\n",
    "import os\n",
    "\n",
    "from coffea.nanoevents import NanoAODSchema\n",
    "from coffea.dataset_tools import (\n",
    "apply_to_fileset, max_chunks, max_files, preprocess\n",
    ")\n",
    "\n",
    "from skimmer_nanoAOD_v12 import SkimNanoAODv12\n",
    "\n",
    "from dask.distributed import Client"
   ]
  },
  {
   "cell_type": "markdown",
   "id": "432e4a2d-7935-414a-9798-a44289e325cf",
   "metadata": {},
   "source": [
    "# READ ME\n",
    "\n",
    "This skim is designed to SLIM DOWN a NanoAOD file to the core objects (Electrons, Muons, Jets, etc.) that a given analysis needs. Additionally, it only grabs the variables specified in the `skimmer_nanoAOD_v12.py` file.\n",
    "\n",
    "### Why do this?\n",
    "\n",
    "I think of this as akin to downloading the sample, or a portion of it. Rather than `xrdcp` a certain number of the root files from DAS, store them somewhere, and make preprocessed files of them.... Lets just grab the subset of that sample and make our own ntuple and store it locally forever, no? We can load this slimmed file later for further processing and analysis.\n",
    "\n",
    "Ideally, you would only need to run this step once then work with the parquet file going forward.\n",
    "\n",
    "## Saving the parquet file takes awhile, and for a massive enough sample, will run out of memory."
   ]
  },
  {
   "cell_type": "code",
   "execution_count": null,
   "id": "0082afb8-7711-4a1b-8024-94dff7409a29",
   "metadata": {},
   "outputs": [],
   "source": [
    "# Define the base directory where the preprocessed files are stored (preprocessed files point to sample on DAS and define slicing of root files by event (chunks)\n",
    "base_dir = \"/home/cms-jovyan/dwg_analysis_v3/tools/preprocessing/preprocessed\"\n",
    "sample = \"2023_ttbar_100000_preprocessed_available.json.gz\"\n",
    "#sample = \"2023_SlepSnu_MN1_220_100000_preprocessed_available.json.gz\" # These preprocessed files are generated one time in advance, stored until needed now in analysis\n",
    "file_path = os.path.join(base_dir, sample)\n",
    "\n",
    "\n",
    "with gzip.open(file_path, \"rt\") as file:\n",
    "    preprocessed_available = json.load(file)\n",
    "\n",
    "ntuple_name = \"ttbar_2023_naodv12\"\n",
    "\n",
    "reduced_computation = True\n",
    "\n",
    "num_files = 10 # number of root files from DAS to run over\n",
    "num_chunks = 5# number of events (chunks) per root file to run over \n",
    "#(chunksize set during preprocessing, \n",
    "# my default is 1 chunk = 100,000 events)\n"
   ]
  },
  {
   "cell_type": "code",
   "execution_count": null,
   "id": "5c00725b-70b6-4203-9e3d-989426e33859",
   "metadata": {},
   "outputs": [],
   "source": [
    "client = Client(\"tls://localhost:8786\")\n",
    "client"
   ]
  },
  {
   "cell_type": "code",
   "execution_count": null,
   "id": "35711720-6b3d-4bd5-95b4-f2c106874645",
   "metadata": {},
   "outputs": [],
   "source": [
    "if reduced_computation:\n",
    "    \n",
    "    test_preprocessed_files = max_files(preprocessed_available, num_files)\n",
    "    test_preprocessed = max_chunks(test_preprocessed_files, num_chunks)\n",
    "\n",
    "    small_tg, small_rep = apply_to_fileset(\n",
    "        data_manipulation=SkimNanoAODv12(),\n",
    "        fileset=test_preprocessed,\n",
    "        schemaclass=NanoAODSchema,\n",
    "        uproot_options={\"allow_read_errors_with_report\": (OSError, KeyError)},\n",
    "    )\n",
    "    computed, rep = dask.compute(small_tg, small_rep)\n",
    "\n",
    "    \n",
    "else:\n",
    "    full_tg, full_rep = apply_to_fileset(\n",
    "        data_manipulation=SkimNanoAODv12(),\n",
    "        fileset=preprocessed_available,\n",
    "        schemaclass=NanoAODSchema,\n",
    "        uproot_options={\"allow_read_errors_with_report\": (OSError, KeyError)},\n",
    "    )\n",
    "    computed, rep = dask.compute(full_tg, full_rep)\n"
   ]
  },
  {
   "cell_type": "code",
   "execution_count": null,
   "id": "e9739c9e-ef5d-4cba-b7f8-ab9d915d1e1c",
   "metadata": {},
   "outputs": [],
   "source": [
    "computed.keys()"
   ]
  },
  {
   "cell_type": "code",
   "execution_count": null,
   "id": "ab0977e5-0e4d-472f-a6f6-0bd03d2f3299",
   "metadata": {},
   "outputs": [],
   "source": [
    "sample_name = next(iter(computed))\n",
    "sample_name "
   ]
  },
  {
   "cell_type": "code",
   "execution_count": null,
   "id": "7a682547-eaf9-447c-b2b3-ef3a9e2c152b",
   "metadata": {},
   "outputs": [],
   "source": [
    "results = computed[sample_name]\n",
    "results"
   ]
  },
  {
   "cell_type": "code",
   "execution_count": null,
   "id": "a880a2ca-3ff0-4da5-9bdf-71465861f611",
   "metadata": {},
   "outputs": [],
   "source": [
    "ak.to_parquet(results['ntuple'], \"../ntuples/dwg_ntuple_gzip.parquet\", compression=\"GZIP\")"
   ]
  },
  {
   "cell_type": "code",
   "execution_count": null,
   "id": "01602714-5ea8-4fa4-906f-b3aeeb5d2405",
   "metadata": {},
   "outputs": [],
   "source": [
    "\n",
    "test_ntuple = ak.from_parquet(\"my_ntuple_gzip.parquet\")\n"
   ]
  },
  {
   "cell_type": "code",
   "execution_count": null,
   "id": "6a0b884b-1290-4a43-a8c1-e9755f46a078",
   "metadata": {},
   "outputs": [],
   "source": [
    "test_ntuple"
   ]
  },
  {
   "cell_type": "code",
   "execution_count": null,
   "id": "09792bef-6b81-4e65-aa1e-fcaf7b42849a",
   "metadata": {},
   "outputs": [],
   "source": []
  },
  {
   "cell_type": "code",
   "execution_count": null,
   "id": "141a2719-3209-4040-9d31-d33692c02bee",
   "metadata": {},
   "outputs": [],
   "source": []
  },
  {
   "cell_type": "code",
   "execution_count": null,
   "id": "46d232c0-d2cc-41ac-a4ee-580505b8dfaf",
   "metadata": {},
   "outputs": [],
   "source": []
  }
 ],
 "metadata": {
  "kernelspec": {
   "display_name": "Python 3 (ipykernel)",
   "language": "python",
   "name": "python3"
  },
  "language_info": {
   "codemirror_mode": {
    "name": "ipython",
    "version": 3
   },
   "file_extension": ".py",
   "mimetype": "text/x-python",
   "name": "python",
   "nbconvert_exporter": "python",
   "pygments_lexer": "ipython3",
   "version": "3.12.5"
  }
 },
 "nbformat": 4,
 "nbformat_minor": 5
}
